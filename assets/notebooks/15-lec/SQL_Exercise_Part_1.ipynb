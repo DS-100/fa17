{
 "cells": [
  {
   "cell_type": "markdown",
   "metadata": {},
   "source": [
    "Install SQL packages:"
   ]
  },
  {
   "cell_type": "code",
   "execution_count": 1,
   "metadata": {
    "collapsed": true
   },
   "outputs": [],
   "source": [
    "# !conda install -y psycopg2\n",
    "# !conda install -y postgresql\n",
    "# !pip install ipython-sql\n",
    "# !pip install sqlalchemy"
   ]
  },
  {
   "cell_type": "markdown",
   "metadata": {},
   "source": [
    "Standard imports + sqlalchemy"
   ]
  },
  {
   "cell_type": "code",
   "execution_count": 2,
   "metadata": {
    "collapsed": true
   },
   "outputs": [],
   "source": [
    "import numpy as np\n",
    "import pandas as pd\n",
    "import matplotlib.pyplot as plt\n",
    "import seaborn as sns\n",
    "import sqlalchemy\n",
    "\n",
    "%matplotlib inline\n",
    "%load_ext sql"
   ]
  },
  {
   "cell_type": "markdown",
   "metadata": {},
   "source": [
    "Establish a database connection to the Postgres database running on my machine `localhost` using the schema `ds100`"
   ]
  },
  {
   "cell_type": "code",
   "execution_count": 3,
   "metadata": {
    "collapsed": true
   },
   "outputs": [],
   "source": [
    "postgresql_uri = \"postgres://jegonzal:@localhost:5432/ds100\"\n",
    "sqlite_uri = \"sqlite:///data/ds100.db\"\n",
    "default_db = postgresql_uri"
   ]
  },
  {
   "cell_type": "code",
   "execution_count": 4,
   "metadata": {},
   "outputs": [
    {
     "name": "stdout",
     "output_type": "stream",
     "text": [
      "Done.\n"
     ]
    },
    {
     "data": {
      "text/plain": [
       "[]"
      ]
     },
     "execution_count": 4,
     "metadata": {},
     "output_type": "execute_result"
    }
   ],
   "source": [
    "%%sql $postgresql_uri\n",
    "-- Need to drop views to prevent integrity constraint violations later.\n",
    "DROP VIEW IF EXISTS date_stats;"
   ]
  },
  {
   "cell_type": "markdown",
   "metadata": {},
   "source": [
    "# Basic Table Creation, Manipulation, and Queries\n",
    "\n",
    "The following example works through some basic table operations including:\n",
    "\n",
    "1. creating a table\n",
    "1. adding rows\n",
    "1. updating rows\n",
    "1. deleting rows\n",
    "1. querying the table"
   ]
  },
  {
   "cell_type": "markdown",
   "metadata": {},
   "source": [
    "## `CREATE TABLE` and `DROP TABLE`\n",
    "\n",
    "To start, we are going to define a toy *relation* (a.k.a. *table*), populate it with some toy data, and work through some basic SQL. Deeper stuff coming soon though, I promise!\n",
    "\n",
    "First, let's create the table of students"
   ]
  },
  {
   "cell_type": "code",
   "execution_count": 5,
   "metadata": {},
   "outputs": [
    {
     "name": "stdout",
     "output_type": "stream",
     "text": [
      "Done.\n",
      "Done.\n"
     ]
    },
    {
     "data": {
      "text/plain": [
       "[]"
      ]
     },
     "execution_count": 5,
     "metadata": {},
     "output_type": "execute_result"
    }
   ],
   "source": [
    "%%sql $default_db\n",
    "\n",
    "-- Drop the table if it already exists\n",
    "DROP TABLE IF EXISTS students;\n",
    "\n",
    "-- Create the table profs\n",
    "CREATE TABLE students(\n",
    "    name TEXT PRIMARY KEY, \n",
    "    gpa FLOAT CHECK (gpa >= 0.0 and gpa <= 4.0), \n",
    "    age INTEGER, \n",
    "    dept TEXT, \n",
    "    gender CHAR);\n"
   ]
  },
  {
   "cell_type": "markdown",
   "metadata": {},
   "source": [
    "Note that each column has a fixed data type.\n",
    "\n",
    "**The DBMS will enforce these types as data is inserted.**\n",
    "\n",
    "Note also the definition of a primary key, as we discussed in the EDA lecture. \n",
    "\n",
    "**The DBMS will enforce the uniqueness of values in the key columns.**\n",
    "\n",
    "To see what we've done, let's run our first query, dumping out the content of the table: every column for each row. We denote every column with `*`:"
   ]
  },
  {
   "cell_type": "code",
   "execution_count": 6,
   "metadata": {},
   "outputs": [
    {
     "name": "stdout",
     "output_type": "stream",
     "text": [
      "0 rows affected.\n"
     ]
    },
    {
     "data": {
      "text/html": [
       "<table>\n",
       "    <tr>\n",
       "        <th>name</th>\n",
       "        <th>gpa</th>\n",
       "        <th>age</th>\n",
       "        <th>dept</th>\n",
       "        <th>gender</th>\n",
       "    </tr>\n",
       "</table>"
      ],
      "text/plain": [
       "[]"
      ]
     },
     "execution_count": 6,
     "metadata": {},
     "output_type": "execute_result"
    }
   ],
   "source": [
    "%%sql $default_db\n",
    "\n",
    "SELECT * FROM students;"
   ]
  },
  {
   "cell_type": "markdown",
   "metadata": {},
   "source": [
    "##  INSERTing VALUES\n",
    "Now let's manually insert some values into the table."
   ]
  },
  {
   "cell_type": "code",
   "execution_count": 7,
   "metadata": {},
   "outputs": [
    {
     "name": "stdout",
     "output_type": "stream",
     "text": [
      "9 rows affected.\n"
     ]
    },
    {
     "data": {
      "text/plain": [
       "[]"
      ]
     },
     "execution_count": 7,
     "metadata": {},
     "output_type": "execute_result"
    }
   ],
   "source": [
    "%%sql $default_db\n",
    "\n",
    "INSERT INTO students VALUES \n",
    " ('Sergey Brin', 2.8, 40, 'CS', 'M'),\n",
    "  ('Danah Boyd', 3.9, 35, 'CS', 'F'),\n",
    "  ('Bill Gates', 1.0, 60, 'CS', 'M'),\n",
    "  ('Hillary Mason', 4.0, 35, 'DATASCI', 'F'),\n",
    "  ('Mike Olson', 3.7, 50, 'CS', 'M'),\n",
    "  ('Mark Zuckerberg', 4.0, 30, 'CS', 'M'),\n",
    "  ('Cheryl Sandberg', 4.0, 47, 'BUSINESS', 'F'),\n",
    "  ('Susan Wojcicki', 4.0, 46, 'BUSINESS', 'F'),\n",
    "  ('Marissa Meyer', 4.0, 45, 'BUSINESS', 'F');\n"
   ]
  },
  {
   "cell_type": "markdown",
   "metadata": {},
   "source": [
    "Note that strings in SQL must be quoted with a single quote **`'`** character."
   ]
  },
  {
   "cell_type": "markdown",
   "metadata": {},
   "source": [
    "Note how insertions need to have values in the same order as the columns in the `create table` statement! Let's make sure our data is there:"
   ]
  },
  {
   "cell_type": "code",
   "execution_count": 8,
   "metadata": {},
   "outputs": [
    {
     "name": "stdout",
     "output_type": "stream",
     "text": [
      "9 rows affected.\n"
     ]
    },
    {
     "data": {
      "text/html": [
       "<table>\n",
       "    <tr>\n",
       "        <th>name</th>\n",
       "        <th>gpa</th>\n",
       "        <th>age</th>\n",
       "        <th>dept</th>\n",
       "        <th>gender</th>\n",
       "    </tr>\n",
       "    <tr>\n",
       "        <td>Sergey Brin</td>\n",
       "        <td>2.8</td>\n",
       "        <td>40</td>\n",
       "        <td>CS</td>\n",
       "        <td>M</td>\n",
       "    </tr>\n",
       "    <tr>\n",
       "        <td>Danah Boyd</td>\n",
       "        <td>3.9</td>\n",
       "        <td>35</td>\n",
       "        <td>CS</td>\n",
       "        <td>F</td>\n",
       "    </tr>\n",
       "    <tr>\n",
       "        <td>Bill Gates</td>\n",
       "        <td>1.0</td>\n",
       "        <td>60</td>\n",
       "        <td>CS</td>\n",
       "        <td>M</td>\n",
       "    </tr>\n",
       "    <tr>\n",
       "        <td>Hillary Mason</td>\n",
       "        <td>4.0</td>\n",
       "        <td>35</td>\n",
       "        <td>DATASCI</td>\n",
       "        <td>F</td>\n",
       "    </tr>\n",
       "    <tr>\n",
       "        <td>Mike Olson</td>\n",
       "        <td>3.7</td>\n",
       "        <td>50</td>\n",
       "        <td>CS</td>\n",
       "        <td>M</td>\n",
       "    </tr>\n",
       "    <tr>\n",
       "        <td>Mark Zuckerberg</td>\n",
       "        <td>4.0</td>\n",
       "        <td>30</td>\n",
       "        <td>CS</td>\n",
       "        <td>M</td>\n",
       "    </tr>\n",
       "    <tr>\n",
       "        <td>Cheryl Sandberg</td>\n",
       "        <td>4.0</td>\n",
       "        <td>47</td>\n",
       "        <td>BUSINESS</td>\n",
       "        <td>F</td>\n",
       "    </tr>\n",
       "    <tr>\n",
       "        <td>Susan Wojcicki</td>\n",
       "        <td>4.0</td>\n",
       "        <td>46</td>\n",
       "        <td>BUSINESS</td>\n",
       "        <td>F</td>\n",
       "    </tr>\n",
       "    <tr>\n",
       "        <td>Marissa Meyer</td>\n",
       "        <td>4.0</td>\n",
       "        <td>45</td>\n",
       "        <td>BUSINESS</td>\n",
       "        <td>F</td>\n",
       "    </tr>\n",
       "</table>"
      ],
      "text/plain": [
       "[('Sergey Brin', 2.8, 40, 'CS', 'M'),\n",
       " ('Danah Boyd', 3.9, 35, 'CS', 'F'),\n",
       " ('Bill Gates', 1.0, 60, 'CS', 'M'),\n",
       " ('Hillary Mason', 4.0, 35, 'DATASCI', 'F'),\n",
       " ('Mike Olson', 3.7, 50, 'CS', 'M'),\n",
       " ('Mark Zuckerberg', 4.0, 30, 'CS', 'M'),\n",
       " ('Cheryl Sandberg', 4.0, 47, 'BUSINESS', 'F'),\n",
       " ('Susan Wojcicki', 4.0, 46, 'BUSINESS', 'F'),\n",
       " ('Marissa Meyer', 4.0, 45, 'BUSINESS', 'F')]"
      ]
     },
     "execution_count": 8,
     "metadata": {},
     "output_type": "execute_result"
    }
   ],
   "source": [
    "%%sql $default_db\n",
    "\n",
    "SELECT * FROM students;"
   ]
  },
  {
   "cell_type": "markdown",
   "metadata": {},
   "source": [
    "### Primary Key Integrity Constraint\n",
    "\n",
    "What happens if we try to insert another record with the same primary key (`name`)?"
   ]
  },
  {
   "cell_type": "code",
   "execution_count": 9,
   "metadata": {},
   "outputs": [],
   "source": [
    "# %%sql $default_db\n",
    "# INSERT INTO students VALUES ('Bill Gates', 4.0, 60, 'BUSINESS', 'M')"
   ]
  },
  {
   "cell_type": "markdown",
   "metadata": {},
   "source": [
    "## Using Pandas and SQL"
   ]
  },
  {
   "cell_type": "markdown",
   "metadata": {},
   "source": [
    "We can populate the database using Pandas as well:"
   ]
  },
  {
   "cell_type": "code",
   "execution_count": 10,
   "metadata": {},
   "outputs": [
    {
     "data": {
      "text/html": [
       "<div>\n",
       "<style>\n",
       "    .dataframe thead tr:only-child th {\n",
       "        text-align: right;\n",
       "    }\n",
       "\n",
       "    .dataframe thead th {\n",
       "        text-align: left;\n",
       "    }\n",
       "\n",
       "    .dataframe tbody tr th {\n",
       "        vertical-align: top;\n",
       "    }\n",
       "</style>\n",
       "<table border=\"1\" class=\"dataframe\">\n",
       "  <thead>\n",
       "    <tr style=\"text-align: right;\">\n",
       "      <th></th>\n",
       "      <th>total_bill</th>\n",
       "      <th>tip</th>\n",
       "      <th>sex</th>\n",
       "      <th>smoker</th>\n",
       "      <th>day</th>\n",
       "      <th>time</th>\n",
       "      <th>size</th>\n",
       "    </tr>\n",
       "  </thead>\n",
       "  <tbody>\n",
       "    <tr>\n",
       "      <th>0</th>\n",
       "      <td>16.99</td>\n",
       "      <td>1.01</td>\n",
       "      <td>Female</td>\n",
       "      <td>No</td>\n",
       "      <td>Sun</td>\n",
       "      <td>Dinner</td>\n",
       "      <td>2</td>\n",
       "    </tr>\n",
       "    <tr>\n",
       "      <th>1</th>\n",
       "      <td>10.34</td>\n",
       "      <td>1.66</td>\n",
       "      <td>Male</td>\n",
       "      <td>No</td>\n",
       "      <td>Sun</td>\n",
       "      <td>Dinner</td>\n",
       "      <td>3</td>\n",
       "    </tr>\n",
       "    <tr>\n",
       "      <th>2</th>\n",
       "      <td>21.01</td>\n",
       "      <td>3.50</td>\n",
       "      <td>Male</td>\n",
       "      <td>No</td>\n",
       "      <td>Sun</td>\n",
       "      <td>Dinner</td>\n",
       "      <td>3</td>\n",
       "    </tr>\n",
       "    <tr>\n",
       "      <th>3</th>\n",
       "      <td>23.68</td>\n",
       "      <td>3.31</td>\n",
       "      <td>Male</td>\n",
       "      <td>No</td>\n",
       "      <td>Sun</td>\n",
       "      <td>Dinner</td>\n",
       "      <td>2</td>\n",
       "    </tr>\n",
       "    <tr>\n",
       "      <th>4</th>\n",
       "      <td>24.59</td>\n",
       "      <td>3.61</td>\n",
       "      <td>Female</td>\n",
       "      <td>No</td>\n",
       "      <td>Sun</td>\n",
       "      <td>Dinner</td>\n",
       "      <td>4</td>\n",
       "    </tr>\n",
       "  </tbody>\n",
       "</table>\n",
       "</div>"
      ],
      "text/plain": [
       "   total_bill   tip     sex smoker  day    time  size\n",
       "0       16.99  1.01  Female     No  Sun  Dinner     2\n",
       "1       10.34  1.66    Male     No  Sun  Dinner     3\n",
       "2       21.01  3.50    Male     No  Sun  Dinner     3\n",
       "3       23.68  3.31    Male     No  Sun  Dinner     2\n",
       "4       24.59  3.61  Female     No  Sun  Dinner     4"
      ]
     },
     "execution_count": 10,
     "metadata": {},
     "output_type": "execute_result"
    }
   ],
   "source": [
    "tips_df = sns.load_dataset(\"tips\")\n",
    "tips_df.head()"
   ]
  },
  {
   "cell_type": "markdown",
   "metadata": {},
   "source": [
    "Create a connection with the database"
   ]
  },
  {
   "cell_type": "code",
   "execution_count": 11,
   "metadata": {
    "collapsed": true
   },
   "outputs": [],
   "source": [
    "engine = sqlalchemy.create_engine(default_db)"
   ]
  },
  {
   "cell_type": "markdown",
   "metadata": {},
   "source": [
    "Drop the table if it already exists and then upload the table to the database."
   ]
  },
  {
   "cell_type": "code",
   "execution_count": 12,
   "metadata": {
    "collapsed": true
   },
   "outputs": [],
   "source": [
    "_ = engine.execute(\"DROP TABLE IF EXISTS tips;\")\n",
    "with engine.connect() as conn:\n",
    "    tips_df.to_sql(\"tips\", conn)"
   ]
  },
  {
   "cell_type": "markdown",
   "metadata": {},
   "source": [
    "We can also download tables directly into pandas:"
   ]
  },
  {
   "cell_type": "code",
   "execution_count": 13,
   "metadata": {},
   "outputs": [
    {
     "data": {
      "text/html": [
       "<div>\n",
       "<style>\n",
       "    .dataframe thead tr:only-child th {\n",
       "        text-align: right;\n",
       "    }\n",
       "\n",
       "    .dataframe thead th {\n",
       "        text-align: left;\n",
       "    }\n",
       "\n",
       "    .dataframe tbody tr th {\n",
       "        vertical-align: top;\n",
       "    }\n",
       "</style>\n",
       "<table border=\"1\" class=\"dataframe\">\n",
       "  <thead>\n",
       "    <tr style=\"text-align: right;\">\n",
       "      <th></th>\n",
       "      <th>name</th>\n",
       "      <th>gpa</th>\n",
       "      <th>age</th>\n",
       "      <th>dept</th>\n",
       "      <th>gender</th>\n",
       "    </tr>\n",
       "  </thead>\n",
       "  <tbody>\n",
       "    <tr>\n",
       "      <th>0</th>\n",
       "      <td>Sergey Brin</td>\n",
       "      <td>2.8</td>\n",
       "      <td>40</td>\n",
       "      <td>CS</td>\n",
       "      <td>M</td>\n",
       "    </tr>\n",
       "    <tr>\n",
       "      <th>1</th>\n",
       "      <td>Danah Boyd</td>\n",
       "      <td>3.9</td>\n",
       "      <td>35</td>\n",
       "      <td>CS</td>\n",
       "      <td>F</td>\n",
       "    </tr>\n",
       "    <tr>\n",
       "      <th>2</th>\n",
       "      <td>Bill Gates</td>\n",
       "      <td>1.0</td>\n",
       "      <td>60</td>\n",
       "      <td>CS</td>\n",
       "      <td>M</td>\n",
       "    </tr>\n",
       "    <tr>\n",
       "      <th>3</th>\n",
       "      <td>Hillary Mason</td>\n",
       "      <td>4.0</td>\n",
       "      <td>35</td>\n",
       "      <td>DATASCI</td>\n",
       "      <td>F</td>\n",
       "    </tr>\n",
       "    <tr>\n",
       "      <th>4</th>\n",
       "      <td>Mike Olson</td>\n",
       "      <td>3.7</td>\n",
       "      <td>50</td>\n",
       "      <td>CS</td>\n",
       "      <td>M</td>\n",
       "    </tr>\n",
       "    <tr>\n",
       "      <th>5</th>\n",
       "      <td>Mark Zuckerberg</td>\n",
       "      <td>4.0</td>\n",
       "      <td>30</td>\n",
       "      <td>CS</td>\n",
       "      <td>M</td>\n",
       "    </tr>\n",
       "    <tr>\n",
       "      <th>6</th>\n",
       "      <td>Cheryl Sandberg</td>\n",
       "      <td>4.0</td>\n",
       "      <td>47</td>\n",
       "      <td>BUSINESS</td>\n",
       "      <td>F</td>\n",
       "    </tr>\n",
       "    <tr>\n",
       "      <th>7</th>\n",
       "      <td>Susan Wojcicki</td>\n",
       "      <td>4.0</td>\n",
       "      <td>46</td>\n",
       "      <td>BUSINESS</td>\n",
       "      <td>F</td>\n",
       "    </tr>\n",
       "    <tr>\n",
       "      <th>8</th>\n",
       "      <td>Marissa Meyer</td>\n",
       "      <td>4.0</td>\n",
       "      <td>45</td>\n",
       "      <td>BUSINESS</td>\n",
       "      <td>F</td>\n",
       "    </tr>\n",
       "  </tbody>\n",
       "</table>\n",
       "</div>"
      ],
      "text/plain": [
       "              name  gpa  age      dept gender\n",
       "0      Sergey Brin  2.8   40        CS      M\n",
       "1       Danah Boyd  3.9   35        CS      F\n",
       "2       Bill Gates  1.0   60        CS      M\n",
       "3    Hillary Mason  4.0   35   DATASCI      F\n",
       "4       Mike Olson  3.7   50        CS      M\n",
       "5  Mark Zuckerberg  4.0   30        CS      M\n",
       "6  Cheryl Sandberg  4.0   47  BUSINESS      F\n",
       "7   Susan Wojcicki  4.0   46  BUSINESS      F\n",
       "8    Marissa Meyer  4.0   45  BUSINESS      F"
      ]
     },
     "execution_count": 13,
     "metadata": {},
     "output_type": "execute_result"
    }
   ],
   "source": [
    "with engine.connect() as conn:\n",
    "    students = pd.read_sql(\"SELECT * FROM students\", conn)\n",
    "students"
   ]
  },
  {
   "cell_type": "markdown",
   "metadata": {},
   "source": [
    "### Another Pandas + SQL\n",
    "\n",
    "We can also evaluate a query string and use the SQL iPython extension to execute the query and construct a DataFrame."
   ]
  },
  {
   "cell_type": "code",
   "execution_count": 14,
   "metadata": {},
   "outputs": [
    {
     "name": "stdout",
     "output_type": "stream",
     "text": [
      "87 rows affected.\n"
     ]
    },
    {
     "data": {
      "text/html": [
       "<div>\n",
       "<style>\n",
       "    .dataframe thead tr:only-child th {\n",
       "        text-align: right;\n",
       "    }\n",
       "\n",
       "    .dataframe thead th {\n",
       "        text-align: left;\n",
       "    }\n",
       "\n",
       "    .dataframe tbody tr th {\n",
       "        vertical-align: top;\n",
       "    }\n",
       "</style>\n",
       "<table border=\"1\" class=\"dataframe\">\n",
       "  <thead>\n",
       "    <tr style=\"text-align: right;\">\n",
       "      <th></th>\n",
       "      <th>index</th>\n",
       "      <th>total_bill</th>\n",
       "      <th>tip</th>\n",
       "      <th>sex</th>\n",
       "      <th>smoker</th>\n",
       "      <th>day</th>\n",
       "      <th>time</th>\n",
       "      <th>size</th>\n",
       "    </tr>\n",
       "  </thead>\n",
       "  <tbody>\n",
       "    <tr>\n",
       "      <th>0</th>\n",
       "      <td>0</td>\n",
       "      <td>16.99</td>\n",
       "      <td>1.01</td>\n",
       "      <td>Female</td>\n",
       "      <td>No</td>\n",
       "      <td>Sun</td>\n",
       "      <td>Dinner</td>\n",
       "      <td>2</td>\n",
       "    </tr>\n",
       "    <tr>\n",
       "      <th>1</th>\n",
       "      <td>4</td>\n",
       "      <td>24.59</td>\n",
       "      <td>3.61</td>\n",
       "      <td>Female</td>\n",
       "      <td>No</td>\n",
       "      <td>Sun</td>\n",
       "      <td>Dinner</td>\n",
       "      <td>4</td>\n",
       "    </tr>\n",
       "    <tr>\n",
       "      <th>2</th>\n",
       "      <td>11</td>\n",
       "      <td>35.26</td>\n",
       "      <td>5.00</td>\n",
       "      <td>Female</td>\n",
       "      <td>No</td>\n",
       "      <td>Sun</td>\n",
       "      <td>Dinner</td>\n",
       "      <td>4</td>\n",
       "    </tr>\n",
       "    <tr>\n",
       "      <th>3</th>\n",
       "      <td>14</td>\n",
       "      <td>14.83</td>\n",
       "      <td>3.02</td>\n",
       "      <td>Female</td>\n",
       "      <td>No</td>\n",
       "      <td>Sun</td>\n",
       "      <td>Dinner</td>\n",
       "      <td>2</td>\n",
       "    </tr>\n",
       "    <tr>\n",
       "      <th>4</th>\n",
       "      <td>16</td>\n",
       "      <td>10.33</td>\n",
       "      <td>1.67</td>\n",
       "      <td>Female</td>\n",
       "      <td>No</td>\n",
       "      <td>Sun</td>\n",
       "      <td>Dinner</td>\n",
       "      <td>3</td>\n",
       "    </tr>\n",
       "  </tbody>\n",
       "</table>\n",
       "</div>"
      ],
      "text/plain": [
       "   index  total_bill   tip     sex smoker  day    time  size\n",
       "0      0       16.99  1.01  Female     No  Sun  Dinner     2\n",
       "1      4       24.59  3.61  Female     No  Sun  Dinner     4\n",
       "2     11       35.26  5.00  Female     No  Sun  Dinner     4\n",
       "3     14       14.83  3.02  Female     No  Sun  Dinner     2\n",
       "4     16       10.33  1.67  Female     No  Sun  Dinner     3"
      ]
     },
     "execution_count": 14,
     "metadata": {},
     "output_type": "execute_result"
    }
   ],
   "source": [
    "query = \"\"\"\n",
    "SELECT * FROM tips\n",
    "WHERE sex = 'Female';\n",
    "\"\"\"\n",
    "\n",
    "res = %sql $query\n",
    "\n",
    "df = res.DataFrame()\n",
    "\n",
    "df.head()"
   ]
  },
  {
   "cell_type": "markdown",
   "metadata": {},
   "source": [
    "## Exploring the Schema\n",
    "\n",
    "There is no mechanism in standard SQL to access the schema associated with each database management systems.  Here we use the corresponding client tools "
   ]
  },
  {
   "cell_type": "markdown",
   "metadata": {},
   "source": [
    "* **Sqlite3 schema information:**"
   ]
  },
  {
   "cell_type": "code",
   "execution_count": 15,
   "metadata": {},
   "outputs": [
    {
     "name": "stdout",
     "output_type": "stream",
     "text": [
      "CREATE TABLE students(\r\n",
      "    name TEXT PRIMARY KEY, \r\n",
      "    gpa FLOAT CHECK (gpa >= 0.0 and gpa <= 4.0), \r\n",
      "    age INTEGER, \r\n",
      "    dept TEXT, \r\n",
      "    gender CHAR);\r\n"
     ]
    }
   ],
   "source": [
    "!sqlite3 data/ds100.db \".schema students\""
   ]
  },
  {
   "cell_type": "markdown",
   "metadata": {},
   "source": [
    "* **PostgreSQL schema information:**"
   ]
  },
  {
   "cell_type": "code",
   "execution_count": 16,
   "metadata": {},
   "outputs": [
    {
     "name": "stdout",
     "output_type": "stream",
     "text": [
      "        Table \"public.students\"\r\n",
      " Column |       Type       | Modifiers \r\n",
      "--------+------------------+-----------\r\n",
      " name   | text             | not null\r\n",
      " gpa    | double precision | \r\n",
      " age    | integer          | \r\n",
      " dept   | text             | \r\n",
      " gender | character(1)     | \r\n",
      "Indexes:\r\n",
      "    \"students_pkey\" PRIMARY KEY, btree (name)\r\n",
      "Check constraints:\r\n",
      "    \"students_gpa_check\" CHECK (gpa >= 0.0::double precision AND gpa <= 4.0::double precision)\r\n",
      "\r\n"
     ]
    }
   ],
   "source": [
    "!psql ds100 -c \"\\d students\""
   ]
  },
  {
   "cell_type": "markdown",
   "metadata": {},
   "source": [
    "* **Using SQL Alchemy's Generic Driver**\n",
    "\n",
    "I found the following [SQL Alchemy Quick Reference Sheet](https://www.pythonsheets.com/notes/python-sqlalchemy.html) to be very helpful."
   ]
  },
  {
   "cell_type": "code",
   "execution_count": 17,
   "metadata": {},
   "outputs": [
    {
     "name": "stdout",
     "output_type": "stream",
     "text": [
      "{'name': 'name', 'type': TEXT(), 'nullable': False, 'default': None, 'autoincrement': False}\n",
      "{'name': 'gpa', 'type': DOUBLE_PRECISION(precision=53), 'nullable': True, 'default': None, 'autoincrement': False}\n",
      "{'name': 'age', 'type': INTEGER(), 'nullable': True, 'default': None, 'autoincrement': False}\n",
      "{'name': 'dept', 'type': TEXT(), 'nullable': True, 'default': None, 'autoincrement': False}\n",
      "{'name': 'gender', 'type': CHAR(length=1), 'nullable': True, 'default': None, 'autoincrement': False}\n"
     ]
    }
   ],
   "source": [
    "engine = sqlalchemy.create_engine(postgresql_uri)\n",
    "inspector = sqlalchemy.inspect(engine)\n",
    "for col in inspector.get_columns(\"students\"):\n",
    "    print(col)"
   ]
  },
  {
   "cell_type": "code",
   "execution_count": 18,
   "metadata": {},
   "outputs": [
    {
     "name": "stdout",
     "output_type": "stream",
     "text": [
      "{'name': 'name', 'type': TEXT(), 'nullable': True, 'default': None, 'autoincrement': 'auto', 'primary_key': 1}\n",
      "{'name': 'gpa', 'type': FLOAT(), 'nullable': True, 'default': None, 'autoincrement': 'auto', 'primary_key': 0}\n",
      "{'name': 'age', 'type': INTEGER(), 'nullable': True, 'default': None, 'autoincrement': 'auto', 'primary_key': 0}\n",
      "{'name': 'dept', 'type': TEXT(), 'nullable': True, 'default': None, 'autoincrement': 'auto', 'primary_key': 0}\n",
      "{'name': 'gender', 'type': CHAR(), 'nullable': True, 'default': None, 'autoincrement': 'auto', 'primary_key': 0}\n"
     ]
    }
   ],
   "source": [
    "engine = sqlalchemy.create_engine(sqlite_uri)\n",
    "inspector = sqlalchemy.inspect(engine)\n",
    "for col in inspector.get_columns(\"students\"):\n",
    "    print(col)"
   ]
  },
  {
   "cell_type": "markdown",
   "metadata": {},
   "source": [
    "## UPDATE values\n",
    "\n",
    "What is Bill Gates' GPA?"
   ]
  },
  {
   "cell_type": "code",
   "execution_count": 19,
   "metadata": {},
   "outputs": [
    {
     "name": "stdout",
     "output_type": "stream",
     "text": [
      "1 rows affected.\n"
     ]
    },
    {
     "data": {
      "text/html": [
       "<table>\n",
       "    <tr>\n",
       "        <th>name</th>\n",
       "        <th>gpa</th>\n",
       "        <th>age</th>\n",
       "        <th>dept</th>\n",
       "        <th>gender</th>\n",
       "    </tr>\n",
       "    <tr>\n",
       "        <td>Bill Gates</td>\n",
       "        <td>1.0</td>\n",
       "        <td>60</td>\n",
       "        <td>CS</td>\n",
       "        <td>M</td>\n",
       "    </tr>\n",
       "</table>"
      ],
      "text/plain": [
       "[('Bill Gates', 1.0, 60, 'CS', 'M')]"
      ]
     },
     "execution_count": 19,
     "metadata": {},
     "output_type": "execute_result"
    }
   ],
   "source": [
    "%%sql $default_db\n",
    "\n",
    "SELECT * FROM students\n",
    "    WHERE name LIKE  '%Bill%' -- SQL like regular expression"
   ]
  },
  {
   "cell_type": "markdown",
   "metadata": {},
   "source": [
    "Wow, Bill has a low GPA let's lend him a hand."
   ]
  },
  {
   "cell_type": "code",
   "execution_count": 20,
   "metadata": {},
   "outputs": [
    {
     "name": "stdout",
     "output_type": "stream",
     "text": [
      "1 rows affected.\n"
     ]
    },
    {
     "data": {
      "text/plain": [
       "[]"
      ]
     },
     "execution_count": 20,
     "metadata": {},
     "output_type": "execute_result"
    }
   ],
   "source": [
    "%%sql $default_db\n",
    "\n",
    "UPDATE students\n",
    "    SET gpa = 1.0 + gpa\n",
    "    WHERE LOWER(name) = 'bill gates';"
   ]
  },
  {
   "cell_type": "markdown",
   "metadata": {},
   "source": [
    "And let's check the table now:"
   ]
  },
  {
   "cell_type": "code",
   "execution_count": 21,
   "metadata": {},
   "outputs": [
    {
     "name": "stdout",
     "output_type": "stream",
     "text": [
      "1 rows affected.\n"
     ]
    },
    {
     "data": {
      "text/html": [
       "<table>\n",
       "    <tr>\n",
       "        <th>name</th>\n",
       "        <th>gpa</th>\n",
       "        <th>age</th>\n",
       "        <th>dept</th>\n",
       "        <th>gender</th>\n",
       "    </tr>\n",
       "    <tr>\n",
       "        <td>Bill Gates</td>\n",
       "        <td>2.0</td>\n",
       "        <td>60</td>\n",
       "        <td>CS</td>\n",
       "        <td>M</td>\n",
       "    </tr>\n",
       "</table>"
      ],
      "text/plain": [
       "[('Bill Gates', 2.0, 60, 'CS', 'M')]"
      ]
     },
     "execution_count": 21,
     "metadata": {},
     "output_type": "execute_result"
    }
   ],
   "source": [
    "%%sql $default_db\n",
    "\n",
    "SELECT * FROM students\n",
    "    WHERE name ~'^Bil.'; -- Regular expression "
   ]
  },
  {
   "cell_type": "markdown",
   "metadata": {},
   "source": [
    "Suppose Mark logged into the database and tried to give himself a 5.0?  Uncomment the following line to see what happens:"
   ]
  },
  {
   "cell_type": "code",
   "execution_count": 22,
   "metadata": {
    "collapsed": true
   },
   "outputs": [],
   "source": [
    "# %%sql \n",
    "\n",
    "# UPDATE students\n",
    "#     SET gpa = 5.0\n",
    "#     WHERE LOWER(name) LIKE '%zuck%';"
   ]
  },
  {
   "cell_type": "markdown",
   "metadata": {},
   "source": [
    "The above code fails.  Why? (check the gpa.)"
   ]
  },
  {
   "cell_type": "markdown",
   "metadata": {},
   "source": [
    "Reviewing our table"
   ]
  },
  {
   "cell_type": "code",
   "execution_count": 23,
   "metadata": {},
   "outputs": [
    {
     "name": "stdout",
     "output_type": "stream",
     "text": [
      "9 rows affected.\n"
     ]
    },
    {
     "data": {
      "text/html": [
       "<table>\n",
       "    <tr>\n",
       "        <th>name</th>\n",
       "        <th>gpa</th>\n",
       "        <th>age</th>\n",
       "        <th>dept</th>\n",
       "        <th>gender</th>\n",
       "    </tr>\n",
       "    <tr>\n",
       "        <td>Sergey Brin</td>\n",
       "        <td>2.8</td>\n",
       "        <td>40</td>\n",
       "        <td>CS</td>\n",
       "        <td>M</td>\n",
       "    </tr>\n",
       "    <tr>\n",
       "        <td>Danah Boyd</td>\n",
       "        <td>3.9</td>\n",
       "        <td>35</td>\n",
       "        <td>CS</td>\n",
       "        <td>F</td>\n",
       "    </tr>\n",
       "    <tr>\n",
       "        <td>Hillary Mason</td>\n",
       "        <td>4.0</td>\n",
       "        <td>35</td>\n",
       "        <td>DATASCI</td>\n",
       "        <td>F</td>\n",
       "    </tr>\n",
       "    <tr>\n",
       "        <td>Mike Olson</td>\n",
       "        <td>3.7</td>\n",
       "        <td>50</td>\n",
       "        <td>CS</td>\n",
       "        <td>M</td>\n",
       "    </tr>\n",
       "    <tr>\n",
       "        <td>Mark Zuckerberg</td>\n",
       "        <td>4.0</td>\n",
       "        <td>30</td>\n",
       "        <td>CS</td>\n",
       "        <td>M</td>\n",
       "    </tr>\n",
       "    <tr>\n",
       "        <td>Cheryl Sandberg</td>\n",
       "        <td>4.0</td>\n",
       "        <td>47</td>\n",
       "        <td>BUSINESS</td>\n",
       "        <td>F</td>\n",
       "    </tr>\n",
       "    <tr>\n",
       "        <td>Susan Wojcicki</td>\n",
       "        <td>4.0</td>\n",
       "        <td>46</td>\n",
       "        <td>BUSINESS</td>\n",
       "        <td>F</td>\n",
       "    </tr>\n",
       "    <tr>\n",
       "        <td>Marissa Meyer</td>\n",
       "        <td>4.0</td>\n",
       "        <td>45</td>\n",
       "        <td>BUSINESS</td>\n",
       "        <td>F</td>\n",
       "    </tr>\n",
       "    <tr>\n",
       "        <td>Bill Gates</td>\n",
       "        <td>2.0</td>\n",
       "        <td>60</td>\n",
       "        <td>CS</td>\n",
       "        <td>M</td>\n",
       "    </tr>\n",
       "</table>"
      ],
      "text/plain": [
       "[('Sergey Brin', 2.8, 40, 'CS', 'M'),\n",
       " ('Danah Boyd', 3.9, 35, 'CS', 'F'),\n",
       " ('Hillary Mason', 4.0, 35, 'DATASCI', 'F'),\n",
       " ('Mike Olson', 3.7, 50, 'CS', 'M'),\n",
       " ('Mark Zuckerberg', 4.0, 30, 'CS', 'M'),\n",
       " ('Cheryl Sandberg', 4.0, 47, 'BUSINESS', 'F'),\n",
       " ('Susan Wojcicki', 4.0, 46, 'BUSINESS', 'F'),\n",
       " ('Marissa Meyer', 4.0, 45, 'BUSINESS', 'F'),\n",
       " ('Bill Gates', 2.0, 60, 'CS', 'M')]"
      ]
     },
     "execution_count": 23,
     "metadata": {},
     "output_type": "execute_result"
    }
   ],
   "source": [
    "%%sql $default_db\n",
    "\n",
    "SELECT * FROM students"
   ]
  },
  {
   "cell_type": "markdown",
   "metadata": {},
   "source": [
    "Notice two things: \n",
    "1. If you are using Postgres the rows likely came back in a **different order** than before.  Remember: relations do not have a defined order, and in fact two different orders are just two ways of describing the same relation!\n",
    "2. Note the relational style of the `update` statement: **we decide which rows get updated based entirely on the values in each row, as checked by the `where` clause.** There is no notion of any information outside the values in the row--e.g. there are no \"object identifiers\" or \"row numbers\"... everything is *just the data and only the data*."
   ]
  },
  {
   "cell_type": "markdown",
   "metadata": {},
   "source": [
    "## Deleting Records"
   ]
  },
  {
   "cell_type": "markdown",
   "metadata": {},
   "source": [
    "We can delete rows in much the same way we update rows:"
   ]
  },
  {
   "cell_type": "code",
   "execution_count": 24,
   "metadata": {},
   "outputs": [
    {
     "name": "stdout",
     "output_type": "stream",
     "text": [
      "1 rows affected.\n"
     ]
    },
    {
     "data": {
      "text/plain": [
       "[]"
      ]
     },
     "execution_count": 24,
     "metadata": {},
     "output_type": "execute_result"
    }
   ],
   "source": [
    "%%sql $default_db\n",
    "\n",
    "DELETE FROM students \n",
    "    WHERE name = 'Sergey Brin'"
   ]
  },
  {
   "cell_type": "code",
   "execution_count": 25,
   "metadata": {},
   "outputs": [
    {
     "name": "stdout",
     "output_type": "stream",
     "text": [
      "8 rows affected.\n"
     ]
    },
    {
     "data": {
      "text/html": [
       "<table>\n",
       "    <tr>\n",
       "        <th>name</th>\n",
       "        <th>gpa</th>\n",
       "        <th>age</th>\n",
       "        <th>dept</th>\n",
       "        <th>gender</th>\n",
       "    </tr>\n",
       "    <tr>\n",
       "        <td>Danah Boyd</td>\n",
       "        <td>3.9</td>\n",
       "        <td>35</td>\n",
       "        <td>CS</td>\n",
       "        <td>F</td>\n",
       "    </tr>\n",
       "    <tr>\n",
       "        <td>Hillary Mason</td>\n",
       "        <td>4.0</td>\n",
       "        <td>35</td>\n",
       "        <td>DATASCI</td>\n",
       "        <td>F</td>\n",
       "    </tr>\n",
       "    <tr>\n",
       "        <td>Mike Olson</td>\n",
       "        <td>3.7</td>\n",
       "        <td>50</td>\n",
       "        <td>CS</td>\n",
       "        <td>M</td>\n",
       "    </tr>\n",
       "    <tr>\n",
       "        <td>Mark Zuckerberg</td>\n",
       "        <td>4.0</td>\n",
       "        <td>30</td>\n",
       "        <td>CS</td>\n",
       "        <td>M</td>\n",
       "    </tr>\n",
       "    <tr>\n",
       "        <td>Cheryl Sandberg</td>\n",
       "        <td>4.0</td>\n",
       "        <td>47</td>\n",
       "        <td>BUSINESS</td>\n",
       "        <td>F</td>\n",
       "    </tr>\n",
       "    <tr>\n",
       "        <td>Susan Wojcicki</td>\n",
       "        <td>4.0</td>\n",
       "        <td>46</td>\n",
       "        <td>BUSINESS</td>\n",
       "        <td>F</td>\n",
       "    </tr>\n",
       "    <tr>\n",
       "        <td>Marissa Meyer</td>\n",
       "        <td>4.0</td>\n",
       "        <td>45</td>\n",
       "        <td>BUSINESS</td>\n",
       "        <td>F</td>\n",
       "    </tr>\n",
       "    <tr>\n",
       "        <td>Bill Gates</td>\n",
       "        <td>2.0</td>\n",
       "        <td>60</td>\n",
       "        <td>CS</td>\n",
       "        <td>M</td>\n",
       "    </tr>\n",
       "</table>"
      ],
      "text/plain": [
       "[('Danah Boyd', 3.9, 35, 'CS', 'F'),\n",
       " ('Hillary Mason', 4.0, 35, 'DATASCI', 'F'),\n",
       " ('Mike Olson', 3.7, 50, 'CS', 'M'),\n",
       " ('Mark Zuckerberg', 4.0, 30, 'CS', 'M'),\n",
       " ('Cheryl Sandberg', 4.0, 47, 'BUSINESS', 'F'),\n",
       " ('Susan Wojcicki', 4.0, 46, 'BUSINESS', 'F'),\n",
       " ('Marissa Meyer', 4.0, 45, 'BUSINESS', 'F'),\n",
       " ('Bill Gates', 2.0, 60, 'CS', 'M')]"
      ]
     },
     "execution_count": 25,
     "metadata": {},
     "output_type": "execute_result"
    }
   ],
   "source": [
    "%%sql $default_db\n",
    "\n",
    "SELECT * FROM students;"
   ]
  },
  {
   "cell_type": "markdown",
   "metadata": {},
   "source": [
    "Restoring Sergey "
   ]
  },
  {
   "cell_type": "code",
   "execution_count": 26,
   "metadata": {},
   "outputs": [
    {
     "name": "stdout",
     "output_type": "stream",
     "text": [
      "1 rows affected.\n"
     ]
    },
    {
     "data": {
      "text/plain": [
       "[]"
      ]
     },
     "execution_count": 26,
     "metadata": {},
     "output_type": "execute_result"
    }
   ],
   "source": [
    "%%sql $default_db\n",
    "\n",
    "INSERT INTO students VALUES\n",
    "      ('Sergey Brin', 4.0, 40, 'CS', 'M');\n",
    "    "
   ]
  },
  {
   "cell_type": "markdown",
   "metadata": {},
   "source": [
    "## SELECT Queries\n",
    "\n",
    "Now let's start looking at some slightly more interesting queries.  The canonical SQL query block includes the following clauses, in the order they appear. Square brackets indicate optional clauses.\n",
    "\n",
    "```sql\n",
    "SELECT ...\n",
    "  FROM ...\n",
    "[WHERE ...]\n",
    "[GROUP BY ...]\n",
    "[HAVING ...]\n",
    "[ORDER BY ...]\n",
    "[LIMIT ...];\n",
    "```\n",
    "\n",
    "Query blocks can reference one or more tables, and be nested in various ways.  Before we worry about multi-table queries or nested queries, we'll work our way through examples that exercise all of these clauses on a single table.\n"
   ]
  },
  {
   "cell_type": "markdown",
   "metadata": {},
   "source": [
    "### The `SELECT` LIST\n",
    "\n",
    "The `SELECT` list determines which columns to include in the output."
   ]
  },
  {
   "cell_type": "code",
   "execution_count": 27,
   "metadata": {},
   "outputs": [
    {
     "name": "stdout",
     "output_type": "stream",
     "text": [
      "9 rows affected.\n"
     ]
    },
    {
     "data": {
      "text/html": [
       "<table>\n",
       "    <tr>\n",
       "        <th>name</th>\n",
       "    </tr>\n",
       "    <tr>\n",
       "        <td>Danah Boyd</td>\n",
       "    </tr>\n",
       "    <tr>\n",
       "        <td>Hillary Mason</td>\n",
       "    </tr>\n",
       "    <tr>\n",
       "        <td>Mike Olson</td>\n",
       "    </tr>\n",
       "    <tr>\n",
       "        <td>Mark Zuckerberg</td>\n",
       "    </tr>\n",
       "    <tr>\n",
       "        <td>Cheryl Sandberg</td>\n",
       "    </tr>\n",
       "    <tr>\n",
       "        <td>Susan Wojcicki</td>\n",
       "    </tr>\n",
       "    <tr>\n",
       "        <td>Marissa Meyer</td>\n",
       "    </tr>\n",
       "    <tr>\n",
       "        <td>Bill Gates</td>\n",
       "    </tr>\n",
       "    <tr>\n",
       "        <td>Sergey Brin</td>\n",
       "    </tr>\n",
       "</table>"
      ],
      "text/plain": [
       "[('Danah Boyd',),\n",
       " ('Hillary Mason',),\n",
       " ('Mike Olson',),\n",
       " ('Mark Zuckerberg',),\n",
       " ('Cheryl Sandberg',),\n",
       " ('Susan Wojcicki',),\n",
       " ('Marissa Meyer',),\n",
       " ('Bill Gates',),\n",
       " ('Sergey Brin',)]"
      ]
     },
     "execution_count": 27,
     "metadata": {},
     "output_type": "execute_result"
    }
   ],
   "source": [
    "%%sql $default_db\n",
    "\n",
    "SELECT name\n",
    "FROM students;"
   ]
  },
  {
   "cell_type": "markdown",
   "metadata": {},
   "source": [
    "### Functions in the Selection List\n",
    "\n",
    "SQL has a wide range of functions that can be applied to each attribute in the select list.  Notice that we can alias (name) the columns with `AS`.  The complete list of built in [PostreSQL functions is available here](https://www.postgresql.org/docs/9.2/static/functions.html)."
   ]
  },
  {
   "cell_type": "code",
   "execution_count": 28,
   "metadata": {},
   "outputs": [
    {
     "name": "stdout",
     "output_type": "stream",
     "text": [
      "9 rows affected.\n"
     ]
    },
    {
     "data": {
      "text/html": [
       "<table>\n",
       "    <tr>\n",
       "        <th>n</th>\n",
       "        <th>d</th>\n",
       "        <th>log_gpa</th>\n",
       "    </tr>\n",
       "    <tr>\n",
       "        <td>DANAH BOYD</td>\n",
       "        <td>cs</td>\n",
       "        <td>2.364258428106</td>\n",
       "    </tr>\n",
       "    <tr>\n",
       "        <td>HILLARY MASON</td>\n",
       "        <td>datasci</td>\n",
       "        <td>2.40823996531185</td>\n",
       "    </tr>\n",
       "    <tr>\n",
       "        <td>MIKE OLSON</td>\n",
       "        <td>cs</td>\n",
       "        <td>2.27280689626798</td>\n",
       "    </tr>\n",
       "    <tr>\n",
       "        <td>MARK ZUCKERBERG</td>\n",
       "        <td>cs</td>\n",
       "        <td>2.40823996531185</td>\n",
       "    </tr>\n",
       "    <tr>\n",
       "        <td>CHERYL SANDBERG</td>\n",
       "        <td>business</td>\n",
       "        <td>2.40823996531185</td>\n",
       "    </tr>\n",
       "    <tr>\n",
       "        <td>SUSAN WOJCICKI</td>\n",
       "        <td>business</td>\n",
       "        <td>2.40823996531185</td>\n",
       "    </tr>\n",
       "    <tr>\n",
       "        <td>MARISSA MEYER</td>\n",
       "        <td>business</td>\n",
       "        <td>2.40823996531185</td>\n",
       "    </tr>\n",
       "    <tr>\n",
       "        <td>BILL GATES</td>\n",
       "        <td>cs</td>\n",
       "        <td>1.20411998265592</td>\n",
       "    </tr>\n",
       "    <tr>\n",
       "        <td>SERGEY BRIN</td>\n",
       "        <td>cs</td>\n",
       "        <td>2.40823996531185</td>\n",
       "    </tr>\n",
       "</table>"
      ],
      "text/plain": [
       "[('DANAH BOYD', 'cs', 2.364258428106),\n",
       " ('HILLARY MASON', 'datasci', 2.40823996531185),\n",
       " ('MIKE OLSON', 'cs', 2.27280689626798),\n",
       " ('MARK ZUCKERBERG', 'cs', 2.40823996531185),\n",
       " ('CHERYL SANDBERG', 'business', 2.40823996531185),\n",
       " ('SUSAN WOJCICKI', 'business', 2.40823996531185),\n",
       " ('MARISSA MEYER', 'business', 2.40823996531185),\n",
       " ('BILL GATES', 'cs', 1.20411998265592),\n",
       " ('SERGEY BRIN', 'cs', 2.40823996531185)]"
      ]
     },
     "execution_count": 28,
     "metadata": {},
     "output_type": "execute_result"
    }
   ],
   "source": [
    "%%sql $default_db\n",
    "\n",
    "SELECT UPPER(name) AS n, LOWER(dept) as d, LOG(gpa) * 4.0 AS log_gpa\n",
    "FROM students;"
   ]
  },
  {
   "cell_type": "markdown",
   "metadata": {},
   "source": [
    "### Selecting Distinct Rows \n",
    "\n",
    "As we know, SQL is a multiset logic, preserving the meaning of the number of duplicates in query results. Sometimes, however, we don't want to keep the duplicates, we want to eliminate them.  This is done simply by adding the keyword `DISTINCT` after the `SELECT` statement:"
   ]
  },
  {
   "cell_type": "code",
   "execution_count": 29,
   "metadata": {},
   "outputs": [
    {
     "name": "stdout",
     "output_type": "stream",
     "text": [
      "3 rows affected.\n"
     ]
    },
    {
     "data": {
      "text/html": [
       "<table>\n",
       "    <tr>\n",
       "        <th>dept</th>\n",
       "    </tr>\n",
       "    <tr>\n",
       "        <td>CS</td>\n",
       "    </tr>\n",
       "    <tr>\n",
       "        <td>BUSINESS</td>\n",
       "    </tr>\n",
       "    <tr>\n",
       "        <td>DATASCI</td>\n",
       "    </tr>\n",
       "</table>"
      ],
      "text/plain": [
       "[('CS',), ('BUSINESS',), ('DATASCI',)]"
      ]
     },
     "execution_count": 29,
     "metadata": {},
     "output_type": "execute_result"
    }
   ],
   "source": [
    "%%sql $default_db\n",
    "\n",
    "SELECT DISTINCT dept\n",
    "FROM students;\n",
    "\n"
   ]
  },
  {
   "cell_type": "markdown",
   "metadata": {},
   "source": [
    "Which rows are used when taking the distinct entries?  Does it really matter?"
   ]
  },
  {
   "cell_type": "markdown",
   "metadata": {},
   "source": [
    "## The `WHERE` Clause\n",
    "\n",
    "The `WHERE` clause determines which *rows* of to include by specifying a predicate (boolean expression).  Rows (tuples) that satisfy this expression are returned."
   ]
  },
  {
   "cell_type": "code",
   "execution_count": 30,
   "metadata": {},
   "outputs": [
    {
     "name": "stdout",
     "output_type": "stream",
     "text": [
      "5 rows affected.\n"
     ]
    },
    {
     "data": {
      "text/html": [
       "<table>\n",
       "    <tr>\n",
       "        <th>name</th>\n",
       "        <th>gpa</th>\n",
       "    </tr>\n",
       "    <tr>\n",
       "        <td>Danah Boyd</td>\n",
       "        <td>3.9</td>\n",
       "    </tr>\n",
       "    <tr>\n",
       "        <td>Mike Olson</td>\n",
       "        <td>3.7</td>\n",
       "    </tr>\n",
       "    <tr>\n",
       "        <td>Mark Zuckerberg</td>\n",
       "        <td>4.0</td>\n",
       "    </tr>\n",
       "    <tr>\n",
       "        <td>Bill Gates</td>\n",
       "        <td>2.0</td>\n",
       "    </tr>\n",
       "    <tr>\n",
       "        <td>Sergey Brin</td>\n",
       "        <td>4.0</td>\n",
       "    </tr>\n",
       "</table>"
      ],
      "text/plain": [
       "[('Danah Boyd', 3.9),\n",
       " ('Mike Olson', 3.7),\n",
       " ('Mark Zuckerberg', 4.0),\n",
       " ('Bill Gates', 2.0),\n",
       " ('Sergey Brin', 4.0)]"
      ]
     },
     "execution_count": 30,
     "metadata": {},
     "output_type": "execute_result"
    }
   ],
   "source": [
    "%%sql $default_db\n",
    "\n",
    "SELECT name, gpa\n",
    "FROM students\n",
    "WHERE dept = 'CS'\n"
   ]
  },
  {
   "cell_type": "markdown",
   "metadata": {},
   "source": [
    "And of course we can specify both rows and columns explicitly. If we have a primary key, we can filter things down to even the cell level via a `select` list of one column, and a `where` clause checking equality on the primary key columns:"
   ]
  },
  {
   "cell_type": "code",
   "execution_count": 31,
   "metadata": {},
   "outputs": [
    {
     "name": "stdout",
     "output_type": "stream",
     "text": [
      "1 rows affected.\n"
     ]
    },
    {
     "data": {
      "text/html": [
       "<table>\n",
       "    <tr>\n",
       "        <th>gpa</th>\n",
       "    </tr>\n",
       "    <tr>\n",
       "        <td>2.0</td>\n",
       "    </tr>\n",
       "</table>"
      ],
      "text/plain": [
       "[(2.0,)]"
      ]
     },
     "execution_count": 31,
     "metadata": {},
     "output_type": "execute_result"
    }
   ],
   "source": [
    "%%sql $default_db\n",
    "\n",
    "SELECT gpa\n",
    "FROM students\n",
    "WHERE name = 'Bill Gates';\n",
    "    "
   ]
  },
  {
   "cell_type": "markdown",
   "metadata": {},
   "source": [
    "Note that even this **\"single-celled\"** response still has a uniform data type of a *relation*. \n",
    "\n",
    "\n",
    "**SQL is Closed Over Tables**:\n",
    "SQL expressions take in tables and always produce tables.  How does this compare to Pandas?\n",
    "\n",
    "\n",
    "Now that you can slice and dice tables into columns, rows and cells, you have enough knowledge to poke around in a database. Let's move on to skills that you'll need as a data scientist."
   ]
  },
  {
   "cell_type": "markdown",
   "metadata": {},
   "source": [
    "## Group By Aggregation"
   ]
  },
  {
   "cell_type": "markdown",
   "metadata": {},
   "source": [
    "GROUP BY aggregation in SQL is a lot like the group by in Pandas.  SQL provides a family of [*aggregate functions*] for use in the `select` clause. In the simplest form, queries with aggregates in the `select` clause generate a single row of output, with each aggregate function performing a summary of all the rows of input. You can have many aggregate functions in your `select` clause:\n",
    "\n",
    "A list of built-in aggregate functions in PostgreSQL is [here](https://www.postgresql.org/docs/current/static/functions-aggregate.html). In our case, the query we are looking for is as follows. \n",
    "\n",
    "In the following we compute the average GPA as well as the number of students in each department:"
   ]
  },
  {
   "cell_type": "code",
   "execution_count": 32,
   "metadata": {},
   "outputs": [
    {
     "name": "stdout",
     "output_type": "stream",
     "text": [
      "3 rows affected.\n"
     ]
    },
    {
     "data": {
      "text/html": [
       "<table>\n",
       "    <tr>\n",
       "        <th>dept</th>\n",
       "        <th>avg_gpa</th>\n",
       "        <th>count</th>\n",
       "    </tr>\n",
       "    <tr>\n",
       "        <td>CS</td>\n",
       "        <td>3.52</td>\n",
       "        <td>5</td>\n",
       "    </tr>\n",
       "    <tr>\n",
       "        <td>BUSINESS</td>\n",
       "        <td>4.0</td>\n",
       "        <td>3</td>\n",
       "    </tr>\n",
       "    <tr>\n",
       "        <td>DATASCI</td>\n",
       "        <td>4.0</td>\n",
       "        <td>1</td>\n",
       "    </tr>\n",
       "</table>"
      ],
      "text/plain": [
       "[('CS', 3.52, 5), ('BUSINESS', 4.0, 3), ('DATASCI', 4.0, 1)]"
      ]
     },
     "execution_count": 32,
     "metadata": {},
     "output_type": "execute_result"
    }
   ],
   "source": [
    "%%sql $default_db\n",
    "\n",
    "SELECT dept, AVG(gpa) as avg_gpa, COUNT(*)\n",
    "FROM students\n",
    "GROUP BY dept\n"
   ]
  },
  {
   "cell_type": "markdown",
   "metadata": {},
   "source": [
    "We can use the **`HAVING`** clause to apply a predicate to groups."
   ]
  },
  {
   "cell_type": "code",
   "execution_count": 33,
   "metadata": {},
   "outputs": [
    {
     "name": "stdout",
     "output_type": "stream",
     "text": [
      "2 rows affected.\n"
     ]
    },
    {
     "data": {
      "text/html": [
       "<table>\n",
       "    <tr>\n",
       "        <th>dept</th>\n",
       "        <th>avg_gpa</th>\n",
       "        <th>count</th>\n",
       "    </tr>\n",
       "    <tr>\n",
       "        <td>CS</td>\n",
       "        <td>3.52</td>\n",
       "        <td>5</td>\n",
       "    </tr>\n",
       "    <tr>\n",
       "        <td>BUSINESS</td>\n",
       "        <td>4.0</td>\n",
       "        <td>3</td>\n",
       "    </tr>\n",
       "</table>"
      ],
      "text/plain": [
       "[('CS', 3.52, 5), ('BUSINESS', 4.0, 3)]"
      ]
     },
     "execution_count": 33,
     "metadata": {},
     "output_type": "execute_result"
    }
   ],
   "source": [
    "%%sql $default_db\n",
    "\n",
    "SELECT dept, AVG(gpa) as avg_gpa, COUNT(*)\n",
    "FROM students\n",
    "GROUP BY dept\n",
    "HAVING COUNT(*) >= 2"
   ]
  },
  {
   "cell_type": "code",
   "execution_count": 34,
   "metadata": {},
   "outputs": [
    {
     "name": "stdout",
     "output_type": "stream",
     "text": [
      "1 rows affected.\n"
     ]
    },
    {
     "data": {
      "text/html": [
       "<table>\n",
       "    <tr>\n",
       "        <th>dept</th>\n",
       "        <th>avg_gpa</th>\n",
       "        <th>count</th>\n",
       "    </tr>\n",
       "    <tr>\n",
       "        <td>BUSINESS</td>\n",
       "        <td>4.0</td>\n",
       "        <td>3</td>\n",
       "    </tr>\n",
       "</table>"
      ],
      "text/plain": [
       "[('BUSINESS', 4.0, 3)]"
      ]
     },
     "execution_count": 34,
     "metadata": {},
     "output_type": "execute_result"
    }
   ],
   "source": [
    "%%sql  $default_db\n",
    "\n",
    "SELECT dept, AVG(gpa) as avg_gpa, COUNT(*)\n",
    "FROM students\n",
    "WHERE gender = 'F'\n",
    "GROUP BY dept\n",
    "HAVING COUNT(*) >= 2\n"
   ]
  },
  {
   "cell_type": "markdown",
   "metadata": {},
   "source": [
    "### Ordering the output\n",
    "As a nicety, SQL allows you to order your output rows, in either ascending (ASC) or descending (DESC) order of the values in columns. For example:"
   ]
  },
  {
   "cell_type": "code",
   "execution_count": 35,
   "metadata": {},
   "outputs": [
    {
     "name": "stdout",
     "output_type": "stream",
     "text": [
      "9 rows affected.\n"
     ]
    },
    {
     "data": {
      "text/html": [
       "<table>\n",
       "    <tr>\n",
       "        <th>name</th>\n",
       "        <th>gpa</th>\n",
       "        <th>age</th>\n",
       "        <th>dept</th>\n",
       "        <th>gender</th>\n",
       "    </tr>\n",
       "    <tr>\n",
       "        <td>Bill Gates</td>\n",
       "        <td>2.0</td>\n",
       "        <td>60</td>\n",
       "        <td>CS</td>\n",
       "        <td>M</td>\n",
       "    </tr>\n",
       "    <tr>\n",
       "        <td>Mike Olson</td>\n",
       "        <td>3.7</td>\n",
       "        <td>50</td>\n",
       "        <td>CS</td>\n",
       "        <td>M</td>\n",
       "    </tr>\n",
       "    <tr>\n",
       "        <td>Danah Boyd</td>\n",
       "        <td>3.9</td>\n",
       "        <td>35</td>\n",
       "        <td>CS</td>\n",
       "        <td>F</td>\n",
       "    </tr>\n",
       "    <tr>\n",
       "        <td>Cheryl Sandberg</td>\n",
       "        <td>4.0</td>\n",
       "        <td>47</td>\n",
       "        <td>BUSINESS</td>\n",
       "        <td>F</td>\n",
       "    </tr>\n",
       "    <tr>\n",
       "        <td>Susan Wojcicki</td>\n",
       "        <td>4.0</td>\n",
       "        <td>46</td>\n",
       "        <td>BUSINESS</td>\n",
       "        <td>F</td>\n",
       "    </tr>\n",
       "    <tr>\n",
       "        <td>Marissa Meyer</td>\n",
       "        <td>4.0</td>\n",
       "        <td>45</td>\n",
       "        <td>BUSINESS</td>\n",
       "        <td>F</td>\n",
       "    </tr>\n",
       "    <tr>\n",
       "        <td>Sergey Brin</td>\n",
       "        <td>4.0</td>\n",
       "        <td>40</td>\n",
       "        <td>CS</td>\n",
       "        <td>M</td>\n",
       "    </tr>\n",
       "    <tr>\n",
       "        <td>Hillary Mason</td>\n",
       "        <td>4.0</td>\n",
       "        <td>35</td>\n",
       "        <td>DATASCI</td>\n",
       "        <td>F</td>\n",
       "    </tr>\n",
       "    <tr>\n",
       "        <td>Mark Zuckerberg</td>\n",
       "        <td>4.0</td>\n",
       "        <td>30</td>\n",
       "        <td>CS</td>\n",
       "        <td>M</td>\n",
       "    </tr>\n",
       "</table>"
      ],
      "text/plain": [
       "[('Bill Gates', 2.0, 60, 'CS', 'M'),\n",
       " ('Mike Olson', 3.7, 50, 'CS', 'M'),\n",
       " ('Danah Boyd', 3.9, 35, 'CS', 'F'),\n",
       " ('Cheryl Sandberg', 4.0, 47, 'BUSINESS', 'F'),\n",
       " ('Susan Wojcicki', 4.0, 46, 'BUSINESS', 'F'),\n",
       " ('Marissa Meyer', 4.0, 45, 'BUSINESS', 'F'),\n",
       " ('Sergey Brin', 4.0, 40, 'CS', 'M'),\n",
       " ('Hillary Mason', 4.0, 35, 'DATASCI', 'F'),\n",
       " ('Mark Zuckerberg', 4.0, 30, 'CS', 'M')]"
      ]
     },
     "execution_count": 35,
     "metadata": {},
     "output_type": "execute_result"
    }
   ],
   "source": [
    "%%sql $default_db\n",
    "\n",
    "SELECT *\n",
    "FROM students\n",
    "ORDER BY gpa;"
   ]
  },
  {
   "cell_type": "code",
   "execution_count": 36,
   "metadata": {},
   "outputs": [
    {
     "name": "stdout",
     "output_type": "stream",
     "text": [
      "9 rows affected.\n"
     ]
    },
    {
     "data": {
      "text/html": [
       "<table>\n",
       "    <tr>\n",
       "        <th>name</th>\n",
       "        <th>gpa</th>\n",
       "        <th>age</th>\n",
       "        <th>dept</th>\n",
       "        <th>gender</th>\n",
       "    </tr>\n",
       "    <tr>\n",
       "        <td>Bill Gates</td>\n",
       "        <td>2.0</td>\n",
       "        <td>60</td>\n",
       "        <td>CS</td>\n",
       "        <td>M</td>\n",
       "    </tr>\n",
       "    <tr>\n",
       "        <td>Mike Olson</td>\n",
       "        <td>3.7</td>\n",
       "        <td>50</td>\n",
       "        <td>CS</td>\n",
       "        <td>M</td>\n",
       "    </tr>\n",
       "    <tr>\n",
       "        <td>Danah Boyd</td>\n",
       "        <td>3.9</td>\n",
       "        <td>35</td>\n",
       "        <td>CS</td>\n",
       "        <td>F</td>\n",
       "    </tr>\n",
       "    <tr>\n",
       "        <td>Mark Zuckerberg</td>\n",
       "        <td>4.0</td>\n",
       "        <td>30</td>\n",
       "        <td>CS</td>\n",
       "        <td>M</td>\n",
       "    </tr>\n",
       "    <tr>\n",
       "        <td>Hillary Mason</td>\n",
       "        <td>4.0</td>\n",
       "        <td>35</td>\n",
       "        <td>DATASCI</td>\n",
       "        <td>F</td>\n",
       "    </tr>\n",
       "    <tr>\n",
       "        <td>Sergey Brin</td>\n",
       "        <td>4.0</td>\n",
       "        <td>40</td>\n",
       "        <td>CS</td>\n",
       "        <td>M</td>\n",
       "    </tr>\n",
       "    <tr>\n",
       "        <td>Marissa Meyer</td>\n",
       "        <td>4.0</td>\n",
       "        <td>45</td>\n",
       "        <td>BUSINESS</td>\n",
       "        <td>F</td>\n",
       "    </tr>\n",
       "    <tr>\n",
       "        <td>Susan Wojcicki</td>\n",
       "        <td>4.0</td>\n",
       "        <td>46</td>\n",
       "        <td>BUSINESS</td>\n",
       "        <td>F</td>\n",
       "    </tr>\n",
       "    <tr>\n",
       "        <td>Cheryl Sandberg</td>\n",
       "        <td>4.0</td>\n",
       "        <td>47</td>\n",
       "        <td>BUSINESS</td>\n",
       "        <td>F</td>\n",
       "    </tr>\n",
       "</table>"
      ],
      "text/plain": [
       "[('Bill Gates', 2.0, 60, 'CS', 'M'),\n",
       " ('Mike Olson', 3.7, 50, 'CS', 'M'),\n",
       " ('Danah Boyd', 3.9, 35, 'CS', 'F'),\n",
       " ('Mark Zuckerberg', 4.0, 30, 'CS', 'M'),\n",
       " ('Hillary Mason', 4.0, 35, 'DATASCI', 'F'),\n",
       " ('Sergey Brin', 4.0, 40, 'CS', 'M'),\n",
       " ('Marissa Meyer', 4.0, 45, 'BUSINESS', 'F'),\n",
       " ('Susan Wojcicki', 4.0, 46, 'BUSINESS', 'F'),\n",
       " ('Cheryl Sandberg', 4.0, 47, 'BUSINESS', 'F')]"
      ]
     },
     "execution_count": 36,
     "metadata": {},
     "output_type": "execute_result"
    }
   ],
   "source": [
    "%%sql $default_db\n",
    "\n",
    "SELECT *\n",
    "FROM students\n",
    "ORDER BY gpa, age;"
   ]
  },
  {
   "cell_type": "code",
   "execution_count": 37,
   "metadata": {},
   "outputs": [
    {
     "name": "stdout",
     "output_type": "stream",
     "text": [
      "9 rows affected.\n"
     ]
    },
    {
     "data": {
      "text/html": [
       "<table>\n",
       "    <tr>\n",
       "        <th>name</th>\n",
       "        <th>gpa</th>\n",
       "        <th>age</th>\n",
       "        <th>dept</th>\n",
       "        <th>gender</th>\n",
       "    </tr>\n",
       "    <tr>\n",
       "        <td>Mark Zuckerberg</td>\n",
       "        <td>4.0</td>\n",
       "        <td>30</td>\n",
       "        <td>CS</td>\n",
       "        <td>M</td>\n",
       "    </tr>\n",
       "    <tr>\n",
       "        <td>Hillary Mason</td>\n",
       "        <td>4.0</td>\n",
       "        <td>35</td>\n",
       "        <td>DATASCI</td>\n",
       "        <td>F</td>\n",
       "    </tr>\n",
       "    <tr>\n",
       "        <td>Sergey Brin</td>\n",
       "        <td>4.0</td>\n",
       "        <td>40</td>\n",
       "        <td>CS</td>\n",
       "        <td>M</td>\n",
       "    </tr>\n",
       "    <tr>\n",
       "        <td>Marissa Meyer</td>\n",
       "        <td>4.0</td>\n",
       "        <td>45</td>\n",
       "        <td>BUSINESS</td>\n",
       "        <td>F</td>\n",
       "    </tr>\n",
       "    <tr>\n",
       "        <td>Susan Wojcicki</td>\n",
       "        <td>4.0</td>\n",
       "        <td>46</td>\n",
       "        <td>BUSINESS</td>\n",
       "        <td>F</td>\n",
       "    </tr>\n",
       "    <tr>\n",
       "        <td>Cheryl Sandberg</td>\n",
       "        <td>4.0</td>\n",
       "        <td>47</td>\n",
       "        <td>BUSINESS</td>\n",
       "        <td>F</td>\n",
       "    </tr>\n",
       "    <tr>\n",
       "        <td>Danah Boyd</td>\n",
       "        <td>3.9</td>\n",
       "        <td>35</td>\n",
       "        <td>CS</td>\n",
       "        <td>F</td>\n",
       "    </tr>\n",
       "    <tr>\n",
       "        <td>Mike Olson</td>\n",
       "        <td>3.7</td>\n",
       "        <td>50</td>\n",
       "        <td>CS</td>\n",
       "        <td>M</td>\n",
       "    </tr>\n",
       "    <tr>\n",
       "        <td>Bill Gates</td>\n",
       "        <td>2.0</td>\n",
       "        <td>60</td>\n",
       "        <td>CS</td>\n",
       "        <td>M</td>\n",
       "    </tr>\n",
       "</table>"
      ],
      "text/plain": [
       "[('Mark Zuckerberg', 4.0, 30, 'CS', 'M'),\n",
       " ('Hillary Mason', 4.0, 35, 'DATASCI', 'F'),\n",
       " ('Sergey Brin', 4.0, 40, 'CS', 'M'),\n",
       " ('Marissa Meyer', 4.0, 45, 'BUSINESS', 'F'),\n",
       " ('Susan Wojcicki', 4.0, 46, 'BUSINESS', 'F'),\n",
       " ('Cheryl Sandberg', 4.0, 47, 'BUSINESS', 'F'),\n",
       " ('Danah Boyd', 3.9, 35, 'CS', 'F'),\n",
       " ('Mike Olson', 3.7, 50, 'CS', 'M'),\n",
       " ('Bill Gates', 2.0, 60, 'CS', 'M')]"
      ]
     },
     "execution_count": 37,
     "metadata": {},
     "output_type": "execute_result"
    }
   ],
   "source": [
    "%%sql $default_db\n",
    "\n",
    "SELECT *\n",
    "FROM students\n",
    "ORDER BY gpa DESC, age ASC;"
   ]
  },
  {
   "cell_type": "markdown",
   "metadata": {
    "solution2": "hidden",
    "solution2_first": true
   },
   "source": [
    "## LIMIT Clause\n",
    "\n",
    "The limit clause limits the number of elements returned.  Which elements are returned? While this depends on the order of elements which could be arbitrary beyond anything specified by the `ORDER BY` clauses.\n",
    "\n",
    "Is this a random sample?  "
   ]
  },
  {
   "cell_type": "markdown",
   "metadata": {
    "solution2": "hidden"
   },
   "source": [
    "No"
   ]
  },
  {
   "cell_type": "markdown",
   "metadata": {
    "solution2": "hidden",
    "solution2_first": true
   },
   "source": [
    "Why do we use the `LIMIT` clause?"
   ]
  },
  {
   "cell_type": "markdown",
   "metadata": {
    "solution2": "hidden"
   },
   "source": [
    "Often the database we are querying is massive and retrieving the entire table as we are debugging the query can be costly in time and system resources.  However, we should avoid using `LIMIT` when constructing a sample of the data. "
   ]
  },
  {
   "cell_type": "code",
   "execution_count": 38,
   "metadata": {},
   "outputs": [
    {
     "name": "stdout",
     "output_type": "stream",
     "text": [
      "3 rows affected.\n"
     ]
    },
    {
     "data": {
      "text/html": [
       "<table>\n",
       "    <tr>\n",
       "        <th>name</th>\n",
       "        <th>gpa</th>\n",
       "        <th>age</th>\n",
       "        <th>dept</th>\n",
       "        <th>gender</th>\n",
       "    </tr>\n",
       "    <tr>\n",
       "        <td>Danah Boyd</td>\n",
       "        <td>3.9</td>\n",
       "        <td>35</td>\n",
       "        <td>CS</td>\n",
       "        <td>F</td>\n",
       "    </tr>\n",
       "    <tr>\n",
       "        <td>Hillary Mason</td>\n",
       "        <td>4.0</td>\n",
       "        <td>35</td>\n",
       "        <td>DATASCI</td>\n",
       "        <td>F</td>\n",
       "    </tr>\n",
       "    <tr>\n",
       "        <td>Mike Olson</td>\n",
       "        <td>3.7</td>\n",
       "        <td>50</td>\n",
       "        <td>CS</td>\n",
       "        <td>M</td>\n",
       "    </tr>\n",
       "</table>"
      ],
      "text/plain": [
       "[('Danah Boyd', 3.9, 35, 'CS', 'F'),\n",
       " ('Hillary Mason', 4.0, 35, 'DATASCI', 'F'),\n",
       " ('Mike Olson', 3.7, 50, 'CS', 'M')]"
      ]
     },
     "execution_count": 38,
     "metadata": {},
     "output_type": "execute_result"
    }
   ],
   "source": [
    "%%sql\n",
    "SELECT * FROM students \n",
    "LIMIT 3"
   ]
  },
  {
   "cell_type": "markdown",
   "metadata": {},
   "source": [
    "## If this is funny you are *Getting IT*\n",
    "\n",
    "![Boby Drop tables](https://imgs.xkcd.com/comics/exploits_of_a_mom.png)\n",
    "\n",
    "... it's funny, believe me."
   ]
  }
 ],
 "metadata": {
  "kernelspec": {
   "display_name": "Python 3",
   "language": "python",
   "name": "python3"
  },
  "language_info": {
   "codemirror_mode": {
    "name": "ipython",
    "version": 3
   },
   "file_extension": ".py",
   "mimetype": "text/x-python",
   "name": "python",
   "nbconvert_exporter": "python",
   "pygments_lexer": "ipython3",
   "version": "3.6.1"
  },
  "toc": {
   "colors": {
    "hover_highlight": "#DAA520",
    "navigate_num": "#000000",
    "navigate_text": "#333333",
    "running_highlight": "#FF0000",
    "selected_highlight": "#FFD700",
    "sidebar_border": "#EEEEEE",
    "wrapper_background": "#FFFFFF"
   },
   "moveMenuLeft": true,
   "nav_menu": {
    "height": "498px",
    "width": "252px"
   },
   "navigate_menu": true,
   "number_sections": true,
   "sideBar": true,
   "threshold": 4,
   "toc_cell": false,
   "toc_section_display": "block",
   "toc_window_display": false,
   "widenNotebook": false
  }
 },
 "nbformat": 4,
 "nbformat_minor": 2
}
