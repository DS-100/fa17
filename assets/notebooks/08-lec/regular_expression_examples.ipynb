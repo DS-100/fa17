{
 "cells": [
  {
   "cell_type": "code",
   "execution_count": 1,
   "metadata": {
    "collapsed": true
   },
   "outputs": [],
   "source": [
    "import re\n",
    "import numpy as np\n",
    "import matplotlib.pyplot as plt\n",
    "import pandas as pd\n",
    "import seaborn as sns\n",
    "%matplotlib inline"
   ]
  },
  {
   "cell_type": "markdown",
   "metadata": {},
   "source": [
    "# Examples\n",
    "\n"
   ]
  },
  {
   "cell_type": "markdown",
   "metadata": {},
   "source": [
    "## Creating Compatible Primary Keys\n",
    "\n",
    "\n",
    "### Simple String Manipulation\n",
    "\n",
    "Manipulating strings directy, without using regular expressions, can get us a long way. As an example, we will develop some code to clean the county names, where the code does not use regular expressions. \n",
    "\n",
    "Let's create some sample data that has all of the issues that we want to fix in a few county names. Recall that we want to:\n",
    "\n",
    "\n",
    "1. Change all letters to lower case.\n",
    "1. Drop county and parish from the end of the string.\n",
    "1. Change '&' to 'and'\n",
    "1. Drop all periods\n",
    "1. Eliminate all spaces/blanks\n",
    "\n",
    "The following strings have all of these features that need fixing."
   ]
  },
  {
   "cell_type": "code",
   "execution_count": 2,
   "metadata": {
    "collapsed": true
   },
   "outputs": [],
   "source": [
    "county_ex = [\n",
    "    'De witt County', \n",
    "    'Lac qui Parle County', \n",
    "    'St. John the Baptist Parish', \n",
    "    'Stone County', \n",
    "    'Lewis & Clark County'\n",
    "]"
   ]
  },
  {
   "cell_type": "markdown",
   "metadata": {},
   "source": [
    "Typically, we want to convert the letters to lower case first because then we know that we are only working with lower case.\n",
    "\n",
    "In our example, \"county\" and \"parish\" are both 6 letters long so we need not do anything fancy to eliminate this word from each string. We can simply drop the last 6 characters.\n",
    "\n",
    "Then we can go through the characters in each string, one at a time, and eliminate the blanks and periods and replace the \"&\" with \"and\".\n",
    "\n",
    "The code below takes care of these string manipulations:\n"
   ]
  },
  {
   "cell_type": "code",
   "execution_count": 3,
   "metadata": {},
   "outputs": [
    {
     "name": "stdout",
     "output_type": "stream",
     "text": [
      "['dewitt', 'lacquiparle', 'stjohnthebaptist', 'stone', 'lewisandclark']\n"
     ]
    }
   ],
   "source": [
    "final = []\n",
    "for s in county_ex:\n",
    "    lower = s.lower()\n",
    "    wo_county = lower[:-7]\n",
    "    def dropchange(l):\n",
    "        if l == \"&\":\n",
    "            return \"and\"\n",
    "        elif l == \" \" or l == \".\":\n",
    "            return \"\" \n",
    "        else:\n",
    "            return l\n",
    "    final_word = \"\".join([dropchange(l) for l in wo_county])\n",
    "    final.append(final_word)\n",
    "print(final)"
   ]
  },
  {
   "cell_type": "markdown",
   "metadata": {},
   "source": [
    "Here's an alternative approach."
   ]
  },
  {
   "cell_type": "code",
   "execution_count": 4,
   "metadata": {},
   "outputs": [
    {
     "name": "stdout",
     "output_type": "stream",
     "text": [
      "['dewitt', 'lacquiparle', 'stjohnthebaptist', 'stone', 'lewisandclark']\n"
     ]
    }
   ],
   "source": [
    "final = []\n",
    "for s in county_ex:\n",
    "    lower = s.lower()\n",
    "    without_county = lower[:-7]\n",
    "    def amptoand(l):\n",
    "        if l == \"&\":\n",
    "            return \"and\"\n",
    "        else:\n",
    "            return l\n",
    "    final_word = \"\".join([amptoand(l) for l in without_county if l != \".\" and l != \" \"])\n",
    "    final.append(final_word)\n",
    "print(final)"
   ]
  },
  {
   "cell_type": "markdown",
   "metadata": {},
   "source": [
    "Why did we eliminate all blanks from the names, rather than eliminate from De Witt County? We looked at only a few records and can imagine that there are other cases where we want to drop a blank. Also, removing all of the blanks could make the county names easier to work with in general.  Is there a downside to dropping the spaces? If a county is no longer uniquely identified without the blanks in its name, then that could be a problem. \n"
   ]
  },
  {
   "cell_type": "markdown",
   "metadata": {},
   "source": [
    "### Python list comprehension"
   ]
  },
  {
   "cell_type": "markdown",
   "metadata": {},
   "source": [
    "We can instead use Python list comprehension to make the changes to `county_ex`."
   ]
  },
  {
   "cell_type": "code",
   "execution_count": 5,
   "metadata": {},
   "outputs": [
    {
     "name": "stdout",
     "output_type": "stream",
     "text": [
      "['dewitt', 'lacquiparle', 'stjohnthebaptist', 'stone', 'lewisandclark']\n"
     ]
    }
   ],
   "source": [
    "cleaned_cty = [\n",
    "    w.lower()[:-7] # fancy indexing\n",
    "    .replace(\".\",\"\")\n",
    "    .replace(\"&\",\"and\")\n",
    "    .replace(\" \", \"\") \n",
    "    for w in county_ex\n",
    "]\n",
    "print(cleaned_cty)"
   ]
  },
  {
   "cell_type": "markdown",
   "metadata": {},
   "source": [
    "### Data frame\n",
    "\n",
    "We can also work with the county name as a column in a dataframe and clean it.\n",
    "Below are two approaches to create a data frame from `county_ex`."
   ]
  },
  {
   "cell_type": "code",
   "execution_count": 6,
   "metadata": {},
   "outputs": [
    {
     "data": {
      "text/html": [
       "<div>\n",
       "<style>\n",
       "    .dataframe thead tr:only-child th {\n",
       "        text-align: right;\n",
       "    }\n",
       "\n",
       "    .dataframe thead th {\n",
       "        text-align: left;\n",
       "    }\n",
       "\n",
       "    .dataframe tbody tr th {\n",
       "        vertical-align: top;\n",
       "    }\n",
       "</style>\n",
       "<table border=\"1\" class=\"dataframe\">\n",
       "  <thead>\n",
       "    <tr style=\"text-align: right;\">\n",
       "      <th></th>\n",
       "      <th>County</th>\n",
       "    </tr>\n",
       "  </thead>\n",
       "  <tbody>\n",
       "    <tr>\n",
       "      <th>0</th>\n",
       "      <td>De witt County</td>\n",
       "    </tr>\n",
       "    <tr>\n",
       "      <th>1</th>\n",
       "      <td>Lac qui Parle County</td>\n",
       "    </tr>\n",
       "    <tr>\n",
       "      <th>2</th>\n",
       "      <td>St. John the Baptist Parish</td>\n",
       "    </tr>\n",
       "    <tr>\n",
       "      <th>3</th>\n",
       "      <td>Stone County</td>\n",
       "    </tr>\n",
       "    <tr>\n",
       "      <th>4</th>\n",
       "      <td>Lewis &amp; Clark County</td>\n",
       "    </tr>\n",
       "  </tbody>\n",
       "</table>\n",
       "</div>"
      ],
      "text/plain": [
       "                        County\n",
       "0               De witt County\n",
       "1         Lac qui Parle County\n",
       "2  St. John the Baptist Parish\n",
       "3                 Stone County\n",
       "4         Lewis & Clark County"
      ]
     },
     "execution_count": 6,
     "metadata": {},
     "output_type": "execute_result"
    }
   ],
   "source": [
    "df = pd.DataFrame(pd.Series(county_ex, name=\"County\"))\n",
    "df"
   ]
  },
  {
   "cell_type": "code",
   "execution_count": 7,
   "metadata": {},
   "outputs": [
    {
     "data": {
      "text/html": [
       "<div>\n",
       "<style>\n",
       "    .dataframe thead tr:only-child th {\n",
       "        text-align: right;\n",
       "    }\n",
       "\n",
       "    .dataframe thead th {\n",
       "        text-align: left;\n",
       "    }\n",
       "\n",
       "    .dataframe tbody tr th {\n",
       "        vertical-align: top;\n",
       "    }\n",
       "</style>\n",
       "<table border=\"1\" class=\"dataframe\">\n",
       "  <thead>\n",
       "    <tr style=\"text-align: right;\">\n",
       "      <th></th>\n",
       "      <th>County</th>\n",
       "    </tr>\n",
       "  </thead>\n",
       "  <tbody>\n",
       "    <tr>\n",
       "      <th>0</th>\n",
       "      <td>De witt County</td>\n",
       "    </tr>\n",
       "    <tr>\n",
       "      <th>1</th>\n",
       "      <td>Lac qui Parle County</td>\n",
       "    </tr>\n",
       "    <tr>\n",
       "      <th>2</th>\n",
       "      <td>St. John the Baptist Parish</td>\n",
       "    </tr>\n",
       "    <tr>\n",
       "      <th>3</th>\n",
       "      <td>Stone County</td>\n",
       "    </tr>\n",
       "    <tr>\n",
       "      <th>4</th>\n",
       "      <td>Lewis &amp; Clark County</td>\n",
       "    </tr>\n",
       "  </tbody>\n",
       "</table>\n",
       "</div>"
      ],
      "text/plain": [
       "                        County\n",
       "0               De witt County\n",
       "1         Lac qui Parle County\n",
       "2  St. John the Baptist Parish\n",
       "3                 Stone County\n",
       "4         Lewis & Clark County"
      ]
     },
     "execution_count": 7,
     "metadata": {},
     "output_type": "execute_result"
    }
   ],
   "source": [
    "df = pd.DataFrame(data = county_ex, columns=[\"County\"])\n",
    "df"
   ]
  },
  {
   "cell_type": "markdown",
   "metadata": {},
   "source": [
    "If we want to return to the original format we can get the county strings back out with:"
   ]
  },
  {
   "cell_type": "code",
   "execution_count": 8,
   "metadata": {},
   "outputs": [
    {
     "data": {
      "text/plain": [
       "0                 De witt County\n",
       "1           Lac qui Parle County\n",
       "2    St. John the Baptist Parish\n",
       "3                   Stone County\n",
       "4           Lewis & Clark County\n",
       "Name: County, dtype: object"
      ]
     },
     "execution_count": 8,
     "metadata": {},
     "output_type": "execute_result"
    }
   ],
   "source": [
    "df['County']"
   ]
  },
  {
   "cell_type": "markdown",
   "metadata": {},
   "source": [
    "### Python list comprehension\n",
    "\n",
    "Lastly, we use the string manipulation available for Pandas dataframes to perform the same cleaning. Rather than loop through each character in the string one at a time, we use `str` to work on the string. The method `replace` takes regular expressions as arguments. An example below is \"county|parish\" this pattern will match either the characters \"county\" or the characters \"parish\" and if `replace` finds a match anywhere in the string, it will replace it with \"\", i.e., it will drop it.  "
   ]
  },
  {
   "cell_type": "code",
   "execution_count": 9,
   "metadata": {},
   "outputs": [
    {
     "data": {
      "text/plain": [
       "0              dewitt\n",
       "1         lacquiparle\n",
       "2    stjohnthebaptist\n",
       "3               stone\n",
       "4       lewisandclark\n",
       "Name: County, dtype: object"
      ]
     },
     "execution_count": 9,
     "metadata": {},
     "output_type": "execute_result"
    }
   ],
   "source": [
    "(\n",
    "    df['County'].str.lower()\n",
    "    .str.replace(\"county\", \"\")\n",
    "    .str.replace(\"parish\", \"\")\n",
    "    .str.replace(\".\",\"\")\n",
    "    .str.replace(\"&\",\"and\")\n",
    "    .str.replace(\" \", \"\")\n",
    ")"
   ]
  },
  {
   "cell_type": "markdown",
   "metadata": {},
   "source": [
    "Below is a more compact version that consolidates the replacements using metacharacters in regular expressions. For example, An example, the \"county|parish\" pattern matches either the characters \"county\" or the characters \"parish\" so if `replace` finds a match anywhere in the string, it will replace these 6 characters with \"\", i.e., they will be dropped. \n",
    "\n",
    "Also, the pattern \"[. ]\" says that either a period or a blank are to be treated equivalently because they are within the square brackets. Now, if either a blank or a period is found, then it will be replaced with \"\" (that is, it will be dropped)."
   ]
  },
  {
   "cell_type": "code",
   "execution_count": 10,
   "metadata": {},
   "outputs": [
    {
     "data": {
      "text/plain": [
       "0              dewitt\n",
       "1         lacquiparle\n",
       "2    stjohnthebaptist\n",
       "3               stone\n",
       "4       lewisandclark\n",
       "Name: County, dtype: object"
      ]
     },
     "execution_count": 10,
     "metadata": {},
     "output_type": "execute_result"
    }
   ],
   "source": [
    "(\n",
    "    df['County'].str.lower()\n",
    "    .str.replace(\"county|parish\",\"\")\n",
    "    .str.replace(\"[. ]\",\"\")\n",
    "    .str.replace(\"&\",\"and\")\n",
    ")"
   ]
  },
  {
   "cell_type": "markdown",
   "metadata": {},
   "source": [
    "We have introduced some concepts related to pattern matching, such as | and [ ]. We will cover more in detail in the examples in class slides."
   ]
  },
  {
   "cell_type": "markdown",
   "metadata": {},
   "source": [
    "## Web Logs\n",
    "\n",
    "In our next example, we process strings that have some structure, but not enough to always finr values between commas, say, or in fixed positions in all reacords. We can get a long way with simple string manipulation in this example too, but we will demonstrate how powerful a regular expression can be in extracting fields from strings.\n",
    "\n",
    "These data are logs from a web site. Again, we use a small data set to demonstrate how we might process the file, but we don't actually process and analyze the full dataset."
   ]
  },
  {
   "cell_type": "code",
   "execution_count": 11,
   "metadata": {},
   "outputs": [
    {
     "name": "stdout",
     "output_type": "stream",
     "text": [
      "total 202472\r\n",
      "-rwxr-xr-x@ 1 nolan  staff    89M Sep  9 12:01 \u001b[31m141WebLog.log\u001b[m\u001b[m*\r\n",
      "-rw-r--r--  1 nolan  staff   400B Sep 18 18:06 smallLog.txt\r\n",
      "-rw-r--r--  1 nolan  staff   9.9M Sep 18 19:48 stateoftheunion1790-2017.txt\r\n"
     ]
    }
   ],
   "source": [
    "ls -lh data"
   ]
  },
  {
   "cell_type": "markdown",
   "metadata": {},
   "source": [
    "The sample file has only two records as we see in the call to `head` below."
   ]
  },
  {
   "cell_type": "code",
   "execution_count": 12,
   "metadata": {},
   "outputs": [
    {
     "name": "stdout",
     "output_type": "stream",
     "text": [
      "169.237.46.168 - - [26/Jan/2014:10:47:58 -0800] \"GET /stat141/Winter04 HTTP/1.1\" 301 328 \"http://anson.ucdavis.edu/courses/\"  \"Mozilla/4.0 (compatible; MSIE 6.0; Windows NT 5.0; .NET CLR 1.1.4322)”\r\n",
      "169.237.46.168 - - [26/Jan/2014:10:47:58 -0800] \"GET /stat141/Winter04/ HTTP/1.1\" 200 2585 \"http://anson.ucdavis.edu/courses/\" \"Mozilla/4.0 (compatible; MSIE 6.0; Windows NT 5.0; .NET CLR 1.1.4322)\"\r\n",
      "\r\n"
     ]
    }
   ],
   "source": [
    "!head data/smallLog.txt"
   ]
  },
  {
   "cell_type": "markdown",
   "metadata": {},
   "source": [
    "We want to read each line of the file in as a string and then process the strings to create variables. We use `readlines` to do this."
   ]
  },
  {
   "cell_type": "code",
   "execution_count": 13,
   "metadata": {},
   "outputs": [
    {
     "name": "stdout",
     "output_type": "stream",
     "text": [
      "3\n",
      "169.237.46.168 - - [26/Jan/2014:10:47:58 -0800] \"GET /stat141/Winter04 HTTP/1.1\" 301 328 \"http://anson.ucdavis.edu/courses/\"  \"Mozilla/4.0 (compatible; MSIE 6.0; Windows NT 5.0; .NET CLR 1.1.4322)”\n",
      "\n"
     ]
    }
   ],
   "source": [
    "with open(\"data/smallLog.txt\", \"r\") as f:\n",
    "    lines = f.readlines()\n",
    "print(len(lines))\n",
    "print(lines[0])"
   ]
  },
  {
   "cell_type": "markdown",
   "metadata": {},
   "source": [
    "We can place `lines` in a dataframe and work with the strings as a column in the dataframe."
   ]
  },
  {
   "cell_type": "code",
   "execution_count": 14,
   "metadata": {},
   "outputs": [
    {
     "data": {
      "text/html": [
       "<div>\n",
       "<style>\n",
       "    .dataframe thead tr:only-child th {\n",
       "        text-align: right;\n",
       "    }\n",
       "\n",
       "    .dataframe thead th {\n",
       "        text-align: left;\n",
       "    }\n",
       "\n",
       "    .dataframe tbody tr th {\n",
       "        vertical-align: top;\n",
       "    }\n",
       "</style>\n",
       "<table border=\"1\" class=\"dataframe\">\n",
       "  <thead>\n",
       "    <tr style=\"text-align: right;\">\n",
       "      <th></th>\n",
       "      <th>raw</th>\n",
       "    </tr>\n",
       "  </thead>\n",
       "  <tbody>\n",
       "    <tr>\n",
       "      <th>0</th>\n",
       "      <td>169.237.46.168 - - [26/Jan/2014:10:47:58 -0800...</td>\n",
       "    </tr>\n",
       "    <tr>\n",
       "      <th>1</th>\n",
       "      <td>169.237.46.168 - - [26/Jan/2014:10:47:58 -0800...</td>\n",
       "    </tr>\n",
       "    <tr>\n",
       "      <th>2</th>\n",
       "      <td>\\n</td>\n",
       "    </tr>\n",
       "  </tbody>\n",
       "</table>\n",
       "</div>"
      ],
      "text/plain": [
       "                                                 raw\n",
       "0  169.237.46.168 - - [26/Jan/2014:10:47:58 -0800...\n",
       "1  169.237.46.168 - - [26/Jan/2014:10:47:58 -0800...\n",
       "2                                                 \\n"
      ]
     },
     "execution_count": 14,
     "metadata": {},
     "output_type": "execute_result"
    }
   ],
   "source": [
    "df = pd.DataFrame(pd.Series(lines, name=\"raw\"))\n",
    "df"
   ]
  },
  {
   "cell_type": "markdown",
   "metadata": {},
   "source": [
    "Each log entry contains a lot of information such as the:\n",
    "\n",
    "* Page visited\n",
    "* Date and time of visit\n",
    "* Browser used\n",
    "* IP address \n",
    "\n",
    "When we examine the records, we see that there are certain characters that separate the fields. In our two sample records some of the pieces of information appear in the same location, but we don't want to rely on that always being the case. For example, the IP address at the beginning of the string need not always be 14 characters long. It might be 15 characters if all four of the numbers have 3 digits. This would then shift the rest of the information in the string. Instead, we want to key on the separators to locate the information.\n",
    "\n",
    "Sometimes these are dashes, other times they are square brackets, commas, or colons. Let's consider the task of extracting the day, month, and year each as a string. One way to do this is to split the string into pieces. We can do this with the `split` method. \n",
    "\n",
    "We first split the string many times over to zoom in on the substring(s) of interest. That is, the date appears between `[` and `]`\n",
    "\n",
    "Let's first split the string at the left square brackets. Notice that the square brackets are \"eaten\" by the splitting process."
   ]
  },
  {
   "cell_type": "code",
   "execution_count": 15,
   "metadata": {},
   "outputs": [
    {
     "data": {
      "text/plain": [
       "0    169.237.46.168 - - \n",
       "1    169.237.46.168 - - \n",
       "2                     \\n\n",
       "Name: raw, dtype: object"
      ]
     },
     "execution_count": 15,
     "metadata": {},
     "output_type": "execute_result"
    }
   ],
   "source": [
    "date = df['raw'].str.split(r'[').str\n",
    "date[0]"
   ]
  },
  {
   "cell_type": "code",
   "execution_count": 16,
   "metadata": {},
   "outputs": [
    {
     "data": {
      "text/plain": [
       "0    26/Jan/2014:10:47:58 -0800] \"GET /stat141/Wint...\n",
       "1    26/Jan/2014:10:47:58 -0800] \"GET /stat141/Wint...\n",
       "2                                                  NaN\n",
       "Name: raw, dtype: object"
      ]
     },
     "execution_count": 16,
     "metadata": {},
     "output_type": "execute_result"
    }
   ],
   "source": [
    "date[1]"
   ]
  },
  {
   "cell_type": "markdown",
   "metadata": {},
   "source": [
    "The second substring contains the date. If we split the second substring at colons then the first of its substrings will contain the day, month, and year. That is, "
   ]
  },
  {
   "cell_type": "code",
   "execution_count": 17,
   "metadata": {},
   "outputs": [
    {
     "name": "stdout",
     "output_type": "stream",
     "text": [
      "0    26/Jan/2014\n",
      "1    26/Jan/2014\n",
      "2            NaN\n",
      "Name: raw, dtype: object\n"
     ]
    }
   ],
   "source": [
    "date2 = date[1].str.split(r':').str[0]\n",
    "print(date2)"
   ]
  },
  {
   "cell_type": "code",
   "execution_count": 18,
   "metadata": {},
   "outputs": [
    {
     "data": {
      "text/plain": [
       "0    [26, Jan, 2014]\n",
       "1    [26, Jan, 2014]\n",
       "2                NaN\n",
       "Name: raw, dtype: object"
      ]
     },
     "execution_count": 18,
     "metadata": {},
     "output_type": "execute_result"
    }
   ],
   "source": [
    "(df['raw']\n",
    " .str.split(r'[').str[1]\n",
    " .str.split(r':').str[0]\n",
    " .str.split(r'/').str[0:3]\n",
    ")"
   ]
  },
  {
   "cell_type": "code",
   "execution_count": 19,
   "metadata": {},
   "outputs": [
    {
     "data": {
      "text/html": [
       "<div>\n",
       "<style>\n",
       "    .dataframe thead tr:only-child th {\n",
       "        text-align: right;\n",
       "    }\n",
       "\n",
       "    .dataframe thead th {\n",
       "        text-align: left;\n",
       "    }\n",
       "\n",
       "    .dataframe tbody tr th {\n",
       "        vertical-align: top;\n",
       "    }\n",
       "</style>\n",
       "<table border=\"1\" class=\"dataframe\">\n",
       "  <thead>\n",
       "    <tr style=\"text-align: right;\">\n",
       "      <th></th>\n",
       "      <th>raw</th>\n",
       "      <th>day</th>\n",
       "      <th>mon</th>\n",
       "      <th>Yr</th>\n",
       "    </tr>\n",
       "  </thead>\n",
       "  <tbody>\n",
       "    <tr>\n",
       "      <th>0</th>\n",
       "      <td>169.237.46.168 - - [26/Jan/2014:10:47:58 -0800...</td>\n",
       "      <td>26</td>\n",
       "      <td>Jan</td>\n",
       "      <td>2014</td>\n",
       "    </tr>\n",
       "    <tr>\n",
       "      <th>1</th>\n",
       "      <td>169.237.46.168 - - [26/Jan/2014:10:47:58 -0800...</td>\n",
       "      <td>26</td>\n",
       "      <td>Jan</td>\n",
       "      <td>2014</td>\n",
       "    </tr>\n",
       "    <tr>\n",
       "      <th>2</th>\n",
       "      <td>\\n</td>\n",
       "      <td>NaN</td>\n",
       "      <td>NaN</td>\n",
       "      <td>NaN</td>\n",
       "    </tr>\n",
       "  </tbody>\n",
       "</table>\n",
       "</div>"
      ],
      "text/plain": [
       "                                                 raw  day  mon    Yr\n",
       "0  169.237.46.168 - - [26/Jan/2014:10:47:58 -0800...   26  Jan  2014\n",
       "1  169.237.46.168 - - [26/Jan/2014:10:47:58 -0800...   26  Jan  2014\n",
       "2                                                 \\n  NaN  NaN   NaN"
      ]
     },
     "execution_count": 19,
     "metadata": {},
     "output_type": "execute_result"
    }
   ],
   "source": [
    "date3 = date2.str.split(r'/').str[0:3]\n",
    "df['day'] = date3.str[0]\n",
    "df['mon'] = date3.str[1]\n",
    "df['Yr'] = date3.str[2]\n",
    "df"
   ]
  },
  {
   "cell_type": "markdown",
   "metadata": {},
   "source": [
    "Lastly, we can split this string, e.g., \"26/Jan/2014\", on the forward slash and assign each of the 3 resulting substrings to day, month, and year variables in `df1`."
   ]
  },
  {
   "cell_type": "markdown",
   "metadata": {},
   "source": [
    "We can perform all of these splits at once with"
   ]
  },
  {
   "cell_type": "code",
   "execution_count": 20,
   "metadata": {},
   "outputs": [
    {
     "name": "stdout",
     "output_type": "stream",
     "text": [
      "0    [26, Jan, 2014]\n",
      "1    [26, Jan, 2014]\n",
      "2                NaN\n",
      "Name: raw, dtype: object\n"
     ]
    },
    {
     "data": {
      "text/html": [
       "<div>\n",
       "<style>\n",
       "    .dataframe thead tr:only-child th {\n",
       "        text-align: right;\n",
       "    }\n",
       "\n",
       "    .dataframe thead th {\n",
       "        text-align: left;\n",
       "    }\n",
       "\n",
       "    .dataframe tbody tr th {\n",
       "        vertical-align: top;\n",
       "    }\n",
       "</style>\n",
       "<table border=\"1\" class=\"dataframe\">\n",
       "  <thead>\n",
       "    <tr style=\"text-align: right;\">\n",
       "      <th></th>\n",
       "      <th>raw</th>\n",
       "      <th>day</th>\n",
       "      <th>mon</th>\n",
       "      <th>Yr</th>\n",
       "    </tr>\n",
       "  </thead>\n",
       "  <tbody>\n",
       "    <tr>\n",
       "      <th>0</th>\n",
       "      <td>169.237.46.168 - - [26/Jan/2014:10:47:58 -0800...</td>\n",
       "      <td>26</td>\n",
       "      <td>Jan</td>\n",
       "      <td>2014</td>\n",
       "    </tr>\n",
       "    <tr>\n",
       "      <th>1</th>\n",
       "      <td>169.237.46.168 - - [26/Jan/2014:10:47:58 -0800...</td>\n",
       "      <td>26</td>\n",
       "      <td>Jan</td>\n",
       "      <td>2014</td>\n",
       "    </tr>\n",
       "    <tr>\n",
       "      <th>2</th>\n",
       "      <td>\\n</td>\n",
       "      <td>NaN</td>\n",
       "      <td>NaN</td>\n",
       "      <td>NaN</td>\n",
       "    </tr>\n",
       "  </tbody>\n",
       "</table>\n",
       "</div>"
      ],
      "text/plain": [
       "                                                 raw  day  mon    Yr\n",
       "0  169.237.46.168 - - [26/Jan/2014:10:47:58 -0800...   26  Jan  2014\n",
       "1  169.237.46.168 - - [26/Jan/2014:10:47:58 -0800...   26  Jan  2014\n",
       "2                                                 \\n  NaN  NaN   NaN"
      ]
     },
     "execution_count": 20,
     "metadata": {},
     "output_type": "execute_result"
    }
   ],
   "source": [
    "date_pieces = (df['raw']\n",
    "               .str.split(r'[').str[1]\n",
    "               .str.split(r':').str[0]\n",
    "               .str.split(r'/').str[0:3]\n",
    "              )\n",
    "print(date_pieces)\n",
    "df['day'] = date_pieces.str[0]\n",
    "df['mon'] = date_pieces.str[1]\n",
    "df['Yr'] = date_pieces.str[2]\n",
    "df"
   ]
  },
  {
   "cell_type": "markdown",
   "metadata": {},
   "source": [
    "However with regular expressions, we can split on any of the 3 characters, '[' or ':' or \"/\", in one call to `split`. That is, we can split the string on 3 equivalent and then select the desired substrings. We do this as follows."
   ]
  },
  {
   "cell_type": "code",
   "execution_count": 21,
   "metadata": {},
   "outputs": [
    {
     "data": {
      "text/html": [
       "<div>\n",
       "<style>\n",
       "    .dataframe thead tr:only-child th {\n",
       "        text-align: right;\n",
       "    }\n",
       "\n",
       "    .dataframe thead th {\n",
       "        text-align: left;\n",
       "    }\n",
       "\n",
       "    .dataframe tbody tr th {\n",
       "        vertical-align: top;\n",
       "    }\n",
       "</style>\n",
       "<table border=\"1\" class=\"dataframe\">\n",
       "  <thead>\n",
       "    <tr style=\"text-align: right;\">\n",
       "      <th></th>\n",
       "      <th>raw</th>\n",
       "      <th>day</th>\n",
       "      <th>mon</th>\n",
       "      <th>Yr</th>\n",
       "    </tr>\n",
       "  </thead>\n",
       "  <tbody>\n",
       "    <tr>\n",
       "      <th>0</th>\n",
       "      <td>169.237.46.168 - - [26/Jan/2014:10:47:58 -0800...</td>\n",
       "      <td>26</td>\n",
       "      <td>Jan</td>\n",
       "      <td>2014</td>\n",
       "    </tr>\n",
       "    <tr>\n",
       "      <th>1</th>\n",
       "      <td>169.237.46.168 - - [26/Jan/2014:10:47:58 -0800...</td>\n",
       "      <td>26</td>\n",
       "      <td>Jan</td>\n",
       "      <td>2014</td>\n",
       "    </tr>\n",
       "    <tr>\n",
       "      <th>2</th>\n",
       "      <td>\\n</td>\n",
       "      <td>NaN</td>\n",
       "      <td>NaN</td>\n",
       "      <td>NaN</td>\n",
       "    </tr>\n",
       "  </tbody>\n",
       "</table>\n",
       "</div>"
      ],
      "text/plain": [
       "                                                 raw  day  mon    Yr\n",
       "0  169.237.46.168 - - [26/Jan/2014:10:47:58 -0800...   26  Jan  2014\n",
       "1  169.237.46.168 - - [26/Jan/2014:10:47:58 -0800...   26  Jan  2014\n",
       "2                                                 \\n  NaN  NaN   NaN"
      ]
     },
     "execution_count": 21,
     "metadata": {},
     "output_type": "execute_result"
    }
   ],
   "source": [
    "df1 = pd.DataFrame(pd.Series(lines, name=\"raw\"))\n",
    "date = df1['raw'].str.split(r'[\\[/:]').str[1:4]\n",
    "df1['day'] = date.str[0]\n",
    "df1['mon'] = date.str[1]\n",
    "df1['yr'] = date.str[2]\n",
    "df"
   ]
  },
  {
   "cell_type": "markdown",
   "metadata": {},
   "source": [
    "In the above call to `split` we passed a regular expression, '[\\\\[/:]'. This is a special pattern.  The outer brackets indicate that the characters within are to be treated equivalently. The literals are within the brackets; these are the left bracket, forward slash, and colon.  Equivalent characters means: \"when any of these are found\" split the string. Notice the backslash preceeding the left bracket withing the outer brackets. This is a special character that indicates that the [ is to be treated as the literal backslash, i.e., it is not a special character for the regex engine. We delve into regular expressions in greater depth in the next example."
   ]
  },
  {
   "cell_type": "markdown",
   "metadata": {},
   "source": [
    "## Food Safety\n",
    "\n",
    "\n"
   ]
  },
  {
   "cell_type": "code",
   "execution_count": 22,
   "metadata": {
    "collapsed": true
   },
   "outputs": [],
   "source": [
    "vio = pd.read_csv(\"../../hw/hw2/data/violations.csv\")"
   ]
  },
  {
   "cell_type": "code",
   "execution_count": 23,
   "metadata": {
    "collapsed": true
   },
   "outputs": [],
   "source": [
    "new_date = vio['date'].apply(lambda d: pd.datetime.strptime(str(d),'%Y%m%d'))\n",
    "vio['year']  = new_date.dt.year"
   ]
  },
  {
   "cell_type": "code",
   "execution_count": 24,
   "metadata": {
    "collapsed": true
   },
   "outputs": [],
   "source": [
    "vio = vio[vio['year'] == 2016].copy()"
   ]
  },
  {
   "cell_type": "code",
   "execution_count": 25,
   "metadata": {},
   "outputs": [
    {
     "data": {
      "text/plain": [
       "Unclean or degraded floors walls or ceilings                                 844\n",
       "Unapproved or unmaintained equipment or utensils                             527\n",
       "Moderate risk food holding temperature                                       491\n",
       "Inadequate and inaccessible handwashing facilities                           430\n",
       "Wiping cloths not clean or properly stored or inadequate sanitizer           413\n",
       "Inadequately cleaned or sanitized food contact surfaces                      400\n",
       "Improper food storage                                                        399\n",
       "Food safety certificate or food handler card not available                   354\n",
       "Foods not protected from contamination                                       294\n",
       "Moderate risk vermin infestation                                             287\n",
       "Unclean nonfood contact surfaces                                             285\n",
       "Low risk vermin infestation                                                  265\n",
       "Permit license or inspection report not posted                               253\n",
       "Inadequate food safety knowledge or lack of certified food safety manager    210\n",
       "Improper or defective plumbing                                               197\n",
       "Improper storage of equipment utensils or linens                             194\n",
       "Inadequate warewashing facilities or equipment                               153\n",
       "High risk food holding temperature                                           139\n",
       "Unclean or unsanitary food contact surfaces                                  120\n",
       "Inadequate ventilation or lighting                                           115\n",
       "Name: description, dtype: int64"
      ]
     },
     "execution_count": 25,
     "metadata": {},
     "output_type": "execute_result"
    }
   ],
   "source": [
    "vio['description'].value_counts().head(20)"
   ]
  },
  {
   "cell_type": "code",
   "execution_count": 26,
   "metadata": {},
   "outputs": [
    {
     "data": {
      "text/plain": [
       "4688"
      ]
     },
     "execution_count": 26,
     "metadata": {},
     "output_type": "execute_result"
    }
   ],
   "source": [
    "len(vio['description'].value_counts())"
   ]
  },
  {
   "cell_type": "code",
   "execution_count": 27,
   "metadata": {},
   "outputs": [
    {
     "data": {
      "text/plain": [
       "<matplotlib.axes._subplots.AxesSubplot at 0x111bf3e10>"
      ]
     },
     "execution_count": 27,
     "metadata": {},
     "output_type": "execute_result"
    },
    {
     "data": {
      "image/png": "[encoded data removed]",
      "text/plain": [
       "<matplotlib.figure.Figure at 0x111bf3748>"
      ]
     },
     "metadata": {},
     "output_type": "display_data"
    }
   ],
   "source": [
    "vio['description'].value_counts().head(20).plot(kind='barh')"
   ]
  },
  {
   "cell_type": "code",
   "execution_count": 28,
   "metadata": {},
   "outputs": [
    {
     "data": {
      "text/plain": [
       "Unclean nonfood contact surfaces  [ date violation corrected: 6/22/2016 ]                                         1\n",
       "High risk vermin infestation  [ date violation corrected: 10/27/2016 ]                                            1\n",
       "Improper storage use or identification of toxic substances  [ date violation corrected: 5/26/2016 ]               1\n",
       "Other low risk violation  [ date violation corrected: 3/23/2016 ]                                                 1\n",
       "Unclean or degraded floors walls or ceilings  [ date violation corrected: 2/1/2016 ]                              1\n",
       "Inadequate procedures or records for time as a public health control   [ date violation corrected: 2/19/2016 ]    1\n",
       "Unclean hands or improper use of gloves  [ date violation corrected: 8/15/2016 ]                                  1\n",
       "Improper cooling methods  [ date violation corrected: 4/20/2016 ]                                                 1\n",
       "Inadequately cleaned or sanitized food contact surfaces  [ date violation corrected: 12/8/2016 ]                  1\n",
       "Other moderate risk violation  [ date violation corrected: 6/24/2016 ]                                            1\n",
       "Name: description, dtype: int64"
      ]
     },
     "execution_count": 28,
     "metadata": {},
     "output_type": "execute_result"
    }
   ],
   "source": [
    "vio['description'].value_counts().tail(10)"
   ]
  },
  {
   "cell_type": "markdown",
   "metadata": {},
   "source": [
    "Remove the [ date violation corrected ...] piece"
   ]
  },
  {
   "cell_type": "code",
   "execution_count": 29,
   "metadata": {
    "collapsed": true
   },
   "outputs": [],
   "source": [
    "vio['desc'] = vio['description'].str.replace(\"\\[.*\\]\",\"\").str.strip()"
   ]
  },
  {
   "cell_type": "markdown",
   "metadata": {},
   "source": [
    "Now let's check how many unique violation descriptions we have"
   ]
  },
  {
   "cell_type": "code",
   "execution_count": 30,
   "metadata": {},
   "outputs": [
    {
     "data": {
      "text/plain": [
       "64"
      ]
     },
     "execution_count": 30,
     "metadata": {},
     "output_type": "execute_result"
    }
   ],
   "source": [
    "len(vio['desc'].value_counts())"
   ]
  },
  {
   "cell_type": "code",
   "execution_count": 31,
   "metadata": {},
   "outputs": [
    {
     "data": {
      "text/plain": [
       "Unclean or degraded floors walls or ceilings                                 1536\n",
       "Moderate risk food holding temperature                                       1188\n",
       "Inadequate and inaccessible handwashing facilities                           1097\n",
       "Unapproved or unmaintained equipment or utensils                             1011\n",
       "Inadequately cleaned or sanitized food contact surfaces                       976\n",
       "Wiping cloths not clean or properly stored or inadequate sanitizer            930\n",
       "Improper food storage                                                         814\n",
       "Foods not protected from contamination                                        764\n",
       "High risk food holding temperature                                            732\n",
       "Moderate risk vermin infestation                                              681\n",
       "Food safety certificate or food handler card not available                    605\n",
       "Unclean nonfood contact surfaces                                              573\n",
       "Permit license or inspection report not posted                                444\n",
       "Inadequate food safety knowledge or lack of certified food safety manager     432\n",
       "Unclean or unsanitary food contact surfaces                                   429\n",
       "Low risk vermin infestation                                                   425\n",
       "Improper storage of equipment utensils or linens                              398\n",
       "Unclean hands or improper use of gloves                                       378\n",
       "Improper or defective plumbing                                                350\n",
       "Improper cooling methods                                                      339\n",
       "Name: desc, dtype: int64"
      ]
     },
     "execution_count": 31,
     "metadata": {},
     "output_type": "execute_result"
    }
   ],
   "source": [
    "vio['desc'].value_counts().head(20)"
   ]
  },
  {
   "cell_type": "code",
   "execution_count": 32,
   "metadata": {},
   "outputs": [
    {
     "data": {
      "text/plain": [
       "Food in poor condition                                               15\n",
       "Sewage or wastewater contamination                                   14\n",
       "Unapproved  living quarters in food facility                         13\n",
       "No plan review or Building Permit                                    13\n",
       "Inadequate HACCP plan record keeping                                 12\n",
       "Unapproved food source                                               12\n",
       "Unpermitted food facility                                            11\n",
       "No person in charge of food facility                                 11\n",
       "Other high risk violation                                            10\n",
       "Non service animal                                                    8\n",
       "Reservice of previously served foods                                  4\n",
       "Improper cooking time or temperatures                                 4\n",
       "Noncompliance with Gulf Coast oyster regulation                       3\n",
       "Improperly washed fruits and vegetables                               3\n",
       "Discharge from employee nose mouth or eye                             3\n",
       "Consumer advisory not provided for raw or undercooked foods           3\n",
       "Mobile food facility HCD insignia unavailable                         1\n",
       "Unreported or unrestricted ill employee with communicable disease     1\n",
       "Improperly displayed mobile food permit or signage                    1\n",
       "Noncompliance with Cottage Food Operation                             1\n",
       "Name: desc, dtype: int64"
      ]
     },
     "execution_count": 32,
     "metadata": {},
     "output_type": "execute_result"
    }
   ],
   "source": [
    "vio['desc'].value_counts().tail(20)"
   ]
  },
  {
   "cell_type": "code",
   "execution_count": 33,
   "metadata": {
    "collapsed": true
   },
   "outputs": [],
   "source": [
    "# pd.get_dummies(vio['desc'])"
   ]
  },
  {
   "cell_type": "code",
   "execution_count": 34,
   "metadata": {
    "collapsed": true
   },
   "outputs": [],
   "source": [
    "regex = re.compile(r\"clean|sanitary\")"
   ]
  },
  {
   "cell_type": "code",
   "execution_count": 35,
   "metadata": {},
   "outputs": [
    {
     "name": "stdout",
     "output_type": "stream",
     "text": [
      "10 loops, best of 3: 40.6 ms per loop\n"
     ]
    }
   ],
   "source": [
    "%%timeit\n",
    "vio['desc'].str.contains(regex)"
   ]
  },
  {
   "cell_type": "code",
   "execution_count": 36,
   "metadata": {},
   "outputs": [
    {
     "name": "stdout",
     "output_type": "stream",
     "text": [
      "10 loops, best of 3: 27.8 ms per loop\n"
     ]
    }
   ],
   "source": [
    "%%timeit\n",
    "vio['desc'].str.contains(r\"clean|sanitary\")"
   ]
  },
  {
   "cell_type": "markdown",
   "metadata": {},
   "source": [
    "### Derive variables that indicate violations\n",
    "\n",
    "Let's create some variables that capture the essence of a type of violation. We identified violations related to:\n",
    "\n",
    "* vermin\n",
    "* risk\n",
    "* walls, ceilings, floors, and nonfood surfaces\n",
    "* food surfaces\n",
    "* hands, gloves, hair, nails\n",
    "\n",
    "And more.\n",
    "\n",
    "Let's begin by creating a variable related to cleanliness. The regular expression below matches on \"clean\" or on \"sanit\". Why do we use \"clean\" rather than unclean? Why do we use \"sanit\" rather than unsanitary?"
   ]
  },
  {
   "cell_type": "code",
   "execution_count": 37,
   "metadata": {
    "collapsed": true
   },
   "outputs": [],
   "source": [
    "vio['isClean'] = vio['desc'].str.contains(r\"clean|sanit\")"
   ]
  },
  {
   "cell_type": "markdown",
   "metadata": {},
   "source": [
    "Any violation with \"clean\" in the description will be about a cleanliness violation. We do not need to search for \"unclean\" or \"not clean\" or some other description that indicates there is a violation related to being clean. The same goes for \"sanit\", it will find not sanitary, unsanitary, and unsanitized, etc.\n",
    "\n",
    "Next we look for violations that contain both \"surface\" and \"\\Wfood\". This means that there is a violation related to the food surface. Why do we use the meta character \"\\W\"? To avoid matching on words such as \"nonfood\" and so pick up issues with nonfood surfaces."
   ]
  },
  {
   "cell_type": "code",
   "execution_count": 38,
   "metadata": {
    "collapsed": true
   },
   "outputs": [],
   "source": [
    "surface = vio['desc'].str.contains(r\"surface\")\n",
    "food = vio['desc'].str.contains(r\"\\Wfood\")\n",
    "vio['isFoodSurface'] = (surface & food)"
   ]
  },
  {
   "cell_type": "markdown",
   "metadata": {},
   "source": [
    "Next we create an ordinal variable that measures whether a violation is no risk (0), low risk (1), medium risk (2) or high risk (3). We first create 3 logical variables to to represent low, medium and high risk and then combine them to get an ordinal variable. Why is it ordinal and not quantitative?   "
   ]
  },
  {
   "cell_type": "code",
   "execution_count": 39,
   "metadata": {
    "collapsed": true
   },
   "outputs": [],
   "source": [
    "vio['isHighRisk'] = vio['desc'].str.contains(r\"high risk\")\n",
    "vio['isMedRisk'] = vio['desc'].str.contains(r\"medium risk\")\n",
    "vio['isLowRisk'] = vio['desc'].str.contains(r\"low risk\")\n",
    "#create risk which is 1 2 3 for low medium or high\n",
    "vio[\"risk\"] = vio['isLowRisk'] + 2*vio['isMedRisk'] + 3*vio['isHighRisk']"
   ]
  },
  {
   "cell_type": "code",
   "execution_count": null,
   "metadata": {
    "collapsed": true
   },
   "outputs": [],
   "source": [
    "A few more variables for types of violations."
   ]
  },
  {
   "cell_type": "code",
   "execution_count": 40,
   "metadata": {
    "collapsed": true
   },
   "outputs": [],
   "source": [
    "vio['isVermin'] = vio['desc'].str.contains(r\"vermin\")\n",
    "vio['isStorage'] = vio['desc'].str.contains(r\"thaw|cool|therm|storage\")\n",
    "vio['isDisplayPermit'] = vio['desc'].str.contains(r\"certificate|permit\")\n",
    "vio['isNonFoodSurface'] = vio['desc'].str.contains(r\"wall|ceiling|floor|nonfood surface\")\n",
    "vio['isHuman'] = vio['desc'].str.contains(r\"hand|glove|hair|nail\")"
   ]
  },
  {
   "cell_type": "markdown",
   "metadata": {},
   "source": [
    "### Aggregate by business and Date"
   ]
  },
  {
   "cell_type": "code",
   "execution_count": 69,
   "metadata": {},
   "outputs": [
    {
     "data": {
      "text/html": [
       "<div>\n",
       "<style>\n",
       "    .dataframe thead tr:only-child th {\n",
       "        text-align: right;\n",
       "    }\n",
       "\n",
       "    .dataframe thead th {\n",
       "        text-align: left;\n",
       "    }\n",
       "\n",
       "    .dataframe tbody tr th {\n",
       "        vertical-align: top;\n",
       "    }\n",
       "</style>\n",
       "<table border=\"1\" class=\"dataframe\">\n",
       "  <thead>\n",
       "    <tr style=\"text-align: right;\">\n",
       "      <th></th>\n",
       "      <th></th>\n",
       "      <th>isClean</th>\n",
       "      <th>isFoodSurface</th>\n",
       "      <th>isVermin</th>\n",
       "      <th>isStorage</th>\n",
       "      <th>isDisplayPermit</th>\n",
       "      <th>isNonFoodSurface</th>\n",
       "      <th>isHuman</th>\n",
       "      <th>isHighRisk</th>\n",
       "      <th>risk</th>\n",
       "    </tr>\n",
       "    <tr>\n",
       "      <th>business_id</th>\n",
       "      <th>date</th>\n",
       "      <th></th>\n",
       "      <th></th>\n",
       "      <th></th>\n",
       "      <th></th>\n",
       "      <th></th>\n",
       "      <th></th>\n",
       "      <th></th>\n",
       "      <th></th>\n",
       "      <th></th>\n",
       "    </tr>\n",
       "  </thead>\n",
       "  <tbody>\n",
       "    <tr>\n",
       "      <th>10</th>\n",
       "      <th>20160503</th>\n",
       "      <td>0.0</td>\n",
       "      <td>0.0</td>\n",
       "      <td>1.0</td>\n",
       "      <td>1.0</td>\n",
       "      <td>False</td>\n",
       "      <td>0.0</td>\n",
       "      <td>0.0</td>\n",
       "      <td>False</td>\n",
       "      <td>0</td>\n",
       "    </tr>\n",
       "    <tr>\n",
       "      <th>19</th>\n",
       "      <th>20160513</th>\n",
       "      <td>1.0</td>\n",
       "      <td>0.0</td>\n",
       "      <td>0.0</td>\n",
       "      <td>0.0</td>\n",
       "      <td>True</td>\n",
       "      <td>1.0</td>\n",
       "      <td>1.0</td>\n",
       "      <td>False</td>\n",
       "      <td>0</td>\n",
       "    </tr>\n",
       "    <tr>\n",
       "      <th rowspan=\"2\" valign=\"top\">24</th>\n",
       "      <th>20160311</th>\n",
       "      <td>2.0</td>\n",
       "      <td>0.0</td>\n",
       "      <td>0.0</td>\n",
       "      <td>0.0</td>\n",
       "      <td>False</td>\n",
       "      <td>2.0</td>\n",
       "      <td>0.0</td>\n",
       "      <td>False</td>\n",
       "      <td>0</td>\n",
       "    </tr>\n",
       "    <tr>\n",
       "      <th>20161005</th>\n",
       "      <td>1.0</td>\n",
       "      <td>0.0</td>\n",
       "      <td>0.0</td>\n",
       "      <td>0.0</td>\n",
       "      <td>False</td>\n",
       "      <td>1.0</td>\n",
       "      <td>0.0</td>\n",
       "      <td>False</td>\n",
       "      <td>0</td>\n",
       "    </tr>\n",
       "    <tr>\n",
       "      <th>31</th>\n",
       "      <th>20160816</th>\n",
       "      <td>0.0</td>\n",
       "      <td>0.0</td>\n",
       "      <td>0.0</td>\n",
       "      <td>3.0</td>\n",
       "      <td>False</td>\n",
       "      <td>0.0</td>\n",
       "      <td>1.0</td>\n",
       "      <td>False</td>\n",
       "      <td>0</td>\n",
       "    </tr>\n",
       "  </tbody>\n",
       "</table>\n",
       "</div>"
      ],
      "text/plain": [
       "                      isClean  isFoodSurface  isVermin  isStorage  \\\n",
       "business_id date                                                    \n",
       "10          20160503      0.0            0.0       1.0        1.0   \n",
       "19          20160513      1.0            0.0       0.0        0.0   \n",
       "24          20160311      2.0            0.0       0.0        0.0   \n",
       "            20161005      1.0            0.0       0.0        0.0   \n",
       "31          20160816      0.0            0.0       0.0        3.0   \n",
       "\n",
       "                      isDisplayPermit  isNonFoodSurface  isHuman  isHighRisk  \\\n",
       "business_id date                                                               \n",
       "10          20160503            False               0.0      0.0       False   \n",
       "19          20160513             True               1.0      1.0       False   \n",
       "24          20160311            False               2.0      0.0       False   \n",
       "            20161005            False               1.0      0.0       False   \n",
       "31          20160816            False               0.0      1.0       False   \n",
       "\n",
       "                      risk  \n",
       "business_id date            \n",
       "10          20160503     0  \n",
       "19          20160513     0  \n",
       "24          20160311     0  \n",
       "            20161005     0  \n",
       "31          20160816     0  "
      ]
     },
     "execution_count": 69,
     "metadata": {},
     "output_type": "execute_result"
    }
   ],
   "source": [
    "features = vio.groupby(['business_id', 'date']).aggregate({\n",
    "        \"isClean\": sum,\n",
    "        \"isFoodSurface\": sum,\n",
    "        \"isVermin\": sum,\n",
    "        \"isStorage\": sum,\n",
    "        \"isDisplayPermit\": sum,\n",
    "        \"isNonFoodSurface\": sum,\n",
    "        \"isHuman\": sum,\n",
    "        \"isHighRisk\": sum,\n",
    "        \"risk\": max\n",
    "    })\n",
    "features.head()"
   ]
  },
  {
   "cell_type": "code",
   "execution_count": 70,
   "metadata": {
    "collapsed": true
   },
   "outputs": [],
   "source": [
    "a = vio.groupby(['business_id', 'date'])[['isClean', 'isFoodSurface', 'isVermin',\n",
    "                                           'isStorage', 'isDisplayPermit', 'isHuman',\n",
    "                                          'isNonFoodSurface', 'isHighRisk',]].sum()\n",
    "b = vio.groupby(['business_id', 'date'])[['risk']].max()\n",
    "\n",
    "features = a.join(b)"
   ]
  },
  {
   "cell_type": "code",
   "execution_count": 77,
   "metadata": {},
   "outputs": [
    {
     "data": {
      "text/html": [
       "<div>\n",
       "<style>\n",
       "    .dataframe thead tr:only-child th {\n",
       "        text-align: right;\n",
       "    }\n",
       "\n",
       "    .dataframe thead th {\n",
       "        text-align: left;\n",
       "    }\n",
       "\n",
       "    .dataframe tbody tr th {\n",
       "        vertical-align: top;\n",
       "    }\n",
       "</style>\n",
       "<table border=\"1\" class=\"dataframe\">\n",
       "  <thead>\n",
       "    <tr style=\"text-align: right;\">\n",
       "      <th></th>\n",
       "      <th></th>\n",
       "      <th>isClean</th>\n",
       "      <th>isFoodSurface</th>\n",
       "      <th>isVermin</th>\n",
       "      <th>isStorage</th>\n",
       "      <th>isDisplayPermit</th>\n",
       "      <th>isHuman</th>\n",
       "      <th>isNonFoodSurface</th>\n",
       "      <th>isHighRisk</th>\n",
       "    </tr>\n",
       "    <tr>\n",
       "      <th>business_id</th>\n",
       "      <th>date</th>\n",
       "      <th></th>\n",
       "      <th></th>\n",
       "      <th></th>\n",
       "      <th></th>\n",
       "      <th></th>\n",
       "      <th></th>\n",
       "      <th></th>\n",
       "      <th></th>\n",
       "    </tr>\n",
       "  </thead>\n",
       "  <tbody>\n",
       "    <tr>\n",
       "      <th>10</th>\n",
       "      <th>20160503</th>\n",
       "      <td>0.0</td>\n",
       "      <td>0.0</td>\n",
       "      <td>1.0</td>\n",
       "      <td>1.0</td>\n",
       "      <td>0.0</td>\n",
       "      <td>0.0</td>\n",
       "      <td>0.0</td>\n",
       "      <td>0.0</td>\n",
       "    </tr>\n",
       "    <tr>\n",
       "      <th>19</th>\n",
       "      <th>20160513</th>\n",
       "      <td>1.0</td>\n",
       "      <td>0.0</td>\n",
       "      <td>0.0</td>\n",
       "      <td>0.0</td>\n",
       "      <td>1.0</td>\n",
       "      <td>1.0</td>\n",
       "      <td>1.0</td>\n",
       "      <td>0.0</td>\n",
       "    </tr>\n",
       "    <tr>\n",
       "      <th rowspan=\"2\" valign=\"top\">24</th>\n",
       "      <th>20160311</th>\n",
       "      <td>2.0</td>\n",
       "      <td>0.0</td>\n",
       "      <td>0.0</td>\n",
       "      <td>0.0</td>\n",
       "      <td>0.0</td>\n",
       "      <td>0.0</td>\n",
       "      <td>2.0</td>\n",
       "      <td>0.0</td>\n",
       "    </tr>\n",
       "    <tr>\n",
       "      <th>20161005</th>\n",
       "      <td>1.0</td>\n",
       "      <td>0.0</td>\n",
       "      <td>0.0</td>\n",
       "      <td>0.0</td>\n",
       "      <td>0.0</td>\n",
       "      <td>0.0</td>\n",
       "      <td>1.0</td>\n",
       "      <td>0.0</td>\n",
       "    </tr>\n",
       "    <tr>\n",
       "      <th>31</th>\n",
       "      <th>20160816</th>\n",
       "      <td>0.0</td>\n",
       "      <td>0.0</td>\n",
       "      <td>0.0</td>\n",
       "      <td>3.0</td>\n",
       "      <td>0.0</td>\n",
       "      <td>1.0</td>\n",
       "      <td>0.0</td>\n",
       "      <td>0.0</td>\n",
       "    </tr>\n",
       "  </tbody>\n",
       "</table>\n",
       "</div>"
      ],
      "text/plain": [
       "                      isClean  isFoodSurface  isVermin  isStorage  \\\n",
       "business_id date                                                    \n",
       "10          20160503      0.0            0.0       1.0        1.0   \n",
       "19          20160513      1.0            0.0       0.0        0.0   \n",
       "24          20160311      2.0            0.0       0.0        0.0   \n",
       "            20161005      1.0            0.0       0.0        0.0   \n",
       "31          20160816      0.0            0.0       0.0        3.0   \n",
       "\n",
       "                      isDisplayPermit  isHuman  isNonFoodSurface  isHighRisk  \n",
       "business_id date                                                              \n",
       "10          20160503              0.0      0.0               0.0         0.0  \n",
       "19          20160513              1.0      1.0               1.0         0.0  \n",
       "24          20160311              0.0      0.0               2.0         0.0  \n",
       "            20161005              0.0      0.0               1.0         0.0  \n",
       "31          20160816              0.0      1.0               0.0         0.0  "
      ]
     },
     "execution_count": 77,
     "metadata": {},
     "output_type": "execute_result"
    }
   ],
   "source": [
    "features = vio.groupby(['business_id', 'date'])[['isClean', 'isFoodSurface', 'isVermin',\n",
    "                                                'isStorage', 'isDisplayPermit', 'isHuman',\n",
    "                                                'isNonFoodSurface', 'isHighRisk']].sum()\n",
    "features.head()"
   ]
  },
  {
   "cell_type": "code",
   "execution_count": 78,
   "metadata": {},
   "outputs": [
    {
     "data": {
      "text/html": [
       "<div>\n",
       "<style>\n",
       "    .dataframe thead tr:only-child th {\n",
       "        text-align: right;\n",
       "    }\n",
       "\n",
       "    .dataframe thead th {\n",
       "        text-align: left;\n",
       "    }\n",
       "\n",
       "    .dataframe tbody tr th {\n",
       "        vertical-align: top;\n",
       "    }\n",
       "</style>\n",
       "<table border=\"1\" class=\"dataframe\">\n",
       "  <thead>\n",
       "    <tr style=\"text-align: right;\">\n",
       "      <th></th>\n",
       "      <th></th>\n",
       "      <th>score</th>\n",
       "      <th>type</th>\n",
       "    </tr>\n",
       "    <tr>\n",
       "      <th>business_id</th>\n",
       "      <th>date</th>\n",
       "      <th></th>\n",
       "      <th></th>\n",
       "    </tr>\n",
       "  </thead>\n",
       "  <tbody>\n",
       "    <tr>\n",
       "      <th rowspan=\"3\" valign=\"top\">10</th>\n",
       "      <th>20160503</th>\n",
       "      <td>82</td>\n",
       "      <td>routine</td>\n",
       "    </tr>\n",
       "    <tr>\n",
       "      <th>20140729</th>\n",
       "      <td>94</td>\n",
       "      <td>routine</td>\n",
       "    </tr>\n",
       "    <tr>\n",
       "      <th>20140114</th>\n",
       "      <td>92</td>\n",
       "      <td>routine</td>\n",
       "    </tr>\n",
       "    <tr>\n",
       "      <th rowspan=\"2\" valign=\"top\">19</th>\n",
       "      <th>20160513</th>\n",
       "      <td>94</td>\n",
       "      <td>routine</td>\n",
       "    </tr>\n",
       "    <tr>\n",
       "      <th>20141110</th>\n",
       "      <td>94</td>\n",
       "      <td>routine</td>\n",
       "    </tr>\n",
       "  </tbody>\n",
       "</table>\n",
       "</div>"
      ],
      "text/plain": [
       "                      score     type\n",
       "business_id date                    \n",
       "10          20160503     82  routine\n",
       "            20140729     94  routine\n",
       "            20140114     92  routine\n",
       "19          20160513     94  routine\n",
       "            20141110     94  routine"
      ]
     },
     "execution_count": 78,
     "metadata": {},
     "output_type": "execute_result"
    }
   ],
   "source": [
    "ins = pd.read_csv(\"../../hw/hw2/data/inspections.csv\").set_index(['business_id', 'date'])\n",
    "ins.head()"
   ]
  },
  {
   "cell_type": "code",
   "execution_count": 79,
   "metadata": {},
   "outputs": [
    {
     "data": {
      "text/html": [
       "<div>\n",
       "<style>\n",
       "    .dataframe thead tr:only-child th {\n",
       "        text-align: right;\n",
       "    }\n",
       "\n",
       "    .dataframe thead th {\n",
       "        text-align: left;\n",
       "    }\n",
       "\n",
       "    .dataframe tbody tr th {\n",
       "        vertical-align: top;\n",
       "    }\n",
       "</style>\n",
       "<table border=\"1\" class=\"dataframe\">\n",
       "  <thead>\n",
       "    <tr style=\"text-align: right;\">\n",
       "      <th></th>\n",
       "      <th></th>\n",
       "      <th>score</th>\n",
       "      <th>type</th>\n",
       "      <th>isClean</th>\n",
       "      <th>isFoodSurface</th>\n",
       "      <th>isVermin</th>\n",
       "      <th>isStorage</th>\n",
       "      <th>isDisplayPermit</th>\n",
       "      <th>isHuman</th>\n",
       "      <th>isNonFoodSurface</th>\n",
       "      <th>isHighRisk</th>\n",
       "    </tr>\n",
       "    <tr>\n",
       "      <th>business_id</th>\n",
       "      <th>date</th>\n",
       "      <th></th>\n",
       "      <th></th>\n",
       "      <th></th>\n",
       "      <th></th>\n",
       "      <th></th>\n",
       "      <th></th>\n",
       "      <th></th>\n",
       "      <th></th>\n",
       "      <th></th>\n",
       "      <th></th>\n",
       "    </tr>\n",
       "  </thead>\n",
       "  <tbody>\n",
       "    <tr>\n",
       "      <th rowspan=\"3\" valign=\"top\">10</th>\n",
       "      <th>20140114</th>\n",
       "      <td>92</td>\n",
       "      <td>routine</td>\n",
       "      <td>NaN</td>\n",
       "      <td>NaN</td>\n",
       "      <td>NaN</td>\n",
       "      <td>NaN</td>\n",
       "      <td>NaN</td>\n",
       "      <td>NaN</td>\n",
       "      <td>NaN</td>\n",
       "      <td>NaN</td>\n",
       "    </tr>\n",
       "    <tr>\n",
       "      <th>20140729</th>\n",
       "      <td>94</td>\n",
       "      <td>routine</td>\n",
       "      <td>NaN</td>\n",
       "      <td>NaN</td>\n",
       "      <td>NaN</td>\n",
       "      <td>NaN</td>\n",
       "      <td>NaN</td>\n",
       "      <td>NaN</td>\n",
       "      <td>NaN</td>\n",
       "      <td>NaN</td>\n",
       "    </tr>\n",
       "    <tr>\n",
       "      <th>20160503</th>\n",
       "      <td>82</td>\n",
       "      <td>routine</td>\n",
       "      <td>0</td>\n",
       "      <td>0</td>\n",
       "      <td>1</td>\n",
       "      <td>1</td>\n",
       "      <td>0</td>\n",
       "      <td>0</td>\n",
       "      <td>0</td>\n",
       "      <td>0</td>\n",
       "    </tr>\n",
       "    <tr>\n",
       "      <th rowspan=\"2\" valign=\"top\">19</th>\n",
       "      <th>20140214</th>\n",
       "      <td>94</td>\n",
       "      <td>routine</td>\n",
       "      <td>NaN</td>\n",
       "      <td>NaN</td>\n",
       "      <td>NaN</td>\n",
       "      <td>NaN</td>\n",
       "      <td>NaN</td>\n",
       "      <td>NaN</td>\n",
       "      <td>NaN</td>\n",
       "      <td>NaN</td>\n",
       "    </tr>\n",
       "    <tr>\n",
       "      <th>20141110</th>\n",
       "      <td>94</td>\n",
       "      <td>routine</td>\n",
       "      <td>NaN</td>\n",
       "      <td>NaN</td>\n",
       "      <td>NaN</td>\n",
       "      <td>NaN</td>\n",
       "      <td>NaN</td>\n",
       "      <td>NaN</td>\n",
       "      <td>NaN</td>\n",
       "      <td>NaN</td>\n",
       "    </tr>\n",
       "  </tbody>\n",
       "</table>\n",
       "</div>"
      ],
      "text/plain": [
       "                      score     type isClean isFoodSurface isVermin isStorage  \\\n",
       "business_id date                                                                \n",
       "10          20140114     92  routine     NaN           NaN      NaN       NaN   \n",
       "            20140729     94  routine     NaN           NaN      NaN       NaN   \n",
       "            20160503     82  routine       0             0        1         1   \n",
       "19          20140214     94  routine     NaN           NaN      NaN       NaN   \n",
       "            20141110     94  routine     NaN           NaN      NaN       NaN   \n",
       "\n",
       "                     isDisplayPermit isHuman isNonFoodSurface isHighRisk  \n",
       "business_id date                                                          \n",
       "10          20140114             NaN     NaN              NaN        NaN  \n",
       "            20140729             NaN     NaN              NaN        NaN  \n",
       "            20160503               0       0                0          0  \n",
       "19          20140214             NaN     NaN              NaN        NaN  \n",
       "            20141110             NaN     NaN              NaN        NaN  "
      ]
     },
     "execution_count": 79,
     "metadata": {},
     "output_type": "execute_result"
    }
   ],
   "source": [
    "ins.join(features).head()"
   ]
  },
  {
   "cell_type": "code",
   "execution_count": 82,
   "metadata": {},
   "outputs": [
    {
     "data": {
      "text/html": [
       "<div>\n",
       "<style>\n",
       "    .dataframe thead tr:only-child th {\n",
       "        text-align: right;\n",
       "    }\n",
       "\n",
       "    .dataframe thead th {\n",
       "        text-align: left;\n",
       "    }\n",
       "\n",
       "    .dataframe tbody tr th {\n",
       "        vertical-align: top;\n",
       "    }\n",
       "</style>\n",
       "<table border=\"1\" class=\"dataframe\">\n",
       "  <thead>\n",
       "    <tr style=\"text-align: right;\">\n",
       "      <th></th>\n",
       "      <th>business_id</th>\n",
       "      <th>date</th>\n",
       "      <th>isClean</th>\n",
       "      <th>isFoodSurface</th>\n",
       "      <th>isVermin</th>\n",
       "      <th>isStorage</th>\n",
       "      <th>isDisplayPermit</th>\n",
       "      <th>isHuman</th>\n",
       "      <th>isNonFoodSurface</th>\n",
       "      <th>isHighRisk</th>\n",
       "    </tr>\n",
       "  </thead>\n",
       "  <tbody>\n",
       "    <tr>\n",
       "      <th>0</th>\n",
       "      <td>10</td>\n",
       "      <td>20160503</td>\n",
       "      <td>0.0</td>\n",
       "      <td>0.0</td>\n",
       "      <td>1.0</td>\n",
       "      <td>1.0</td>\n",
       "      <td>0.0</td>\n",
       "      <td>0.0</td>\n",
       "      <td>0.0</td>\n",
       "      <td>0.0</td>\n",
       "    </tr>\n",
       "    <tr>\n",
       "      <th>1</th>\n",
       "      <td>19</td>\n",
       "      <td>20160513</td>\n",
       "      <td>1.0</td>\n",
       "      <td>0.0</td>\n",
       "      <td>0.0</td>\n",
       "      <td>0.0</td>\n",
       "      <td>1.0</td>\n",
       "      <td>1.0</td>\n",
       "      <td>1.0</td>\n",
       "      <td>0.0</td>\n",
       "    </tr>\n",
       "    <tr>\n",
       "      <th>2</th>\n",
       "      <td>24</td>\n",
       "      <td>20160311</td>\n",
       "      <td>2.0</td>\n",
       "      <td>0.0</td>\n",
       "      <td>0.0</td>\n",
       "      <td>0.0</td>\n",
       "      <td>0.0</td>\n",
       "      <td>0.0</td>\n",
       "      <td>2.0</td>\n",
       "      <td>0.0</td>\n",
       "    </tr>\n",
       "    <tr>\n",
       "      <th>3</th>\n",
       "      <td>24</td>\n",
       "      <td>20161005</td>\n",
       "      <td>1.0</td>\n",
       "      <td>0.0</td>\n",
       "      <td>0.0</td>\n",
       "      <td>0.0</td>\n",
       "      <td>0.0</td>\n",
       "      <td>0.0</td>\n",
       "      <td>1.0</td>\n",
       "      <td>0.0</td>\n",
       "    </tr>\n",
       "    <tr>\n",
       "      <th>4</th>\n",
       "      <td>31</td>\n",
       "      <td>20160816</td>\n",
       "      <td>0.0</td>\n",
       "      <td>0.0</td>\n",
       "      <td>0.0</td>\n",
       "      <td>3.0</td>\n",
       "      <td>0.0</td>\n",
       "      <td>1.0</td>\n",
       "      <td>0.0</td>\n",
       "      <td>0.0</td>\n",
       "    </tr>\n",
       "  </tbody>\n",
       "</table>\n",
       "</div>"
      ],
      "text/plain": [
       "   business_id      date  isClean  isFoodSurface  isVermin  isStorage  \\\n",
       "0           10  20160503      0.0            0.0       1.0        1.0   \n",
       "1           19  20160513      1.0            0.0       0.0        0.0   \n",
       "2           24  20160311      2.0            0.0       0.0        0.0   \n",
       "3           24  20161005      1.0            0.0       0.0        0.0   \n",
       "4           31  20160816      0.0            0.0       0.0        3.0   \n",
       "\n",
       "   isDisplayPermit  isHuman  isNonFoodSurface  isHighRisk  \n",
       "0              0.0      0.0               0.0         0.0  \n",
       "1              1.0      1.0               1.0         0.0  \n",
       "2              0.0      0.0               2.0         0.0  \n",
       "3              0.0      0.0               1.0         0.0  \n",
       "4              0.0      1.0               0.0         0.0  "
      ]
     },
     "execution_count": 82,
     "metadata": {},
     "output_type": "execute_result"
    }
   ],
   "source": [
    "features = vio.groupby(['business_id', 'date'], as_index=False)[['isClean', 'isFoodSurface', \n",
    "                                                                 'isVermin', 'isStorage', \n",
    "                                                                 'isDisplayPermit', 'isHuman',\n",
    "                                                                 'isNonFoodSurface', 'isHighRisk']].sum()\n",
    "features.head()"
   ]
  },
  {
   "cell_type": "code",
   "execution_count": 83,
   "metadata": {},
   "outputs": [
    {
     "data": {
      "text/html": [
       "<div>\n",
       "<style>\n",
       "    .dataframe thead tr:only-child th {\n",
       "        text-align: right;\n",
       "    }\n",
       "\n",
       "    .dataframe thead th {\n",
       "        text-align: left;\n",
       "    }\n",
       "\n",
       "    .dataframe tbody tr th {\n",
       "        vertical-align: top;\n",
       "    }\n",
       "</style>\n",
       "<table border=\"1\" class=\"dataframe\">\n",
       "  <thead>\n",
       "    <tr style=\"text-align: right;\">\n",
       "      <th></th>\n",
       "      <th>business_id</th>\n",
       "      <th>score</th>\n",
       "      <th>date</th>\n",
       "      <th>type</th>\n",
       "    </tr>\n",
       "  </thead>\n",
       "  <tbody>\n",
       "    <tr>\n",
       "      <th>0</th>\n",
       "      <td>10</td>\n",
       "      <td>82</td>\n",
       "      <td>20160503</td>\n",
       "      <td>routine</td>\n",
       "    </tr>\n",
       "    <tr>\n",
       "      <th>1</th>\n",
       "      <td>10</td>\n",
       "      <td>94</td>\n",
       "      <td>20140729</td>\n",
       "      <td>routine</td>\n",
       "    </tr>\n",
       "    <tr>\n",
       "      <th>2</th>\n",
       "      <td>10</td>\n",
       "      <td>92</td>\n",
       "      <td>20140114</td>\n",
       "      <td>routine</td>\n",
       "    </tr>\n",
       "    <tr>\n",
       "      <th>3</th>\n",
       "      <td>19</td>\n",
       "      <td>94</td>\n",
       "      <td>20160513</td>\n",
       "      <td>routine</td>\n",
       "    </tr>\n",
       "    <tr>\n",
       "      <th>4</th>\n",
       "      <td>19</td>\n",
       "      <td>94</td>\n",
       "      <td>20141110</td>\n",
       "      <td>routine</td>\n",
       "    </tr>\n",
       "  </tbody>\n",
       "</table>\n",
       "</div>"
      ],
      "text/plain": [
       "   business_id  score      date     type\n",
       "0           10     82  20160503  routine\n",
       "1           10     94  20140729  routine\n",
       "2           10     92  20140114  routine\n",
       "3           19     94  20160513  routine\n",
       "4           19     94  20141110  routine"
      ]
     },
     "execution_count": 83,
     "metadata": {},
     "output_type": "execute_result"
    }
   ],
   "source": [
    "ins = pd.read_csv(\"../../hw/hw2/data/inspections.csv\")\n",
    "ins.head()"
   ]
  },
  {
   "cell_type": "code",
   "execution_count": 84,
   "metadata": {},
   "outputs": [
    {
     "data": {
      "text/html": [
       "<div>\n",
       "<style>\n",
       "    .dataframe thead tr:only-child th {\n",
       "        text-align: right;\n",
       "    }\n",
       "\n",
       "    .dataframe thead th {\n",
       "        text-align: left;\n",
       "    }\n",
       "\n",
       "    .dataframe tbody tr th {\n",
       "        vertical-align: top;\n",
       "    }\n",
       "</style>\n",
       "<table border=\"1\" class=\"dataframe\">\n",
       "  <thead>\n",
       "    <tr style=\"text-align: right;\">\n",
       "      <th></th>\n",
       "      <th>business_id</th>\n",
       "      <th>date</th>\n",
       "      <th>isClean</th>\n",
       "      <th>isFoodSurface</th>\n",
       "      <th>isVermin</th>\n",
       "      <th>isStorage</th>\n",
       "      <th>isDisplayPermit</th>\n",
       "      <th>isHuman</th>\n",
       "      <th>isNonFoodSurface</th>\n",
       "      <th>isHighRisk</th>\n",
       "      <th>score</th>\n",
       "      <th>type</th>\n",
       "    </tr>\n",
       "  </thead>\n",
       "  <tbody>\n",
       "    <tr>\n",
       "      <th>0</th>\n",
       "      <td>10</td>\n",
       "      <td>20160503</td>\n",
       "      <td>0</td>\n",
       "      <td>0</td>\n",
       "      <td>1</td>\n",
       "      <td>1</td>\n",
       "      <td>0</td>\n",
       "      <td>0</td>\n",
       "      <td>0</td>\n",
       "      <td>0</td>\n",
       "      <td>82</td>\n",
       "      <td>routine</td>\n",
       "    </tr>\n",
       "    <tr>\n",
       "      <th>1</th>\n",
       "      <td>19</td>\n",
       "      <td>20160513</td>\n",
       "      <td>1</td>\n",
       "      <td>0</td>\n",
       "      <td>0</td>\n",
       "      <td>0</td>\n",
       "      <td>1</td>\n",
       "      <td>1</td>\n",
       "      <td>1</td>\n",
       "      <td>0</td>\n",
       "      <td>94</td>\n",
       "      <td>routine</td>\n",
       "    </tr>\n",
       "    <tr>\n",
       "      <th>2</th>\n",
       "      <td>24</td>\n",
       "      <td>20160311</td>\n",
       "      <td>2</td>\n",
       "      <td>0</td>\n",
       "      <td>0</td>\n",
       "      <td>0</td>\n",
       "      <td>0</td>\n",
       "      <td>0</td>\n",
       "      <td>2</td>\n",
       "      <td>0</td>\n",
       "      <td>96</td>\n",
       "      <td>routine</td>\n",
       "    </tr>\n",
       "    <tr>\n",
       "      <th>3</th>\n",
       "      <td>24</td>\n",
       "      <td>20161005</td>\n",
       "      <td>1</td>\n",
       "      <td>0</td>\n",
       "      <td>0</td>\n",
       "      <td>0</td>\n",
       "      <td>0</td>\n",
       "      <td>0</td>\n",
       "      <td>1</td>\n",
       "      <td>0</td>\n",
       "      <td>98</td>\n",
       "      <td>routine</td>\n",
       "    </tr>\n",
       "    <tr>\n",
       "      <th>4</th>\n",
       "      <td>31</td>\n",
       "      <td>20160816</td>\n",
       "      <td>0</td>\n",
       "      <td>0</td>\n",
       "      <td>0</td>\n",
       "      <td>3</td>\n",
       "      <td>0</td>\n",
       "      <td>1</td>\n",
       "      <td>0</td>\n",
       "      <td>0</td>\n",
       "      <td>84</td>\n",
       "      <td>routine</td>\n",
       "    </tr>\n",
       "  </tbody>\n",
       "</table>\n",
       "</div>"
      ],
      "text/plain": [
       "   business_id      date isClean isFoodSurface isVermin isStorage  \\\n",
       "0           10  20160503       0             0        1         1   \n",
       "1           19  20160513       1             0        0         0   \n",
       "2           24  20160311       2             0        0         0   \n",
       "3           24  20161005       1             0        0         0   \n",
       "4           31  20160816       0             0        0         3   \n",
       "\n",
       "  isDisplayPermit isHuman isNonFoodSurface isHighRisk  score     type  \n",
       "0               0       0                0          0     82  routine  \n",
       "1               1       1                1          0     94  routine  \n",
       "2               0       0                2          0     96  routine  \n",
       "3               0       0                1          0     98  routine  \n",
       "4               0       1                0          0     84  routine  "
      ]
     },
     "execution_count": 84,
     "metadata": {},
     "output_type": "execute_result"
    }
   ],
   "source": [
    "joined_data = pd.merge(features, ins, on=['business_id', 'date'])\n",
    "joined_data.head()"
   ]
  },
  {
   "cell_type": "code",
   "execution_count": 85,
   "metadata": {},
   "outputs": [
    {
     "data": {
      "text/plain": [
       "array([-2.31378006, -8.34940828, -4.57556742, -4.56776883, -3.62436167,\n",
       "       -3.71635214,  0.32897934,  2.82057907])"
      ]
     },
     "execution_count": 85,
     "metadata": {},
     "output_type": "execute_result"
    }
   ],
   "source": [
    "feature_names = ['isClean', 'isHighRisk', 'isVermin', 'isHuman',\n",
    "                 'isStorage', 'isFoodSurface', 'isNonFoodSurface', 'isDisplayPermit']\n",
    "import sklearn.linear_model as lm\n",
    "model = lm.LinearRegression()\n",
    "model.fit(joined_data[feature_names], joined_data['score'])\n",
    "model.coef_\n"
   ]
  },
  {
   "cell_type": "code",
   "execution_count": 86,
   "metadata": {},
   "outputs": [
    {
     "data": {
      "image/png": "[encoded data removed]",
      "text/plain": [
       "<matplotlib.figure.Figure at 0x119873588>"
      ]
     },
     "metadata": {},
     "output_type": "display_data"
    }
   ],
   "source": [
    "plt.figure(figsize=(15,10))\n",
    "i = 1\n",
    "for f in feature_names:\n",
    "    plt.subplot(2, 4, i)\n",
    "    sns.boxplot(y=\"score\", x=f, data=joined_data)\n",
    "    i += 1\n",
    "#plt.savefig(\"violationBoxplts.pdf\")"
   ]
  },
  {
   "cell_type": "markdown",
   "metadata": {},
   "source": [
    "We can see from these boxplots that not having a permit displayed has little impact on the score. Violations that involve the improper storage of food or the unsanitary handling of food by people and vermin reduce the score. Multiple violations reduce the score even more."
   ]
  },
  {
   "cell_type": "markdown",
   "metadata": {},
   "source": [
    "## State of the union address\n",
    "\n",
    "We have the text from all of the state of the union addresses. "
   ]
  },
  {
   "cell_type": "code",
   "execution_count": 94,
   "metadata": {
    "collapsed": true
   },
   "outputs": [],
   "source": [
    "with open(\"data/stateoftheunion1790-2017.txt\", \"r\") as f:\n",
    "    text = f.read()"
   ]
  },
  {
   "cell_type": "markdown",
   "metadata": {},
   "source": [
    "Recall that the speeches are separated by \\*\\*\\*. We can separate the speeches by splitting on 3 asterisks. "
   ]
  },
  {
   "cell_type": "code",
   "execution_count": 95,
   "metadata": {
    "collapsed": true
   },
   "outputs": [],
   "source": [
    "records = text.split(\"***\")"
   ]
  },
  {
   "cell_type": "markdown",
   "metadata": {},
   "source": [
    "After the \\*\\*\\*, a speech is formatted as\n",
    "```\n",
    "\n",
    "State of the Union Address\n",
    "George Washington\n",
    "January 8, 1790\n",
    "\n",
    "Fellow-Citizens of the Senate and House of Representatives:\n",
    "\n",
    "I embrace with great satisfaction the opportunity which now presents itself...\n",
    "```\n",
    "If we split on new lines, i.e., \\n then we can extract the name and date easily.\n",
    "The rest of the lines can be joined together into one string containing the text of the speech."
   ]
  },
  {
   "cell_type": "code",
   "execution_count": 96,
   "metadata": {},
   "outputs": [
    {
     "data": {
      "text/html": [
       "<div>\n",
       "<style>\n",
       "    .dataframe thead tr:only-child th {\n",
       "        text-align: right;\n",
       "    }\n",
       "\n",
       "    .dataframe thead th {\n",
       "        text-align: left;\n",
       "    }\n",
       "\n",
       "    .dataframe tbody tr th {\n",
       "        vertical-align: top;\n",
       "    }\n",
       "</style>\n",
       "<table border=\"1\" class=\"dataframe\">\n",
       "  <thead>\n",
       "    <tr style=\"text-align: right;\">\n",
       "      <th></th>\n",
       "      <th>Name</th>\n",
       "      <th>Date</th>\n",
       "      <th>Text</th>\n",
       "    </tr>\n",
       "  </thead>\n",
       "  <tbody>\n",
       "    <tr>\n",
       "      <th>0</th>\n",
       "      <td>George Washington</td>\n",
       "      <td>January 8, 1790</td>\n",
       "      <td>Fellow-Citizens of the Senate and House of Rep...</td>\n",
       "    </tr>\n",
       "    <tr>\n",
       "      <th>1</th>\n",
       "      <td>George Washington</td>\n",
       "      <td>December 8, 1790</td>\n",
       "      <td>Fellow-Citizens of the Senate and House of Rep...</td>\n",
       "    </tr>\n",
       "    <tr>\n",
       "      <th>2</th>\n",
       "      <td>George Washington</td>\n",
       "      <td>October 25, 1791</td>\n",
       "      <td>Fellow-Citizens of the Senate and House of Rep...</td>\n",
       "    </tr>\n",
       "    <tr>\n",
       "      <th>3</th>\n",
       "      <td>George Washington</td>\n",
       "      <td>November 6, 1792</td>\n",
       "      <td>Fellow-Citizens of the Senate and House of Rep...</td>\n",
       "    </tr>\n",
       "    <tr>\n",
       "      <th>4</th>\n",
       "      <td>George Washington</td>\n",
       "      <td>December 3, 1793</td>\n",
       "      <td>Fellow-Citizens of the Senate and House of Rep...</td>\n",
       "    </tr>\n",
       "  </tbody>\n",
       "</table>\n",
       "</div>"
      ],
      "text/plain": [
       "                Name              Date  \\\n",
       "0  George Washington   January 8, 1790   \n",
       "1  George Washington  December 8, 1790   \n",
       "2  George Washington  October 25, 1791   \n",
       "3  George Washington  November 6, 1792   \n",
       "4  George Washington  December 3, 1793   \n",
       "\n",
       "                                                Text  \n",
       "0  Fellow-Citizens of the Senate and House of Rep...  \n",
       "1  Fellow-Citizens of the Senate and House of Rep...  \n",
       "2  Fellow-Citizens of the Senate and House of Rep...  \n",
       "3  Fellow-Citizens of the Senate and House of Rep...  \n",
       "4  Fellow-Citizens of the Senate and House of Rep...  "
      ]
     },
     "execution_count": 96,
     "metadata": {},
     "output_type": "execute_result"
    }
   ],
   "source": [
    "def extract_parts(line):\n",
    "    parts = line.split(\"\\n\")\n",
    "    name = parts[3].strip()\n",
    "    date = parts[4].strip()\n",
    "    text = \"\\n\".join(parts[5:]).strip()\n",
    "    return [name, date, text]\n",
    "\n",
    "df = pd.DataFrame([extract_parts(l) for l in records[1:]], columns=[\"Name\", \"Date\", \"Text\"])\n",
    "df.head()"
   ]
  },
  {
   "cell_type": "markdown",
   "metadata": {},
   "source": [
    "We perform a few simple text cleaning tasks. We convert characters to lower case, eliminate the new lines, and drop all punctuation."
   ]
  },
  {
   "cell_type": "code",
   "execution_count": 97,
   "metadata": {},
   "outputs": [
    {
     "data": {
      "text/html": [
       "<div>\n",
       "<style>\n",
       "    .dataframe thead tr:only-child th {\n",
       "        text-align: right;\n",
       "    }\n",
       "\n",
       "    .dataframe thead th {\n",
       "        text-align: left;\n",
       "    }\n",
       "\n",
       "    .dataframe tbody tr th {\n",
       "        vertical-align: top;\n",
       "    }\n",
       "</style>\n",
       "<table border=\"1\" class=\"dataframe\">\n",
       "  <thead>\n",
       "    <tr style=\"text-align: right;\">\n",
       "      <th></th>\n",
       "      <th>Name</th>\n",
       "      <th>Date</th>\n",
       "      <th>Text</th>\n",
       "      <th>clean text</th>\n",
       "    </tr>\n",
       "  </thead>\n",
       "  <tbody>\n",
       "    <tr>\n",
       "      <th>0</th>\n",
       "      <td>George Washington</td>\n",
       "      <td>January 8, 1790</td>\n",
       "      <td>Fellow-Citizens of the Senate and House of Rep...</td>\n",
       "      <td>fellow citizens of the senate and house of rep...</td>\n",
       "    </tr>\n",
       "    <tr>\n",
       "      <th>1</th>\n",
       "      <td>George Washington</td>\n",
       "      <td>December 8, 1790</td>\n",
       "      <td>Fellow-Citizens of the Senate and House of Rep...</td>\n",
       "      <td>fellow citizens of the senate and house of rep...</td>\n",
       "    </tr>\n",
       "    <tr>\n",
       "      <th>2</th>\n",
       "      <td>George Washington</td>\n",
       "      <td>October 25, 1791</td>\n",
       "      <td>Fellow-Citizens of the Senate and House of Rep...</td>\n",
       "      <td>fellow citizens of the senate and house of rep...</td>\n",
       "    </tr>\n",
       "    <tr>\n",
       "      <th>3</th>\n",
       "      <td>George Washington</td>\n",
       "      <td>November 6, 1792</td>\n",
       "      <td>Fellow-Citizens of the Senate and House of Rep...</td>\n",
       "      <td>fellow citizens of the senate and house of rep...</td>\n",
       "    </tr>\n",
       "    <tr>\n",
       "      <th>4</th>\n",
       "      <td>George Washington</td>\n",
       "      <td>December 3, 1793</td>\n",
       "      <td>Fellow-Citizens of the Senate and House of Rep...</td>\n",
       "      <td>fellow citizens of the senate and house of rep...</td>\n",
       "    </tr>\n",
       "  </tbody>\n",
       "</table>\n",
       "</div>"
      ],
      "text/plain": [
       "                Name              Date  \\\n",
       "0  George Washington   January 8, 1790   \n",
       "1  George Washington  December 8, 1790   \n",
       "2  George Washington  October 25, 1791   \n",
       "3  George Washington  November 6, 1792   \n",
       "4  George Washington  December 3, 1793   \n",
       "\n",
       "                                                Text  \\\n",
       "0  Fellow-Citizens of the Senate and House of Rep...   \n",
       "1  Fellow-Citizens of the Senate and House of Rep...   \n",
       "2  Fellow-Citizens of the Senate and House of Rep...   \n",
       "3  Fellow-Citizens of the Senate and House of Rep...   \n",
       "4  Fellow-Citizens of the Senate and House of Rep...   \n",
       "\n",
       "                                          clean text  \n",
       "0  fellow citizens of the senate and house of rep...  \n",
       "1  fellow citizens of the senate and house of rep...  \n",
       "2  fellow citizens of the senate and house of rep...  \n",
       "3  fellow citizens of the senate and house of rep...  \n",
       "4  fellow citizens of the senate and house of rep...  "
      ]
     },
     "execution_count": 97,
     "metadata": {},
     "output_type": "execute_result"
    }
   ],
   "source": [
    "df['clean text'] = (\n",
    "    df['Text']\n",
    "    .str.replace(\"\\n\", \" \")\n",
    "    .str.lower()\n",
    "    .str.replace(r\"[^a-z\\s]\", \" \")\n",
    ")\n",
    "df.head()"
   ]
  },
  {
   "cell_type": "markdown",
   "metadata": {},
   "source": [
    "We can then use `sklearn` to create a word vector for each speech, which contains the counts of all words in a speech. By all words, we mean the set of all unique words used across all 226 speeches.  We can think of each word vector as a record so we have 226 records and thousands of variables (word counts). \n",
    "\n",
    "\n",
    "We can try to examine the relationship between speeches by reducing the dimensionality of the data.  We take an approach that is a kind of Principle Component Analysis for word vectors. Specifically, we measure the distance between speeches via a metric on the word vectors. This metric normalizes by the rarity of a word. "
   ]
  },
  {
   "cell_type": "code",
   "execution_count": 104,
   "metadata": {},
   "outputs": [],
   "source": [
    "from sklearn.feature_extraction.text import TfidfVectorizer\n",
    "vec = TfidfVectorizer()\n",
    "tfidf = vec.fit_transform(df['clean text'])"
   ]
  },
  {
   "cell_type": "markdown",
   "metadata": {},
   "source": [
    "This gives us a 226 by 226 matrix of the distances between all pairs of speeches. Then we use SVD to decompose the matrix and plot the first two column vectors of the resulting decomposition (these are similar in nature to the first two principle components)."
   ]
  },
  {
   "cell_type": "code",
   "execution_count": 105,
   "metadata": {
    "collapsed": true
   },
   "outputs": [],
   "source": [
    "np.random.seed(42)\n",
    "import scipy as sp\n",
    "(u, s, vt) = sp.sparse.linalg.svds(tfidf, k=2)"
   ]
  },
  {
   "cell_type": "code",
   "execution_count": 106,
   "metadata": {
    "collapsed": true
   },
   "outputs": [],
   "source": [
    "df['Year'] = df['Date'].str[-4:].astype('int')\n",
    "df['x'] = u[:,0]\n",
    "df['y'] = u[:,1]"
   ]
  },
  {
   "cell_type": "code",
   "execution_count": 111,
   "metadata": {},
   "outputs": [
    {
     "data": {
      "image/png": "[encoded data removed]",
      "text/plain": [
       "<matplotlib.figure.Figure at 0x1179f3588>"
      ]
     },
     "metadata": {},
     "output_type": "display_data"
    }
   ],
   "source": [
    "sns.lmplot(x = 'x', y = 'y', data = df, hue='Year', legend=False, \n",
    "           fit_reg=False, palette=\"Blues\")\n",
    "plt.savefig(\"SOTUspeeches.pdf\")"
   ]
  },
  {
   "cell_type": "code",
   "execution_count": 108,
   "metadata": {},
   "outputs": [
    {
     "name": "stdout",
     "output_type": "stream",
     "text": [
      "Requirement already satisfied: plotly in /Users/nolan/anaconda3/envs/ds100/lib/python3.6/site-packages\r\n",
      "Requirement already satisfied: decorator>=4.0.6 in /Users/nolan/anaconda3/envs/ds100/lib/python3.6/site-packages (from plotly)\r\n",
      "Requirement already satisfied: nbformat>=4.2 in /Users/nolan/anaconda3/envs/ds100/lib/python3.6/site-packages (from plotly)\r\n",
      "Requirement already satisfied: requests in /Users/nolan/anaconda3/envs/ds100/lib/python3.6/site-packages (from plotly)\r\n",
      "Requirement already satisfied: pytz in /Users/nolan/anaconda3/envs/ds100/lib/python3.6/site-packages (from plotly)\r\n",
      "Requirement already satisfied: six in /Users/nolan/anaconda3/envs/ds100/lib/python3.6/site-packages (from plotly)\r\n"
     ]
    }
   ],
   "source": [
    "!pip install plotly"
   ]
  },
  {
   "cell_type": "code",
   "execution_count": 109,
   "metadata": {},
   "outputs": [
    {
     "data": {
      "text/html": [
       "<script>requirejs.config({paths: { 'plotly': ['https://cdn.plot.ly/plotly-latest.min']},});if(!window.Plotly) {{require(['plotly'],function(plotly) {window.Plotly=plotly;});}}</script>"
      ],
      "text/vnd.plotly.v1+html": [
       "<script>requirejs.config({paths: { 'plotly': ['https://cdn.plot.ly/plotly-latest.min']},});if(!window.Plotly) {{require(['plotly'],function(plotly) {window.Plotly=plotly;});}}</script>"
      ]
     },
     "metadata": {},
     "output_type": "display_data"
    }
   ],
   "source": [
    "import plotly.offline as py\n",
    "py.init_notebook_mode(connected=True)\n",
    "import plotly.graph_objs as go\n",
    "import plotly.figure_factory as ff"
   ]
  },
  {
   "cell_type": "code",
   "execution_count": 110,
   "metadata": {},
   "outputs": [
    {
     "data": {
      "application/vnd.plotly.v1+json": {
       "data": [
        {
         "marker": {
          "color": [
           "rgba(0.9655517108804306,0.9823452518262207,0.9990157631680123,1)",
           "rgba(0.9624759707804691,0.9803767781622452,0.9980315263360247,1)",
           "rgba(0.9594002306805075,0.9784083044982699,0.9970472895040369,1)",
           "rgba(0.9563244905805459,0.9764398308342944,0.9960630526720492,1)",
           "rgba(0.9532487504805844,0.9744713571703191,0.9950788158400615,1)",
           "rgba(0.9501730103806229,0.9725028835063436,0.9940945790080739,1)",
           "rgba(0.9470972702806613,0.9705344098423683,0.9931103421760861,1)",
           "rgba(0.9440215301806998,0.9685659361783929,0.9921261053440984,1)",
           "rgba(0.9378700499807766,0.9646289888504421,0.990157631680123,1)",
           "rgba(0.9347943098808151,0.9626605151864667,0.9891733948481354,1)",
           "rgba(0.9317185697808535,0.9606920415224913,0.9881891580161476,1)",
           "rgba(0.928642829680892,0.9587235678585159,0.9872049211841599,1)",
           "rgba(0.9255670895809304,0.9567550941945405,0.9862206843521722,1)",
           "rgba(0.9224913494809689,0.9547866205305651,0.9852364475201846,1)",
           "rgba(0.9194156093810073,0.9528181468665897,0.9842522106881968,1)",
           "rgba(0.9163398692810457,0.9508496732026144,0.9832679738562091,1)",
           "rgba(0.9101883890811227,0.9469127258746636,0.9812995001922338,1)",
           "rgba(0.9071126489811611,0.9449442522106881,0.9803152633602461,1)",
           "rgba(0.9040369088811996,0.9429757785467128,0.9793310265282583,1)",
           "rgba(0.900961168781238,0.9410073048827373,0.9783467896962706,1)",
           "rgba(0.8978854286812764,0.939038831218762,0.977362552864283,1)",
           "rgba(0.8948096885813149,0.9370703575547865,0.9763783160322953,1)",
           "rgba(0.8917339484813533,0.9351018838908112,0.9753940792003075,1)",
           "rgba(0.8886582083813918,0.9331334102268358,0.9744098423683198,1)",
           "rgba(0.8825067281814687,0.929196462898885,0.9724413687043445,1)",
           "rgba(0.8794309880815071,0.9272279892349096,0.9714571318723568,1)",
           "rgba(0.8763552479815455,0.9252595155709342,0.970472895040369,1)",
           "rgba(0.873279507881584,0.9232910419069588,0.9694886582083814,1)",
           "rgba(0.8702191464821223,0.9213225682429834,0.9685044213763937,1)",
           "rgba(0.8672664359861592,0.9193540945790081,0.967520184544406,1)",
           "rgba(0.8643137254901961,0.9173856209150326,0.9665359477124184,1)",
           "rgba(0.861361014994233,0.9154171472510573,0.9655517108804306,1)",
           "rgba(0.8554555940023069,0.9114801999231065,0.9635832372164552,1)",
           "rgba(0.8525028835063437,0.909511726259131,0.9625990003844676,1)",
           "rgba(0.8495501730103806,0.9075432525951557,0.9616147635524798,1)",
           "rgba(0.8465974625144176,0.9055747789311802,0.9606305267204921,1)",
           "rgba(0.8436447520184545,0.9036063052672049,0.9596462898885044,1)",
           "rgba(0.8406920415224913,0.9016378316032295,0.9586620530565167,1)",
           "rgba(0.8377393310265283,0.8996693579392541,0.9576778162245291,1)",
           "rgba(0.8347866205305652,0.8977008842752787,0.9566935793925413,1)",
           "rgba(0.828881199538639,0.8937639369473279,0.954725105728566,1)",
           "rgba(0.8259284890426759,0.8917954632833525,0.9537408688965783,1)",
           "rgba(0.8229757785467128,0.8898269896193771,0.9527566320645905,1)",
           "rgba(0.8200230680507498,0.8878585159554018,0.9517723952326028,1)",
           "rgba(0.8170703575547866,0.8858900422914263,0.9507881584006151,1)",
           "rgba(0.8141176470588235,0.883921568627451,0.9498039215686275,1)",
           "rgba(0.8111649365628605,0.8819530949634755,0.9488196847366398,1)",
           "rgba(0.8082122260668974,0.8799846212995002,0.947835447904652,1)",
           "rgba(0.8023068050749712,0.8760476739715494,0.9458669742406767,1)",
           "rgba(0.7993540945790081,0.8740792003075739,0.944882737408689,1)",
           "rgba(0.7964013840830451,0.8721107266435986,0.9438985005767013,1)",
           "rgba(0.7934486735870819,0.8701422529796232,0.9429142637447135,1)",
           "rgba(0.7904959630911188,0.8681737793156478,0.9419300269127259,1)",
           "rgba(0.7875432525951558,0.8662053056516724,0.9409457900807382,1)",
           "rgba(0.7845905420991927,0.864236831987697,0.9399615532487505,1)",
           "rgba(0.7816378316032295,0.8622683583237216,0.9389773164167627,1)",
           "rgba(0.7752402921953095,0.8583006535947711,0.9368242983467897,1)",
           "rgba(0.7703191080353711,0.8562091503267973,0.9351018838908113,1)",
           "rgba(0.7653979238754326,0.8541176470588235,0.9333794694348327,1)",
           "rgba(0.760476739715494,0.8520261437908496,0.9316570549788543,1)",
           "rgba(0.7555555555555555,0.8499346405228758,0.9299346405228758,1)",
           "rgba(0.7506343713956171,0.8478431372549019,0.9282122260668974,1)",
           "rgba(0.7457131872356786,0.8457516339869281,0.9264898116109189,1)",
           "rgba(0.7407920030757401,0.8436601307189542,0.9247673971549404,1)",
           "rgba(0.7358708189158016,0.8415686274509804,0.923044982698962,1)",
           "rgba(0.7260284505959247,0.8373856209150327,0.919600153787005,1)",
           "rgba(0.7211072664359862,0.8352941176470587,0.9178777393310266,1)",
           "rgba(0.7161860822760477,0.8332026143790849,0.916155324875048,1)",
           "rgba(0.7112648981161092,0.831111111111111,0.9144329104190696,1)",
           "rgba(0.7063437139561707,0.8290196078431372,0.9127104959630911,1)",
           "rgba(0.7014225297962322,0.8269281045751633,0.9109880815071126,1)",
           "rgba(0.6965013456362937,0.8248366013071895,0.9092656670511342,1)",
           "rgba(0.6915801614763553,0.8227450980392157,0.9075432525951557,1)",
           "rgba(0.6817377931564783,0.818562091503268,0.9040984236831988,1)",
           "rgba(0.6768166089965398,0.8164705882352941,0.9023760092272203,1)",
           "rgba(0.6718954248366014,0.8143790849673203,0.9006535947712418,1)",
           "rgba(0.6669742406766629,0.8122875816993463,0.8989311803152633,1)",
           "rgba(0.6620530565167244,0.8101960784313725,0.8972087658592849,1)",
           "rgba(0.6571318723567858,0.8081045751633986,0.8954863514033065,1)",
           "rgba(0.6522106881968474,0.8060130718954248,0.8937639369473279,1)",
           "rgba(0.647289504036909,0.803921568627451,0.8920415224913495,1)",
           "rgba(0.6374471357170319,0.7997385620915032,0.8885966935793925,1)",
           "rgba(0.6325259515570935,0.7976470588235294,0.8868742791234141,1)",
           "rgba(0.627604767397155,0.7955555555555556,0.8851518646674356,1)",
           "rgba(0.6226835832372165,0.7934640522875817,0.8834294502114571,1)",
           "rgba(0.6172549019607844,0.7908650519031142,0.8818454440599769,1)",
           "rgba(0.6109803921568627,0.7874202229911572,0.8804921184159938,1)",
           "rgba(0.6047058823529413,0.7839753940792004,0.8791387927720108,1)",
           "rgba(0.5984313725490196,0.7805305651672433,0.8777854671280276,1)",
           "rgba(0.5858823529411765,0.7736409073433295,0.8750788158400615,1)",
           "rgba(0.5796078431372549,0.7701960784313725,0.8737254901960784,1)",
           "rgba(0.5733333333333334,0.7667512495194155,0.8723721645520953,1)",
           "rgba(0.5670588235294118,0.7633064206074587,0.8710188389081123,1)",
           "rgba(0.5607843137254902,0.7598615916955017,0.8696655132641292,1)",
           "rgba(0.5545098039215688,0.7564167627835449,0.8683121876201461,1)",
           "rgba(0.548235294117647,0.7529719338715878,0.866958861976163,1)",
           "rgba(0.5419607843137255,0.7495271049596309,0.86560553633218,1)",
           "rgba(0.5294117647058824,0.742637447135717,0.8628988850442137,1)",
           "rgba(0.5231372549019608,0.73919261822376,0.8615455594002307,1)",
           "rgba(0.5168627450980392,0.7357477893118032,0.8601922337562476,1)",
           "rgba(0.5105882352941177,0.7323029603998462,0.8588389081122645,1)",
           "rgba(0.5043137254901962,0.7288581314878894,0.8574855824682814,1)",
           "rgba(0.4980392156862745,0.7254133025759324,0.8561322568242984,1)",
           "rgba(0.491764705882353,0.7219684736639754,0.8547789311803152,1)",
           "rgba(0.48549019607843136,0.7185236447520185,0.8534256055363322,1)",
           "rgba(0.47294117647058825,0.7116339869281045,0.850718954248366,1)",
           "rgba(0.4666666666666667,0.7081891580161477,0.8493656286043829,1)",
           "rgba(0.46039215686274515,0.7047443291041907,0.8480123029603999,1)",
           "rgba(0.4541176470588236,0.7012995001922339,0.8466589773164168,1)",
           "rgba(0.447843137254902,0.6978546712802769,0.8453056516724337,1)",
           "rgba(0.4415686274509804,0.6944098423683199,0.8439523260284506,1)",
           "rgba(0.43529411764705883,0.690965013456363,0.8425990003844676,1)",
           "rgba(0.4290196078431373,0.687520184544406,0.8412456747404844,1)",
           "rgba(0.41708573625528644,0.6806305267204922,0.8382314494425221,1)",
           "rgba(0.4120415224913495,0.6771856978085352,0.8362629757785467,1)",
           "rgba(0.4069973087274125,0.6737408688965782,0.8342945021145713,1)",
           "rgba(0.4019530949634756,0.6702960399846213,0.8323260284505959,1)",
           "rgba(0.3969088811995388,0.6668512110726644,0.8303575547866207,1)",
           "rgba(0.3918646674356017,0.6634063821607075,0.8283890811226452,1)",
           "rgba(0.38682045367166473,0.6599615532487505,0.8264206074586697,1)",
           "rgba(0.3817762399077278,0.6565167243367935,0.8244521337946944,1)",
           "rgba(0.37673202614379087,0.6530718954248366,0.8224836601307189,1)",
           "rgba(0.366643598615917,0.6461822376009227,0.8185467128027681,1)",
           "rgba(0.36159938485198,0.6427374086889658,0.8165782391387928,1)",
           "rgba(0.3565551710880431,0.6392925797770088,0.8146097654748174,1)",
           "rgba(0.35151095732410614,0.6358477508650519,0.812641291810842,1)",
           "rgba(0.34646674356016915,0.632402921953095,0.8106728181468666,1)",
           "rgba(0.3414225297962322,0.628958093041138,0.8087043444828912,1)",
           "rgba(0.3363783160322953,0.6255132641291811,0.8067358708189158,1)",
           "rgba(0.33133410226835835,0.6220684352172241,0.8047673971549404,1)",
           "rgba(0.32124567474048443,0.6151787773933103,0.8008304498269896,1)",
           "rgba(0.31620146097654767,0.6117339484813534,0.7988619761630142,1)",
           "rgba(0.31115724721261057,0.6082891195693964,0.7968935024990389,1)",
           "rgba(0.3061130334486736,0.6048442906574394,0.7949250288350634,1)",
           "rgba(0.30106881968473664,0.6013994617454825,0.7929565551710881,1)",
           "rgba(0.2960246059207997,0.5979546328335256,0.7909880815071126,1)",
           "rgba(0.2909803921568628,0.5945098039215686,0.7890196078431373,1)",
           "rgba(0.28593617839292584,0.5910649750096116,0.7870511341791618,1)",
           "rgba(0.2758477508650519,0.5841753171856978,0.783114186851211,1)",
           "rgba(0.27080353710111493,0.5807304882737409,0.7811457131872357,1)",
           "rgba(0.265759323337178,0.5772856593617839,0.7791772395232603,1)",
           "rgba(0.26071510957324107,0.5738408304498269,0.7772087658592849,1)",
           "rgba(0.25628604382929643,0.5700115340253749,0.7751633986928105,1)",
           "rgba(0.2522260668973472,0.5659515570934256,0.7730718954248366,1)",
           "rgba(0.24816608996539793,0.5618915801614763,0.7709803921568628,1)",
           "rgba(0.2441061130334487,0.5578316032295271,0.768888888888889,1)",
           "rgba(0.23598615916955018,0.5497116493656286,0.7647058823529412,1)",
           "rgba(0.23192618223760095,0.5456516724336793,0.7626143790849673,1)",
           "rgba(0.2278662053056517,0.54159169550173,0.7605228758169935,1)",
           "rgba(0.22380622837370245,0.5375317185697808,0.7584313725490196,1)",
           "rgba(0.2197462514417532,0.5334717416378316,0.7563398692810458,1)",
           "rgba(0.21568627450980393,0.5294117647058824,0.7542483660130719,1)",
           "rgba(0.2116262975778547,0.5253517877739331,0.7521568627450981,1)",
           "rgba(0.20756632064590544,0.5212918108419838,0.7500653594771242,1)",
           "rgba(0.19944636678200695,0.5131718569780853,0.7458823529411764,1)",
           "rgba(0.19538638985005768,0.5091118800461361,0.7437908496732026,1)",
           "rgba(0.19132641291810842,0.5050519031141868,0.7416993464052288,1)",
           "rgba(0.18726643598615916,0.5009919261822375,0.7396078431372549,1)",
           "rgba(0.18320645905420993,0.49693194925028833,0.7375163398692811,1)",
           "rgba(0.1791464821222607,0.49287197231833907,0.7354248366013072,1)",
           "rgba(0.17508650519031155,0.4888119953863899,0.7333333333333334,1)",
           "rgba(0.17102652825836218,0.4847520184544406,0.7312418300653595,1)",
           "rgba(0.16290657439446368,0.4766320645905421,0.7270588235294118,1)",
           "rgba(0.15884659746251442,0.4725720876585928,0.724967320261438,1)",
           "rgba(0.1547866205305652,0.46851211072664356,0.722875816993464,1)",
           "rgba(0.15072664359861593,0.4644521337946943,0.7207843137254902,1)",
           "rgba(0.14666666666666667,0.46039215686274504,0.7186928104575163,1)",
           "rgba(0.1426066897347174,0.45633217993079583,0.7166013071895425,1)",
           "rgba(0.13854671280276817,0.4522722029988466,0.7145098039215687,1)",
           "rgba(0.13448673587081894,0.4482122260668973,0.7124183006535948,1)",
           "rgba(0.1271049596309112,0.4401845444059977,0.7074971164936563,1)",
           "rgba(0.12402921953094964,0.4362475970780469,0.7044213763936947,1)",
           "rgba(0.1209534794309881,0.4323106497500961,0.7013456362937333,1)",
           "rgba(0.11787773933102653,0.4283737024221453,0.6982698961937717,1)",
           "rgba(0.11480199923106507,0.42443675509419465,0.6951941560938102,1)",
           "rgba(0.11172625913110343,0.42049980776624374,0.6921184159938486,1)",
           "rgba(0.10865051903114188,0.41656286043829294,0.689042675893887,1)",
           "rgba(0.10557477893118032,0.41262591311034214,0.6859669357939254,1)",
           "rgba(0.10249903883121878,0.4086889657823914,0.6828911956939638,1)",
           "rgba(0.09634755863129565,0.4008150711264898,0.6767397154940408,1)",
           "rgba(0.09327181853133411,0.396878123798539,0.6736639753940792,1)",
           "rgba(0.09019607843137256,0.39294117647058824,0.6705882352941177,1)",
           "rgba(0.087120338331411,0.38900422914263744,0.6675124951941561,1)",
           "rgba(0.08404459823144944,0.38506728181468663,0.6644367550941945,1)",
           "rgba(0.0809688581314879,0.38113033448673583,0.661361014994233,1)",
           "rgba(0.07789311803152635,0.37719338715878503,0.6582852748942715,1)",
           "rgba(0.07481737793156479,0.3732564398308343,0.6552095347943099,1)",
           "rgba(0.06866589773164168,0.3653825451749327,0.6490580545943868,1)",
           "rgba(0.06559015763168022,0.36144559784698205,0.6459823144944253,1)",
           "rgba(0.06251441753171857,0.35750865051903113,0.6429065743944637,1)",
           "rgba(0.059438677431757014,0.35357170319108033,0.6398308342945022,1)",
           "rgba(0.05636293733179547,0.34963475586312953,0.6367550941945406,1)",
           "rgba(0.05328719723183391,0.34569780853517873,0.6336793540945791,1)",
           "rgba(0.05021145713187236,0.341760861207228,0.6306036139946175,1)",
           "rgba(0.0471357170319108,0.3378239138792772,0.6275278738946559,1)",
           "rgba(0.040984236831987694,0.32995001922337563,0.6213763936947329,1)",
           "rgba(0.03790849673202615,0.32601307189542483,0.6183006535947713,1)",
           "rgba(0.03483275663206459,0.32207612456747403,0.6152249134948098,1)",
           "rgba(0.03175701653210304,0.31813917723952323,0.6121491733948482,1)",
           "rgba(0.03137254901960784,0.3140945790080738,0.606489811610919,1)",
           "rgba(0.03137254901960784,0.31003460207612454,0.6004613610149943,1)",
           "rgba(0.03137254901960784,0.3059746251441753,0.5944329104190696,1)",
           "rgba(0.03137254901960784,0.301914648212226,0.588404459823145,1)",
           "rgba(0.03137254901960784,0.29379469434832756,0.5763475586312957,1)",
           "rgba(0.03137254901960784,0.2897347174163783,0.570319108035371,1)",
           "rgba(0.03137254901960784,0.28567474048442904,0.5642906574394464,1)",
           "rgba(0.03137254901960784,0.28161476355247983,0.5582622068435218,1)",
           "rgba(0.03137254901960784,0.27755478662053057,0.5522337562475971,1)",
           "rgba(0.03137254901960784,0.2734948096885813,0.5462053056516725,1)",
           "rgba(0.03137254901960784,0.26943483275663205,0.5401768550557479,1)",
           "rgba(0.03137254901960784,0.2653748558246828,0.5341484044598231,1)",
           "rgba(0.03137254901960784,0.2572549019607843,0.5220915032679738,1)",
           "rgba(0.03137254901960784,0.25319492502883506,0.5160630526720492,1)",
           "rgba(0.03137254901960784,0.2491349480968858,0.5100346020761246,1)",
           "rgba(0.03137254901960784,0.24507497116493654,0.5040061514801999,1)",
           "rgba(0.03137254901960784,0.2410149942329873,0.4979777008842753,1)",
           "rgba(0.03137254901960784,0.23695501730103807,0.4919492502883507,1)",
           "rgba(0.03137254901960784,0.23289504036908892,0.4859207996924262,1)",
           "rgba(0.03137254901960784,0.22883506343713955,0.47989234909650136,1)",
           "rgba(0.03137254901960784,0.22071510957324106,0.46783544790465204,1)",
           "rgba(0.03137254901960784,0.2166551326412918,0.46180699730872743,1)",
           "rgba(0.03137254901960784,0.21259515570934256,0.4557785467128028,1)",
           "rgba(0.03137254901960784,0.2085351787773933,0.4497500961168781,1)",
           "rgba(0.03137254901960784,0.20447520184544404,0.4437216455209535,1)",
           "rgba(0.03137254901960784,0.2004152249134948,0.43769319492502884,1)",
           "rgba(0.03137254901960784,0.19635524798154555,0.4316647443291042,1)",
           "rgba(.99,.5,.2,1.)"
          ]
         },
         "mode": "markers",
         "text": [
          "George Washington",
          "George Washington",
          "George Washington",
          "George Washington",
          "George Washington",
          "George Washington",
          "George Washington",
          "George Washington",
          "John Adams",
          "John Adams",
          "John Adams",
          "John Adams",
          "Thomas Jefferson",
          "Thomas Jefferson",
          "Thomas Jefferson",
          "Thomas Jefferson",
          "Thomas Jefferson",
          "Thomas Jefferson",
          "Thomas Jefferson",
          "Thomas Jefferson",
          "James Madison",
          "James Madison",
          "James Madison",
          "James Madison",
          "James Madison",
          "James Madison",
          "James Madison",
          "James Madison",
          "James Monroe",
          "James Monroe",
          "James Monroe",
          "James Monroe",
          "James Monroe",
          "James Monroe",
          "James Monroe",
          "James Monroe",
          "John Quincy Adams",
          "John Quincy Adams",
          "John Quincy Adams",
          "John Quincy Adams",
          "Andrew Jackson",
          "Andrew Jackson",
          "Andrew Jackson",
          "Andrew Jackson",
          "Andrew Jackson",
          "Andrew Jackson",
          "Andrew Jackson",
          "Andrew Jackson",
          "Martin van Buren",
          "Martin van Buren",
          "Martin van Buren",
          "Martin van Buren",
          "John Tyler",
          "John Tyler",
          "John Tyler",
          "John Tyler",
          "James Polk",
          "James Polk",
          "James Polk",
          "James Polk",
          "Zachary Taylor",
          "Millard Fillmore",
          "Millard Fillmore",
          "Millard Fillmore",
          "Franklin Pierce",
          "Franklin Pierce",
          "Franklin Pierce",
          "Franklin Pierce",
          "James Buchanan",
          "James Buchanan",
          "James Buchanan",
          "James Buchanan",
          "Abraham Lincoln",
          "Abraham Lincoln",
          "Abraham Lincoln",
          "Abraham Lincoln",
          "Andrew Johnson",
          "Andrew Johnson",
          "Andrew Johnson",
          "Andrew Johnson",
          "Ulysses S. Grant",
          "Ulysses S. Grant",
          "Ulysses S. Grant",
          "Ulysses S. Grant",
          "Ulysses S. Grant",
          "Ulysses S. Grant",
          "Ulysses S. Grant",
          "Ulysses S. Grant",
          "Rutherford B. Hayes",
          "Rutherford B. Hayes",
          "Rutherford B. Hayes",
          "Rutherford B. Hayes",
          "Chester A. Arthur",
          "Chester A. Arthur",
          "Chester A. Arthur",
          "Chester A. Arthur",
          "Grover Cleveland",
          "Grover Cleveland",
          "Grover Cleveland",
          "Grover Cleveland",
          "Benjamin Harrison",
          "Benjamin Harrison",
          "Benjamin Harrison",
          "Benjamin Harrison",
          "William McKinley",
          "William McKinley",
          "William McKinley",
          "William McKinley",
          "Theodore Roosevelt",
          "Theodore Roosevelt",
          "Theodore Roosevelt",
          "Theodore Roosevelt",
          "Theodore Roosevelt",
          "Theodore Roosevelt",
          "Theodore Roosevelt",
          "Theodore Roosevelt",
          "William H. Taft",
          "William H. Taft",
          "William H. Taft",
          "William H. Taft",
          "Woodrow Wilson",
          "Woodrow Wilson",
          "Woodrow Wilson",
          "Woodrow Wilson",
          "Woodrow Wilson",
          "Woodrow Wilson",
          "Woodrow Wilson",
          "Woodrow Wilson",
          "Warren Harding",
          "Warren Harding",
          "Calvin Coolidge",
          "Calvin Coolidge",
          "Calvin Coolidge",
          "Calvin Coolidge",
          "Calvin Coolidge",
          "Calvin Coolidge",
          "Herbert Hoover",
          "Herbert Hoover",
          "Herbert Hoover",
          "Herbert Hoover",
          "Franklin D. Roosevelt",
          "Franklin D. Roosevelt",
          "Franklin D. Roosevelt",
          "Franklin D. Roosevelt",
          "Franklin D. Roosevelt",
          "Franklin D. Roosevelt",
          "Franklin D. Roosevelt",
          "Franklin D. Roosevelt",
          "Franklin D. Roosevelt",
          "Franklin D. Roosevelt",
          "Franklin D. Roosevelt",
          "Franklin D. Roosevelt",
          "Harry S. Truman",
          "Harry S. Truman",
          "Harry S. Truman",
          "Harry S. Truman",
          "Harry S. Truman",
          "Harry S. Truman",
          "Harry S. Truman",
          "Harry S. Truman",
          "Dwight D. Eisenhower",
          "Dwight D. Eisenhower",
          "Dwight D. Eisenhower",
          "Dwight D. Eisenhower",
          "Dwight D. Eisenhower",
          "Dwight D. Eisenhower",
          "Dwight D. Eisenhower",
          "Dwight D. Eisenhower",
          "Dwight D. Eisenhower",
          "John F. Kennedy",
          "John F. Kennedy",
          "John F. Kennedy",
          "Lyndon B. Johnson",
          "Lyndon B. Johnson",
          "Lyndon B. Johnson",
          "Lyndon B. Johnson",
          "Lyndon B. Johnson",
          "Lyndon B. Johnson",
          "Richard Nixon",
          "Richard Nixon",
          "Richard Nixon",
          "Richard Nixon",
          "Richard Nixon",
          "Gerald R. Ford",
          "Gerald R. Ford",
          "Gerald R. Ford",
          "Jimmy Carter",
          "Jimmy Carter",
          "Jimmy Carter",
          "Jimmy Carter",
          "Ronald Reagan",
          "Ronald Reagan",
          "Ronald Reagan",
          "Ronald Reagan",
          "Ronald Reagan",
          "Ronald Reagan",
          "Ronald Reagan",
          "George H.W. Bush",
          "George H.W. Bush",
          "George H.W. Bush",
          "George H.W. Bush",
          "William J. Clinton",
          "William J. Clinton",
          "William J. Clinton",
          "William J. Clinton",
          "William J. Clinton",
          "William J. Clinton",
          "William J. Clinton",
          "William J. Clinton",
          "George W. Bush",
          "George W. Bush",
          "George W. Bush",
          "George W. Bush",
          "George W. Bush",
          "George W. Bush",
          "George W. Bush",
          "George W. Bush",
          "George W. Bush",
          "Barack Obama",
          "Barack Obama",
          "Barack Obama",
          "Barack Obama",
          "Barack Obama",
          "Barack Obama",
          "Barack Obama",
          "Barack Obama",
          "Donald J. Trump"
         ],
         "type": "scatter",
         "x": [
          0.030591965109684004,
          0.04007369176074209,
          0.06430666700714806,
          0.05283111998639291,
          0.05690289043187424,
          0.04879007402927501,
          0.03315799099718439,
          0.047827288994714154,
          0.036461651364122785,
          0.038445284765713864,
          0.048557896240849566,
          0.031129594025490204,
          0.007680355002734993,
          0.017806196781550834,
          0.024406456370476226,
          0.035673638570957886,
          0.02893786623096197,
          0.02631956519959176,
          0.015970539902398863,
          0.04093377800414704,
          0.04823931711664126,
          0.06586046770567842,
          0.0381369517343354,
          0.047810774095566055,
          0.05707882327549351,
          0.04008017429401896,
          0.07189077580799956,
          0.05836502633405005,
          0.04055763211744435,
          0.04011067598727696,
          0.046471813119832985,
          0.04206235932780161,
          0.05512873965865618,
          0.04198837912235829,
          0.05016157152971252,
          0.03679259693179969,
          0.06713702469419304,
          0.06259171281929055,
          0.0808265901964942,
          0.07552612813197848,
          0.04565914578323743,
          0.0445934448245595,
          0.03415256621527145,
          0.04027642919991633,
          0.05937375007906951,
          0.0483506307057069,
          0.051544755736818174,
          0.05474839550533253,
          0.054878308898634855,
          0.055030286248163154,
          0.04169085288827992,
          0.05493928875097367,
          0.0539988305974105,
          0.05525764944812688,
          0.0541422772896232,
          0.05234971510657177,
          0.049754874020660866,
          0.04573279219208348,
          0.03613706386356977,
          0.05191186079211317,
          0.05059804422029439,
          0.03987551136571253,
          0.052209703885607306,
          0.050322810486422745,
          0.050608138780881384,
          0.047487406565632544,
          0.0664537760567521,
          0.06296217778849601,
          0.03785921275089062,
          0.04156489834580216,
          0.04801857886396033,
          0.04894380658446826,
          0.04126696150800359,
          0.02435602294654509,
          0.045928736350393934,
          0.044282982475102615,
          0.05710126702410114,
          0.060158230612371355,
          0.03955212159311276,
          0.05364570089513418,
          0.05595713173187464,
          0.05482150360940627,
          0.0629882932756068,
          0.06415784098559557,
          0.0615720195182495,
          0.04915801033942364,
          0.05087481342930786,
          0.06928001715644065,
          0.05510689005068132,
          0.06549523716758295,
          0.06339494539364074,
          0.04936951408686194,
          0.06565821581823486,
          0.0636444462671388,
          0.0628343646235207,
          0.06931754229471349,
          0.05787598150116975,
          0.05598985499674594,
          0.034737072934386194,
          0.04927226581786029,
          0.0525818995732307,
          0.04983961466042948,
          0.05566578307632555,
          0.04837153798901103,
          0.055155664703585836,
          0.06567212504036689,
          0.061049547298943616,
          0.059355489285321285,
          0.021926634102144127,
          0.027078770818848956,
          0.0541464481160321,
          0.020267784086575022,
          0.028750598817128603,
          0.026495713792108647,
          0.03287138966262318,
          0.030024895493703973,
          0.055708979493812254,
          0.06346372341069553,
          0.05322852231087909,
          0.05336670513396197,
          0.012807423313508887,
          -0.05913079935736365,
          -0.012673003889624793,
          0.04682062155179731,
          -0.011543063037495617,
          0.0007782205842364887,
          0.02187420848656274,
          0.04014566606849175,
          -0.00031169370809507047,
          0.011169995542917532,
          0.01511662415914189,
          0.016328568649627145,
          0.016063859150285062,
          0.016523873347955825,
          0.01306314788202878,
          0.015092637990965118,
          0.03415696368286032,
          0.04125006559505391,
          0.014213031757815436,
          0.04922516537976737,
          0.009063413364864596,
          0.0016513702151159555,
          0.003976164817274783,
          0.01143107867513625,
          0.008544564271025373,
          -0.03882749917093754,
          -0.01923295869881385,
          -0.029628261851300797,
          -0.05990180177369739,
          -0.04863834983270965,
          -0.041871135254811453,
          -0.019974513236834426,
          0.0020620703767024046,
          -0.007719928006656393,
          -0.04999437253249066,
          -0.043663718386607,
          -0.043693803388398775,
          -0.07503555018665478,
          -0.07333025280443264,
          -0.0355494928114891,
          -0.011756345020006512,
          -0.027336138829272244,
          -0.038088935500284124,
          -0.016760929245906345,
          -0.024099399787444138,
          -0.03571287801134569,
          -0.05092847705911426,
          -0.04518831407692289,
          -0.02611941089947245,
          -0.057728078559184846,
          -0.0556285406216535,
          -0.05431903668013413,
          -0.10565761599039467,
          -0.0823449031029507,
          -0.07655905649178182,
          -0.11395890354435426,
          -0.07958655408930998,
          -0.0435561466593384,
          -0.05215931601357016,
          -0.05274662890512531,
          -0.05359930810907418,
          -0.05689191377275142,
          -0.05614333670461216,
          -0.05930725321059512,
          -0.08751896273255073,
          -0.04629092022973594,
          -0.0968516979359588,
          -0.10256994191111586,
          -0.08823283412706555,
          -0.03187260585491997,
          -0.08735482833504926,
          -0.0801516976447838,
          -0.12575121167793554,
          -0.12758506507631825,
          -0.10076064875244702,
          -0.09935545916995506,
          -0.07722355908037021,
          -0.10390477505858828,
          -0.09088144613740608,
          -0.0918363626235879,
          -0.11651695297346676,
          -0.11857157018064189,
          -0.1371342222496772,
          -0.1259749238441606,
          -0.13204307061992307,
          -0.137365648784805,
          -0.12308328545480661,
          -0.13377745846104577,
          -0.14193076550663147,
          -0.1500376934411416,
          -0.09597637263222794,
          -0.1236863445074882,
          -0.09276093936591628,
          -0.10014096845429873,
          -0.1072054691749318,
          -0.11624454517887643,
          -0.10659814237897097,
          -0.11654754922538686,
          -0.13850555666314354,
          -0.13276946891865,
          -0.12402263880366558,
          -0.1238432171639788,
          -0.1384770773145811,
          -0.14367912526072946,
          -0.15703208317533313,
          -0.1307193473039697,
          -0.1207251847654317
         ],
         "y": [
          -0.06499179182386532,
          -0.06572848350617892,
          -0.06654012761838317,
          -0.06636595767804777,
          -0.06605617184130039,
          -0.0664302141883619,
          -0.06589996234385108,
          -0.06766983609340689,
          -0.06646620196764184,
          -0.06703007420998784,
          -0.06621145053601914,
          -0.06559551507571958,
          -0.06674150574367668,
          -0.06671930485616477,
          -0.0668403167210356,
          -0.06679285374240723,
          -0.06704279840159548,
          -0.06686062764908567,
          -0.06594622831120202,
          -0.06744579421520387,
          -0.06609275268703751,
          -0.06679418825919516,
          -0.06677269886625434,
          -0.06714818380047945,
          -0.06653732951518793,
          -0.06450758109709206,
          -0.06692699324464292,
          -0.06773096091641481,
          -0.06824784459788964,
          -0.06722198347409655,
          -0.06671047362825144,
          -0.06775459346521061,
          -0.06778057984399961,
          -0.06790267258599156,
          -0.06851710485709432,
          -0.06869339853064475,
          -0.06798491186956201,
          -0.06812982917205772,
          -0.06709150546126968,
          -0.06738636901222775,
          -0.06903580248106764,
          -0.06913790360264352,
          -0.06881794254733606,
          -0.06906913253233396,
          -0.06835515668036922,
          -0.06891804605995626,
          -0.0686188534576219,
          -0.06878446158478208,
          -0.06888194203964779,
          -0.06888801627412047,
          -0.06891101384534293,
          -0.06867402724388147,
          -0.06856997244470392,
          -0.06845613678018325,
          -0.0685797738384194,
          -0.06858966142718485,
          -0.06893234217981861,
          -0.0678271951341546,
          -0.06865000070192218,
          -0.06887854652095349,
          -0.06875146634959665,
          -0.06902614223582518,
          -0.06907145890592746,
          -0.06894969287504733,
          -0.06893167624163025,
          -0.06888622521439995,
          -0.06808422928154013,
          -0.06822401490504268,
          -0.06877412456852539,
          -0.06901127486410447,
          -0.06837836945655226,
          -0.06848001168262152,
          -0.06859284021386844,
          -0.06808427068610524,
          -0.0684425151540494,
          -0.06839958624125102,
          -0.06843822523278664,
          -0.06827760079093229,
          -0.06894788938373397,
          -0.06831251790664532,
          -0.0686638792122283,
          -0.06868336238545363,
          -0.06820229923818565,
          -0.06748593239021673,
          -0.06834875863436958,
          -0.06874669423839325,
          -0.06890358859051761,
          -0.06793643036353927,
          -0.0684061705788359,
          -0.06820435180994629,
          -0.06853927885213969,
          -0.06871471388759921,
          -0.06671823372243624,
          -0.06626222367556867,
          -0.06628650930357208,
          -0.06791125801252881,
          -0.06878022903615587,
          -0.06876431366318954,
          -0.06707470219595336,
          -0.06851566781327145,
          -0.06888779633628442,
          -0.06874904395218746,
          -0.06862311359630953,
          -0.06844189742337387,
          -0.06860357898456415,
          -0.06808129665790791,
          -0.06851827565837797,
          -0.06851405744551008,
          -0.06919087259332428,
          -0.06858577832461299,
          -0.06843659299583406,
          -0.06903780821190549,
          -0.06899467620638346,
          -0.06911470534349799,
          -0.0690861890235967,
          -0.06867933398174597,
          -0.06871730529356117,
          -0.06744280025720616,
          -0.06871433514115004,
          -0.06902508273283309,
          -0.0678264467051713,
          -0.06470956678705231,
          -0.06765300815027965,
          -0.0661599926820248,
          -0.06664089045728375,
          -0.06790286155137605,
          -0.06798068877126535,
          -0.06717845789394913,
          -0.06763020282537813,
          -0.06754487875957937,
          -0.0678644278400859,
          -0.06859132798700046,
          -0.06877174138436837,
          -0.06865279724853467,
          -0.06817447644886979,
          -0.06853611435893832,
          -0.06880904145985814,
          -0.06653754632584469,
          -0.06688418025138777,
          -0.05965786191020484,
          -0.06619141535081222,
          -0.06689901757765175,
          -0.06709663203243063,
          -0.06612635114579343,
          -0.06706975114256024,
          -0.06499697282801127,
          -0.06638354990139267,
          -0.06611485883872642,
          -0.06379242022128528,
          -0.06526286875347853,
          -0.06590970826288453,
          -0.0675721562103868,
          -0.06745584176696416,
          -0.06785919864447977,
          -0.06633464571150559,
          -0.06600085395260553,
          -0.06715853167500485,
          -0.0639344427146368,
          -0.06530922583055408,
          -0.06705207325729559,
          -0.067939713755909,
          -0.06732291393693556,
          -0.06649284968643589,
          -0.06811203918563825,
          -0.06698016939644766,
          -0.06610823935213123,
          -0.06651409673610485,
          -0.0664960493913479,
          -0.06467814711351923,
          -0.06627377213897083,
          -0.06646068622181021,
          -0.06585162148382892,
          -0.060923995223263055,
          -0.06559066882821128,
          -0.06495138931175287,
          -0.0636054889170053,
          -0.06520521242677997,
          -0.06559581259315142,
          -0.06586579752421001,
          -0.06564309866948546,
          -0.06626981375266378,
          -0.06414898703677105,
          -0.06617237639916913,
          -0.06397654858966802,
          -0.06438547976839393,
          -0.06689007235519473,
          -0.06431450524358093,
          -0.06196560889891457,
          -0.062399529099658735,
          -0.0675177169707582,
          -0.0642928911839629,
          -0.06592797732061272,
          -0.06121110020049399,
          -0.06089988653147036,
          -0.06219527374753815,
          -0.06279954195404847,
          -0.06414507039754686,
          -0.06324367156759245,
          -0.06355092194477566,
          -0.06405507694054159,
          -0.06120275147122127,
          -0.06255797944266848,
          -0.059887380156022796,
          -0.0620316025743181,
          -0.0601139596424871,
          -0.060533444120604955,
          -0.062334832339428436,
          -0.06049092469999364,
          -0.059894434458601646,
          -0.05636848001549949,
          -0.05852147732216397,
          -0.058635803128084016,
          -0.0613583899129074,
          -0.0625686947559853,
          -0.062298566575396105,
          -0.06230672514503121,
          -0.06174930872473284,
          -0.06134841650217331,
          -0.06012841430579661,
          -0.060013652762455925,
          -0.06166872477162144,
          -0.05921878203944327,
          -0.0602461723306501,
          -0.05892392536747393,
          -0.05709189748153218,
          -0.05916269805299199,
          -0.06049515179000185
         ]
        }
       ],
       "layout": {}
      },
      "text/html": [
       "<div id=\"3e98c5d4-00a6-476b-b4ea-9023b993c024\" style=\"height: 525px; width: 100%;\" class=\"plotly-graph-div\"></div><script type=\"text/javascript\">require([\"plotly\"], function(Plotly) { window.PLOTLYENV=window.PLOTLYENV || {};window.PLOTLYENV.BASE_URL=\"https://plot.ly\";Plotly.newPlot(\"3e98c5d4-00a6-476b-b4ea-9023b993c024\", [{\"type\": \"scatter\", \"x\": [0.030591965109684004, 0.04007369176074209, 0.06430666700714806, 0.05283111998639291, 0.05690289043187424, 0.04879007402927501, 0.03315799099718439, 0.047827288994714154, 0.036461651364122785, 0.038445284765713864, 0.048557896240849566, 0.031129594025490204, 0.007680355002734993, 0.017806196781550834, 0.024406456370476226, 0.035673638570957886, 0.02893786623096197, 0.02631956519959176, 0.015970539902398863, 0.04093377800414704, 0.04823931711664126, 0.06586046770567842, 0.0381369517343354, 0.047810774095566055, 0.05707882327549351, 0.04008017429401896, 0.07189077580799956, 0.05836502633405005, 0.04055763211744435, 0.04011067598727696, 0.046471813119832985, 0.04206235932780161, 0.05512873965865618, 0.04198837912235829, 0.05016157152971252, 0.03679259693179969, 0.06713702469419304, 0.06259171281929055, 0.0808265901964942, 0.07552612813197848, 0.04565914578323743, 0.0445934448245595, 0.03415256621527145, 0.04027642919991633, 0.05937375007906951, 0.0483506307057069, 0.051544755736818174, 0.05474839550533253, 0.054878308898634855, 0.055030286248163154, 0.04169085288827992, 0.05493928875097367, 0.0539988305974105, 0.05525764944812688, 0.0541422772896232, 0.05234971510657177, 0.049754874020660866, 0.04573279219208348, 0.03613706386356977, 0.05191186079211317, 0.05059804422029439, 0.03987551136571253, 0.052209703885607306, 0.050322810486422745, 0.050608138780881384, 0.047487406565632544, 0.0664537760567521, 0.06296217778849601, 0.03785921275089062, 0.04156489834580216, 0.04801857886396033, 0.04894380658446826, 0.04126696150800359, 0.02435602294654509, 0.045928736350393934, 0.044282982475102615, 0.05710126702410114, 0.060158230612371355, 0.03955212159311276, 0.05364570089513418, 0.05595713173187464, 0.05482150360940627, 0.0629882932756068, 0.06415784098559557, 0.0615720195182495, 0.04915801033942364, 0.05087481342930786, 0.06928001715644065, 0.05510689005068132, 0.06549523716758295, 0.06339494539364074, 0.04936951408686194, 0.06565821581823486, 0.0636444462671388, 0.0628343646235207, 0.06931754229471349, 0.05787598150116975, 0.05598985499674594, 0.034737072934386194, 0.04927226581786029, 0.0525818995732307, 0.04983961466042948, 0.05566578307632555, 0.04837153798901103, 0.055155664703585836, 0.06567212504036689, 0.061049547298943616, 0.059355489285321285, 0.021926634102144127, 0.027078770818848956, 0.0541464481160321, 0.020267784086575022, 0.028750598817128603, 0.026495713792108647, 0.03287138966262318, 0.030024895493703973, 0.055708979493812254, 0.06346372341069553, 0.05322852231087909, 0.05336670513396197, 0.012807423313508887, -0.05913079935736365, -0.012673003889624793, 0.04682062155179731, -0.011543063037495617, 0.0007782205842364887, 0.02187420848656274, 0.04014566606849175, -0.00031169370809507047, 0.011169995542917532, 0.01511662415914189, 0.016328568649627145, 0.016063859150285062, 0.016523873347955825, 0.01306314788202878, 0.015092637990965118, 0.03415696368286032, 0.04125006559505391, 0.014213031757815436, 0.04922516537976737, 0.009063413364864596, 0.0016513702151159555, 0.003976164817274783, 0.01143107867513625, 0.008544564271025373, -0.03882749917093754, -0.01923295869881385, -0.029628261851300797, -0.05990180177369739, -0.04863834983270965, -0.041871135254811453, -0.019974513236834426, 0.0020620703767024046, -0.007719928006656393, -0.04999437253249066, -0.043663718386607, -0.043693803388398775, -0.07503555018665478, -0.07333025280443264, -0.0355494928114891, -0.011756345020006512, -0.027336138829272244, -0.038088935500284124, -0.016760929245906345, -0.024099399787444138, -0.03571287801134569, -0.05092847705911426, -0.04518831407692289, -0.02611941089947245, -0.057728078559184846, -0.0556285406216535, -0.05431903668013413, -0.10565761599039467, -0.0823449031029507, -0.07655905649178182, -0.11395890354435426, -0.07958655408930998, -0.0435561466593384, -0.05215931601357016, -0.05274662890512531, -0.05359930810907418, -0.05689191377275142, -0.05614333670461216, -0.05930725321059512, -0.08751896273255073, -0.04629092022973594, -0.0968516979359588, -0.10256994191111586, -0.08823283412706555, -0.03187260585491997, -0.08735482833504926, -0.0801516976447838, -0.12575121167793554, -0.12758506507631825, -0.10076064875244702, -0.09935545916995506, -0.07722355908037021, -0.10390477505858828, -0.09088144613740608, -0.0918363626235879, -0.11651695297346676, -0.11857157018064189, -0.1371342222496772, -0.1259749238441606, -0.13204307061992307, -0.137365648784805, -0.12308328545480661, -0.13377745846104577, -0.14193076550663147, -0.1500376934411416, -0.09597637263222794, -0.1236863445074882, -0.09276093936591628, -0.10014096845429873, -0.1072054691749318, -0.11624454517887643, -0.10659814237897097, -0.11654754922538686, -0.13850555666314354, -0.13276946891865, -0.12402263880366558, -0.1238432171639788, -0.1384770773145811, -0.14367912526072946, -0.15703208317533313, -0.1307193473039697, -0.1207251847654317], \"y\": [-0.06499179182386532, -0.06572848350617892, -0.06654012761838317, -0.06636595767804777, -0.06605617184130039, -0.0664302141883619, -0.06589996234385108, -0.06766983609340689, -0.06646620196764184, -0.06703007420998784, -0.06621145053601914, -0.06559551507571958, -0.06674150574367668, -0.06671930485616477, -0.0668403167210356, -0.06679285374240723, -0.06704279840159548, -0.06686062764908567, -0.06594622831120202, -0.06744579421520387, -0.06609275268703751, -0.06679418825919516, -0.06677269886625434, -0.06714818380047945, -0.06653732951518793, -0.06450758109709206, -0.06692699324464292, -0.06773096091641481, -0.06824784459788964, -0.06722198347409655, -0.06671047362825144, -0.06775459346521061, -0.06778057984399961, -0.06790267258599156, -0.06851710485709432, -0.06869339853064475, -0.06798491186956201, -0.06812982917205772, -0.06709150546126968, -0.06738636901222775, -0.06903580248106764, -0.06913790360264352, -0.06881794254733606, -0.06906913253233396, -0.06835515668036922, -0.06891804605995626, -0.0686188534576219, -0.06878446158478208, -0.06888194203964779, -0.06888801627412047, -0.06891101384534293, -0.06867402724388147, -0.06856997244470392, -0.06845613678018325, -0.0685797738384194, -0.06858966142718485, -0.06893234217981861, -0.0678271951341546, -0.06865000070192218, -0.06887854652095349, -0.06875146634959665, -0.06902614223582518, -0.06907145890592746, -0.06894969287504733, -0.06893167624163025, -0.06888622521439995, -0.06808422928154013, -0.06822401490504268, -0.06877412456852539, -0.06901127486410447, -0.06837836945655226, -0.06848001168262152, -0.06859284021386844, -0.06808427068610524, -0.0684425151540494, -0.06839958624125102, -0.06843822523278664, -0.06827760079093229, -0.06894788938373397, -0.06831251790664532, -0.0686638792122283, -0.06868336238545363, -0.06820229923818565, -0.06748593239021673, -0.06834875863436958, -0.06874669423839325, -0.06890358859051761, -0.06793643036353927, -0.0684061705788359, -0.06820435180994629, -0.06853927885213969, -0.06871471388759921, -0.06671823372243624, -0.06626222367556867, -0.06628650930357208, -0.06791125801252881, -0.06878022903615587, -0.06876431366318954, -0.06707470219595336, -0.06851566781327145, -0.06888779633628442, -0.06874904395218746, -0.06862311359630953, -0.06844189742337387, -0.06860357898456415, -0.06808129665790791, -0.06851827565837797, -0.06851405744551008, -0.06919087259332428, -0.06858577832461299, -0.06843659299583406, -0.06903780821190549, -0.06899467620638346, -0.06911470534349799, -0.0690861890235967, -0.06867933398174597, -0.06871730529356117, -0.06744280025720616, -0.06871433514115004, -0.06902508273283309, -0.0678264467051713, -0.06470956678705231, -0.06765300815027965, -0.0661599926820248, -0.06664089045728375, -0.06790286155137605, -0.06798068877126535, -0.06717845789394913, -0.06763020282537813, -0.06754487875957937, -0.0678644278400859, -0.06859132798700046, -0.06877174138436837, -0.06865279724853467, -0.06817447644886979, -0.06853611435893832, -0.06880904145985814, -0.06653754632584469, -0.06688418025138777, -0.05965786191020484, -0.06619141535081222, -0.06689901757765175, -0.06709663203243063, -0.06612635114579343, -0.06706975114256024, -0.06499697282801127, -0.06638354990139267, -0.06611485883872642, -0.06379242022128528, -0.06526286875347853, -0.06590970826288453, -0.0675721562103868, -0.06745584176696416, -0.06785919864447977, -0.06633464571150559, -0.06600085395260553, -0.06715853167500485, -0.0639344427146368, -0.06530922583055408, -0.06705207325729559, -0.067939713755909, -0.06732291393693556, -0.06649284968643589, -0.06811203918563825, -0.06698016939644766, -0.06610823935213123, -0.06651409673610485, -0.0664960493913479, -0.06467814711351923, -0.06627377213897083, -0.06646068622181021, -0.06585162148382892, -0.060923995223263055, -0.06559066882821128, -0.06495138931175287, -0.0636054889170053, -0.06520521242677997, -0.06559581259315142, -0.06586579752421001, -0.06564309866948546, -0.06626981375266378, -0.06414898703677105, -0.06617237639916913, -0.06397654858966802, -0.06438547976839393, -0.06689007235519473, -0.06431450524358093, -0.06196560889891457, -0.062399529099658735, -0.0675177169707582, -0.0642928911839629, -0.06592797732061272, -0.06121110020049399, -0.06089988653147036, -0.06219527374753815, -0.06279954195404847, -0.06414507039754686, -0.06324367156759245, -0.06355092194477566, -0.06405507694054159, -0.06120275147122127, -0.06255797944266848, -0.059887380156022796, -0.0620316025743181, -0.0601139596424871, -0.060533444120604955, -0.062334832339428436, -0.06049092469999364, -0.059894434458601646, -0.05636848001549949, -0.05852147732216397, -0.058635803128084016, -0.0613583899129074, -0.0625686947559853, -0.062298566575396105, -0.06230672514503121, -0.06174930872473284, -0.06134841650217331, -0.06012841430579661, -0.060013652762455925, -0.06166872477162144, -0.05921878203944327, -0.0602461723306501, -0.05892392536747393, -0.05709189748153218, -0.05916269805299199, -0.06049515179000185], \"mode\": \"markers\", \"marker\": {\"color\": [\"rgba(0.9655517108804306,0.9823452518262207,0.9990157631680123,1)\", \"rgba(0.9624759707804691,0.9803767781622452,0.9980315263360247,1)\", \"rgba(0.9594002306805075,0.9784083044982699,0.9970472895040369,1)\", \"rgba(0.9563244905805459,0.9764398308342944,0.9960630526720492,1)\", \"rgba(0.9532487504805844,0.9744713571703191,0.9950788158400615,1)\", \"rgba(0.9501730103806229,0.9725028835063436,0.9940945790080739,1)\", \"rgba(0.9470972702806613,0.9705344098423683,0.9931103421760861,1)\", \"rgba(0.9440215301806998,0.9685659361783929,0.9921261053440984,1)\", \"rgba(0.9378700499807766,0.9646289888504421,0.990157631680123,1)\", \"rgba(0.9347943098808151,0.9626605151864667,0.9891733948481354,1)\", \"rgba(0.9317185697808535,0.9606920415224913,0.9881891580161476,1)\", \"rgba(0.928642829680892,0.9587235678585159,0.9872049211841599,1)\", \"rgba(0.9255670895809304,0.9567550941945405,0.9862206843521722,1)\", \"rgba(0.9224913494809689,0.9547866205305651,0.9852364475201846,1)\", \"rgba(0.9194156093810073,0.9528181468665897,0.9842522106881968,1)\", \"rgba(0.9163398692810457,0.9508496732026144,0.9832679738562091,1)\", \"rgba(0.9101883890811227,0.9469127258746636,0.9812995001922338,1)\", \"rgba(0.9071126489811611,0.9449442522106881,0.9803152633602461,1)\", \"rgba(0.9040369088811996,0.9429757785467128,0.9793310265282583,1)\", \"rgba(0.900961168781238,0.9410073048827373,0.9783467896962706,1)\", \"rgba(0.8978854286812764,0.939038831218762,0.977362552864283,1)\", \"rgba(0.8948096885813149,0.9370703575547865,0.9763783160322953,1)\", \"rgba(0.8917339484813533,0.9351018838908112,0.9753940792003075,1)\", \"rgba(0.8886582083813918,0.9331334102268358,0.9744098423683198,1)\", \"rgba(0.8825067281814687,0.929196462898885,0.9724413687043445,1)\", \"rgba(0.8794309880815071,0.9272279892349096,0.9714571318723568,1)\", \"rgba(0.8763552479815455,0.9252595155709342,0.970472895040369,1)\", \"rgba(0.873279507881584,0.9232910419069588,0.9694886582083814,1)\", \"rgba(0.8702191464821223,0.9213225682429834,0.9685044213763937,1)\", \"rgba(0.8672664359861592,0.9193540945790081,0.967520184544406,1)\", \"rgba(0.8643137254901961,0.9173856209150326,0.9665359477124184,1)\", \"rgba(0.861361014994233,0.9154171472510573,0.9655517108804306,1)\", \"rgba(0.8554555940023069,0.9114801999231065,0.9635832372164552,1)\", \"rgba(0.8525028835063437,0.909511726259131,0.9625990003844676,1)\", \"rgba(0.8495501730103806,0.9075432525951557,0.9616147635524798,1)\", \"rgba(0.8465974625144176,0.9055747789311802,0.9606305267204921,1)\", \"rgba(0.8436447520184545,0.9036063052672049,0.9596462898885044,1)\", \"rgba(0.8406920415224913,0.9016378316032295,0.9586620530565167,1)\", \"rgba(0.8377393310265283,0.8996693579392541,0.9576778162245291,1)\", \"rgba(0.8347866205305652,0.8977008842752787,0.9566935793925413,1)\", \"rgba(0.828881199538639,0.8937639369473279,0.954725105728566,1)\", \"rgba(0.8259284890426759,0.8917954632833525,0.9537408688965783,1)\", \"rgba(0.8229757785467128,0.8898269896193771,0.9527566320645905,1)\", \"rgba(0.8200230680507498,0.8878585159554018,0.9517723952326028,1)\", \"rgba(0.8170703575547866,0.8858900422914263,0.9507881584006151,1)\", \"rgba(0.8141176470588235,0.883921568627451,0.9498039215686275,1)\", \"rgba(0.8111649365628605,0.8819530949634755,0.9488196847366398,1)\", \"rgba(0.8082122260668974,0.8799846212995002,0.947835447904652,1)\", \"rgba(0.8023068050749712,0.8760476739715494,0.9458669742406767,1)\", \"rgba(0.7993540945790081,0.8740792003075739,0.944882737408689,1)\", \"rgba(0.7964013840830451,0.8721107266435986,0.9438985005767013,1)\", \"rgba(0.7934486735870819,0.8701422529796232,0.9429142637447135,1)\", \"rgba(0.7904959630911188,0.8681737793156478,0.9419300269127259,1)\", \"rgba(0.7875432525951558,0.8662053056516724,0.9409457900807382,1)\", \"rgba(0.7845905420991927,0.864236831987697,0.9399615532487505,1)\", \"rgba(0.7816378316032295,0.8622683583237216,0.9389773164167627,1)\", \"rgba(0.7752402921953095,0.8583006535947711,0.9368242983467897,1)\", \"rgba(0.7703191080353711,0.8562091503267973,0.9351018838908113,1)\", \"rgba(0.7653979238754326,0.8541176470588235,0.9333794694348327,1)\", \"rgba(0.760476739715494,0.8520261437908496,0.9316570549788543,1)\", \"rgba(0.7555555555555555,0.8499346405228758,0.9299346405228758,1)\", \"rgba(0.7506343713956171,0.8478431372549019,0.9282122260668974,1)\", \"rgba(0.7457131872356786,0.8457516339869281,0.9264898116109189,1)\", \"rgba(0.7407920030757401,0.8436601307189542,0.9247673971549404,1)\", \"rgba(0.7358708189158016,0.8415686274509804,0.923044982698962,1)\", \"rgba(0.7260284505959247,0.8373856209150327,0.919600153787005,1)\", \"rgba(0.7211072664359862,0.8352941176470587,0.9178777393310266,1)\", \"rgba(0.7161860822760477,0.8332026143790849,0.916155324875048,1)\", \"rgba(0.7112648981161092,0.831111111111111,0.9144329104190696,1)\", \"rgba(0.7063437139561707,0.8290196078431372,0.9127104959630911,1)\", \"rgba(0.7014225297962322,0.8269281045751633,0.9109880815071126,1)\", \"rgba(0.6965013456362937,0.8248366013071895,0.9092656670511342,1)\", \"rgba(0.6915801614763553,0.8227450980392157,0.9075432525951557,1)\", \"rgba(0.6817377931564783,0.818562091503268,0.9040984236831988,1)\", \"rgba(0.6768166089965398,0.8164705882352941,0.9023760092272203,1)\", \"rgba(0.6718954248366014,0.8143790849673203,0.9006535947712418,1)\", \"rgba(0.6669742406766629,0.8122875816993463,0.8989311803152633,1)\", \"rgba(0.6620530565167244,0.8101960784313725,0.8972087658592849,1)\", \"rgba(0.6571318723567858,0.8081045751633986,0.8954863514033065,1)\", \"rgba(0.6522106881968474,0.8060130718954248,0.8937639369473279,1)\", \"rgba(0.647289504036909,0.803921568627451,0.8920415224913495,1)\", \"rgba(0.6374471357170319,0.7997385620915032,0.8885966935793925,1)\", \"rgba(0.6325259515570935,0.7976470588235294,0.8868742791234141,1)\", \"rgba(0.627604767397155,0.7955555555555556,0.8851518646674356,1)\", \"rgba(0.6226835832372165,0.7934640522875817,0.8834294502114571,1)\", \"rgba(0.6172549019607844,0.7908650519031142,0.8818454440599769,1)\", \"rgba(0.6109803921568627,0.7874202229911572,0.8804921184159938,1)\", \"rgba(0.6047058823529413,0.7839753940792004,0.8791387927720108,1)\", \"rgba(0.5984313725490196,0.7805305651672433,0.8777854671280276,1)\", \"rgba(0.5858823529411765,0.7736409073433295,0.8750788158400615,1)\", \"rgba(0.5796078431372549,0.7701960784313725,0.8737254901960784,1)\", \"rgba(0.5733333333333334,0.7667512495194155,0.8723721645520953,1)\", \"rgba(0.5670588235294118,0.7633064206074587,0.8710188389081123,1)\", \"rgba(0.5607843137254902,0.7598615916955017,0.8696655132641292,1)\", \"rgba(0.5545098039215688,0.7564167627835449,0.8683121876201461,1)\", \"rgba(0.548235294117647,0.7529719338715878,0.866958861976163,1)\", \"rgba(0.5419607843137255,0.7495271049596309,0.86560553633218,1)\", \"rgba(0.5294117647058824,0.742637447135717,0.8628988850442137,1)\", \"rgba(0.5231372549019608,0.73919261822376,0.8615455594002307,1)\", \"rgba(0.5168627450980392,0.7357477893118032,0.8601922337562476,1)\", \"rgba(0.5105882352941177,0.7323029603998462,0.8588389081122645,1)\", \"rgba(0.5043137254901962,0.7288581314878894,0.8574855824682814,1)\", \"rgba(0.4980392156862745,0.7254133025759324,0.8561322568242984,1)\", \"rgba(0.491764705882353,0.7219684736639754,0.8547789311803152,1)\", \"rgba(0.48549019607843136,0.7185236447520185,0.8534256055363322,1)\", \"rgba(0.47294117647058825,0.7116339869281045,0.850718954248366,1)\", \"rgba(0.4666666666666667,0.7081891580161477,0.8493656286043829,1)\", \"rgba(0.46039215686274515,0.7047443291041907,0.8480123029603999,1)\", \"rgba(0.4541176470588236,0.7012995001922339,0.8466589773164168,1)\", \"rgba(0.447843137254902,0.6978546712802769,0.8453056516724337,1)\", \"rgba(0.4415686274509804,0.6944098423683199,0.8439523260284506,1)\", \"rgba(0.43529411764705883,0.690965013456363,0.8425990003844676,1)\", \"rgba(0.4290196078431373,0.687520184544406,0.8412456747404844,1)\", \"rgba(0.41708573625528644,0.6806305267204922,0.8382314494425221,1)\", \"rgba(0.4120415224913495,0.6771856978085352,0.8362629757785467,1)\", \"rgba(0.4069973087274125,0.6737408688965782,0.8342945021145713,1)\", \"rgba(0.4019530949634756,0.6702960399846213,0.8323260284505959,1)\", \"rgba(0.3969088811995388,0.6668512110726644,0.8303575547866207,1)\", \"rgba(0.3918646674356017,0.6634063821607075,0.8283890811226452,1)\", \"rgba(0.38682045367166473,0.6599615532487505,0.8264206074586697,1)\", \"rgba(0.3817762399077278,0.6565167243367935,0.8244521337946944,1)\", \"rgba(0.37673202614379087,0.6530718954248366,0.8224836601307189,1)\", \"rgba(0.366643598615917,0.6461822376009227,0.8185467128027681,1)\", \"rgba(0.36159938485198,0.6427374086889658,0.8165782391387928,1)\", \"rgba(0.3565551710880431,0.6392925797770088,0.8146097654748174,1)\", \"rgba(0.35151095732410614,0.6358477508650519,0.812641291810842,1)\", \"rgba(0.34646674356016915,0.632402921953095,0.8106728181468666,1)\", \"rgba(0.3414225297962322,0.628958093041138,0.8087043444828912,1)\", \"rgba(0.3363783160322953,0.6255132641291811,0.8067358708189158,1)\", \"rgba(0.33133410226835835,0.6220684352172241,0.8047673971549404,1)\", \"rgba(0.32124567474048443,0.6151787773933103,0.8008304498269896,1)\", \"rgba(0.31620146097654767,0.6117339484813534,0.7988619761630142,1)\", \"rgba(0.31115724721261057,0.6082891195693964,0.7968935024990389,1)\", \"rgba(0.3061130334486736,0.6048442906574394,0.7949250288350634,1)\", \"rgba(0.30106881968473664,0.6013994617454825,0.7929565551710881,1)\", \"rgba(0.2960246059207997,0.5979546328335256,0.7909880815071126,1)\", \"rgba(0.2909803921568628,0.5945098039215686,0.7890196078431373,1)\", \"rgba(0.28593617839292584,0.5910649750096116,0.7870511341791618,1)\", \"rgba(0.2758477508650519,0.5841753171856978,0.783114186851211,1)\", \"rgba(0.27080353710111493,0.5807304882737409,0.7811457131872357,1)\", \"rgba(0.265759323337178,0.5772856593617839,0.7791772395232603,1)\", \"rgba(0.26071510957324107,0.5738408304498269,0.7772087658592849,1)\", \"rgba(0.25628604382929643,0.5700115340253749,0.7751633986928105,1)\", \"rgba(0.2522260668973472,0.5659515570934256,0.7730718954248366,1)\", \"rgba(0.24816608996539793,0.5618915801614763,0.7709803921568628,1)\", \"rgba(0.2441061130334487,0.5578316032295271,0.768888888888889,1)\", \"rgba(0.23598615916955018,0.5497116493656286,0.7647058823529412,1)\", \"rgba(0.23192618223760095,0.5456516724336793,0.7626143790849673,1)\", \"rgba(0.2278662053056517,0.54159169550173,0.7605228758169935,1)\", \"rgba(0.22380622837370245,0.5375317185697808,0.7584313725490196,1)\", \"rgba(0.2197462514417532,0.5334717416378316,0.7563398692810458,1)\", \"rgba(0.21568627450980393,0.5294117647058824,0.7542483660130719,1)\", \"rgba(0.2116262975778547,0.5253517877739331,0.7521568627450981,1)\", \"rgba(0.20756632064590544,0.5212918108419838,0.7500653594771242,1)\", \"rgba(0.19944636678200695,0.5131718569780853,0.7458823529411764,1)\", \"rgba(0.19538638985005768,0.5091118800461361,0.7437908496732026,1)\", \"rgba(0.19132641291810842,0.5050519031141868,0.7416993464052288,1)\", \"rgba(0.18726643598615916,0.5009919261822375,0.7396078431372549,1)\", \"rgba(0.18320645905420993,0.49693194925028833,0.7375163398692811,1)\", \"rgba(0.1791464821222607,0.49287197231833907,0.7354248366013072,1)\", \"rgba(0.17508650519031155,0.4888119953863899,0.7333333333333334,1)\", \"rgba(0.17102652825836218,0.4847520184544406,0.7312418300653595,1)\", \"rgba(0.16290657439446368,0.4766320645905421,0.7270588235294118,1)\", \"rgba(0.15884659746251442,0.4725720876585928,0.724967320261438,1)\", \"rgba(0.1547866205305652,0.46851211072664356,0.722875816993464,1)\", \"rgba(0.15072664359861593,0.4644521337946943,0.7207843137254902,1)\", \"rgba(0.14666666666666667,0.46039215686274504,0.7186928104575163,1)\", \"rgba(0.1426066897347174,0.45633217993079583,0.7166013071895425,1)\", \"rgba(0.13854671280276817,0.4522722029988466,0.7145098039215687,1)\", \"rgba(0.13448673587081894,0.4482122260668973,0.7124183006535948,1)\", \"rgba(0.1271049596309112,0.4401845444059977,0.7074971164936563,1)\", \"rgba(0.12402921953094964,0.4362475970780469,0.7044213763936947,1)\", \"rgba(0.1209534794309881,0.4323106497500961,0.7013456362937333,1)\", \"rgba(0.11787773933102653,0.4283737024221453,0.6982698961937717,1)\", \"rgba(0.11480199923106507,0.42443675509419465,0.6951941560938102,1)\", \"rgba(0.11172625913110343,0.42049980776624374,0.6921184159938486,1)\", \"rgba(0.10865051903114188,0.41656286043829294,0.689042675893887,1)\", \"rgba(0.10557477893118032,0.41262591311034214,0.6859669357939254,1)\", \"rgba(0.10249903883121878,0.4086889657823914,0.6828911956939638,1)\", \"rgba(0.09634755863129565,0.4008150711264898,0.6767397154940408,1)\", \"rgba(0.09327181853133411,0.396878123798539,0.6736639753940792,1)\", \"rgba(0.09019607843137256,0.39294117647058824,0.6705882352941177,1)\", \"rgba(0.087120338331411,0.38900422914263744,0.6675124951941561,1)\", \"rgba(0.08404459823144944,0.38506728181468663,0.6644367550941945,1)\", \"rgba(0.0809688581314879,0.38113033448673583,0.661361014994233,1)\", \"rgba(0.07789311803152635,0.37719338715878503,0.6582852748942715,1)\", \"rgba(0.07481737793156479,0.3732564398308343,0.6552095347943099,1)\", \"rgba(0.06866589773164168,0.3653825451749327,0.6490580545943868,1)\", \"rgba(0.06559015763168022,0.36144559784698205,0.6459823144944253,1)\", \"rgba(0.06251441753171857,0.35750865051903113,0.6429065743944637,1)\", \"rgba(0.059438677431757014,0.35357170319108033,0.6398308342945022,1)\", \"rgba(0.05636293733179547,0.34963475586312953,0.6367550941945406,1)\", \"rgba(0.05328719723183391,0.34569780853517873,0.6336793540945791,1)\", \"rgba(0.05021145713187236,0.341760861207228,0.6306036139946175,1)\", \"rgba(0.0471357170319108,0.3378239138792772,0.6275278738946559,1)\", \"rgba(0.040984236831987694,0.32995001922337563,0.6213763936947329,1)\", \"rgba(0.03790849673202615,0.32601307189542483,0.6183006535947713,1)\", \"rgba(0.03483275663206459,0.32207612456747403,0.6152249134948098,1)\", \"rgba(0.03175701653210304,0.31813917723952323,0.6121491733948482,1)\", \"rgba(0.03137254901960784,0.3140945790080738,0.606489811610919,1)\", \"rgba(0.03137254901960784,0.31003460207612454,0.6004613610149943,1)\", \"rgba(0.03137254901960784,0.3059746251441753,0.5944329104190696,1)\", \"rgba(0.03137254901960784,0.301914648212226,0.588404459823145,1)\", \"rgba(0.03137254901960784,0.29379469434832756,0.5763475586312957,1)\", \"rgba(0.03137254901960784,0.2897347174163783,0.570319108035371,1)\", \"rgba(0.03137254901960784,0.28567474048442904,0.5642906574394464,1)\", \"rgba(0.03137254901960784,0.28161476355247983,0.5582622068435218,1)\", \"rgba(0.03137254901960784,0.27755478662053057,0.5522337562475971,1)\", \"rgba(0.03137254901960784,0.2734948096885813,0.5462053056516725,1)\", \"rgba(0.03137254901960784,0.26943483275663205,0.5401768550557479,1)\", \"rgba(0.03137254901960784,0.2653748558246828,0.5341484044598231,1)\", \"rgba(0.03137254901960784,0.2572549019607843,0.5220915032679738,1)\", \"rgba(0.03137254901960784,0.25319492502883506,0.5160630526720492,1)\", \"rgba(0.03137254901960784,0.2491349480968858,0.5100346020761246,1)\", \"rgba(0.03137254901960784,0.24507497116493654,0.5040061514801999,1)\", \"rgba(0.03137254901960784,0.2410149942329873,0.4979777008842753,1)\", \"rgba(0.03137254901960784,0.23695501730103807,0.4919492502883507,1)\", \"rgba(0.03137254901960784,0.23289504036908892,0.4859207996924262,1)\", \"rgba(0.03137254901960784,0.22883506343713955,0.47989234909650136,1)\", \"rgba(0.03137254901960784,0.22071510957324106,0.46783544790465204,1)\", \"rgba(0.03137254901960784,0.2166551326412918,0.46180699730872743,1)\", \"rgba(0.03137254901960784,0.21259515570934256,0.4557785467128028,1)\", \"rgba(0.03137254901960784,0.2085351787773933,0.4497500961168781,1)\", \"rgba(0.03137254901960784,0.20447520184544404,0.4437216455209535,1)\", \"rgba(0.03137254901960784,0.2004152249134948,0.43769319492502884,1)\", \"rgba(0.03137254901960784,0.19635524798154555,0.4316647443291042,1)\", \"rgba(.99,.5,.2,1.)\"]}, \"text\": [\"George Washington\", \"George Washington\", \"George Washington\", \"George Washington\", \"George Washington\", \"George Washington\", \"George Washington\", \"George Washington\", \"John Adams\", \"John Adams\", \"John Adams\", \"John Adams\", \"Thomas Jefferson\", \"Thomas Jefferson\", \"Thomas Jefferson\", \"Thomas Jefferson\", \"Thomas Jefferson\", \"Thomas Jefferson\", \"Thomas Jefferson\", \"Thomas Jefferson\", \"James Madison\", \"James Madison\", \"James Madison\", \"James Madison\", \"James Madison\", \"James Madison\", \"James Madison\", \"James Madison\", \"James Monroe\", \"James Monroe\", \"James Monroe\", \"James Monroe\", \"James Monroe\", \"James Monroe\", \"James Monroe\", \"James Monroe\", \"John Quincy Adams\", \"John Quincy Adams\", \"John Quincy Adams\", \"John Quincy Adams\", \"Andrew Jackson\", \"Andrew Jackson\", \"Andrew Jackson\", \"Andrew Jackson\", \"Andrew Jackson\", \"Andrew Jackson\", \"Andrew Jackson\", \"Andrew Jackson\", \"Martin van Buren\", \"Martin van Buren\", \"Martin van Buren\", \"Martin van Buren\", \"John Tyler\", \"John Tyler\", \"John Tyler\", \"John Tyler\", \"James Polk\", \"James Polk\", \"James Polk\", \"James Polk\", \"Zachary Taylor\", \"Millard Fillmore\", \"Millard Fillmore\", \"Millard Fillmore\", \"Franklin Pierce\", \"Franklin Pierce\", \"Franklin Pierce\", \"Franklin Pierce\", \"James Buchanan\", \"James Buchanan\", \"James Buchanan\", \"James Buchanan\", \"Abraham Lincoln\", \"Abraham Lincoln\", \"Abraham Lincoln\", \"Abraham Lincoln\", \"Andrew Johnson\", \"Andrew Johnson\", \"Andrew Johnson\", \"Andrew Johnson\", \"Ulysses S. Grant\", \"Ulysses S. Grant\", \"Ulysses S. Grant\", \"Ulysses S. Grant\", \"Ulysses S. Grant\", \"Ulysses S. Grant\", \"Ulysses S. Grant\", \"Ulysses S. Grant\", \"Rutherford B. Hayes\", \"Rutherford B. Hayes\", \"Rutherford B. Hayes\", \"Rutherford B. Hayes\", \"Chester A. Arthur\", \"Chester A. Arthur\", \"Chester A. Arthur\", \"Chester A. Arthur\", \"Grover Cleveland\", \"Grover Cleveland\", \"Grover Cleveland\", \"Grover Cleveland\", \"Benjamin Harrison\", \"Benjamin Harrison\", \"Benjamin Harrison\", \"Benjamin Harrison\", \"William McKinley\", \"William McKinley\", \"William McKinley\", \"William McKinley\", \"Theodore Roosevelt\", \"Theodore Roosevelt\", \"Theodore Roosevelt\", \"Theodore Roosevelt\", \"Theodore Roosevelt\", \"Theodore Roosevelt\", \"Theodore Roosevelt\", \"Theodore Roosevelt\", \"William H. Taft\", \"William H. Taft\", \"William H. Taft\", \"William H. Taft\", \"Woodrow Wilson\", \"Woodrow Wilson\", \"Woodrow Wilson\", \"Woodrow Wilson\", \"Woodrow Wilson\", \"Woodrow Wilson\", \"Woodrow Wilson\", \"Woodrow Wilson\", \"Warren Harding\", \"Warren Harding\", \"Calvin Coolidge\", \"Calvin Coolidge\", \"Calvin Coolidge\", \"Calvin Coolidge\", \"Calvin Coolidge\", \"Calvin Coolidge\", \"Herbert Hoover\", \"Herbert Hoover\", \"Herbert Hoover\", \"Herbert Hoover\", \"Franklin D. Roosevelt\", \"Franklin D. Roosevelt\", \"Franklin D. Roosevelt\", \"Franklin D. Roosevelt\", \"Franklin D. Roosevelt\", \"Franklin D. Roosevelt\", \"Franklin D. Roosevelt\", \"Franklin D. Roosevelt\", \"Franklin D. Roosevelt\", \"Franklin D. Roosevelt\", \"Franklin D. Roosevelt\", \"Franklin D. Roosevelt\", \"Harry S. Truman\", \"Harry S. Truman\", \"Harry S. Truman\", \"Harry S. Truman\", \"Harry S. Truman\", \"Harry S. Truman\", \"Harry S. Truman\", \"Harry S. Truman\", \"Dwight D. Eisenhower\", \"Dwight D. Eisenhower\", \"Dwight D. Eisenhower\", \"Dwight D. Eisenhower\", \"Dwight D. Eisenhower\", \"Dwight D. Eisenhower\", \"Dwight D. Eisenhower\", \"Dwight D. Eisenhower\", \"Dwight D. Eisenhower\", \"John F. Kennedy\", \"John F. Kennedy\", \"John F. Kennedy\", \"Lyndon B. Johnson\", \"Lyndon B. Johnson\", \"Lyndon B. Johnson\", \"Lyndon B. Johnson\", \"Lyndon B. Johnson\", \"Lyndon B. Johnson\", \"Richard Nixon\", \"Richard Nixon\", \"Richard Nixon\", \"Richard Nixon\", \"Richard Nixon\", \"Gerald R. Ford\", \"Gerald R. Ford\", \"Gerald R. Ford\", \"Jimmy Carter\", \"Jimmy Carter\", \"Jimmy Carter\", \"Jimmy Carter\", \"Ronald Reagan\", \"Ronald Reagan\", \"Ronald Reagan\", \"Ronald Reagan\", \"Ronald Reagan\", \"Ronald Reagan\", \"Ronald Reagan\", \"George H.W. Bush\", \"George H.W. Bush\", \"George H.W. Bush\", \"George H.W. Bush\", \"William J. Clinton\", \"William J. Clinton\", \"William J. Clinton\", \"William J. Clinton\", \"William J. Clinton\", \"William J. Clinton\", \"William J. Clinton\", \"William J. Clinton\", \"George W. Bush\", \"George W. Bush\", \"George W. Bush\", \"George W. Bush\", \"George W. Bush\", \"George W. Bush\", \"George W. Bush\", \"George W. Bush\", \"George W. Bush\", \"Barack Obama\", \"Barack Obama\", \"Barack Obama\", \"Barack Obama\", \"Barack Obama\", \"Barack Obama\", \"Barack Obama\", \"Barack Obama\", \"Donald J. Trump\"]}], {}, {\"showLink\": true, \"linkText\": \"Export to plot.ly\"})});</script>"
      ],
      "text/vnd.plotly.v1+html": [
       "<div id=\"3e98c5d4-00a6-476b-b4ea-9023b993c024\" style=\"height: 525px; width: 100%;\" class=\"plotly-graph-div\"></div><script type=\"text/javascript\">require([\"plotly\"], function(Plotly) { window.PLOTLYENV=window.PLOTLYENV || {};window.PLOTLYENV.BASE_URL=\"https://plot.ly\";Plotly.newPlot(\"3e98c5d4-00a6-476b-b4ea-9023b993c024\", [{\"type\": \"scatter\", \"x\": [0.030591965109684004, 0.04007369176074209, 0.06430666700714806, 0.05283111998639291, 0.05690289043187424, 0.04879007402927501, 0.03315799099718439, 0.047827288994714154, 0.036461651364122785, 0.038445284765713864, 0.048557896240849566, 0.031129594025490204, 0.007680355002734993, 0.017806196781550834, 0.024406456370476226, 0.035673638570957886, 0.02893786623096197, 0.02631956519959176, 0.015970539902398863, 0.04093377800414704, 0.04823931711664126, 0.06586046770567842, 0.0381369517343354, 0.047810774095566055, 0.05707882327549351, 0.04008017429401896, 0.07189077580799956, 0.05836502633405005, 0.04055763211744435, 0.04011067598727696, 0.046471813119832985, 0.04206235932780161, 0.05512873965865618, 0.04198837912235829, 0.05016157152971252, 0.03679259693179969, 0.06713702469419304, 0.06259171281929055, 0.0808265901964942, 0.07552612813197848, 0.04565914578323743, 0.0445934448245595, 0.03415256621527145, 0.04027642919991633, 0.05937375007906951, 0.0483506307057069, 0.051544755736818174, 0.05474839550533253, 0.054878308898634855, 0.055030286248163154, 0.04169085288827992, 0.05493928875097367, 0.0539988305974105, 0.05525764944812688, 0.0541422772896232, 0.05234971510657177, 0.049754874020660866, 0.04573279219208348, 0.03613706386356977, 0.05191186079211317, 0.05059804422029439, 0.03987551136571253, 0.052209703885607306, 0.050322810486422745, 0.050608138780881384, 0.047487406565632544, 0.0664537760567521, 0.06296217778849601, 0.03785921275089062, 0.04156489834580216, 0.04801857886396033, 0.04894380658446826, 0.04126696150800359, 0.02435602294654509, 0.045928736350393934, 0.044282982475102615, 0.05710126702410114, 0.060158230612371355, 0.03955212159311276, 0.05364570089513418, 0.05595713173187464, 0.05482150360940627, 0.0629882932756068, 0.06415784098559557, 0.0615720195182495, 0.04915801033942364, 0.05087481342930786, 0.06928001715644065, 0.05510689005068132, 0.06549523716758295, 0.06339494539364074, 0.04936951408686194, 0.06565821581823486, 0.0636444462671388, 0.0628343646235207, 0.06931754229471349, 0.05787598150116975, 0.05598985499674594, 0.034737072934386194, 0.04927226581786029, 0.0525818995732307, 0.04983961466042948, 0.05566578307632555, 0.04837153798901103, 0.055155664703585836, 0.06567212504036689, 0.061049547298943616, 0.059355489285321285, 0.021926634102144127, 0.027078770818848956, 0.0541464481160321, 0.020267784086575022, 0.028750598817128603, 0.026495713792108647, 0.03287138966262318, 0.030024895493703973, 0.055708979493812254, 0.06346372341069553, 0.05322852231087909, 0.05336670513396197, 0.012807423313508887, -0.05913079935736365, -0.012673003889624793, 0.04682062155179731, -0.011543063037495617, 0.0007782205842364887, 0.02187420848656274, 0.04014566606849175, -0.00031169370809507047, 0.011169995542917532, 0.01511662415914189, 0.016328568649627145, 0.016063859150285062, 0.016523873347955825, 0.01306314788202878, 0.015092637990965118, 0.03415696368286032, 0.04125006559505391, 0.014213031757815436, 0.04922516537976737, 0.009063413364864596, 0.0016513702151159555, 0.003976164817274783, 0.01143107867513625, 0.008544564271025373, -0.03882749917093754, -0.01923295869881385, -0.029628261851300797, -0.05990180177369739, -0.04863834983270965, -0.041871135254811453, -0.019974513236834426, 0.0020620703767024046, -0.007719928006656393, -0.04999437253249066, -0.043663718386607, -0.043693803388398775, -0.07503555018665478, -0.07333025280443264, -0.0355494928114891, -0.011756345020006512, -0.027336138829272244, -0.038088935500284124, -0.016760929245906345, -0.024099399787444138, -0.03571287801134569, -0.05092847705911426, -0.04518831407692289, -0.02611941089947245, -0.057728078559184846, -0.0556285406216535, -0.05431903668013413, -0.10565761599039467, -0.0823449031029507, -0.07655905649178182, -0.11395890354435426, -0.07958655408930998, -0.0435561466593384, -0.05215931601357016, -0.05274662890512531, -0.05359930810907418, -0.05689191377275142, -0.05614333670461216, -0.05930725321059512, -0.08751896273255073, -0.04629092022973594, -0.0968516979359588, -0.10256994191111586, -0.08823283412706555, -0.03187260585491997, -0.08735482833504926, -0.0801516976447838, -0.12575121167793554, -0.12758506507631825, -0.10076064875244702, -0.09935545916995506, -0.07722355908037021, -0.10390477505858828, -0.09088144613740608, -0.0918363626235879, -0.11651695297346676, -0.11857157018064189, -0.1371342222496772, -0.1259749238441606, -0.13204307061992307, -0.137365648784805, -0.12308328545480661, -0.13377745846104577, -0.14193076550663147, -0.1500376934411416, -0.09597637263222794, -0.1236863445074882, -0.09276093936591628, -0.10014096845429873, -0.1072054691749318, -0.11624454517887643, -0.10659814237897097, -0.11654754922538686, -0.13850555666314354, -0.13276946891865, -0.12402263880366558, -0.1238432171639788, -0.1384770773145811, -0.14367912526072946, -0.15703208317533313, -0.1307193473039697, -0.1207251847654317], \"y\": [-0.06499179182386532, -0.06572848350617892, -0.06654012761838317, -0.06636595767804777, -0.06605617184130039, -0.0664302141883619, -0.06589996234385108, -0.06766983609340689, -0.06646620196764184, -0.06703007420998784, -0.06621145053601914, -0.06559551507571958, -0.06674150574367668, -0.06671930485616477, -0.0668403167210356, -0.06679285374240723, -0.06704279840159548, -0.06686062764908567, -0.06594622831120202, -0.06744579421520387, -0.06609275268703751, -0.06679418825919516, -0.06677269886625434, -0.06714818380047945, -0.06653732951518793, -0.06450758109709206, -0.06692699324464292, -0.06773096091641481, -0.06824784459788964, -0.06722198347409655, -0.06671047362825144, -0.06775459346521061, -0.06778057984399961, -0.06790267258599156, -0.06851710485709432, -0.06869339853064475, -0.06798491186956201, -0.06812982917205772, -0.06709150546126968, -0.06738636901222775, -0.06903580248106764, -0.06913790360264352, -0.06881794254733606, -0.06906913253233396, -0.06835515668036922, -0.06891804605995626, -0.0686188534576219, -0.06878446158478208, -0.06888194203964779, -0.06888801627412047, -0.06891101384534293, -0.06867402724388147, -0.06856997244470392, -0.06845613678018325, -0.0685797738384194, -0.06858966142718485, -0.06893234217981861, -0.0678271951341546, -0.06865000070192218, -0.06887854652095349, -0.06875146634959665, -0.06902614223582518, -0.06907145890592746, -0.06894969287504733, -0.06893167624163025, -0.06888622521439995, -0.06808422928154013, -0.06822401490504268, -0.06877412456852539, -0.06901127486410447, -0.06837836945655226, -0.06848001168262152, -0.06859284021386844, -0.06808427068610524, -0.0684425151540494, -0.06839958624125102, -0.06843822523278664, -0.06827760079093229, -0.06894788938373397, -0.06831251790664532, -0.0686638792122283, -0.06868336238545363, -0.06820229923818565, -0.06748593239021673, -0.06834875863436958, -0.06874669423839325, -0.06890358859051761, -0.06793643036353927, -0.0684061705788359, -0.06820435180994629, -0.06853927885213969, -0.06871471388759921, -0.06671823372243624, -0.06626222367556867, -0.06628650930357208, -0.06791125801252881, -0.06878022903615587, -0.06876431366318954, -0.06707470219595336, -0.06851566781327145, -0.06888779633628442, -0.06874904395218746, -0.06862311359630953, -0.06844189742337387, -0.06860357898456415, -0.06808129665790791, -0.06851827565837797, -0.06851405744551008, -0.06919087259332428, -0.06858577832461299, -0.06843659299583406, -0.06903780821190549, -0.06899467620638346, -0.06911470534349799, -0.0690861890235967, -0.06867933398174597, -0.06871730529356117, -0.06744280025720616, -0.06871433514115004, -0.06902508273283309, -0.0678264467051713, -0.06470956678705231, -0.06765300815027965, -0.0661599926820248, -0.06664089045728375, -0.06790286155137605, -0.06798068877126535, -0.06717845789394913, -0.06763020282537813, -0.06754487875957937, -0.0678644278400859, -0.06859132798700046, -0.06877174138436837, -0.06865279724853467, -0.06817447644886979, -0.06853611435893832, -0.06880904145985814, -0.06653754632584469, -0.06688418025138777, -0.05965786191020484, -0.06619141535081222, -0.06689901757765175, -0.06709663203243063, -0.06612635114579343, -0.06706975114256024, -0.06499697282801127, -0.06638354990139267, -0.06611485883872642, -0.06379242022128528, -0.06526286875347853, -0.06590970826288453, -0.0675721562103868, -0.06745584176696416, -0.06785919864447977, -0.06633464571150559, -0.06600085395260553, -0.06715853167500485, -0.0639344427146368, -0.06530922583055408, -0.06705207325729559, -0.067939713755909, -0.06732291393693556, -0.06649284968643589, -0.06811203918563825, -0.06698016939644766, -0.06610823935213123, -0.06651409673610485, -0.0664960493913479, -0.06467814711351923, -0.06627377213897083, -0.06646068622181021, -0.06585162148382892, -0.060923995223263055, -0.06559066882821128, -0.06495138931175287, -0.0636054889170053, -0.06520521242677997, -0.06559581259315142, -0.06586579752421001, -0.06564309866948546, -0.06626981375266378, -0.06414898703677105, -0.06617237639916913, -0.06397654858966802, -0.06438547976839393, -0.06689007235519473, -0.06431450524358093, -0.06196560889891457, -0.062399529099658735, -0.0675177169707582, -0.0642928911839629, -0.06592797732061272, -0.06121110020049399, -0.06089988653147036, -0.06219527374753815, -0.06279954195404847, -0.06414507039754686, -0.06324367156759245, -0.06355092194477566, -0.06405507694054159, -0.06120275147122127, -0.06255797944266848, -0.059887380156022796, -0.0620316025743181, -0.0601139596424871, -0.060533444120604955, -0.062334832339428436, -0.06049092469999364, -0.059894434458601646, -0.05636848001549949, -0.05852147732216397, -0.058635803128084016, -0.0613583899129074, -0.0625686947559853, -0.062298566575396105, -0.06230672514503121, -0.06174930872473284, -0.06134841650217331, -0.06012841430579661, -0.060013652762455925, -0.06166872477162144, -0.05921878203944327, -0.0602461723306501, -0.05892392536747393, -0.05709189748153218, -0.05916269805299199, -0.06049515179000185], \"mode\": \"markers\", \"marker\": {\"color\": [\"rgba(0.9655517108804306,0.9823452518262207,0.9990157631680123,1)\", \"rgba(0.9624759707804691,0.9803767781622452,0.9980315263360247,1)\", \"rgba(0.9594002306805075,0.9784083044982699,0.9970472895040369,1)\", \"rgba(0.9563244905805459,0.9764398308342944,0.9960630526720492,1)\", \"rgba(0.9532487504805844,0.9744713571703191,0.9950788158400615,1)\", \"rgba(0.9501730103806229,0.9725028835063436,0.9940945790080739,1)\", \"rgba(0.9470972702806613,0.9705344098423683,0.9931103421760861,1)\", \"rgba(0.9440215301806998,0.9685659361783929,0.9921261053440984,1)\", \"rgba(0.9378700499807766,0.9646289888504421,0.990157631680123,1)\", \"rgba(0.9347943098808151,0.9626605151864667,0.9891733948481354,1)\", \"rgba(0.9317185697808535,0.9606920415224913,0.9881891580161476,1)\", \"rgba(0.928642829680892,0.9587235678585159,0.9872049211841599,1)\", \"rgba(0.9255670895809304,0.9567550941945405,0.9862206843521722,1)\", \"rgba(0.9224913494809689,0.9547866205305651,0.9852364475201846,1)\", \"rgba(0.9194156093810073,0.9528181468665897,0.9842522106881968,1)\", \"rgba(0.9163398692810457,0.9508496732026144,0.9832679738562091,1)\", \"rgba(0.9101883890811227,0.9469127258746636,0.9812995001922338,1)\", \"rgba(0.9071126489811611,0.9449442522106881,0.9803152633602461,1)\", \"rgba(0.9040369088811996,0.9429757785467128,0.9793310265282583,1)\", \"rgba(0.900961168781238,0.9410073048827373,0.9783467896962706,1)\", \"rgba(0.8978854286812764,0.939038831218762,0.977362552864283,1)\", \"rgba(0.8948096885813149,0.9370703575547865,0.9763783160322953,1)\", \"rgba(0.8917339484813533,0.9351018838908112,0.9753940792003075,1)\", \"rgba(0.8886582083813918,0.9331334102268358,0.9744098423683198,1)\", \"rgba(0.8825067281814687,0.929196462898885,0.9724413687043445,1)\", \"rgba(0.8794309880815071,0.9272279892349096,0.9714571318723568,1)\", \"rgba(0.8763552479815455,0.9252595155709342,0.970472895040369,1)\", \"rgba(0.873279507881584,0.9232910419069588,0.9694886582083814,1)\", \"rgba(0.8702191464821223,0.9213225682429834,0.9685044213763937,1)\", \"rgba(0.8672664359861592,0.9193540945790081,0.967520184544406,1)\", \"rgba(0.8643137254901961,0.9173856209150326,0.9665359477124184,1)\", \"rgba(0.861361014994233,0.9154171472510573,0.9655517108804306,1)\", \"rgba(0.8554555940023069,0.9114801999231065,0.9635832372164552,1)\", \"rgba(0.8525028835063437,0.909511726259131,0.9625990003844676,1)\", \"rgba(0.8495501730103806,0.9075432525951557,0.9616147635524798,1)\", \"rgba(0.8465974625144176,0.9055747789311802,0.9606305267204921,1)\", \"rgba(0.8436447520184545,0.9036063052672049,0.9596462898885044,1)\", \"rgba(0.8406920415224913,0.9016378316032295,0.9586620530565167,1)\", \"rgba(0.8377393310265283,0.8996693579392541,0.9576778162245291,1)\", \"rgba(0.8347866205305652,0.8977008842752787,0.9566935793925413,1)\", \"rgba(0.828881199538639,0.8937639369473279,0.954725105728566,1)\", \"rgba(0.8259284890426759,0.8917954632833525,0.9537408688965783,1)\", \"rgba(0.8229757785467128,0.8898269896193771,0.9527566320645905,1)\", \"rgba(0.8200230680507498,0.8878585159554018,0.9517723952326028,1)\", \"rgba(0.8170703575547866,0.8858900422914263,0.9507881584006151,1)\", \"rgba(0.8141176470588235,0.883921568627451,0.9498039215686275,1)\", \"rgba(0.8111649365628605,0.8819530949634755,0.9488196847366398,1)\", \"rgba(0.8082122260668974,0.8799846212995002,0.947835447904652,1)\", \"rgba(0.8023068050749712,0.8760476739715494,0.9458669742406767,1)\", \"rgba(0.7993540945790081,0.8740792003075739,0.944882737408689,1)\", \"rgba(0.7964013840830451,0.8721107266435986,0.9438985005767013,1)\", \"rgba(0.7934486735870819,0.8701422529796232,0.9429142637447135,1)\", \"rgba(0.7904959630911188,0.8681737793156478,0.9419300269127259,1)\", \"rgba(0.7875432525951558,0.8662053056516724,0.9409457900807382,1)\", \"rgba(0.7845905420991927,0.864236831987697,0.9399615532487505,1)\", \"rgba(0.7816378316032295,0.8622683583237216,0.9389773164167627,1)\", \"rgba(0.7752402921953095,0.8583006535947711,0.9368242983467897,1)\", \"rgba(0.7703191080353711,0.8562091503267973,0.9351018838908113,1)\", \"rgba(0.7653979238754326,0.8541176470588235,0.9333794694348327,1)\", \"rgba(0.760476739715494,0.8520261437908496,0.9316570549788543,1)\", \"rgba(0.7555555555555555,0.8499346405228758,0.9299346405228758,1)\", \"rgba(0.7506343713956171,0.8478431372549019,0.9282122260668974,1)\", \"rgba(0.7457131872356786,0.8457516339869281,0.9264898116109189,1)\", \"rgba(0.7407920030757401,0.8436601307189542,0.9247673971549404,1)\", \"rgba(0.7358708189158016,0.8415686274509804,0.923044982698962,1)\", \"rgba(0.7260284505959247,0.8373856209150327,0.919600153787005,1)\", \"rgba(0.7211072664359862,0.8352941176470587,0.9178777393310266,1)\", \"rgba(0.7161860822760477,0.8332026143790849,0.916155324875048,1)\", \"rgba(0.7112648981161092,0.831111111111111,0.9144329104190696,1)\", \"rgba(0.7063437139561707,0.8290196078431372,0.9127104959630911,1)\", \"rgba(0.7014225297962322,0.8269281045751633,0.9109880815071126,1)\", \"rgba(0.6965013456362937,0.8248366013071895,0.9092656670511342,1)\", \"rgba(0.6915801614763553,0.8227450980392157,0.9075432525951557,1)\", \"rgba(0.6817377931564783,0.818562091503268,0.9040984236831988,1)\", \"rgba(0.6768166089965398,0.8164705882352941,0.9023760092272203,1)\", \"rgba(0.6718954248366014,0.8143790849673203,0.9006535947712418,1)\", \"rgba(0.6669742406766629,0.8122875816993463,0.8989311803152633,1)\", \"rgba(0.6620530565167244,0.8101960784313725,0.8972087658592849,1)\", \"rgba(0.6571318723567858,0.8081045751633986,0.8954863514033065,1)\", \"rgba(0.6522106881968474,0.8060130718954248,0.8937639369473279,1)\", \"rgba(0.647289504036909,0.803921568627451,0.8920415224913495,1)\", \"rgba(0.6374471357170319,0.7997385620915032,0.8885966935793925,1)\", \"rgba(0.6325259515570935,0.7976470588235294,0.8868742791234141,1)\", \"rgba(0.627604767397155,0.7955555555555556,0.8851518646674356,1)\", \"rgba(0.6226835832372165,0.7934640522875817,0.8834294502114571,1)\", \"rgba(0.6172549019607844,0.7908650519031142,0.8818454440599769,1)\", \"rgba(0.6109803921568627,0.7874202229911572,0.8804921184159938,1)\", \"rgba(0.6047058823529413,0.7839753940792004,0.8791387927720108,1)\", \"rgba(0.5984313725490196,0.7805305651672433,0.8777854671280276,1)\", \"rgba(0.5858823529411765,0.7736409073433295,0.8750788158400615,1)\", \"rgba(0.5796078431372549,0.7701960784313725,0.8737254901960784,1)\", \"rgba(0.5733333333333334,0.7667512495194155,0.8723721645520953,1)\", \"rgba(0.5670588235294118,0.7633064206074587,0.8710188389081123,1)\", \"rgba(0.5607843137254902,0.7598615916955017,0.8696655132641292,1)\", \"rgba(0.5545098039215688,0.7564167627835449,0.8683121876201461,1)\", \"rgba(0.548235294117647,0.7529719338715878,0.866958861976163,1)\", \"rgba(0.5419607843137255,0.7495271049596309,0.86560553633218,1)\", \"rgba(0.5294117647058824,0.742637447135717,0.8628988850442137,1)\", \"rgba(0.5231372549019608,0.73919261822376,0.8615455594002307,1)\", \"rgba(0.5168627450980392,0.7357477893118032,0.8601922337562476,1)\", \"rgba(0.5105882352941177,0.7323029603998462,0.8588389081122645,1)\", \"rgba(0.5043137254901962,0.7288581314878894,0.8574855824682814,1)\", \"rgba(0.4980392156862745,0.7254133025759324,0.8561322568242984,1)\", \"rgba(0.491764705882353,0.7219684736639754,0.8547789311803152,1)\", \"rgba(0.48549019607843136,0.7185236447520185,0.8534256055363322,1)\", \"rgba(0.47294117647058825,0.7116339869281045,0.850718954248366,1)\", \"rgba(0.4666666666666667,0.7081891580161477,0.8493656286043829,1)\", \"rgba(0.46039215686274515,0.7047443291041907,0.8480123029603999,1)\", \"rgba(0.4541176470588236,0.7012995001922339,0.8466589773164168,1)\", \"rgba(0.447843137254902,0.6978546712802769,0.8453056516724337,1)\", \"rgba(0.4415686274509804,0.6944098423683199,0.8439523260284506,1)\", \"rgba(0.43529411764705883,0.690965013456363,0.8425990003844676,1)\", \"rgba(0.4290196078431373,0.687520184544406,0.8412456747404844,1)\", \"rgba(0.41708573625528644,0.6806305267204922,0.8382314494425221,1)\", \"rgba(0.4120415224913495,0.6771856978085352,0.8362629757785467,1)\", \"rgba(0.4069973087274125,0.6737408688965782,0.8342945021145713,1)\", \"rgba(0.4019530949634756,0.6702960399846213,0.8323260284505959,1)\", \"rgba(0.3969088811995388,0.6668512110726644,0.8303575547866207,1)\", \"rgba(0.3918646674356017,0.6634063821607075,0.8283890811226452,1)\", \"rgba(0.38682045367166473,0.6599615532487505,0.8264206074586697,1)\", \"rgba(0.3817762399077278,0.6565167243367935,0.8244521337946944,1)\", \"rgba(0.37673202614379087,0.6530718954248366,0.8224836601307189,1)\", \"rgba(0.366643598615917,0.6461822376009227,0.8185467128027681,1)\", \"rgba(0.36159938485198,0.6427374086889658,0.8165782391387928,1)\", \"rgba(0.3565551710880431,0.6392925797770088,0.8146097654748174,1)\", \"rgba(0.35151095732410614,0.6358477508650519,0.812641291810842,1)\", \"rgba(0.34646674356016915,0.632402921953095,0.8106728181468666,1)\", \"rgba(0.3414225297962322,0.628958093041138,0.8087043444828912,1)\", \"rgba(0.3363783160322953,0.6255132641291811,0.8067358708189158,1)\", \"rgba(0.33133410226835835,0.6220684352172241,0.8047673971549404,1)\", \"rgba(0.32124567474048443,0.6151787773933103,0.8008304498269896,1)\", \"rgba(0.31620146097654767,0.6117339484813534,0.7988619761630142,1)\", \"rgba(0.31115724721261057,0.6082891195693964,0.7968935024990389,1)\", \"rgba(0.3061130334486736,0.6048442906574394,0.7949250288350634,1)\", \"rgba(0.30106881968473664,0.6013994617454825,0.7929565551710881,1)\", \"rgba(0.2960246059207997,0.5979546328335256,0.7909880815071126,1)\", \"rgba(0.2909803921568628,0.5945098039215686,0.7890196078431373,1)\", \"rgba(0.28593617839292584,0.5910649750096116,0.7870511341791618,1)\", \"rgba(0.2758477508650519,0.5841753171856978,0.783114186851211,1)\", \"rgba(0.27080353710111493,0.5807304882737409,0.7811457131872357,1)\", \"rgba(0.265759323337178,0.5772856593617839,0.7791772395232603,1)\", \"rgba(0.26071510957324107,0.5738408304498269,0.7772087658592849,1)\", \"rgba(0.25628604382929643,0.5700115340253749,0.7751633986928105,1)\", \"rgba(0.2522260668973472,0.5659515570934256,0.7730718954248366,1)\", \"rgba(0.24816608996539793,0.5618915801614763,0.7709803921568628,1)\", \"rgba(0.2441061130334487,0.5578316032295271,0.768888888888889,1)\", \"rgba(0.23598615916955018,0.5497116493656286,0.7647058823529412,1)\", \"rgba(0.23192618223760095,0.5456516724336793,0.7626143790849673,1)\", \"rgba(0.2278662053056517,0.54159169550173,0.7605228758169935,1)\", \"rgba(0.22380622837370245,0.5375317185697808,0.7584313725490196,1)\", \"rgba(0.2197462514417532,0.5334717416378316,0.7563398692810458,1)\", \"rgba(0.21568627450980393,0.5294117647058824,0.7542483660130719,1)\", \"rgba(0.2116262975778547,0.5253517877739331,0.7521568627450981,1)\", \"rgba(0.20756632064590544,0.5212918108419838,0.7500653594771242,1)\", \"rgba(0.19944636678200695,0.5131718569780853,0.7458823529411764,1)\", \"rgba(0.19538638985005768,0.5091118800461361,0.7437908496732026,1)\", \"rgba(0.19132641291810842,0.5050519031141868,0.7416993464052288,1)\", \"rgba(0.18726643598615916,0.5009919261822375,0.7396078431372549,1)\", \"rgba(0.18320645905420993,0.49693194925028833,0.7375163398692811,1)\", \"rgba(0.1791464821222607,0.49287197231833907,0.7354248366013072,1)\", \"rgba(0.17508650519031155,0.4888119953863899,0.7333333333333334,1)\", \"rgba(0.17102652825836218,0.4847520184544406,0.7312418300653595,1)\", \"rgba(0.16290657439446368,0.4766320645905421,0.7270588235294118,1)\", \"rgba(0.15884659746251442,0.4725720876585928,0.724967320261438,1)\", \"rgba(0.1547866205305652,0.46851211072664356,0.722875816993464,1)\", \"rgba(0.15072664359861593,0.4644521337946943,0.7207843137254902,1)\", \"rgba(0.14666666666666667,0.46039215686274504,0.7186928104575163,1)\", \"rgba(0.1426066897347174,0.45633217993079583,0.7166013071895425,1)\", \"rgba(0.13854671280276817,0.4522722029988466,0.7145098039215687,1)\", \"rgba(0.13448673587081894,0.4482122260668973,0.7124183006535948,1)\", \"rgba(0.1271049596309112,0.4401845444059977,0.7074971164936563,1)\", \"rgba(0.12402921953094964,0.4362475970780469,0.7044213763936947,1)\", \"rgba(0.1209534794309881,0.4323106497500961,0.7013456362937333,1)\", \"rgba(0.11787773933102653,0.4283737024221453,0.6982698961937717,1)\", \"rgba(0.11480199923106507,0.42443675509419465,0.6951941560938102,1)\", \"rgba(0.11172625913110343,0.42049980776624374,0.6921184159938486,1)\", \"rgba(0.10865051903114188,0.41656286043829294,0.689042675893887,1)\", \"rgba(0.10557477893118032,0.41262591311034214,0.6859669357939254,1)\", \"rgba(0.10249903883121878,0.4086889657823914,0.6828911956939638,1)\", \"rgba(0.09634755863129565,0.4008150711264898,0.6767397154940408,1)\", \"rgba(0.09327181853133411,0.396878123798539,0.6736639753940792,1)\", \"rgba(0.09019607843137256,0.39294117647058824,0.6705882352941177,1)\", \"rgba(0.087120338331411,0.38900422914263744,0.6675124951941561,1)\", \"rgba(0.08404459823144944,0.38506728181468663,0.6644367550941945,1)\", \"rgba(0.0809688581314879,0.38113033448673583,0.661361014994233,1)\", \"rgba(0.07789311803152635,0.37719338715878503,0.6582852748942715,1)\", \"rgba(0.07481737793156479,0.3732564398308343,0.6552095347943099,1)\", \"rgba(0.06866589773164168,0.3653825451749327,0.6490580545943868,1)\", \"rgba(0.06559015763168022,0.36144559784698205,0.6459823144944253,1)\", \"rgba(0.06251441753171857,0.35750865051903113,0.6429065743944637,1)\", \"rgba(0.059438677431757014,0.35357170319108033,0.6398308342945022,1)\", \"rgba(0.05636293733179547,0.34963475586312953,0.6367550941945406,1)\", \"rgba(0.05328719723183391,0.34569780853517873,0.6336793540945791,1)\", \"rgba(0.05021145713187236,0.341760861207228,0.6306036139946175,1)\", \"rgba(0.0471357170319108,0.3378239138792772,0.6275278738946559,1)\", \"rgba(0.040984236831987694,0.32995001922337563,0.6213763936947329,1)\", \"rgba(0.03790849673202615,0.32601307189542483,0.6183006535947713,1)\", \"rgba(0.03483275663206459,0.32207612456747403,0.6152249134948098,1)\", \"rgba(0.03175701653210304,0.31813917723952323,0.6121491733948482,1)\", \"rgba(0.03137254901960784,0.3140945790080738,0.606489811610919,1)\", \"rgba(0.03137254901960784,0.31003460207612454,0.6004613610149943,1)\", \"rgba(0.03137254901960784,0.3059746251441753,0.5944329104190696,1)\", \"rgba(0.03137254901960784,0.301914648212226,0.588404459823145,1)\", \"rgba(0.03137254901960784,0.29379469434832756,0.5763475586312957,1)\", \"rgba(0.03137254901960784,0.2897347174163783,0.570319108035371,1)\", \"rgba(0.03137254901960784,0.28567474048442904,0.5642906574394464,1)\", \"rgba(0.03137254901960784,0.28161476355247983,0.5582622068435218,1)\", \"rgba(0.03137254901960784,0.27755478662053057,0.5522337562475971,1)\", \"rgba(0.03137254901960784,0.2734948096885813,0.5462053056516725,1)\", \"rgba(0.03137254901960784,0.26943483275663205,0.5401768550557479,1)\", \"rgba(0.03137254901960784,0.2653748558246828,0.5341484044598231,1)\", \"rgba(0.03137254901960784,0.2572549019607843,0.5220915032679738,1)\", \"rgba(0.03137254901960784,0.25319492502883506,0.5160630526720492,1)\", \"rgba(0.03137254901960784,0.2491349480968858,0.5100346020761246,1)\", \"rgba(0.03137254901960784,0.24507497116493654,0.5040061514801999,1)\", \"rgba(0.03137254901960784,0.2410149942329873,0.4979777008842753,1)\", \"rgba(0.03137254901960784,0.23695501730103807,0.4919492502883507,1)\", \"rgba(0.03137254901960784,0.23289504036908892,0.4859207996924262,1)\", \"rgba(0.03137254901960784,0.22883506343713955,0.47989234909650136,1)\", \"rgba(0.03137254901960784,0.22071510957324106,0.46783544790465204,1)\", \"rgba(0.03137254901960784,0.2166551326412918,0.46180699730872743,1)\", \"rgba(0.03137254901960784,0.21259515570934256,0.4557785467128028,1)\", \"rgba(0.03137254901960784,0.2085351787773933,0.4497500961168781,1)\", \"rgba(0.03137254901960784,0.20447520184544404,0.4437216455209535,1)\", \"rgba(0.03137254901960784,0.2004152249134948,0.43769319492502884,1)\", \"rgba(0.03137254901960784,0.19635524798154555,0.4316647443291042,1)\", \"rgba(.99,.5,.2,1.)\"]}, \"text\": [\"George Washington\", \"George Washington\", \"George Washington\", \"George Washington\", \"George Washington\", \"George Washington\", \"George Washington\", \"George Washington\", \"John Adams\", \"John Adams\", \"John Adams\", \"John Adams\", \"Thomas Jefferson\", \"Thomas Jefferson\", \"Thomas Jefferson\", \"Thomas Jefferson\", \"Thomas Jefferson\", \"Thomas Jefferson\", \"Thomas Jefferson\", \"Thomas Jefferson\", \"James Madison\", \"James Madison\", \"James Madison\", \"James Madison\", \"James Madison\", \"James Madison\", \"James Madison\", \"James Madison\", \"James Monroe\", \"James Monroe\", \"James Monroe\", \"James Monroe\", \"James Monroe\", \"James Monroe\", \"James Monroe\", \"James Monroe\", \"John Quincy Adams\", \"John Quincy Adams\", \"John Quincy Adams\", \"John Quincy Adams\", \"Andrew Jackson\", \"Andrew Jackson\", \"Andrew Jackson\", \"Andrew Jackson\", \"Andrew Jackson\", \"Andrew Jackson\", \"Andrew Jackson\", \"Andrew Jackson\", \"Martin van Buren\", \"Martin van Buren\", \"Martin van Buren\", \"Martin van Buren\", \"John Tyler\", \"John Tyler\", \"John Tyler\", \"John Tyler\", \"James Polk\", \"James Polk\", \"James Polk\", \"James Polk\", \"Zachary Taylor\", \"Millard Fillmore\", \"Millard Fillmore\", \"Millard Fillmore\", \"Franklin Pierce\", \"Franklin Pierce\", \"Franklin Pierce\", \"Franklin Pierce\", \"James Buchanan\", \"James Buchanan\", \"James Buchanan\", \"James Buchanan\", \"Abraham Lincoln\", \"Abraham Lincoln\", \"Abraham Lincoln\", \"Abraham Lincoln\", \"Andrew Johnson\", \"Andrew Johnson\", \"Andrew Johnson\", \"Andrew Johnson\", \"Ulysses S. Grant\", \"Ulysses S. Grant\", \"Ulysses S. Grant\", \"Ulysses S. Grant\", \"Ulysses S. Grant\", \"Ulysses S. Grant\", \"Ulysses S. Grant\", \"Ulysses S. Grant\", \"Rutherford B. Hayes\", \"Rutherford B. Hayes\", \"Rutherford B. Hayes\", \"Rutherford B. Hayes\", \"Chester A. Arthur\", \"Chester A. Arthur\", \"Chester A. Arthur\", \"Chester A. Arthur\", \"Grover Cleveland\", \"Grover Cleveland\", \"Grover Cleveland\", \"Grover Cleveland\", \"Benjamin Harrison\", \"Benjamin Harrison\", \"Benjamin Harrison\", \"Benjamin Harrison\", \"William McKinley\", \"William McKinley\", \"William McKinley\", \"William McKinley\", \"Theodore Roosevelt\", \"Theodore Roosevelt\", \"Theodore Roosevelt\", \"Theodore Roosevelt\", \"Theodore Roosevelt\", \"Theodore Roosevelt\", \"Theodore Roosevelt\", \"Theodore Roosevelt\", \"William H. Taft\", \"William H. Taft\", \"William H. Taft\", \"William H. Taft\", \"Woodrow Wilson\", \"Woodrow Wilson\", \"Woodrow Wilson\", \"Woodrow Wilson\", \"Woodrow Wilson\", \"Woodrow Wilson\", \"Woodrow Wilson\", \"Woodrow Wilson\", \"Warren Harding\", \"Warren Harding\", \"Calvin Coolidge\", \"Calvin Coolidge\", \"Calvin Coolidge\", \"Calvin Coolidge\", \"Calvin Coolidge\", \"Calvin Coolidge\", \"Herbert Hoover\", \"Herbert Hoover\", \"Herbert Hoover\", \"Herbert Hoover\", \"Franklin D. Roosevelt\", \"Franklin D. Roosevelt\", \"Franklin D. Roosevelt\", \"Franklin D. Roosevelt\", \"Franklin D. Roosevelt\", \"Franklin D. Roosevelt\", \"Franklin D. Roosevelt\", \"Franklin D. Roosevelt\", \"Franklin D. Roosevelt\", \"Franklin D. Roosevelt\", \"Franklin D. Roosevelt\", \"Franklin D. Roosevelt\", \"Harry S. Truman\", \"Harry S. Truman\", \"Harry S. Truman\", \"Harry S. Truman\", \"Harry S. Truman\", \"Harry S. Truman\", \"Harry S. Truman\", \"Harry S. Truman\", \"Dwight D. Eisenhower\", \"Dwight D. Eisenhower\", \"Dwight D. Eisenhower\", \"Dwight D. Eisenhower\", \"Dwight D. Eisenhower\", \"Dwight D. Eisenhower\", \"Dwight D. Eisenhower\", \"Dwight D. Eisenhower\", \"Dwight D. Eisenhower\", \"John F. Kennedy\", \"John F. Kennedy\", \"John F. Kennedy\", \"Lyndon B. Johnson\", \"Lyndon B. Johnson\", \"Lyndon B. Johnson\", \"Lyndon B. Johnson\", \"Lyndon B. Johnson\", \"Lyndon B. Johnson\", \"Richard Nixon\", \"Richard Nixon\", \"Richard Nixon\", \"Richard Nixon\", \"Richard Nixon\", \"Gerald R. Ford\", \"Gerald R. Ford\", \"Gerald R. Ford\", \"Jimmy Carter\", \"Jimmy Carter\", \"Jimmy Carter\", \"Jimmy Carter\", \"Ronald Reagan\", \"Ronald Reagan\", \"Ronald Reagan\", \"Ronald Reagan\", \"Ronald Reagan\", \"Ronald Reagan\", \"Ronald Reagan\", \"George H.W. Bush\", \"George H.W. Bush\", \"George H.W. Bush\", \"George H.W. Bush\", \"William J. Clinton\", \"William J. Clinton\", \"William J. Clinton\", \"William J. Clinton\", \"William J. Clinton\", \"William J. Clinton\", \"William J. Clinton\", \"William J. Clinton\", \"George W. Bush\", \"George W. Bush\", \"George W. Bush\", \"George W. Bush\", \"George W. Bush\", \"George W. Bush\", \"George W. Bush\", \"George W. Bush\", \"George W. Bush\", \"Barack Obama\", \"Barack Obama\", \"Barack Obama\", \"Barack Obama\", \"Barack Obama\", \"Barack Obama\", \"Barack Obama\", \"Barack Obama\", \"Donald J. Trump\"]}], {}, {\"showLink\": true, \"linkText\": \"Export to plot.ly\"})});</script>"
      ]
     },
     "metadata": {},
     "output_type": "display_data"
    }
   ],
   "source": [
    "colors = np.array([\"rgba({0},{1},{2},1)\".format(*c) for c in sns.color_palette(\"Blues\", len(df))])\n",
    "colors[-1] = \"rgba(.99,.5,.2,1.)\"\n",
    "py.iplot([go.Scatter(x = df['x'], y = df['y'], mode='markers', marker=dict(color=colors), text=df['Name'])])\n"
   ]
  },
  {
   "cell_type": "markdown",
   "metadata": {
    "collapsed": true
   },
   "source": [
    "Each point represents a speech. Notice that the speeches are roughly align chronologically. Speeches long ago are more similar to one another than current speeches. The most unusual speech is by Herbert Hoover. George Bush also has a few unusual speeches. Trumps speech is close to ealier speeches by Ronald Reagan and George Bush and Bill Clinton."
   ]
  },
  {
   "cell_type": "code",
   "execution_count": null,
   "metadata": {
    "collapsed": true
   },
   "outputs": [],
   "source": []
  }
 ],
 "metadata": {
  "kernelspec": {
   "display_name": "Python 3",
   "language": "python",
   "name": "python3"
  },
  "language_info": {
   "codemirror_mode": {
    "name": "ipython",
    "version": 3
   },
   "file_extension": ".py",
   "mimetype": "text/x-python",
   "name": "python",
   "nbconvert_exporter": "python",
   "pygments_lexer": "ipython3",
   "version": "3.6.1"
  }
 },
 "nbformat": 4,
 "nbformat_minor": 2
}
