{
 "cells": [
  {
   "cell_type": "markdown",
   "metadata": {},
   "source": [
    "Install SQL packages:"
   ]
  },
  {
   "cell_type": "code",
   "execution_count": 1,
   "metadata": {
    "collapsed": true
   },
   "outputs": [],
   "source": [
    "# !conda install -y psycopg2\n",
    "# !conda install -y postgresql\n",
    "# !pip install ipython-sql\n",
    "# !pip install sqlalchemy"
   ]
  },
  {
   "cell_type": "markdown",
   "metadata": {},
   "source": [
    "Standard imports + sqlalchemy"
   ]
  },
  {
   "cell_type": "code",
   "execution_count": 2,
   "metadata": {
    "collapsed": true
   },
   "outputs": [],
   "source": [
    "import numpy as np\n",
    "import pandas as pd\n",
    "import matplotlib.pyplot as plt\n",
    "import seaborn as sns\n",
    "import sqlalchemy\n",
    "\n",
    "%matplotlib inline\n",
    "%load_ext sql"
   ]
  },
  {
   "cell_type": "markdown",
   "metadata": {},
   "source": [
    "Establish a database connection to the Postgres database running on my machine `localhost` using the schema `ds100`"
   ]
  },
  {
   "cell_type": "code",
   "execution_count": 3,
   "metadata": {
    "collapsed": true
   },
   "outputs": [],
   "source": [
    "postgresql_uri = \"postgres://jegonzal:@localhost:5432/ds100\""
   ]
  },
  {
   "cell_type": "code",
   "execution_count": 4,
   "metadata": {},
   "outputs": [
    {
     "data": {
      "text/plain": [
       "'Connected: jegonzal@ds100'"
      ]
     },
     "execution_count": 4,
     "metadata": {},
     "output_type": "execute_result"
    }
   ],
   "source": [
    "%sql $postgresql_uri"
   ]
  },
  {
   "cell_type": "markdown",
   "metadata": {},
   "source": [
    "Note that we don't need to specify the database URI with each `%%sql` command.  If one is not provided that the previous connection is used.  "
   ]
  },
  {
   "cell_type": "code",
   "execution_count": 5,
   "metadata": {},
   "outputs": [
    {
     "name": "stdout",
     "output_type": "stream",
     "text": [
      "Done.\n",
      "Done.\n",
      "9 rows affected.\n"
     ]
    },
    {
     "data": {
      "text/plain": [
       "[]"
      ]
     },
     "execution_count": 5,
     "metadata": {},
     "output_type": "execute_result"
    }
   ],
   "source": [
    "%%sql \n",
    "\n",
    "-- Drop the table if it already exists\n",
    "DROP TABLE IF EXISTS students;\n",
    "\n",
    "-- Create the table students\n",
    "CREATE TABLE students(\n",
    "    name TEXT PRIMARY KEY, \n",
    "    gpa FLOAT CHECK (gpa >= 0.0 and gpa <= 4.0), \n",
    "    age INTEGER, \n",
    "    dept TEXT, \n",
    "    gender CHAR);\n",
    "\n",
    "-- Populate the table of students\n",
    "INSERT INTO students VALUES \n",
    " ('Sergey Brin', 2.8, 40, 'CS', 'M'),\n",
    "  ('Danah Boyd', 3.9, 35, 'CS', 'F'),\n",
    "  ('Bill Gates', 1.0, 60, 'CS', 'M'),\n",
    "  ('Hillary Mason', 4.0, 35, 'DATASCI', 'F'),\n",
    "  ('Mike Olson', 3.7, 50, 'CS', 'M'),\n",
    "  ('Mark Zuckerberg', 4.0, 30, 'CS', 'M'),\n",
    "  ('Cheryl Sandberg', 4.0, 47, 'BUSINESS', 'F'),\n",
    "  ('Susan Wojcicki', 4.0, 46, 'BUSINESS', 'F'),\n",
    "  ('Marissa Meyer', 4.0, 45, 'BUSINESS', 'F');\n"
   ]
  },
  {
   "cell_type": "markdown",
   "metadata": {},
   "source": [
    "# Data Generation\n",
    "\n",
    "It is often assumed that when working with a database all relations (tables) must come from outside or be derived from other sources of data.  It is possible to construct tables in SQL.\n",
    "\n",
    "Sometimes it's useful to auto-generate data in queries, rather than examine data in the database. This is nice for testing, but also can be useful to play some computational tricks as you'll see in your homework.\n",
    "\n",
    "SQL has a simple scalar function called [`random`](https://www.postgresql.org/docs/9.6/static/functions-math.html#FUNCTIONS-MATH-RANDOM-TABLE) that returns a random value between 0.0 and 1.0. You can use this if you need to generate a column of random numbers.  (The PostgreSQL manual doesn't promise much about the statistical properties of this random number generator.)\n",
    "\n",
    "Let's roll a 6-sided die for each of the students"
   ]
  },
  {
   "cell_type": "code",
   "execution_count": 6,
   "metadata": {},
   "outputs": [
    {
     "name": "stdout",
     "output_type": "stream",
     "text": [
      "9 rows affected.\n"
     ]
    },
    {
     "data": {
      "text/html": [
       "<table>\n",
       "    <tr>\n",
       "        <th>name</th>\n",
       "        <th>gpa</th>\n",
       "        <th>age</th>\n",
       "        <th>dept</th>\n",
       "        <th>gender</th>\n",
       "        <th>roll_dice</th>\n",
       "    </tr>\n",
       "    <tr>\n",
       "        <td>Sergey Brin</td>\n",
       "        <td>2.8</td>\n",
       "        <td>40</td>\n",
       "        <td>CS</td>\n",
       "        <td>M</td>\n",
       "        <td>3.0</td>\n",
       "    </tr>\n",
       "    <tr>\n",
       "        <td>Danah Boyd</td>\n",
       "        <td>3.9</td>\n",
       "        <td>35</td>\n",
       "        <td>CS</td>\n",
       "        <td>F</td>\n",
       "        <td>2.0</td>\n",
       "    </tr>\n",
       "    <tr>\n",
       "        <td>Bill Gates</td>\n",
       "        <td>1.0</td>\n",
       "        <td>60</td>\n",
       "        <td>CS</td>\n",
       "        <td>M</td>\n",
       "        <td>2.0</td>\n",
       "    </tr>\n",
       "    <tr>\n",
       "        <td>Hillary Mason</td>\n",
       "        <td>4.0</td>\n",
       "        <td>35</td>\n",
       "        <td>DATASCI</td>\n",
       "        <td>F</td>\n",
       "        <td>3.0</td>\n",
       "    </tr>\n",
       "    <tr>\n",
       "        <td>Mike Olson</td>\n",
       "        <td>3.7</td>\n",
       "        <td>50</td>\n",
       "        <td>CS</td>\n",
       "        <td>M</td>\n",
       "        <td>3.0</td>\n",
       "    </tr>\n",
       "    <tr>\n",
       "        <td>Mark Zuckerberg</td>\n",
       "        <td>4.0</td>\n",
       "        <td>30</td>\n",
       "        <td>CS</td>\n",
       "        <td>M</td>\n",
       "        <td>6.0</td>\n",
       "    </tr>\n",
       "    <tr>\n",
       "        <td>Cheryl Sandberg</td>\n",
       "        <td>4.0</td>\n",
       "        <td>47</td>\n",
       "        <td>BUSINESS</td>\n",
       "        <td>F</td>\n",
       "        <td>2.0</td>\n",
       "    </tr>\n",
       "    <tr>\n",
       "        <td>Susan Wojcicki</td>\n",
       "        <td>4.0</td>\n",
       "        <td>46</td>\n",
       "        <td>BUSINESS</td>\n",
       "        <td>F</td>\n",
       "        <td>1.0</td>\n",
       "    </tr>\n",
       "    <tr>\n",
       "        <td>Marissa Meyer</td>\n",
       "        <td>4.0</td>\n",
       "        <td>45</td>\n",
       "        <td>BUSINESS</td>\n",
       "        <td>F</td>\n",
       "        <td>3.0</td>\n",
       "    </tr>\n",
       "</table>"
      ],
      "text/plain": [
       "[('Sergey Brin', 2.8, 40, 'CS', 'M', 3.0),\n",
       " ('Danah Boyd', 3.9, 35, 'CS', 'F', 2.0),\n",
       " ('Bill Gates', 1.0, 60, 'CS', 'M', 2.0),\n",
       " ('Hillary Mason', 4.0, 35, 'DATASCI', 'F', 3.0),\n",
       " ('Mike Olson', 3.7, 50, 'CS', 'M', 3.0),\n",
       " ('Mark Zuckerberg', 4.0, 30, 'CS', 'M', 6.0),\n",
       " ('Cheryl Sandberg', 4.0, 47, 'BUSINESS', 'F', 2.0),\n",
       " ('Susan Wojcicki', 4.0, 46, 'BUSINESS', 'F', 1.0),\n",
       " ('Marissa Meyer', 4.0, 45, 'BUSINESS', 'F', 3.0)]"
      ]
     },
     "execution_count": 6,
     "metadata": {},
     "output_type": "execute_result"
    }
   ],
   "source": [
    "%%sql \n",
    "\n",
    "SELECT *, ROUND(RANDOM() * 6) as roll_dice \n",
    "FROM students;"
   ]
  },
  {
   "cell_type": "markdown",
   "metadata": {},
   "source": [
    "**Is this a good implementation of a fair 6 sided die?**\n",
    "\n",
    "```sql\n",
    "SELECT *, ROUND(RANDOM() * 6) as roll_dice \n",
    "FROM students;\n",
    "```\n",
    "\n",
    "Quiz:\n",
    "___\n",
    "<big>http://bit.ly/ds100nodice</big>\n",
    "___"
   ]
  },
  {
   "cell_type": "markdown",
   "metadata": {},
   "source": [
    "Suppose we want to generate a whole bunch of random numbers, not tied to any particular stored table -- can we do that in SQL?\n",
    "\n",
    "SQL has a notion of [table-valued functions](https://www.postgresql.org/docs/9.6/static/functions-srf.html): functions that return tables, and hence can be used in a `FROM` clause of a query. The standard table-valued function is called `generate_series`, and it's much like numpy's `arange`:"
   ]
  },
  {
   "cell_type": "code",
   "execution_count": 7,
   "metadata": {},
   "outputs": [
    {
     "name": "stdout",
     "output_type": "stream",
     "text": [
      "5 rows affected.\n"
     ]
    },
    {
     "data": {
      "text/html": [
       "<table>\n",
       "    <tr>\n",
       "        <th>generate_series</th>\n",
       "    </tr>\n",
       "    <tr>\n",
       "        <td>1</td>\n",
       "    </tr>\n",
       "    <tr>\n",
       "        <td>2</td>\n",
       "    </tr>\n",
       "    <tr>\n",
       "        <td>3</td>\n",
       "    </tr>\n",
       "    <tr>\n",
       "        <td>4</td>\n",
       "    </tr>\n",
       "    <tr>\n",
       "        <td>5</td>\n",
       "    </tr>\n",
       "</table>"
      ],
      "text/plain": [
       "[(1,), (2,), (3,), (4,), (5,)]"
      ]
     },
     "execution_count": 7,
     "metadata": {},
     "output_type": "execute_result"
    }
   ],
   "source": [
    "%%sql \n",
    "\n",
    "SELECT * \n",
    "FROM GENERATE_SERIES(1, 5);"
   ]
  },
  {
   "cell_type": "code",
   "execution_count": 8,
   "metadata": {},
   "outputs": [
    {
     "name": "stdout",
     "output_type": "stream",
     "text": [
      "5 rows affected.\n"
     ]
    },
    {
     "data": {
      "text/html": [
       "<table>\n",
       "    <tr>\n",
       "        <th>generate_series</th>\n",
       "    </tr>\n",
       "    <tr>\n",
       "        <td>1</td>\n",
       "    </tr>\n",
       "    <tr>\n",
       "        <td>3</td>\n",
       "    </tr>\n",
       "    <tr>\n",
       "        <td>5</td>\n",
       "    </tr>\n",
       "    <tr>\n",
       "        <td>7</td>\n",
       "    </tr>\n",
       "    <tr>\n",
       "        <td>9</td>\n",
       "    </tr>\n",
       "</table>"
      ],
      "text/plain": [
       "[(1,), (3,), (5,), (7,), (9,)]"
      ]
     },
     "execution_count": 8,
     "metadata": {},
     "output_type": "execute_result"
    }
   ],
   "source": [
    "%%sql \n",
    "\n",
    "SELECT * \n",
    "FROM GENERATE_SERIES(1, 10, 2);\n"
   ]
  },
  {
   "cell_type": "markdown",
   "metadata": {},
   "source": [
    "Let's test the distribution of our earlier generator:"
   ]
  },
  {
   "cell_type": "code",
   "execution_count": 9,
   "metadata": {},
   "outputs": [
    {
     "name": "stdout",
     "output_type": "stream",
     "text": [
      "7 rows affected.\n"
     ]
    },
    {
     "data": {
      "text/html": [
       "<table>\n",
       "    <tr>\n",
       "        <th>rando</th>\n",
       "        <th>count</th>\n",
       "    </tr>\n",
       "    <tr>\n",
       "        <td>6.0</td>\n",
       "        <td>8239</td>\n",
       "    </tr>\n",
       "    <tr>\n",
       "        <td>0.0</td>\n",
       "        <td>8527</td>\n",
       "    </tr>\n",
       "    <tr>\n",
       "        <td>1.0</td>\n",
       "        <td>16545</td>\n",
       "    </tr>\n",
       "    <tr>\n",
       "        <td>4.0</td>\n",
       "        <td>16599</td>\n",
       "    </tr>\n",
       "    <tr>\n",
       "        <td>3.0</td>\n",
       "        <td>16636</td>\n",
       "    </tr>\n",
       "    <tr>\n",
       "        <td>5.0</td>\n",
       "        <td>16644</td>\n",
       "    </tr>\n",
       "    <tr>\n",
       "        <td>2.0</td>\n",
       "        <td>16810</td>\n",
       "    </tr>\n",
       "</table>"
      ],
      "text/plain": [
       "[(6.0, 8239),\n",
       " (0.0, 8527),\n",
       " (1.0, 16545),\n",
       " (4.0, 16599),\n",
       " (3.0, 16636),\n",
       " (5.0, 16644),\n",
       " (2.0, 16810)]"
      ]
     },
     "execution_count": 9,
     "metadata": {},
     "output_type": "execute_result"
    }
   ],
   "source": [
    "%%sql \n",
    "\n",
    "\n",
    "SELECT ROUND(6*RANDOM()) AS rando, COUNT(*)\n",
    "FROM GENERATE_SERIES(1, 100000) AS flip(trial)\n",
    "GROUP BY rando\n",
    "ORDER BY count\n",
    "\n"
   ]
  },
  {
   "cell_type": "markdown",
   "metadata": {},
   "source": [
    "And if we want integers, we can use a PostgreSQL typecast operator (postfix `::<type>`):"
   ]
  },
  {
   "cell_type": "code",
   "execution_count": 10,
   "metadata": {},
   "outputs": [
    {
     "name": "stdout",
     "output_type": "stream",
     "text": [
      "6 rows affected.\n"
     ]
    },
    {
     "data": {
      "text/html": [
       "<table>\n",
       "    <tr>\n",
       "        <th>rando</th>\n",
       "        <th>count</th>\n",
       "    </tr>\n",
       "    <tr>\n",
       "        <td>2</td>\n",
       "        <td>16543</td>\n",
       "    </tr>\n",
       "    <tr>\n",
       "        <td>3</td>\n",
       "        <td>16602</td>\n",
       "    </tr>\n",
       "    <tr>\n",
       "        <td>5</td>\n",
       "        <td>16639</td>\n",
       "    </tr>\n",
       "    <tr>\n",
       "        <td>1</td>\n",
       "        <td>16663</td>\n",
       "    </tr>\n",
       "    <tr>\n",
       "        <td>4</td>\n",
       "        <td>16666</td>\n",
       "    </tr>\n",
       "    <tr>\n",
       "        <td>6</td>\n",
       "        <td>16887</td>\n",
       "    </tr>\n",
       "</table>"
      ],
      "text/plain": [
       "[(2, 16543), (3, 16602), (5, 16639), (1, 16663), (4, 16666), (6, 16887)]"
      ]
     },
     "execution_count": 10,
     "metadata": {},
     "output_type": "execute_result"
    }
   ],
   "source": [
    "%%sql \n",
    "\n",
    "-- NOTE WE ALSO TAKE THE CEIL\n",
    "-- What would happen if we did not?\n",
    "\n",
    "SELECT CEIL(6*RANDOM())::INTEGER AS rando, COUNT(*)\n",
    "FROM generate_series(1, 100000) AS flip(trial)\n",
    "GROUP BY rando\n",
    "ORDER BY count\n",
    "\n"
   ]
  },
  {
   "cell_type": "markdown",
   "metadata": {},
   "source": [
    "# Making a Random Matrix in SQL?!\n",
    "\n",
    "Now suppose we want to populate a \"matrix\" relation `my_matrix(r, c, v)` full of random values. Consider the following numpy code"
   ]
  },
  {
   "cell_type": "code",
   "execution_count": 11,
   "metadata": {},
   "outputs": [
    {
     "data": {
      "text/plain": [
       "array([[ 5.,  1.],\n",
       "       [ 2.,  3.],\n",
       "       [ 1.,  4.]])"
      ]
     },
     "execution_count": 11,
     "metadata": {},
     "output_type": "execute_result"
    }
   ],
   "source": [
    "import numpy as np\n",
    "np.random.seed(43)\n",
    "# normally distributed random numbers, mean 0 variance 1\n",
    "my_matrix = np.random.randint(1,6, (3,2)).astype('float')\n",
    "my_matrix"
   ]
  },
  {
   "cell_type": "markdown",
   "metadata": {
    "solution2": "hidden",
    "solution2_first": true
   },
   "source": [
    "## Saving a Matrix as a table\n",
    "\n",
    "How could we store the above matrix as a table?"
   ]
  },
  {
   "cell_type": "markdown",
   "metadata": {
    "solution2": "hidden"
   },
   "source": [
    "1. A table with 3 rows and 2 columns\n",
    "1. A table with 9 rows and 3 columns (how?)"
   ]
  },
  {
   "cell_type": "markdown",
   "metadata": {},
   "source": [
    "Building the table in Numpy"
   ]
  },
  {
   "cell_type": "code",
   "execution_count": 12,
   "metadata": {},
   "outputs": [
    {
     "data": {
      "text/plain": [
       "array([ 5.,  1.,  2.,  3.,  1.,  4.])"
      ]
     },
     "execution_count": 12,
     "metadata": {},
     "output_type": "execute_result"
    }
   ],
   "source": [
    "my_matrix.flatten()"
   ]
  },
  {
   "cell_type": "code",
   "execution_count": 13,
   "metadata": {},
   "outputs": [
    {
     "data": {
      "text/html": [
       "<div>\n",
       "<style>\n",
       "    .dataframe thead tr:only-child th {\n",
       "        text-align: right;\n",
       "    }\n",
       "\n",
       "    .dataframe thead th {\n",
       "        text-align: left;\n",
       "    }\n",
       "\n",
       "    .dataframe tbody tr th {\n",
       "        vertical-align: top;\n",
       "    }\n",
       "</style>\n",
       "<table border=\"1\" class=\"dataframe\">\n",
       "  <thead>\n",
       "    <tr style=\"text-align: right;\">\n",
       "      <th></th>\n",
       "      <th>r</th>\n",
       "      <th>c</th>\n",
       "      <th>v</th>\n",
       "    </tr>\n",
       "  </thead>\n",
       "  <tbody>\n",
       "    <tr>\n",
       "      <th>0</th>\n",
       "      <td>0.0</td>\n",
       "      <td>0.0</td>\n",
       "      <td>5.0</td>\n",
       "    </tr>\n",
       "    <tr>\n",
       "      <th>1</th>\n",
       "      <td>0.0</td>\n",
       "      <td>1.0</td>\n",
       "      <td>1.0</td>\n",
       "    </tr>\n",
       "    <tr>\n",
       "      <th>2</th>\n",
       "      <td>1.0</td>\n",
       "      <td>0.0</td>\n",
       "      <td>2.0</td>\n",
       "    </tr>\n",
       "    <tr>\n",
       "      <th>3</th>\n",
       "      <td>1.0</td>\n",
       "      <td>1.0</td>\n",
       "      <td>3.0</td>\n",
       "    </tr>\n",
       "    <tr>\n",
       "      <th>4</th>\n",
       "      <td>2.0</td>\n",
       "      <td>0.0</td>\n",
       "      <td>1.0</td>\n",
       "    </tr>\n",
       "    <tr>\n",
       "      <th>5</th>\n",
       "      <td>2.0</td>\n",
       "      <td>1.0</td>\n",
       "      <td>4.0</td>\n",
       "    </tr>\n",
       "  </tbody>\n",
       "</table>\n",
       "</div>"
      ],
      "text/plain": [
       "     r    c    v\n",
       "0  0.0  0.0  5.0\n",
       "1  0.0  1.0  1.0\n",
       "2  1.0  0.0  2.0\n",
       "3  1.0  1.0  3.0\n",
       "4  2.0  0.0  1.0\n",
       "5  2.0  1.0  4.0"
      ]
     },
     "execution_count": 13,
     "metadata": {},
     "output_type": "execute_result"
    }
   ],
   "source": [
    "# Advanced numpy (you don't need to know this ...)\n",
    "(col_id, row_id) = np.meshgrid(np.arange(2), np.arange(3))\n",
    "\n",
    "mat_a = pd.DataFrame(\n",
    "    np.vstack([row_id.flatten().T, col_id.flatten(), my_matrix.flatten()]).T, \n",
    "    columns=['r', 'c', 'v'])\n",
    "\n",
    "mat_a"
   ]
  },
  {
   "cell_type": "code",
   "execution_count": 14,
   "metadata": {},
   "outputs": [
    {
     "name": "stdout",
     "output_type": "stream",
     "text": [
      "6 rows affected.\n"
     ]
    },
    {
     "data": {
      "text/html": [
       "<table>\n",
       "    <tr>\n",
       "        <th>r</th>\n",
       "        <th>c</th>\n",
       "        <th>v</th>\n",
       "    </tr>\n",
       "    <tr>\n",
       "        <td>0.0</td>\n",
       "        <td>0.0</td>\n",
       "        <td>5.0</td>\n",
       "    </tr>\n",
       "    <tr>\n",
       "        <td>0.0</td>\n",
       "        <td>1.0</td>\n",
       "        <td>1.0</td>\n",
       "    </tr>\n",
       "    <tr>\n",
       "        <td>1.0</td>\n",
       "        <td>0.0</td>\n",
       "        <td>2.0</td>\n",
       "    </tr>\n",
       "    <tr>\n",
       "        <td>1.0</td>\n",
       "        <td>1.0</td>\n",
       "        <td>3.0</td>\n",
       "    </tr>\n",
       "    <tr>\n",
       "        <td>2.0</td>\n",
       "        <td>0.0</td>\n",
       "        <td>1.0</td>\n",
       "    </tr>\n",
       "    <tr>\n",
       "        <td>2.0</td>\n",
       "        <td>1.0</td>\n",
       "        <td>4.0</td>\n",
       "    </tr>\n",
       "</table>"
      ],
      "text/plain": [
       "[(0.0, 0.0, 5.0),\n",
       " (0.0, 1.0, 1.0),\n",
       " (1.0, 0.0, 2.0),\n",
       " (1.0, 1.0, 3.0),\n",
       " (2.0, 0.0, 1.0),\n",
       " (2.0, 1.0, 4.0)]"
      ]
     },
     "execution_count": 14,
     "metadata": {},
     "output_type": "execute_result"
    }
   ],
   "source": [
    "%%sql\n",
    "\n",
    "select * from mat_A"
   ]
  },
  {
   "cell_type": "code",
   "execution_count": 15,
   "metadata": {},
   "outputs": [],
   "source": [
    "engine = sqlalchemy.create_engine(postgresql_uri)\n",
    "with engine.connect() as conn:\n",
    "    conn.execute(\"DROP TABLE IF EXISTS mat_a\")\n",
    "    mat_a.to_sql(\"mat_a\", conn, index=False)"
   ]
  },
  {
   "cell_type": "code",
   "execution_count": 16,
   "metadata": {},
   "outputs": [
    {
     "name": "stdout",
     "output_type": "stream",
     "text": [
      "6 rows affected.\n"
     ]
    },
    {
     "data": {
      "text/html": [
       "<table>\n",
       "    <tr>\n",
       "        <th>r</th>\n",
       "        <th>c</th>\n",
       "        <th>v</th>\n",
       "    </tr>\n",
       "    <tr>\n",
       "        <td>0.0</td>\n",
       "        <td>0.0</td>\n",
       "        <td>5.0</td>\n",
       "    </tr>\n",
       "    <tr>\n",
       "        <td>0.0</td>\n",
       "        <td>1.0</td>\n",
       "        <td>1.0</td>\n",
       "    </tr>\n",
       "    <tr>\n",
       "        <td>1.0</td>\n",
       "        <td>0.0</td>\n",
       "        <td>2.0</td>\n",
       "    </tr>\n",
       "    <tr>\n",
       "        <td>1.0</td>\n",
       "        <td>1.0</td>\n",
       "        <td>3.0</td>\n",
       "    </tr>\n",
       "    <tr>\n",
       "        <td>2.0</td>\n",
       "        <td>0.0</td>\n",
       "        <td>1.0</td>\n",
       "    </tr>\n",
       "    <tr>\n",
       "        <td>2.0</td>\n",
       "        <td>1.0</td>\n",
       "        <td>4.0</td>\n",
       "    </tr>\n",
       "</table>"
      ],
      "text/plain": [
       "[(0.0, 0.0, 5.0),\n",
       " (0.0, 1.0, 1.0),\n",
       " (1.0, 0.0, 2.0),\n",
       " (1.0, 1.0, 3.0),\n",
       " (2.0, 0.0, 1.0),\n",
       " (2.0, 1.0, 4.0)]"
      ]
     },
     "execution_count": 16,
     "metadata": {},
     "output_type": "execute_result"
    }
   ],
   "source": [
    "%%sql\n",
    "\n",
    "SELECT * FROM mat_a"
   ]
  },
  {
   "cell_type": "markdown",
   "metadata": {},
   "source": [
    "In this relational version we need to explicitly generate the `r` and `c` values. We can do this via SQL's built-in cartesian product!"
   ]
  },
  {
   "cell_type": "code",
   "execution_count": 17,
   "metadata": {},
   "outputs": [
    {
     "name": "stdout",
     "output_type": "stream",
     "text": [
      "6 rows affected.\n"
     ]
    },
    {
     "data": {
      "text/html": [
       "<table>\n",
       "    <tr>\n",
       "        <th>r</th>\n",
       "        <th>c</th>\n",
       "        <th>v</th>\n",
       "    </tr>\n",
       "    <tr>\n",
       "        <td>0</td>\n",
       "        <td>0</td>\n",
       "        <td>4</td>\n",
       "    </tr>\n",
       "    <tr>\n",
       "        <td>0</td>\n",
       "        <td>1</td>\n",
       "        <td>1</td>\n",
       "    </tr>\n",
       "    <tr>\n",
       "        <td>1</td>\n",
       "        <td>0</td>\n",
       "        <td>5</td>\n",
       "    </tr>\n",
       "    <tr>\n",
       "        <td>1</td>\n",
       "        <td>1</td>\n",
       "        <td>3</td>\n",
       "    </tr>\n",
       "    <tr>\n",
       "        <td>2</td>\n",
       "        <td>0</td>\n",
       "        <td>5</td>\n",
       "    </tr>\n",
       "    <tr>\n",
       "        <td>2</td>\n",
       "        <td>1</td>\n",
       "        <td>3</td>\n",
       "    </tr>\n",
       "</table>"
      ],
      "text/plain": [
       "[(0, 0, 4), (0, 1, 1), (1, 0, 5), (1, 1, 3), (2, 0, 5), (2, 1, 3)]"
      ]
     },
     "execution_count": 17,
     "metadata": {},
     "output_type": "execute_result"
    }
   ],
   "source": [
    "%%sql \n",
    "\n",
    "SELECT rows.r, columns.c, CEIL(6*RANDOM())::INTEGER AS v\n",
    "  FROM generate_series(0,2) AS rows(r),\n",
    "       generate_series(0,1) AS columns(c);"
   ]
  },
  {
   "cell_type": "markdown",
   "metadata": {},
   "source": [
    "We may want to store a matrix as a table—in which case we should set up the schema properly to ensure that it remains a legal matrix."
   ]
  },
  {
   "cell_type": "code",
   "execution_count": 18,
   "metadata": {},
   "outputs": [
    {
     "name": "stdout",
     "output_type": "stream",
     "text": [
      "Done.\n",
      "Done.\n",
      "6 rows affected.\n"
     ]
    },
    {
     "data": {
      "text/plain": [
       "[]"
      ]
     },
     "execution_count": 18,
     "metadata": {},
     "output_type": "execute_result"
    }
   ],
   "source": [
    "%%sql \n",
    "\n",
    "DROP TABLE IF EXISTS my_matrix;\n",
    "\n",
    "CREATE TABLE my_matrix(r INTEGER, c INTEGER, val FLOAT, PRIMARY KEY(r, c));\n",
    "\n",
    "INSERT INTO my_matrix\n",
    "SELECT rows.r, columns.c, CEIL(6*RANDOM())::INTEGER AS v\n",
    "  FROM generate_series(0,2) AS rows(r),\n",
    "       generate_series(0,1) AS columns(c);        "
   ]
  },
  {
   "cell_type": "code",
   "execution_count": 19,
   "metadata": {},
   "outputs": [
    {
     "name": "stdout",
     "output_type": "stream",
     "text": [
      "6 rows affected.\n"
     ]
    },
    {
     "data": {
      "text/html": [
       "<table>\n",
       "    <tr>\n",
       "        <th>r</th>\n",
       "        <th>c</th>\n",
       "        <th>val</th>\n",
       "    </tr>\n",
       "    <tr>\n",
       "        <td>0</td>\n",
       "        <td>0</td>\n",
       "        <td>5.0</td>\n",
       "    </tr>\n",
       "    <tr>\n",
       "        <td>0</td>\n",
       "        <td>1</td>\n",
       "        <td>1.0</td>\n",
       "    </tr>\n",
       "    <tr>\n",
       "        <td>1</td>\n",
       "        <td>0</td>\n",
       "        <td>3.0</td>\n",
       "    </tr>\n",
       "    <tr>\n",
       "        <td>1</td>\n",
       "        <td>1</td>\n",
       "        <td>6.0</td>\n",
       "    </tr>\n",
       "    <tr>\n",
       "        <td>2</td>\n",
       "        <td>0</td>\n",
       "        <td>3.0</td>\n",
       "    </tr>\n",
       "    <tr>\n",
       "        <td>2</td>\n",
       "        <td>1</td>\n",
       "        <td>3.0</td>\n",
       "    </tr>\n",
       "</table>"
      ],
      "text/plain": [
       "[(0, 0, 5.0), (0, 1, 1.0), (1, 0, 3.0), (1, 1, 6.0), (2, 0, 3.0), (2, 1, 3.0)]"
      ]
     },
     "execution_count": 19,
     "metadata": {},
     "output_type": "execute_result"
    }
   ],
   "source": [
    "%%sql \n",
    "\n",
    "SELECT * FROM my_matrix;"
   ]
  },
  {
   "cell_type": "markdown",
   "metadata": {},
   "source": [
    "A few take-aways from the previous cell:\n",
    "- Notice the schema of `my_matrix` reflects the fact that `val` is a function of the row (`x`) and column (`y`) IDs.\n",
    "- We've said before that the order of rows in a table isn't defined in SQL. Is this relational representation of a \"matrix\" faithful to the mathematical definition of a matrix? Why or why not?\n",
    "- Notice the `INSERT` statement, which contains a `SELECT` query rather than the `VALUES` we saw before. You might want to experiment and see what would happen if the `SELECT` query produces a different schema than `my_matrix`: try having it produce too few columns, too many columns, columns in different orders, etc.\n",
    "- In the `INSERT...SELECT` statement, notice the definition of output column names via the `AS` in the `SELECT` clause. Is that necessary here?\n",
    "- In the `INSERT...SELECT` statement, notice the definition of table *and* column names in the `FROM` clause via `AS`, and the way they get referenced in the `SELECT` clause. Do we need the tablenames specified in the `SELECT` clause? Try it and see!\n",
    "- Count the rows in the output...does it look good?\n"
   ]
  },
  {
   "cell_type": "markdown",
   "metadata": {},
   "source": [
    "### User-defined functions (UDFs)\n",
    "Sometimes we may want a custom scalar function that isn't built into SQL. Some database systems allow you to register your own *user-defined functions* (UDFs) in one or more programming languages. Conveniently, PostgreSQL allows us to register user-defined functions written in Python. Be aware of two things:\n",
    "\n",
    "1. Calling Python for each row in a query is quite a bit slower than using the pre-compiled built-in functions in SQL ... this is akin to the use of Python loops instead of `numpy` calls. *If you can avoid using Python UDFs you should do so to get better performance*.\n",
    "\n",
    "2. Python is a full-feature programming language with access to your operating system's functionality, which means it can reach outside of the scope of the query and wreak havoc, including running arbitrary UNIX commands. (PostgreSQL refers to this as an `untrusted` language.) Be *very* careful with the Python UDFs you use in your Postgres queries! If you want to be safer write UDFs in a trusted language. PostgreSQL has a [number of other languages](https://www.postgresql.org/docs/current/static/xplang.html) to choose from, including [Java](https://www.postgresql.org/docs/current/static/external-pl.html) and even [R](https://www.postgresql.org/docs/current/static/external-pl.html)!.\n",
    "\n",
    "First we tell PostgreSQL we want to use the plpythonu package (so named because of \"pl\" for \"programming language\", \"u\" for \"untrusted\"):"
   ]
  },
  {
   "cell_type": "code",
   "execution_count": 20,
   "metadata": {},
   "outputs": [
    {
     "name": "stdout",
     "output_type": "stream",
     "text": [
      "Done.\n"
     ]
    },
    {
     "data": {
      "text/plain": [
       "[]"
      ]
     },
     "execution_count": 20,
     "metadata": {},
     "output_type": "execute_result"
    }
   ],
   "source": [
    "%%sql \n",
    "\n",
    "CREATE EXTENSION IF NOT EXISTS plpythonu;"
   ]
  },
  {
   "cell_type": "markdown",
   "metadata": {},
   "source": [
    "Now let's write some trivial Python code and register it as a UDF using the `create function` command. Since SQL is a typed language, we need to specify the SQL types for the input and output to our function, in addition to the code (within $$ delimiters) and the language:"
   ]
  },
  {
   "cell_type": "code",
   "execution_count": 21,
   "metadata": {},
   "outputs": [
    {
     "name": "stdout",
     "output_type": "stream",
     "text": [
      "Done.\n",
      "Done.\n"
     ]
    },
    {
     "data": {
      "text/plain": [
       "[]"
      ]
     },
     "execution_count": 21,
     "metadata": {},
     "output_type": "execute_result"
    }
   ],
   "source": [
    "%%sql \n",
    "\n",
    "DROP FUNCTION IF EXISTS fib(x INTEGER);\n",
    "\n",
    "CREATE FUNCTION fib(x INTEGER) RETURNS INTEGER\n",
    "AS $$\n",
    "def fib(x):\n",
    "    if x < 2:\n",
    "        return x\n",
    "    else:\n",
    "        return fib(x-1) + fib(x-2)\n",
    "return fib(x)\n",
    "$$ LANGUAGE plpythonu;"
   ]
  },
  {
   "cell_type": "code",
   "execution_count": 22,
   "metadata": {},
   "outputs": [
    {
     "name": "stdout",
     "output_type": "stream",
     "text": [
      "10 rows affected.\n"
     ]
    },
    {
     "data": {
      "text/html": [
       "<table>\n",
       "    <tr>\n",
       "        <th>x</th>\n",
       "        <th>fib</th>\n",
       "    </tr>\n",
       "    <tr>\n",
       "        <td>1</td>\n",
       "        <td>1</td>\n",
       "    </tr>\n",
       "    <tr>\n",
       "        <td>2</td>\n",
       "        <td>1</td>\n",
       "    </tr>\n",
       "    <tr>\n",
       "        <td>3</td>\n",
       "        <td>2</td>\n",
       "    </tr>\n",
       "    <tr>\n",
       "        <td>4</td>\n",
       "        <td>3</td>\n",
       "    </tr>\n",
       "    <tr>\n",
       "        <td>5</td>\n",
       "        <td>5</td>\n",
       "    </tr>\n",
       "    <tr>\n",
       "        <td>6</td>\n",
       "        <td>8</td>\n",
       "    </tr>\n",
       "    <tr>\n",
       "        <td>7</td>\n",
       "        <td>13</td>\n",
       "    </tr>\n",
       "    <tr>\n",
       "        <td>8</td>\n",
       "        <td>21</td>\n",
       "    </tr>\n",
       "    <tr>\n",
       "        <td>9</td>\n",
       "        <td>34</td>\n",
       "    </tr>\n",
       "    <tr>\n",
       "        <td>10</td>\n",
       "        <td>55</td>\n",
       "    </tr>\n",
       "</table>"
      ],
      "text/plain": [
       "[(1, 1),\n",
       " (2, 1),\n",
       " (3, 2),\n",
       " (4, 3),\n",
       " (5, 5),\n",
       " (6, 8),\n",
       " (7, 13),\n",
       " (8, 21),\n",
       " (9, 34),\n",
       " (10, 55)]"
      ]
     },
     "execution_count": 22,
     "metadata": {},
     "output_type": "execute_result"
    }
   ],
   "source": [
    "%%sql $postgresql_uri\n",
    "\n",
    "SELECT x, fib(x)\n",
    "FROM generate_series(1,10) AS row(x);"
   ]
  },
  {
   "cell_type": "markdown",
   "metadata": {},
   "source": [
    "# A Discussion on Transactions\n",
    "\n",
    "It is possible to create transactions that isolate changes.  This is done by starting a transaction with `BEGIN`.  We can then proceed to make changes to the database.  During this time others will not be able to see our changes. Until we end the transactions by saying `ROLLBACK` or `COMMIT`:\n",
    "\n",
    "```sql\n",
    "BEGIN;\n",
    "\n",
    "UPDATE students SET gpa = 3.0 WHERE name = 'Bill Gates'; \n",
    "\n",
    "SELECT * FROM students;\n",
    "\n",
    "ROLLBACK;\n",
    "\n",
    "SELECT * FROM students;\n",
    "```\n",
    "\n",
    "Try running this in the postgres shell...\n",
    "\n"
   ]
  },
  {
   "cell_type": "markdown",
   "metadata": {},
   "source": [
    "#  Descriptive Statistics in SQL\n",
    "\n",
    "\n",
    "Statistics doesn't deal with individuals, it deals with groups: distributions, populations, samples and the like. As such, computing statistics in SQL focuses heavily on aggregation functions.\n",
    "\n",
    "All SQL systems have simple descriptive statistics built in as aggregation functions:\n",
    "- `min, max`\n",
    "- `count`\n",
    "- `sum`\n",
    "- `avg`\n",
    "- `stddev` and `variance`, the sample standard deviation and variance.\n",
    "\n",
    "PostgreSQL offers [many more](https://www.postgresql.org/docs/current/static/functions-aggregate.html#FUNCTIONS-AGGREGATE-STATISTICS-TABLE). Some handy ones include\n",
    "- `stddev_pop` and `var_pop`: the population standard deviation and variance, which you should use rather than `stddev` and `variance` if you know your data is the full population, not a sample.\n",
    "- `covar_samp` and `covar_pop`: sample and population covariance\n",
    "- `corr`, Pearson's correlation coefficient\n"
   ]
  },
  {
   "cell_type": "markdown",
   "metadata": {},
   "source": [
    "## Order Statistics: Aggregates requiring ordered input\n",
    "You'll notice that a number of handy statistics are missing from this list, including the median and quartiles. That's because those are [order statistics](https://en.wikipedia.org/wiki/Order_statistic): they are defined based on an ordering of the values in a column. \n",
    "\n",
    "SQL provides for this by allowing what it calls \"ordered set functions\", which require a `WITHIN GROUP (ORDER BY <columns>)` clause to accompany the order-statistic aggregate.  For example, to compute the 25th percentile, 50th percentile (median) and 75th percentile in SQL, we can use the following:"
   ]
  },
  {
   "cell_type": "code",
   "execution_count": 23,
   "metadata": {},
   "outputs": [
    {
     "name": "stdout",
     "output_type": "stream",
     "text": [
      "1 rows affected.\n"
     ]
    },
    {
     "data": {
      "text/html": [
       "<table>\n",
       "    <tr>\n",
       "        <th>percentile_cont</th>\n",
       "    </tr>\n",
       "    <tr>\n",
       "        <td>5.5</td>\n",
       "    </tr>\n",
       "</table>"
      ],
      "text/plain": [
       "[(5.5,)]"
      ]
     },
     "execution_count": 23,
     "metadata": {},
     "output_type": "execute_result"
    }
   ],
   "source": [
    "%%sql \n",
    "\n",
    "SELECT \n",
    "    percentile_cont(0.5) WITHIN GROUP (ORDER BY x) \n",
    "FROM generate_series(1,10) AS data(x);"
   ]
  },
  {
   "cell_type": "markdown",
   "metadata": {},
   "source": [
    "There are two versions of the percentile function:\n",
    "* **`percentile_cont`** inuous : interpolates\n",
    "* **`percentile_disc`** rete : returns an entry from the table\n",
    "\n",
    "What will the following expressions return?"
   ]
  },
  {
   "cell_type": "code",
   "execution_count": 24,
   "metadata": {},
   "outputs": [
    {
     "name": "stdout",
     "output_type": "stream",
     "text": [
      "1 rows affected.\n"
     ]
    },
    {
     "data": {
      "text/html": [
       "<table>\n",
       "    <tr>\n",
       "        <th>percentile_disc</th>\n",
       "    </tr>\n",
       "    <tr>\n",
       "        <td>5</td>\n",
       "    </tr>\n",
       "</table>"
      ],
      "text/plain": [
       "[(5,)]"
      ]
     },
     "execution_count": 24,
     "metadata": {},
     "output_type": "execute_result"
    }
   ],
   "source": [
    "%%sql $postgresql_uri\n",
    "\n",
    "SELECT \n",
    "    percentile_disc(0.5) WITHIN GROUP (ORDER BY x) \n",
    "FROM generate_series(1,10) AS data(x);"
   ]
  },
  {
   "cell_type": "markdown",
   "metadata": {},
   "source": [
    "We can compute the edges and middle of the box in a box plot:"
   ]
  },
  {
   "cell_type": "code",
   "execution_count": 25,
   "metadata": {},
   "outputs": [
    {
     "name": "stdout",
     "output_type": "stream",
     "text": [
      "1 rows affected.\n"
     ]
    },
    {
     "data": {
      "text/html": [
       "<table>\n",
       "    <tr>\n",
       "        <th>lower_quartile</th>\n",
       "        <th>median</th>\n",
       "        <th>upper_quartile</th>\n",
       "    </tr>\n",
       "    <tr>\n",
       "        <td>3</td>\n",
       "        <td>5</td>\n",
       "        <td>8</td>\n",
       "    </tr>\n",
       "</table>"
      ],
      "text/plain": [
       "[(3, 5, 8)]"
      ]
     },
     "execution_count": 25,
     "metadata": {},
     "output_type": "execute_result"
    }
   ],
   "source": [
    "%%sql $postgresql_uri\n",
    "SELECT \n",
    "    percentile_disc(0.25) WITHIN GROUP (ORDER BY x) as lower_quartile,\n",
    "    percentile_disc(0.5) WITHIN GROUP (ORDER BY x) as median,\n",
    "    percentile_disc(0.75) WITHIN GROUP (ORDER BY x) as upper_quartile\n",
    "FROM generate_series(1,10) AS data(x);"
   ]
  },
  {
   "cell_type": "markdown",
   "metadata": {},
   "source": [
    "# Working with Real Data in `psql`\n",
    "In a separate notebook (`load_fec.ipynb`) you'll find the commands to load publicly-available campaign finance [data from the Federal Election Commission](http://www.fec.gov/finance/disclosure/ftpdet.shtml#a2015_2016) into a PostgreSQL database.\n",
    "\n",
    "To see what we have in the database, it's simplest to use the PostgreSQL shell command `psql` to interact with the database.  You can run `man psql` to learn more about it. A few handy tips:\n",
    "1. `psql` supports some useful non-SQL \"meta-\"commands, which you access via backslash (`\\`). To find out about them, run `psql` in a bash shell, and at the prompt you can type `\\?`.\n",
    "2. `psql` has builtin documentation for SQL. To see that, at the `psql` prompt type `\\help`.\n",
    "3. `psql` is an interactive SQL shell, so not suitable for use inside a Jupyter notebook. If you want to invoke it within a Jupyter notebook, you should use `!psql -c <SQL statement>` -- the `-c` flag tells psql to run the SQL statement and then exit:"
   ]
  },
  {
   "cell_type": "markdown",
   "metadata": {},
   "source": [
    "Let's see what tables we have our database after loading the FEC data:"
   ]
  },
  {
   "cell_type": "code",
   "execution_count": 26,
   "metadata": {},
   "outputs": [
    {
     "name": "stdout",
     "output_type": "stream",
     "text": [
      "             List of relations\r\n",
      " Schema |     Name      | Type  |  Owner   \r\n",
      "--------+---------------+-------+----------\r\n",
      " public | boats         | table | jegonzal\r\n",
      " public | ccl           | table | jegonzal\r\n",
      " public | cm            | table | jegonzal\r\n",
      " public | cn            | table | jegonzal\r\n",
      " public | date_stats    | view  | jegonzal\r\n",
      " public | indiv_sample  | table | jegonzal\r\n",
      " public | indiv_sample2 | table | jegonzal\r\n",
      " public | individual    | table | jegonzal\r\n",
      " public | mat_a         | table | jegonzal\r\n",
      " public | my_matrix     | table | jegonzal\r\n",
      " public | oppexp        | table | jegonzal\r\n",
      " public | pas           | table | jegonzal\r\n",
      " public | profs         | table | jegonzal\r\n",
      " public | rando         | view  | jegonzal\r\n",
      " public | reserves      | table | jegonzal\r\n",
      " public | sailors       | table | jegonzal\r\n",
      " public | students      | table | jegonzal\r\n",
      " public | tips          | table | jegonzal\r\n",
      "(18 rows)\r\n",
      "\r\n"
     ]
    }
   ],
   "source": [
    "!psql ds100 -c \"\\d\""
   ]
  },
  {
   "cell_type": "markdown",
   "metadata": {},
   "source": [
    "And let's have a look at the `individual` table's schema:"
   ]
  },
  {
   "cell_type": "code",
   "execution_count": 27,
   "metadata": {},
   "outputs": [
    {
     "name": "stdout",
     "output_type": "stream",
     "text": [
      "              Table \"public.individual\"\r\n",
      "     Column      |         Type          | Modifiers \r\n",
      "-----------------+-----------------------+-----------\r\n",
      " cmte_id         | character varying(9)  | \r\n",
      " amndt_ind       | character(1)          | \r\n",
      " rpt_tp          | character varying(3)  | \r\n",
      " transaction_pgi | character(5)          | \r\n",
      " image_num       | bigint                | \r\n",
      " transaction_tp  | character varying(3)  | \r\n",
      " entity_tp       | character varying(3)  | \r\n",
      " name            | text                  | \r\n",
      " city            | text                  | \r\n",
      " state           | character(2)          | \r\n",
      " zip_code        | character varying(12) | \r\n",
      " employer        | text                  | \r\n",
      " occupation      | text                  | \r\n",
      " transaction_dt  | character varying(9)  | \r\n",
      " transaction_amt | integer               | \r\n",
      " other_id        | text                  | \r\n",
      " tran_id         | text                  | \r\n",
      " file_num        | bigint                | \r\n",
      " memo_cd         | text                  | \r\n",
      " memo_text       | text                  | \r\n",
      " sub_id          | bigint                | \r\n",
      "\r\n"
     ]
    }
   ],
   "source": [
    "!psql ds100 -c \"\\d individual\""
   ]
  },
  {
   "cell_type": "markdown",
   "metadata": {},
   "source": [
    "If you are curious about the meaning of these columns check out the [FEC data description](http://classic.fec.gov/finance/disclosure/metadata/DataDictionaryContributionsbyIndividuals.shtml)"
   ]
  },
  {
   "cell_type": "markdown",
   "metadata": {},
   "source": [
    "How big is this table?"
   ]
  },
  {
   "cell_type": "code",
   "execution_count": 28,
   "metadata": {},
   "outputs": [
    {
     "name": "stdout",
     "output_type": "stream",
     "text": [
      "1 rows affected.\n"
     ]
    },
    {
     "data": {
      "text/html": [
       "<table>\n",
       "    <tr>\n",
       "        <th>count</th>\n",
       "    </tr>\n",
       "    <tr>\n",
       "        <td>20347829</td>\n",
       "    </tr>\n",
       "</table>"
      ],
      "text/plain": [
       "[(20347829,)]"
      ]
     },
     "execution_count": 28,
     "metadata": {},
     "output_type": "execute_result"
    }
   ],
   "source": [
    "%%sql \n",
    "\n",
    "SELECT COUNT(*)\n",
    "FROM individual "
   ]
  },
  {
   "cell_type": "markdown",
   "metadata": {},
   "source": [
    "# Browsing Tables: `LIMIT` and sampling\n",
    "*This is not the first topic usually taught in SQL, but it's extremely useful for exploration.*\n",
    "\n",
    "OK, now we have some serious data loaded and we're ready to explore it.\n",
    "\n",
    "Database tables are often big--hence the use of a database system. When browsing them at first, we may want to look at exemplary rows: e.g., an arbitrary number of rows, or a random sample of the rows.\n",
    "\n",
    "To look at all of the data in the `individual` table, we would simply write:\n",
    "\n",
    "```sql\n",
    "select * from individual;\n",
    "```\n",
    "\n",
    "But that would return ** *20,347,829* ** rows into our Jupyter notebook's memory, and perhaps overflow the RAM in your computer.  Instead, we could limit the size of the output to the first 3 rows as follows:"
   ]
  },
  {
   "cell_type": "code",
   "execution_count": 29,
   "metadata": {},
   "outputs": [
    {
     "name": "stdout",
     "output_type": "stream",
     "text": [
      "4 rows affected.\n"
     ]
    },
    {
     "data": {
      "text/html": [
       "<table>\n",
       "    <tr>\n",
       "        <th>cmte_id</th>\n",
       "        <th>amndt_ind</th>\n",
       "        <th>rpt_tp</th>\n",
       "        <th>transaction_pgi</th>\n",
       "        <th>image_num</th>\n",
       "        <th>transaction_tp</th>\n",
       "        <th>entity_tp</th>\n",
       "        <th>name</th>\n",
       "        <th>city</th>\n",
       "        <th>state</th>\n",
       "        <th>zip_code</th>\n",
       "        <th>employer</th>\n",
       "        <th>occupation</th>\n",
       "        <th>transaction_dt</th>\n",
       "        <th>transaction_amt</th>\n",
       "        <th>other_id</th>\n",
       "        <th>tran_id</th>\n",
       "        <th>file_num</th>\n",
       "        <th>memo_cd</th>\n",
       "        <th>memo_text</th>\n",
       "        <th>sub_id</th>\n",
       "    </tr>\n",
       "    <tr>\n",
       "        <td>C00004606</td>\n",
       "        <td>N</td>\n",
       "        <td>M4</td>\n",
       "        <td>P    </td>\n",
       "        <td>15951124869</td>\n",
       "        <td>15</td>\n",
       "        <td>IND</td>\n",
       "        <td>ARNOLD, ROBERT</td>\n",
       "        <td>MCPHERSON</td>\n",
       "        <td>KS</td>\n",
       "        <td>67460</td>\n",
       "        <td>SELF</td>\n",
       "        <td>OPTOMETRIST</td>\n",
       "        <td>03102015</td>\n",
       "        <td>1000</td>\n",
       "        <td>None</td>\n",
       "        <td>SA11AI.20747</td>\n",
       "        <td>1002259</td>\n",
       "        <td>None</td>\n",
       "        <td>None</td>\n",
       "        <td>4041320151241796098</td>\n",
       "    </tr>\n",
       "    <tr>\n",
       "        <td>C00004606</td>\n",
       "        <td>N</td>\n",
       "        <td>M4</td>\n",
       "        <td>P    </td>\n",
       "        <td>15951124869</td>\n",
       "        <td>15</td>\n",
       "        <td>IND</td>\n",
       "        <td>BICKLE, DON</td>\n",
       "        <td>HAYS</td>\n",
       "        <td>KS</td>\n",
       "        <td>67601</td>\n",
       "        <td>RETIRED</td>\n",
       "        <td>RETIRED</td>\n",
       "        <td>03302015</td>\n",
       "        <td>1000</td>\n",
       "        <td>None</td>\n",
       "        <td>SA11AI.20772</td>\n",
       "        <td>1002259</td>\n",
       "        <td>None</td>\n",
       "        <td>None</td>\n",
       "        <td>4041320151241796099</td>\n",
       "    </tr>\n",
       "    <tr>\n",
       "        <td>C00004606</td>\n",
       "        <td>N</td>\n",
       "        <td>M4</td>\n",
       "        <td>P    </td>\n",
       "        <td>15951124869</td>\n",
       "        <td>15</td>\n",
       "        <td>IND</td>\n",
       "        <td>ROSSMAN, RICHARD</td>\n",
       "        <td>OLATHE</td>\n",
       "        <td>KS</td>\n",
       "        <td>66051</td>\n",
       "        <td>CRAWFORD SALES COMPANY</td>\n",
       "        <td>BUSINESSMAN</td>\n",
       "        <td>03302015</td>\n",
       "        <td>250</td>\n",
       "        <td>None</td>\n",
       "        <td>SA11AI.20759</td>\n",
       "        <td>1002259</td>\n",
       "        <td>None</td>\n",
       "        <td>None</td>\n",
       "        <td>4041320151241796100</td>\n",
       "    </tr>\n",
       "    <tr>\n",
       "        <td>C00452383</td>\n",
       "        <td>N</td>\n",
       "        <td>M4</td>\n",
       "        <td>P    </td>\n",
       "        <td>15951124897</td>\n",
       "        <td>15</td>\n",
       "        <td>IND</td>\n",
       "        <td>LLEWELLYN, CHARLES</td>\n",
       "        <td>FREDERICK</td>\n",
       "        <td>MD</td>\n",
       "        <td>21704</td>\n",
       "        <td>None</td>\n",
       "        <td>None</td>\n",
       "        <td>03112015</td>\n",
       "        <td>500</td>\n",
       "        <td>None</td>\n",
       "        <td>SA11AI.25088</td>\n",
       "        <td>1002261</td>\n",
       "        <td>None</td>\n",
       "        <td>None</td>\n",
       "        <td>4041320151241796102</td>\n",
       "    </tr>\n",
       "</table>"
      ],
      "text/plain": [
       "[('C00004606', 'N', 'M4', 'P    ', 15951124869, '15', 'IND', 'ARNOLD, ROBERT', 'MCPHERSON', 'KS', '67460', 'SELF', 'OPTOMETRIST', '03102015', 1000, None, 'SA11AI.20747', 1002259, None, None, 4041320151241796098),\n",
       " ('C00004606', 'N', 'M4', 'P    ', 15951124869, '15', 'IND', 'BICKLE, DON', 'HAYS', 'KS', '67601', 'RETIRED', 'RETIRED', '03302015', 1000, None, 'SA11AI.20772', 1002259, None, None, 4041320151241796099),\n",
       " ('C00004606', 'N', 'M4', 'P    ', 15951124869, '15', 'IND', 'ROSSMAN, RICHARD', 'OLATHE', 'KS', '66051', 'CRAWFORD SALES COMPANY', 'BUSINESSMAN', '03302015', 250, None, 'SA11AI.20759', 1002259, None, None, 4041320151241796100),\n",
       " ('C00452383', 'N', 'M4', 'P    ', 15951124897, '15', 'IND', 'LLEWELLYN, CHARLES', 'FREDERICK', 'MD', '21704', None, None, '03112015', 500, None, 'SA11AI.25088', 1002261, None, None, 4041320151241796102)]"
      ]
     },
     "execution_count": 29,
     "metadata": {},
     "output_type": "execute_result"
    }
   ],
   "source": [
    "%%sql \n",
    "\n",
    "SELECT *\n",
    "FROM individual \n",
    "LIMIT 4;"
   ]
  },
  {
   "cell_type": "markdown",
   "metadata": {},
   "source": [
    "---\n",
    "\n",
    "\n",
    "## Some notes on the `limit` clause:\n",
    "\n",
    "1. Not only does it **produce a small output**, it's **quite efficient**: the database system **stops iterating over the table after producing the first three rows**, saving the work of examining the other nearly 40 million rows. \n",
    "1. Recall that **relations have no intrinsic order**, so this is **some arbitrary choice of 3 rows**. Two issues to keep in mind:\n",
    "    1. This is a **biased choice of rows**. Very likely these are the first 3 rows stored in some disk file managed by the database, which may (for example) be the first 3 rows that were entered into the database, so they may not be representative of rows entered later.\n",
    "    1. The **result is non-deterministic**. Given that tables are not guaranteed to have an intrinsic order, it is considered correct for an SQL engine to return *any* 3 rows that satisfy this query, and return a different 3 rows each time depending on the cached data.\n"
   ]
  },
  {
   "cell_type": "markdown",
   "metadata": {},
   "source": [
    "<br/><br/><br/>\n",
    "\n",
    "---\n",
    "\n",
    "\n",
    "## Constructing a Bernoulli Sample\n",
    "\n",
    "As data scientists, we should be concerned about spending much time looking at a biased subset of our data. Instead, we might want an i.i.d. random sample of the rows in the table. There are various methods for sampling from a table. A simple one built into many database systems including PostgreSQL is [Bernoulli](https://en.wikipedia.org/wiki/Bernoulli_sampling) sampling, in which the decision to return each row is made randomly and independently. As a metaphor, the database engine \"flips a coin\" for each row to decide whether to return it. We can influence the sampling rate by choosing the probability of a \"true\" result of the coinflip. \n",
    "\n",
    "This is done on a per-table basis in the `FROM` clause of the query like so:"
   ]
  },
  {
   "cell_type": "code",
   "execution_count": 30,
   "metadata": {},
   "outputs": [
    {
     "name": "stdout",
     "output_type": "stream",
     "text": [
      "2 rows affected.\n"
     ]
    },
    {
     "data": {
      "text/html": [
       "<table>\n",
       "    <tr>\n",
       "        <th>cmte_id</th>\n",
       "        <th>amndt_ind</th>\n",
       "        <th>rpt_tp</th>\n",
       "        <th>transaction_pgi</th>\n",
       "        <th>image_num</th>\n",
       "        <th>transaction_tp</th>\n",
       "        <th>entity_tp</th>\n",
       "        <th>name</th>\n",
       "        <th>city</th>\n",
       "        <th>state</th>\n",
       "        <th>zip_code</th>\n",
       "        <th>employer</th>\n",
       "        <th>occupation</th>\n",
       "        <th>transaction_dt</th>\n",
       "        <th>transaction_amt</th>\n",
       "        <th>other_id</th>\n",
       "        <th>tran_id</th>\n",
       "        <th>file_num</th>\n",
       "        <th>memo_cd</th>\n",
       "        <th>memo_text</th>\n",
       "        <th>sub_id</th>\n",
       "    </tr>\n",
       "    <tr>\n",
       "        <td>C00168070</td>\n",
       "        <td>N</td>\n",
       "        <td>YE</td>\n",
       "        <td>None</td>\n",
       "        <td>201601219004559404</td>\n",
       "        <td>15</td>\n",
       "        <td>IND</td>\n",
       "        <td>BRADLEY, GENE</td>\n",
       "        <td>ORGON</td>\n",
       "        <td>MO</td>\n",
       "        <td>64473</td>\n",
       "        <td>ATCHISON-HOLT AMBULANCE</td>\n",
       "        <td>EXECUTIVE DIRECTOR</td>\n",
       "        <td>07052015</td>\n",
       "        <td>25</td>\n",
       "        <td>None</td>\n",
       "        <td>C3236045</td>\n",
       "        <td>1041342</td>\n",
       "        <td>None</td>\n",
       "        <td>None</td>\n",
       "        <td>4012120161260787998</td>\n",
       "    </tr>\n",
       "    <tr>\n",
       "        <td>C00343459</td>\n",
       "        <td>N</td>\n",
       "        <td>M11</td>\n",
       "        <td>None</td>\n",
       "        <td>201511209003417934</td>\n",
       "        <td>15</td>\n",
       "        <td>IND</td>\n",
       "        <td>YANG, CLEMENT MD</td>\n",
       "        <td>NEW YORK</td>\n",
       "        <td>NY</td>\n",
       "        <td>100191241</td>\n",
       "        <td>HACKENSACK RADIOLOGY GROUP</td>\n",
       "        <td>DIAGNOSTIC RADIOLOGIST</td>\n",
       "        <td>10012015</td>\n",
       "        <td>23</td>\n",
       "        <td>None</td>\n",
       "        <td>C3180483</td>\n",
       "        <td>1033848</td>\n",
       "        <td>None</td>\n",
       "        <td>None</td>\n",
       "        <td>4112020151257395370</td>\n",
       "    </tr>\n",
       "</table>"
      ],
      "text/plain": [
       "[('C00168070', 'N', 'YE', None, 201601219004559404, '15', 'IND', 'BRADLEY, GENE', 'ORGON', 'MO', '64473', 'ATCHISON-HOLT AMBULANCE', 'EXECUTIVE DIRECTOR', '07052015', 25, None, 'C3236045', 1041342, None, None, 4012120161260787998),\n",
       " ('C00343459', 'N', 'M11', None, 201511209003417934, '15', 'IND', 'YANG, CLEMENT MD', 'NEW YORK', 'NY', '100191241', 'HACKENSACK RADIOLOGY GROUP', 'DIAGNOSTIC RADIOLOGIST', '10012015', 23, None, 'C3180483', 1033848, None, None, 4112020151257395370)]"
      ]
     },
     "execution_count": 30,
     "metadata": {},
     "output_type": "execute_result"
    }
   ],
   "source": [
    "%%sql \n",
    "SELECT *\n",
    "FROM individual TABLESAMPLE BERNOULLI(.00001);"
   ]
  },
  {
   "cell_type": "markdown",
   "metadata": {},
   "source": [
    "To learn more about the `TABLESAMPLE` clause checkout out the [select docs](https://www.postgresql.org/docs/10/static/sql-select.html).  Note that there is a second sampling method called block sampling which is a lot like cluster sampling at the level of pages on disk!"
   ]
  },
  {
   "cell_type": "code",
   "execution_count": 31,
   "metadata": {},
   "outputs": [
    {
     "name": "stdout",
     "output_type": "stream",
     "text": [
      "2 rows affected.\n"
     ]
    },
    {
     "data": {
      "text/html": [
       "<table>\n",
       "    <tr>\n",
       "        <th>cmte_id</th>\n",
       "        <th>amndt_ind</th>\n",
       "        <th>rpt_tp</th>\n",
       "        <th>transaction_pgi</th>\n",
       "        <th>image_num</th>\n",
       "        <th>transaction_tp</th>\n",
       "        <th>entity_tp</th>\n",
       "        <th>name</th>\n",
       "        <th>city</th>\n",
       "        <th>state</th>\n",
       "        <th>zip_code</th>\n",
       "        <th>employer</th>\n",
       "        <th>occupation</th>\n",
       "        <th>transaction_dt</th>\n",
       "        <th>transaction_amt</th>\n",
       "        <th>other_id</th>\n",
       "        <th>tran_id</th>\n",
       "        <th>file_num</th>\n",
       "        <th>memo_cd</th>\n",
       "        <th>memo_text</th>\n",
       "        <th>sub_id</th>\n",
       "    </tr>\n",
       "    <tr>\n",
       "        <td>C00078451</td>\n",
       "        <td>N</td>\n",
       "        <td>12G</td>\n",
       "        <td>P    </td>\n",
       "        <td>201611039037111950</td>\n",
       "        <td>15</td>\n",
       "        <td>IND</td>\n",
       "        <td>BARRETO, MICHAEL</td>\n",
       "        <td>RANDOLPH</td>\n",
       "        <td>MA</td>\n",
       "        <td>02368</td>\n",
       "        <td>GD INFORMATION TECHNOLOGY</td>\n",
       "        <td>MANAGER INFORMATION SYSTEMS</td>\n",
       "        <td>10192016</td>\n",
       "        <td>10</td>\n",
       "        <td>None</td>\n",
       "        <td>PR1730464950915</td>\n",
       "        <td>1123284</td>\n",
       "        <td>None</td>\n",
       "        <td>P/R DEDUCTION ($10.00 BI-WEEKLY)</td>\n",
       "        <td>4113020161356319420</td>\n",
       "    </tr>\n",
       "    <tr>\n",
       "        <td>C00401224</td>\n",
       "        <td>A</td>\n",
       "        <td>M5</td>\n",
       "        <td>P    </td>\n",
       "        <td>201702089044946205</td>\n",
       "        <td>24T</td>\n",
       "        <td>IND</td>\n",
       "        <td>THOMAS, ROBERT</td>\n",
       "        <td>GAINESVILLE</td>\n",
       "        <td>FL</td>\n",
       "        <td>32607</td>\n",
       "        <td>UNIVERSITY OF FLORIDA</td>\n",
       "        <td>PROFESSOR</td>\n",
       "        <td>04292016</td>\n",
       "        <td>200</td>\n",
       "        <td>C00042366</td>\n",
       "        <td>SA11AI_47414707</td>\n",
       "        <td>1148088</td>\n",
       "        <td>None</td>\n",
       "        <td>EARMARKED FOR DSCC (C00042366)</td>\n",
       "        <td>4032420171384326562</td>\n",
       "    </tr>\n",
       "</table>"
      ],
      "text/plain": [
       "[('C00078451', 'N', '12G', 'P    ', 201611039037111950, '15', 'IND', 'BARRETO, MICHAEL', 'RANDOLPH', 'MA', '02368', 'GD INFORMATION TECHNOLOGY', 'MANAGER INFORMATION SYSTEMS', '10192016', 10, None, 'PR1730464950915', 1123284, None, 'P/R DEDUCTION ($10.00 BI-WEEKLY)', 4113020161356319420),\n",
       " ('C00401224', 'A', 'M5', 'P    ', 201702089044946205, '24T', 'IND', 'THOMAS, ROBERT', 'GAINESVILLE', 'FL', '32607', 'UNIVERSITY OF FLORIDA', 'PROFESSOR', '04292016', 200, 'C00042366', 'SA11AI_47414707', 1148088, None, 'EARMARKED FOR DSCC (C00042366)', 4032420171384326562)]"
      ]
     },
     "execution_count": 31,
     "metadata": {},
     "output_type": "execute_result"
    }
   ],
   "source": [
    "%%sql \n",
    "SELECT *\n",
    "FROM individual TABLESAMPLE BERNOULLI(.00001) REPEATABLE(42);"
   ]
  },
  {
   "cell_type": "markdown",
   "metadata": {},
   "source": [
    "Three things to note relative to our previous `limit` construct:\n",
    "\n",
    "1. **Bernoulli sampling is slow**: it scales linearly with the table size by iterating through every row in the table.\n",
    "1. The **number of rows returned by Bernoulli sampling is probabilistic**. For a table with $n$ rows and a sampling probability $p$, the output size comes from a [binomial distribution]() with mean $np$ and variance ($np(1-p)$). For a very small $p$, the variance means we could easily get 0 rows back when trying our query!\n",
    "1. If we don't know the size of the table, **it's hard to choose a practical sampling probability**. First we want to count up the number of rows $n$ (see the discussion of aggregation queries below), to inform us of a good $p$ to choose to get our desired output size. That means yet another full pass of the table to compute the count before we compute the sample!\n",
    "\n",
    "For these reasons, if we want a proper i.i.d sample, **it's a good idea to compute a nice-sized sample and store it**, keeping it reasonably large for more general use. Since we will not be updating and rows in our `individual` table, we can do this without worrying that the sample will get \"out of date\" with respect to the context of `individual`.  \n",
    "\n",
    "We can use the `CREATE TABLE AS SELECT ...` (a.k.a. CTAS) pattern to do create a table that saves the output of a query:"
   ]
  },
  {
   "cell_type": "code",
   "execution_count": 32,
   "metadata": {},
   "outputs": [
    {
     "name": "stdout",
     "output_type": "stream",
     "text": [
      "Done.\n",
      "20523 rows affected.\n"
     ]
    },
    {
     "data": {
      "text/plain": [
       "[]"
      ]
     },
     "execution_count": 32,
     "metadata": {},
     "output_type": "execute_result"
    }
   ],
   "source": [
    "%%sql $postgresql_uri\n",
    "DROP TABLE IF EXISTS indiv_sample;\n",
    "\n",
    "CREATE TABLE indiv_sample AS\n",
    "SELECT *\n",
    "FROM individual TABLESAMPLE BERNOULLI(.1) REPEATABLE(42);"
   ]
  },
  {
   "cell_type": "markdown",
   "metadata": {},
   "source": [
    "# A SRS of Fixed Size\n",
    "\n",
    "Here is an alternative method to construct a random sample of a fixed size.   Note that this is not as efficient and will take several minutes to complete.\n",
    "\n",
    "```sql\n",
    "CREATE TABLE indiv_sample2 AS\n",
    "SELECT *, RANDOM() AS u\n",
    "FROM individual \n",
    "ORDER BY u\n",
    "LIMIT 20000;\n",
    "```"
   ]
  },
  {
   "cell_type": "code",
   "execution_count": 33,
   "metadata": {},
   "outputs": [
    {
     "name": "stdout",
     "output_type": "stream",
     "text": [
      "5 rows affected.\n"
     ]
    },
    {
     "data": {
      "text/html": [
       "<table>\n",
       "    <tr>\n",
       "        <th>cmte_id</th>\n",
       "        <th>amndt_ind</th>\n",
       "        <th>rpt_tp</th>\n",
       "        <th>transaction_pgi</th>\n",
       "        <th>image_num</th>\n",
       "        <th>transaction_tp</th>\n",
       "        <th>entity_tp</th>\n",
       "        <th>name</th>\n",
       "        <th>city</th>\n",
       "        <th>state</th>\n",
       "        <th>zip_code</th>\n",
       "        <th>employer</th>\n",
       "        <th>occupation</th>\n",
       "        <th>transaction_dt</th>\n",
       "        <th>transaction_amt</th>\n",
       "        <th>other_id</th>\n",
       "        <th>tran_id</th>\n",
       "        <th>file_num</th>\n",
       "        <th>memo_cd</th>\n",
       "        <th>memo_text</th>\n",
       "        <th>sub_id</th>\n",
       "        <th>u</th>\n",
       "    </tr>\n",
       "    <tr>\n",
       "        <td>C00401224</td>\n",
       "        <td>A</td>\n",
       "        <td>30G</td>\n",
       "        <td>P    </td>\n",
       "        <td>201706199062122871</td>\n",
       "        <td>15</td>\n",
       "        <td>IND</td>\n",
       "        <td>LYNE, KARYL</td>\n",
       "        <td>LAS VEGAS</td>\n",
       "        <td>NM</td>\n",
       "        <td>87701</td>\n",
       "        <td>EC-COUNCIL UNIVERSITY</td>\n",
       "        <td>DEAN</td>\n",
       "        <td>10292016</td>\n",
       "        <td>2</td>\n",
       "        <td>None</td>\n",
       "        <td>SA11AI_62927577</td>\n",
       "        <td>1166544</td>\n",
       "        <td>None</td>\n",
       "        <td>CONTRIBUTION TO ACTBLUE</td>\n",
       "        <td>4072620171436851421</td>\n",
       "        <td>5.02914190292358e-08</td>\n",
       "    </tr>\n",
       "    <tr>\n",
       "        <td>C00614982</td>\n",
       "        <td>N</td>\n",
       "        <td>Q3</td>\n",
       "        <td>G    </td>\n",
       "        <td>201610159032804266</td>\n",
       "        <td>15</td>\n",
       "        <td>IND</td>\n",
       "        <td>GREEN, JOSEPH T.</td>\n",
       "        <td>EDINA</td>\n",
       "        <td>MN</td>\n",
       "        <td>554241124</td>\n",
       "        <td>TCF BANK SAVINGS</td>\n",
       "        <td>ATTORNEY</td>\n",
       "        <td>08292016</td>\n",
       "        <td>500</td>\n",
       "        <td>None</td>\n",
       "        <td>VSH64CZV736</td>\n",
       "        <td>1108606</td>\n",
       "        <td>None</td>\n",
       "        <td>None</td>\n",
       "        <td>4111420161347142584</td>\n",
       "        <td>1.15483999252319e-07</td>\n",
       "    </tr>\n",
       "    <tr>\n",
       "        <td>C00575795</td>\n",
       "        <td>A</td>\n",
       "        <td>M6</td>\n",
       "        <td>P    </td>\n",
       "        <td>201607309022035687</td>\n",
       "        <td>15</td>\n",
       "        <td>IND</td>\n",
       "        <td>VENEGAS, ANA</td>\n",
       "        <td>WASHINGTON</td>\n",
       "        <td>DC</td>\n",
       "        <td>200173406</td>\n",
       "        <td>INSTITUTE FOR DEFENSE ANALYSES</td>\n",
       "        <td>RESEARCH ASSOCIATE</td>\n",
       "        <td>05032016</td>\n",
       "        <td>50</td>\n",
       "        <td>None</td>\n",
       "        <td>C4642403</td>\n",
       "        <td>1091720</td>\n",
       "        <td>None</td>\n",
       "        <td>None</td>\n",
       "        <td>4080320161308146126</td>\n",
       "        <td>1.28988176584244e-07</td>\n",
       "    </tr>\n",
       "    <tr>\n",
       "        <td>C00010603</td>\n",
       "        <td>A</td>\n",
       "        <td>YE</td>\n",
       "        <td>G    </td>\n",
       "        <td>201706019055205771</td>\n",
       "        <td>15</td>\n",
       "        <td>IND</td>\n",
       "        <td>MCGOWAN, MICHAEL R.</td>\n",
       "        <td>DENVER</td>\n",
       "        <td>CO</td>\n",
       "        <td>802496690</td>\n",
       "        <td>DENVER VA HOSPITAL</td>\n",
       "        <td>WARD CLERK</td>\n",
       "        <td>12212016</td>\n",
       "        <td>15</td>\n",
       "        <td>None</td>\n",
       "        <td>C33349636</td>\n",
       "        <td>1164596</td>\n",
       "        <td>None</td>\n",
       "        <td>None</td>\n",
       "        <td>4060220171406278240</td>\n",
       "        <td>1.56927853822708e-07</td>\n",
       "    </tr>\n",
       "    <tr>\n",
       "        <td>C00401224</td>\n",
       "        <td>N</td>\n",
       "        <td>M3</td>\n",
       "        <td>None</td>\n",
       "        <td>201603209010631436</td>\n",
       "        <td>24T</td>\n",
       "        <td>IND</td>\n",
       "        <td>WESTERMAN, JENNIFER</td>\n",
       "        <td>ANTIOCH</td>\n",
       "        <td>CA</td>\n",
       "        <td>94509</td>\n",
       "        <td>CONTRA COSTA COUNTY HEALTH SERVICES</td>\n",
       "        <td>NURSE PRACTITIONER</td>\n",
       "        <td>02092016</td>\n",
       "        <td>50</td>\n",
       "        <td>C00577130</td>\n",
       "        <td>SA11AI_38390578</td>\n",
       "        <td>1056917</td>\n",
       "        <td>None</td>\n",
       "        <td>EARMARKED FOR BERNIE 2016 (C00577130)</td>\n",
       "        <td>4032920161281486386</td>\n",
       "        <td>1.98837369680405e-07</td>\n",
       "    </tr>\n",
       "</table>"
      ],
      "text/plain": [
       "[('C00401224', 'A', '30G', 'P    ', 201706199062122871, '15', 'IND', 'LYNE, KARYL', 'LAS VEGAS', 'NM', '87701', 'EC-COUNCIL UNIVERSITY', 'DEAN', '10292016', 2, None, 'SA11AI_62927577', 1166544, None, 'CONTRIBUTION TO ACTBLUE', 4072620171436851421, 5.02914190292358e-08),\n",
       " ('C00614982', 'N', 'Q3', 'G    ', 201610159032804266, '15', 'IND', 'GREEN, JOSEPH T.', 'EDINA', 'MN', '554241124', 'TCF BANK SAVINGS', 'ATTORNEY', '08292016', 500, None, 'VSH64CZV736', 1108606, None, None, 4111420161347142584, 1.15483999252319e-07),\n",
       " ('C00575795', 'A', 'M6', 'P    ', 201607309022035687, '15', 'IND', 'VENEGAS, ANA', 'WASHINGTON', 'DC', '200173406', 'INSTITUTE FOR DEFENSE ANALYSES', 'RESEARCH ASSOCIATE', '05032016', 50, None, 'C4642403', 1091720, None, None, 4080320161308146126, 1.28988176584244e-07),\n",
       " ('C00010603', 'A', 'YE', 'G    ', 201706019055205771, '15', 'IND', 'MCGOWAN, MICHAEL R.', 'DENVER', 'CO', '802496690', 'DENVER VA HOSPITAL', 'WARD CLERK', '12212016', 15, None, 'C33349636', 1164596, None, None, 4060220171406278240, 1.56927853822708e-07),\n",
       " ('C00401224', 'N', 'M3', None, 201603209010631436, '24T', 'IND', 'WESTERMAN, JENNIFER', 'ANTIOCH', 'CA', '94509', 'CONTRA COSTA COUNTY HEALTH SERVICES', 'NURSE PRACTITIONER', '02092016', 50, 'C00577130', 'SA11AI_38390578', 1056917, None, 'EARMARKED FOR BERNIE 2016 (C00577130)', 4032920161281486386, 1.98837369680405e-07)]"
      ]
     },
     "execution_count": 33,
     "metadata": {},
     "output_type": "execute_result"
    }
   ],
   "source": [
    "%%sql \n",
    "\n",
    "SELECT *, RANDOM() AS u\n",
    "FROM individual \n",
    "ORDER BY u\n",
    "LIMIT 5;"
   ]
  },
  {
   "cell_type": "code",
   "execution_count": 34,
   "metadata": {
    "collapsed": true
   },
   "outputs": [],
   "source": [
    "# %%sql \n",
    "\n",
    "# SELECT SETSEED(0.5);\n",
    "\n",
    "# DROP TABLE IF EXISTS indiv_sample2;\n",
    "\n",
    "# CREATE TABLE indiv_sample2 AS\n",
    "# SELECT *, RANDOM() AS u\n",
    "# FROM individual \n",
    "# ORDER BY u\n",
    "# LIMIT 20000;"
   ]
  },
  {
   "cell_type": "code",
   "execution_count": 35,
   "metadata": {},
   "outputs": [
    {
     "name": "stdout",
     "output_type": "stream",
     "text": [
      "1 rows affected.\n"
     ]
    },
    {
     "data": {
      "text/html": [
       "<table>\n",
       "    <tr>\n",
       "        <th>count</th>\n",
       "    </tr>\n",
       "    <tr>\n",
       "        <td>20000</td>\n",
       "    </tr>\n",
       "</table>"
      ],
      "text/plain": [
       "[(20000,)]"
      ]
     },
     "execution_count": 35,
     "metadata": {},
     "output_type": "execute_result"
    }
   ],
   "source": [
    "%%sql \n",
    "\n",
    "SELECT COUNT(*) FROM indiv_sample2"
   ]
  },
  {
   "cell_type": "markdown",
   "metadata": {},
   "source": [
    "### Selecting rows and columns, and calling scalar (per-row) functions.\n",
    "OK, we already had a peek at the `individual` table. Now let's look at specific attributes (columns) relates to who is donating how much. \n",
    "\n",
    "In addition to referencing the columns of `individual` in the `select` clause, we can also derive new columns by writing field-level (so-called \"scalar\") functions. Typically we reference some table columns in those functions.\n",
    "\n",
    "In our case, let's compute the log of `transaction_amt` for subsequent plotting. SQL comes with many typical functions you can use in this way, and PostgreSQL is particularly rich on this front; see the [PostgreSQL manual](https://www.postgresql.org/docs/9.6/static/functions.html) for details.\n",
    "\n",
    "We'll look at `indiv_sample` rather than `individual` while we're just exploring."
   ]
  },
  {
   "cell_type": "code",
   "execution_count": 36,
   "metadata": {},
   "outputs": [
    {
     "name": "stdout",
     "output_type": "stream",
     "text": [
      "10 rows affected.\n"
     ]
    },
    {
     "data": {
      "text/html": [
       "<table>\n",
       "    <tr>\n",
       "        <th>name</th>\n",
       "        <th>state</th>\n",
       "        <th>cmte_id</th>\n",
       "        <th>transaction_amt</th>\n",
       "        <th>log</th>\n",
       "    </tr>\n",
       "    <tr>\n",
       "        <td>JANSSEN, JIM</td>\n",
       "        <td>MI</td>\n",
       "        <td>C00076182</td>\n",
       "        <td>300</td>\n",
       "        <td>2.47712125471966</td>\n",
       "    </tr>\n",
       "    <tr>\n",
       "        <td>CANTU, ALONZO</td>\n",
       "        <td>TX</td>\n",
       "        <td>C00513531</td>\n",
       "        <td>2600</td>\n",
       "        <td>3.41497334797082</td>\n",
       "    </tr>\n",
       "    <tr>\n",
       "        <td>CANTOR, RICHARD A</td>\n",
       "        <td>CT</td>\n",
       "        <td>C00494203</td>\n",
       "        <td>2700</td>\n",
       "        <td>3.43136376415899</td>\n",
       "    </tr>\n",
       "    <tr>\n",
       "        <td>SABO, MARTIN O.</td>\n",
       "        <td>MN</td>\n",
       "        <td>C00499053</td>\n",
       "        <td>250</td>\n",
       "        <td>2.39794000867204</td>\n",
       "    </tr>\n",
       "    <tr>\n",
       "        <td>REIFSNYDER, JOANNE</td>\n",
       "        <td>DE</td>\n",
       "        <td>C00292094</td>\n",
       "        <td>150</td>\n",
       "        <td>2.17609125905568</td>\n",
       "    </tr>\n",
       "    <tr>\n",
       "        <td>DAVIS, ALLEN</td>\n",
       "        <td>VA</td>\n",
       "        <td>C00142711</td>\n",
       "        <td>50</td>\n",
       "        <td>1.69897000433602</td>\n",
       "    </tr>\n",
       "    <tr>\n",
       "        <td>JAMES, DAVID N</td>\n",
       "        <td>WA</td>\n",
       "        <td>C00257642</td>\n",
       "        <td>1000</td>\n",
       "        <td>3.0</td>\n",
       "    </tr>\n",
       "    <tr>\n",
       "        <td>HARRIS, ANN</td>\n",
       "        <td>MO</td>\n",
       "        <td>C00431304</td>\n",
       "        <td>50</td>\n",
       "        <td>1.69897000433602</td>\n",
       "    </tr>\n",
       "    <tr>\n",
       "        <td>MOEN, ERIK P. MR</td>\n",
       "        <td>WA</td>\n",
       "        <td>C00012880</td>\n",
       "        <td>500</td>\n",
       "        <td>2.69897000433602</td>\n",
       "    </tr>\n",
       "    <tr>\n",
       "        <td>DYKHOUSE, DANA J.</td>\n",
       "        <td>SD</td>\n",
       "        <td>C00476853</td>\n",
       "        <td>5400</td>\n",
       "        <td>3.73239375982297</td>\n",
       "    </tr>\n",
       "</table>"
      ],
      "text/plain": [
       "[('JANSSEN, JIM', 'MI', 'C00076182', 300, 2.47712125471966),\n",
       " ('CANTU, ALONZO', 'TX', 'C00513531', 2600, 3.41497334797082),\n",
       " ('CANTOR, RICHARD A', 'CT', 'C00494203', 2700, 3.43136376415899),\n",
       " ('SABO, MARTIN O.', 'MN', 'C00499053', 250, 2.39794000867204),\n",
       " ('REIFSNYDER, JOANNE', 'DE', 'C00292094', 150, 2.17609125905568),\n",
       " ('DAVIS, ALLEN', 'VA', 'C00142711', 50, 1.69897000433602),\n",
       " ('JAMES, DAVID N', 'WA', 'C00257642', 1000, 3.0),\n",
       " ('HARRIS, ANN', 'MO', 'C00431304', 50, 1.69897000433602),\n",
       " ('MOEN, ERIK P. MR', 'WA', 'C00012880', 500, 2.69897000433602),\n",
       " ('DYKHOUSE, DANA J.', 'SD', 'C00476853', 5400, 3.73239375982297)]"
      ]
     },
     "execution_count": 36,
     "metadata": {},
     "output_type": "execute_result"
    }
   ],
   "source": [
    "%%sql \n",
    "\n",
    "SELECT name, state, cmte_id,\n",
    "       transaction_amt, log(transaction_amt)\n",
    "FROM indiv_sample\n",
    "LIMIT 10;"
   ]
  },
  {
   "cell_type": "markdown",
   "metadata": {},
   "source": [
    "We can combine SQL with python in the following way:"
   ]
  },
  {
   "cell_type": "code",
   "execution_count": 37,
   "metadata": {},
   "outputs": [
    {
     "name": "stdout",
     "output_type": "stream",
     "text": [
      "20158 rows affected.\n"
     ]
    },
    {
     "data": {
      "image/png": "[encoded data removed]",
      "text/plain": [
       "<matplotlib.figure.Figure at 0x11440a8d0>"
      ]
     },
     "metadata": {},
     "output_type": "display_data"
    }
   ],
   "source": [
    "query = \"\"\"\n",
    "SELECT transaction_amt AS amt\n",
    "FROM indiv_sample\n",
    "WHERE transaction_amt > 0;\n",
    "\"\"\"\n",
    "result = %sql $query\n",
    "\n",
    "_ = sns.distplot(result.DataFrame()['amt'])"
   ]
  },
  {
   "cell_type": "code",
   "execution_count": 38,
   "metadata": {},
   "outputs": [
    {
     "name": "stdout",
     "output_type": "stream",
     "text": [
      "20158 rows affected.\n"
     ]
    },
    {
     "data": {
      "image/png": "[encoded data removed]",
      "text/plain": [
       "<matplotlib.figure.Figure at 0x114f33978>"
      ]
     },
     "metadata": {},
     "output_type": "display_data"
    }
   ],
   "source": [
    "query = \"\"\"\n",
    "SELECT LOG(transaction_amt) AS log_amt\n",
    "FROM indiv_sample\n",
    "WHERE transaction_amt > 0;\n",
    "\"\"\"\n",
    "result = %sql  $query\n",
    "df = result.DataFrame()['log_amt']\n",
    "sns.distplot(df.astype('float'))\n",
    "scales = np.array([1, 10, 20,  100, 500,  1000, 5000])\n",
    "_ = plt.xticks(np.log10(scales), scales)"
   ]
  },
  {
   "cell_type": "markdown",
   "metadata": {},
   "source": [
    "## Examining the Tail"
   ]
  },
  {
   "cell_type": "code",
   "execution_count": 39,
   "metadata": {},
   "outputs": [
    {
     "name": "stdout",
     "output_type": "stream",
     "text": [
      "58 rows affected.\n"
     ]
    },
    {
     "data": {
      "image/png": "[encoded data removed]",
      "text/plain": [
       "<matplotlib.figure.Figure at 0x11487e080>"
      ]
     },
     "metadata": {},
     "output_type": "display_data"
    }
   ],
   "source": [
    "query = \"\"\"\n",
    "SELECT transaction_amt AS amt\n",
    "FROM indiv_sample\n",
    "WHERE transaction_amt > 5000;\n",
    "\"\"\"\n",
    "result = %sql  $query\n",
    "\n",
    "_ = sns.distplot(result.DataFrame()['amt'], rug=True)"
   ]
  },
  {
   "cell_type": "code",
   "execution_count": 40,
   "metadata": {},
   "outputs": [
    {
     "name": "stdout",
     "output_type": "stream",
     "text": [
      "60415 rows affected.\n"
     ]
    },
    {
     "data": {
      "image/png": "[encoded data removed]",
      "text/plain": [
       "<matplotlib.figure.Figure at 0x11430d278>"
      ]
     },
     "metadata": {},
     "output_type": "display_data"
    }
   ],
   "source": [
    "query = \"\"\"\n",
    "SELECT transaction_amt AS amt\n",
    "FROM individual\n",
    "WHERE transaction_amt > 5000;\n",
    "\"\"\"\n",
    "result = %sql  $query\n",
    "\n",
    "_ = sns.distplot(result.DataFrame()['amt'])"
   ]
  },
  {
   "cell_type": "code",
   "execution_count": 41,
   "metadata": {},
   "outputs": [
    {
     "name": "stdout",
     "output_type": "stream",
     "text": [
      "60415 rows affected.\n"
     ]
    },
    {
     "data": {
      "image/png": "[encoded data removed]",
      "text/plain": [
       "<matplotlib.figure.Figure at 0x11456a748>"
      ]
     },
     "metadata": {},
     "output_type": "display_data"
    }
   ],
   "source": [
    "query = \"\"\"\n",
    "SELECT log(transaction_amt) AS log_amt\n",
    "FROM individual\n",
    "WHERE transaction_amt > 5000;\n",
    "\"\"\"\n",
    "result = %sql  $query\n",
    "\n",
    "sns.distplot(result.DataFrame()['log_amt'])\n",
    "scales = np.array([5000, 20000, 100000])\n",
    "_ = plt.xticks(np.log10(scales), scales)"
   ]
  },
  {
   "cell_type": "code",
   "execution_count": 42,
   "metadata": {},
   "outputs": [
    {
     "name": "stdout",
     "output_type": "stream",
     "text": [
      "290 rows affected.\n"
     ]
    },
    {
     "data": {
      "image/png": "[encoded data removed]",
      "text/plain": [
       "<matplotlib.figure.Figure at 0x114f1c240>"
      ]
     },
     "metadata": {},
     "output_type": "display_data"
    }
   ],
   "source": [
    "query = \"\"\"\n",
    "SELECT log(transaction_amt) AS log_amt\n",
    "FROM individual\n",
    "WHERE transaction_amt > 1000000;\n",
    "\"\"\"\n",
    "result = %sql  $query\n",
    "\n",
    "sns.distplot(result.DataFrame()['log_amt'], rug=True)\n",
    "scales = np.array([1000000, 5000000, 50000000])\n",
    "_ = plt.xticks(np.log10(scales), scales)"
   ]
  },
  {
   "cell_type": "markdown",
   "metadata": {},
   "source": [
    "#### `CASE` statements: SQL conditionals in the `FROM` clause\n",
    "What about smaller donations?"
   ]
  },
  {
   "cell_type": "code",
   "execution_count": 43,
   "metadata": {
    "collapsed": true
   },
   "outputs": [],
   "source": [
    "# %%sql $postgresql_uri\n",
    "\n",
    "# SELECT name, state, cmte_id,\n",
    "#        transaction_amt, LOG(transaction_amt)\n",
    "# FROM indiv_sample\n",
    "# WHERE transaction_amt < 10\n",
    "# LIMIT 10;"
   ]
  },
  {
   "cell_type": "markdown",
   "metadata": {},
   "source": [
    "Uh oh, log is not defined for numbers <= 0! We need a *conditional* statement in the `select` clause to decide what function to call. We can use SQL's `case` construct for that."
   ]
  },
  {
   "cell_type": "code",
   "execution_count": 44,
   "metadata": {},
   "outputs": [
    {
     "name": "stdout",
     "output_type": "stream",
     "text": [
      "10 rows affected.\n"
     ]
    },
    {
     "data": {
      "text/html": [
       "<table>\n",
       "    <tr>\n",
       "        <th>name</th>\n",
       "        <th>state</th>\n",
       "        <th>cmte_id</th>\n",
       "        <th>transaction_amt</th>\n",
       "        <th>log_magnitude</th>\n",
       "    </tr>\n",
       "    <tr>\n",
       "        <td>PHILLIPS, JANE K.</td>\n",
       "        <td>OK</td>\n",
       "        <td>C00513077</td>\n",
       "        <td>5</td>\n",
       "        <td>0.698970004336019</td>\n",
       "    </tr>\n",
       "    <tr>\n",
       "        <td>TURKAL, MICHAEL</td>\n",
       "        <td>OH</td>\n",
       "        <td>C00000885</td>\n",
       "        <td>8</td>\n",
       "        <td>0.903089986991944</td>\n",
       "    </tr>\n",
       "    <tr>\n",
       "        <td>WILTBERGER, ARLENE</td>\n",
       "        <td>CA</td>\n",
       "        <td>C00456335</td>\n",
       "        <td>3</td>\n",
       "        <td>0.477121254719662</td>\n",
       "    </tr>\n",
       "    <tr>\n",
       "        <td>ARLENE HEYMAN M.D., P.C.</td>\n",
       "        <td>NY</td>\n",
       "        <td>C00042366</td>\n",
       "        <td>-250</td>\n",
       "        <td>-2.39794000867204</td>\n",
       "    </tr>\n",
       "    <tr>\n",
       "        <td>HARRIS, RACQUEL L.</td>\n",
       "        <td>AR</td>\n",
       "        <td>C00093054</td>\n",
       "        <td>5</td>\n",
       "        <td>0.698970004336019</td>\n",
       "    </tr>\n",
       "    <tr>\n",
       "        <td>TAYLOR, FLINT MR.</td>\n",
       "        <td>IL</td>\n",
       "        <td>C00342907</td>\n",
       "        <td>1</td>\n",
       "        <td>0.0</td>\n",
       "    </tr>\n",
       "    <tr>\n",
       "        <td>ROSENBERGER, BONNIE J MS.</td>\n",
       "        <td>FL</td>\n",
       "        <td>C00030718</td>\n",
       "        <td>1</td>\n",
       "        <td>0.0</td>\n",
       "    </tr>\n",
       "    <tr>\n",
       "        <td>MATSUZAKA, ETSUKO</td>\n",
       "        <td>None</td>\n",
       "        <td>C00498568</td>\n",
       "        <td>5</td>\n",
       "        <td>0.698970004336019</td>\n",
       "    </tr>\n",
       "    <tr>\n",
       "        <td>MENDEZ-PADELFORD, DIANE M MRS</td>\n",
       "        <td>CA</td>\n",
       "        <td>C00540310</td>\n",
       "        <td>-150</td>\n",
       "        <td>-2.17609125905568</td>\n",
       "    </tr>\n",
       "    <tr>\n",
       "        <td>O&#x27;BRIEN, JOAN</td>\n",
       "        <td>IL</td>\n",
       "        <td>C00042366</td>\n",
       "        <td>8</td>\n",
       "        <td>0.903089986991944</td>\n",
       "    </tr>\n",
       "</table>"
      ],
      "text/plain": [
       "[('PHILLIPS, JANE K.', 'OK', 'C00513077', 5, 0.698970004336019),\n",
       " ('TURKAL, MICHAEL', 'OH', 'C00000885', 8, 0.903089986991944),\n",
       " ('WILTBERGER, ARLENE', 'CA', 'C00456335', 3, 0.477121254719662),\n",
       " ('ARLENE HEYMAN M.D., P.C.', 'NY', 'C00042366', -250, -2.39794000867204),\n",
       " ('HARRIS, RACQUEL L.', 'AR', 'C00093054', 5, 0.698970004336019),\n",
       " ('TAYLOR, FLINT MR.', 'IL', 'C00342907', 1, 0.0),\n",
       " ('ROSENBERGER, BONNIE J MS.', 'FL', 'C00030718', 1, 0.0),\n",
       " ('MATSUZAKA, ETSUKO', None, 'C00498568', 5, 0.698970004336019),\n",
       " ('MENDEZ-PADELFORD, DIANE M MRS', 'CA', 'C00540310', -150, -2.17609125905568),\n",
       " (\"O'BRIEN, JOAN\", 'IL', 'C00042366', 8, 0.903089986991944)]"
      ]
     },
     "execution_count": 44,
     "metadata": {},
     "output_type": "execute_result"
    }
   ],
   "source": [
    "%%sql $postgresql_uri\n",
    "\n",
    "SELECT name, state, cmte_id, transaction_amt,\n",
    "    CASE WHEN transaction_amt > 0 THEN log(transaction_amt)\n",
    "         WHEN transaction_amt = 0 THEN 0\n",
    "         ELSE -1*(log(abs(transaction_amt)))\n",
    "    END AS log_magnitude\n",
    "FROM indiv_sample\n",
    "WHERE transaction_amt < 10\n",
    "LIMIT 10;"
   ]
  },
  {
   "cell_type": "code",
   "execution_count": 45,
   "metadata": {},
   "outputs": [
    {
     "name": "stdout",
     "output_type": "stream",
     "text": [
      "2393 rows affected.\n"
     ]
    },
    {
     "data": {
      "text/plain": [
       "<matplotlib.axes._subplots.AxesSubplot at 0x118cf2160>"
      ]
     },
     "execution_count": 45,
     "metadata": {},
     "output_type": "execute_result"
    },
    {
     "data": {
      "image/png": "[encoded data removed]",
      "text/plain": [
       "<matplotlib.figure.Figure at 0x114d14e80>"
      ]
     },
     "metadata": {},
     "output_type": "display_data"
    }
   ],
   "source": [
    "query = \"\"\"\n",
    "SELECT transaction_amt,\n",
    "    CASE WHEN transaction_amt > 0 THEN log(transaction_amt)\n",
    "         WHEN transaction_amt = 0 THEN 0\n",
    "         ELSE -1*(log(abs(transaction_amt)))\n",
    "    END AS log_amt\n",
    "FROM indiv_sample\n",
    "WHERE transaction_amt < 10\n",
    "\"\"\"\n",
    "result = %sql  $query\n",
    "\n",
    "sns.distplot(result.DataFrame()['log_amt'])\n",
    "# scales = np.array([1000000, 5000000, 50000000])\n",
    "# _ = plt.xticks(np.log10(scales), scales)"
   ]
  },
  {
   "cell_type": "markdown",
   "metadata": {},
   "source": [
    "## Who donated the most?"
   ]
  },
  {
   "cell_type": "code",
   "execution_count": 46,
   "metadata": {},
   "outputs": [
    {
     "name": "stdout",
     "output_type": "stream",
     "text": [
      "10 rows affected.\n"
     ]
    },
    {
     "data": {
      "text/html": [
       "<table>\n",
       "    <tr>\n",
       "        <th>transaction_amt</th>\n",
       "        <th>cmte_id</th>\n",
       "        <th>transaction_dt</th>\n",
       "        <th>name</th>\n",
       "        <th>city</th>\n",
       "        <th>state</th>\n",
       "        <th>memo_text</th>\n",
       "        <th>occupation</th>\n",
       "    </tr>\n",
       "    <tr>\n",
       "        <td>50000000</td>\n",
       "        <td>C00616078</td>\n",
       "        <td>06162016</td>\n",
       "        <td>STATWARE INC. AND OTHER FIRMS</td>\n",
       "        <td>CENTERBOOK</td>\n",
       "        <td>CT</td>\n",
       "        <td>None</td>\n",
       "        <td>None</td>\n",
       "    </tr>\n",
       "    <tr>\n",
       "        <td>23787000</td>\n",
       "        <td>C00010603</td>\n",
       "        <td>11072016</td>\n",
       "        <td>HILLARY VICTORY FUND</td>\n",
       "        <td>NEW YORK</td>\n",
       "        <td>NY</td>\n",
       "        <td>None</td>\n",
       "        <td>None</td>\n",
       "    </tr>\n",
       "    <tr>\n",
       "        <td>11000000</td>\n",
       "        <td>C00575373</td>\n",
       "        <td>04102015</td>\n",
       "        <td>MERCER, ROBERT</td>\n",
       "        <td>EAST SETAUKET</td>\n",
       "        <td>NY</td>\n",
       "        <td>None</td>\n",
       "        <td>FINANCE</td>\n",
       "    </tr>\n",
       "    <tr>\n",
       "        <td>11000000</td>\n",
       "        <td>C00547349</td>\n",
       "        <td>10262016</td>\n",
       "        <td>STEYER, THOMAS F.</td>\n",
       "        <td>SAN FRANCISCO</td>\n",
       "        <td>CA</td>\n",
       "        <td>None</td>\n",
       "        <td>FOUNDER</td>\n",
       "    </tr>\n",
       "    <tr>\n",
       "        <td>10000000</td>\n",
       "        <td>C00575431</td>\n",
       "        <td>04092015</td>\n",
       "        <td>NEUGEBAUER, TOBY</td>\n",
       "        <td>DORADO</td>\n",
       "        <td>PR</td>\n",
       "        <td>None</td>\n",
       "        <td>INVESTOR</td>\n",
       "    </tr>\n",
       "    <tr>\n",
       "        <td>10000000</td>\n",
       "        <td>C00504530</td>\n",
       "        <td>08292016</td>\n",
       "        <td>ADELSON, SHELDON</td>\n",
       "        <td>LAS VEGAS</td>\n",
       "        <td>NV</td>\n",
       "        <td>None</td>\n",
       "        <td>CHAIRMAN</td>\n",
       "    </tr>\n",
       "    <tr>\n",
       "        <td>10000000</td>\n",
       "        <td>C00571703</td>\n",
       "        <td>08292016</td>\n",
       "        <td>ADELSON, MIRIAM DR.</td>\n",
       "        <td>LAS VEGAS</td>\n",
       "        <td>NV</td>\n",
       "        <td>None</td>\n",
       "        <td>PHYSICIAN</td>\n",
       "    </tr>\n",
       "    <tr>\n",
       "        <td>10000000</td>\n",
       "        <td>C00571703</td>\n",
       "        <td>08262016</td>\n",
       "        <td>ADELSON, SHELDON G. MR.</td>\n",
       "        <td>LAS VEGAS</td>\n",
       "        <td>NV</td>\n",
       "        <td>None</td>\n",
       "        <td>CHAIRMAN &amp; CEO</td>\n",
       "    </tr>\n",
       "    <tr>\n",
       "        <td>10000000</td>\n",
       "        <td>C00571372</td>\n",
       "        <td>10212015</td>\n",
       "        <td>C.V. STARR &amp; CO INC</td>\n",
       "        <td>NEW YORK</td>\n",
       "        <td>NY</td>\n",
       "        <td>None</td>\n",
       "        <td>None</td>\n",
       "    </tr>\n",
       "    <tr>\n",
       "        <td>10000000</td>\n",
       "        <td>C00504530</td>\n",
       "        <td>08292016</td>\n",
       "        <td>ADELSON, MIRIAM</td>\n",
       "        <td>LAS VEGAS</td>\n",
       "        <td>NV</td>\n",
       "        <td>None</td>\n",
       "        <td>PHYSICIAN</td>\n",
       "    </tr>\n",
       "</table>"
      ],
      "text/plain": [
       "[(50000000, 'C00616078', '06162016', 'STATWARE INC. AND OTHER FIRMS', 'CENTERBOOK', 'CT', None, None),\n",
       " (23787000, 'C00010603', '11072016', 'HILLARY VICTORY FUND', 'NEW YORK', 'NY', None, None),\n",
       " (11000000, 'C00575373', '04102015', 'MERCER, ROBERT', 'EAST SETAUKET', 'NY', None, 'FINANCE'),\n",
       " (11000000, 'C00547349', '10262016', 'STEYER, THOMAS F.', 'SAN FRANCISCO', 'CA', None, 'FOUNDER'),\n",
       " (10000000, 'C00575431', '04092015', 'NEUGEBAUER, TOBY', 'DORADO', 'PR', None, 'INVESTOR'),\n",
       " (10000000, 'C00504530', '08292016', 'ADELSON, SHELDON', 'LAS VEGAS', 'NV', None, 'CHAIRMAN'),\n",
       " (10000000, 'C00571703', '08292016', 'ADELSON, MIRIAM DR.', 'LAS VEGAS', 'NV', None, 'PHYSICIAN'),\n",
       " (10000000, 'C00571703', '08262016', 'ADELSON, SHELDON G. MR.', 'LAS VEGAS', 'NV', None, 'CHAIRMAN & CEO'),\n",
       " (10000000, 'C00571372', '10212015', 'C.V. STARR & CO INC', 'NEW YORK', 'NY', None, None),\n",
       " (10000000, 'C00504530', '08292016', 'ADELSON, MIRIAM', 'LAS VEGAS', 'NV', None, 'PHYSICIAN')]"
      ]
     },
     "execution_count": 46,
     "metadata": {},
     "output_type": "execute_result"
    }
   ],
   "source": [
    "%%sql\n",
    "\n",
    "SELECT transaction_amt, cmte_id, transaction_dt, name, city, state, memo_text, occupation \n",
    "FROM individual \n",
    "ORDER BY transaction_amt DESC\n",
    "LIMIT 10"
   ]
  },
  {
   "cell_type": "markdown",
   "metadata": {},
   "source": [
    "## Who was paid the most?"
   ]
  },
  {
   "cell_type": "code",
   "execution_count": 47,
   "metadata": {},
   "outputs": [
    {
     "name": "stdout",
     "output_type": "stream",
     "text": [
      "10 rows affected.\n"
     ]
    },
    {
     "data": {
      "text/html": [
       "<table>\n",
       "    <tr>\n",
       "        <th>transaction_amt</th>\n",
       "        <th>cmte_id</th>\n",
       "        <th>transaction_dt</th>\n",
       "        <th>name</th>\n",
       "        <th>city</th>\n",
       "        <th>state</th>\n",
       "        <th>memo_text</th>\n",
       "        <th>occupation</th>\n",
       "    </tr>\n",
       "    <tr>\n",
       "        <td>-226800</td>\n",
       "        <td>C00075820</td>\n",
       "        <td>04092015</td>\n",
       "        <td>ADELSON, MIRIAM O. DR.</td>\n",
       "        <td>LAS VEGAS</td>\n",
       "        <td>NV</td>\n",
       "        <td>REDESIGNATION REQUESTED (AUTOMATIC)</td>\n",
       "        <td>PHYSICIAN</td>\n",
       "    </tr>\n",
       "    <tr>\n",
       "        <td>-200000</td>\n",
       "        <td>C00618389</td>\n",
       "        <td>10052016</td>\n",
       "        <td>PEREIRA, ROBERT W.</td>\n",
       "        <td>DELRAY BEACH</td>\n",
       "        <td>FL</td>\n",
       "        <td>None</td>\n",
       "        <td>CHAIRMAN</td>\n",
       "    </tr>\n",
       "    <tr>\n",
       "        <td>-129000</td>\n",
       "        <td>C00586537</td>\n",
       "        <td>11152016</td>\n",
       "        <td>LICHTENSTEIN, DAVID</td>\n",
       "        <td>LAKEWOOD</td>\n",
       "        <td>NJ</td>\n",
       "        <td>NSF/RETURNED CHECK</td>\n",
       "        <td>REAL ESTATE</td>\n",
       "    </tr>\n",
       "    <tr>\n",
       "        <td>-121000</td>\n",
       "        <td>C00586537</td>\n",
       "        <td>11152016</td>\n",
       "        <td>LICHTENSTEIN, SHIFRA</td>\n",
       "        <td>LAKEWOOD</td>\n",
       "        <td>NJ</td>\n",
       "        <td>NSF/RETURNED CHECK</td>\n",
       "        <td>LIFE COACH/ COUNSELOR</td>\n",
       "    </tr>\n",
       "    <tr>\n",
       "        <td>-105000</td>\n",
       "        <td>C00592337</td>\n",
       "        <td>04262016</td>\n",
       "        <td>TRUSTED LEADERSHIP PAC</td>\n",
       "        <td>AUSTIN</td>\n",
       "        <td>TX</td>\n",
       "        <td>None</td>\n",
       "        <td>None</td>\n",
       "    </tr>\n",
       "    <tr>\n",
       "        <td>-100200</td>\n",
       "        <td>C00075820</td>\n",
       "        <td>09212015</td>\n",
       "        <td>MERCER, DIANA L. MRS.</td>\n",
       "        <td>EAST SETAUKET</td>\n",
       "        <td>NY</td>\n",
       "        <td>REDESIGNATION TO BUILDING FUND</td>\n",
       "        <td>None</td>\n",
       "    </tr>\n",
       "    <tr>\n",
       "        <td>-100200</td>\n",
       "        <td>C00075820</td>\n",
       "        <td>03312015</td>\n",
       "        <td>FLORES, JAMES C. MR.</td>\n",
       "        <td>HOUSTON</td>\n",
       "        <td>TX</td>\n",
       "        <td>REDESIGNATION TO RECOUNT FUND</td>\n",
       "        <td>CHAIRMAN PRESIDENT AND CEO</td>\n",
       "    </tr>\n",
       "    <tr>\n",
       "        <td>-100200</td>\n",
       "        <td>C00075820</td>\n",
       "        <td>03312015</td>\n",
       "        <td>FLORES, JAMES C. MR.</td>\n",
       "        <td>HOUSTON</td>\n",
       "        <td>TX</td>\n",
       "        <td>REDESIGNATION TO BUILDING FUND</td>\n",
       "        <td>CHAIRMAN PRESIDENT AND CEO</td>\n",
       "    </tr>\n",
       "    <tr>\n",
       "        <td>-100200</td>\n",
       "        <td>C00075820</td>\n",
       "        <td>09212015</td>\n",
       "        <td>MERCER, DIANA L. MRS.</td>\n",
       "        <td>EAST SETAUKET</td>\n",
       "        <td>NY</td>\n",
       "        <td>REDESIGNATION TO RECOUNT FUND</td>\n",
       "        <td>None</td>\n",
       "    </tr>\n",
       "    <tr>\n",
       "        <td>-100000</td>\n",
       "        <td>C00586537</td>\n",
       "        <td>10052016</td>\n",
       "        <td>BAIRD, ALISON LEIGH</td>\n",
       "        <td>LOS ANGELES</td>\n",
       "        <td>CA</td>\n",
       "        <td>NSF/RETURNED CHECK</td>\n",
       "        <td>None</td>\n",
       "    </tr>\n",
       "</table>"
      ],
      "text/plain": [
       "[(-226800, 'C00075820', '04092015', 'ADELSON, MIRIAM O. DR.', 'LAS VEGAS', 'NV', 'REDESIGNATION REQUESTED (AUTOMATIC)', 'PHYSICIAN'),\n",
       " (-200000, 'C00618389', '10052016', 'PEREIRA, ROBERT W.', 'DELRAY BEACH', 'FL', None, 'CHAIRMAN'),\n",
       " (-129000, 'C00586537', '11152016', 'LICHTENSTEIN, DAVID', 'LAKEWOOD', 'NJ', 'NSF/RETURNED CHECK', 'REAL ESTATE'),\n",
       " (-121000, 'C00586537', '11152016', 'LICHTENSTEIN, SHIFRA', 'LAKEWOOD', 'NJ', 'NSF/RETURNED CHECK', 'LIFE COACH/ COUNSELOR'),\n",
       " (-105000, 'C00592337', '04262016', 'TRUSTED LEADERSHIP PAC', 'AUSTIN', 'TX', None, None),\n",
       " (-100200, 'C00075820', '09212015', 'MERCER, DIANA L. MRS.', 'EAST SETAUKET', 'NY', 'REDESIGNATION TO BUILDING FUND', None),\n",
       " (-100200, 'C00075820', '03312015', 'FLORES, JAMES C. MR.', 'HOUSTON', 'TX', 'REDESIGNATION TO RECOUNT FUND', 'CHAIRMAN PRESIDENT AND CEO'),\n",
       " (-100200, 'C00075820', '03312015', 'FLORES, JAMES C. MR.', 'HOUSTON', 'TX', 'REDESIGNATION TO BUILDING FUND', 'CHAIRMAN PRESIDENT AND CEO'),\n",
       " (-100200, 'C00075820', '09212015', 'MERCER, DIANA L. MRS.', 'EAST SETAUKET', 'NY', 'REDESIGNATION TO RECOUNT FUND', None),\n",
       " (-100000, 'C00586537', '10052016', 'BAIRD, ALISON LEIGH', 'LOS ANGELES', 'CA', 'NSF/RETURNED CHECK', None)]"
      ]
     },
     "execution_count": 47,
     "metadata": {},
     "output_type": "execute_result"
    }
   ],
   "source": [
    "%%sql\n",
    "\n",
    "SELECT transaction_amt, cmte_id, transaction_dt, name, city, state, memo_text, occupation \n",
    "FROM individual \n",
    "ORDER BY transaction_amt \n",
    "LIMIT 10"
   ]
  },
  {
   "cell_type": "markdown",
   "metadata": {},
   "source": [
    "## Grouping Contributions by Name"
   ]
  },
  {
   "cell_type": "code",
   "execution_count": 48,
   "metadata": {},
   "outputs": [
    {
     "name": "stdout",
     "output_type": "stream",
     "text": [
      "10 rows affected.\n"
     ]
    },
    {
     "data": {
      "text/html": [
       "<table>\n",
       "    <tr>\n",
       "        <th>name</th>\n",
       "        <th>total_amt</th>\n",
       "    </tr>\n",
       "    <tr>\n",
       "        <td>STEYER, THOMAS F.</td>\n",
       "        <td>90044644</td>\n",
       "    </tr>\n",
       "    <tr>\n",
       "        <td>STATWARE INC. AND OTHER FIRMS</td>\n",
       "        <td>50000000</td>\n",
       "    </tr>\n",
       "    <tr>\n",
       "        <td>EYCHANER, FRED</td>\n",
       "        <td>37921658</td>\n",
       "    </tr>\n",
       "    <tr>\n",
       "        <td>HILLARY VICTORY FUND</td>\n",
       "        <td>35379700</td>\n",
       "    </tr>\n",
       "    <tr>\n",
       "        <td>NEXTGEN CLIMATE ACTION COMMITTEE</td>\n",
       "        <td>31213354</td>\n",
       "    </tr>\n",
       "    <tr>\n",
       "        <td>ADELSON, MIRIAM</td>\n",
       "        <td>27936800</td>\n",
       "    </tr>\n",
       "    <tr>\n",
       "        <td>SUSSMAN, DONALD</td>\n",
       "        <td>25642400</td>\n",
       "    </tr>\n",
       "    <tr>\n",
       "        <td>SOROS, GEORGE</td>\n",
       "        <td>22364011</td>\n",
       "    </tr>\n",
       "    <tr>\n",
       "        <td>SENATE LEADERSHIP FUND</td>\n",
       "        <td>22355200</td>\n",
       "    </tr>\n",
       "    <tr>\n",
       "        <td>BLOOMBERG, MICHAEL R.</td>\n",
       "        <td>21675924</td>\n",
       "    </tr>\n",
       "</table>"
      ],
      "text/plain": [
       "[('STEYER, THOMAS F.', 90044644),\n",
       " ('STATWARE INC. AND OTHER FIRMS', 50000000),\n",
       " ('EYCHANER, FRED', 37921658),\n",
       " ('HILLARY VICTORY FUND', 35379700),\n",
       " ('NEXTGEN CLIMATE ACTION COMMITTEE', 31213354),\n",
       " ('ADELSON, MIRIAM', 27936800),\n",
       " ('SUSSMAN, DONALD', 25642400),\n",
       " ('SOROS, GEORGE', 22364011),\n",
       " ('SENATE LEADERSHIP FUND', 22355200),\n",
       " ('BLOOMBERG, MICHAEL R.', 21675924)]"
      ]
     },
     "execution_count": 48,
     "metadata": {},
     "output_type": "execute_result"
    }
   ],
   "source": [
    "%%sql\n",
    "\n",
    "SELECT name, SUM(transaction_amt) AS total_amt\n",
    "FROM individual \n",
    "GROUP BY name\n",
    "ORDER BY total_amt DESC\n",
    "LIMIT 10"
   ]
  },
  {
   "cell_type": "markdown",
   "metadata": {},
   "source": [
    "## Going Local with `WHERE`"
   ]
  },
  {
   "cell_type": "code",
   "execution_count": 49,
   "metadata": {},
   "outputs": [
    {
     "name": "stdout",
     "output_type": "stream",
     "text": [
      "20 rows affected.\n"
     ]
    },
    {
     "data": {
      "text/html": [
       "<table>\n",
       "    <tr>\n",
       "        <th>name</th>\n",
       "        <th>total_amt</th>\n",
       "    </tr>\n",
       "    <tr>\n",
       "        <td>STEYER, THOMAS F.</td>\n",
       "        <td>89726944</td>\n",
       "    </tr>\n",
       "    <tr>\n",
       "        <td>MOSKOVITZ, DUSTIN</td>\n",
       "        <td>14111000</td>\n",
       "    </tr>\n",
       "    <tr>\n",
       "        <td>TUNA, CARI</td>\n",
       "        <td>6623000</td>\n",
       "    </tr>\n",
       "    <tr>\n",
       "        <td>SANDLER, HERBERT M.</td>\n",
       "        <td>5494400</td>\n",
       "    </tr>\n",
       "    <tr>\n",
       "        <td>THIEL, PETER</td>\n",
       "        <td>4066700</td>\n",
       "    </tr>\n",
       "    <tr>\n",
       "        <td>OBERNDORF, WILLIAM E. MR.</td>\n",
       "        <td>2416106</td>\n",
       "    </tr>\n",
       "    <tr>\n",
       "        <td>SCHWAB, HELEN O. MRS.</td>\n",
       "        <td>1502700</td>\n",
       "    </tr>\n",
       "    <tr>\n",
       "        <td>OBERNDORF, WILLIAM E.</td>\n",
       "        <td>1371200</td>\n",
       "    </tr>\n",
       "    <tr>\n",
       "        <td>WENDT FAMILY TRUST</td>\n",
       "        <td>1350000</td>\n",
       "    </tr>\n",
       "    <tr>\n",
       "        <td>AMERICAN PACIFIC INTERNATIONAL CAPITAL INC.</td>\n",
       "        <td>1300000</td>\n",
       "    </tr>\n",
       "    <tr>\n",
       "        <td>WILLIAMS, SARA</td>\n",
       "        <td>1273960</td>\n",
       "    </tr>\n",
       "    <tr>\n",
       "        <td>MOSKOVITZ, DUSTIN A.</td>\n",
       "        <td>1000000</td>\n",
       "    </tr>\n",
       "    <tr>\n",
       "        <td>BUELL, SUSIE T.</td>\n",
       "        <td>955000</td>\n",
       "    </tr>\n",
       "    <tr>\n",
       "        <td>WILLIAMS, EVAN</td>\n",
       "        <td>875931</td>\n",
       "    </tr>\n",
       "    <tr>\n",
       "        <td>NEXT GEN</td>\n",
       "        <td>800000</td>\n",
       "    </tr>\n",
       "    <tr>\n",
       "        <td>BUELL, SUSIE TOMPKINS</td>\n",
       "        <td>797971</td>\n",
       "    </tr>\n",
       "    <tr>\n",
       "        <td>OBERNDORF, WILLIAM E</td>\n",
       "        <td>781600</td>\n",
       "    </tr>\n",
       "    <tr>\n",
       "        <td>SCHWAB, CHARLES R.</td>\n",
       "        <td>653400</td>\n",
       "    </tr>\n",
       "    <tr>\n",
       "        <td>WILSEY, DIANE B.</td>\n",
       "        <td>554380</td>\n",
       "    </tr>\n",
       "    <tr>\n",
       "        <td>GREER, JIM</td>\n",
       "        <td>551615</td>\n",
       "    </tr>\n",
       "</table>"
      ],
      "text/plain": [
       "[('STEYER, THOMAS F.', 89726944),\n",
       " ('MOSKOVITZ, DUSTIN', 14111000),\n",
       " ('TUNA, CARI', 6623000),\n",
       " ('SANDLER, HERBERT M.', 5494400),\n",
       " ('THIEL, PETER', 4066700),\n",
       " ('OBERNDORF, WILLIAM E. MR.', 2416106),\n",
       " ('SCHWAB, HELEN O. MRS.', 1502700),\n",
       " ('OBERNDORF, WILLIAM E.', 1371200),\n",
       " ('WENDT FAMILY TRUST', 1350000),\n",
       " ('AMERICAN PACIFIC INTERNATIONAL CAPITAL INC.', 1300000),\n",
       " ('WILLIAMS, SARA', 1273960),\n",
       " ('MOSKOVITZ, DUSTIN A.', 1000000),\n",
       " ('BUELL, SUSIE T.', 955000),\n",
       " ('WILLIAMS, EVAN', 875931),\n",
       " ('NEXT GEN', 800000),\n",
       " ('BUELL, SUSIE TOMPKINS', 797971),\n",
       " ('OBERNDORF, WILLIAM E', 781600),\n",
       " ('SCHWAB, CHARLES R.', 653400),\n",
       " ('WILSEY, DIANE B.', 554380),\n",
       " ('GREER, JIM', 551615)]"
      ]
     },
     "execution_count": 49,
     "metadata": {},
     "output_type": "execute_result"
    }
   ],
   "source": [
    "%%sql \n",
    "\n",
    "SELECT name, SUM(transaction_amt) AS total_amt\n",
    "FROM individual\n",
    "WHERE city = 'SAN FRANCISCO'\n",
    "GROUP BY name\n",
    "ORDER BY total_amt DESC\n",
    "LIMIT 20;"
   ]
  },
  {
   "cell_type": "code",
   "execution_count": 50,
   "metadata": {},
   "outputs": [
    {
     "name": "stdout",
     "output_type": "stream",
     "text": [
      "20 rows affected.\n"
     ]
    },
    {
     "data": {
      "text/html": [
       "<table>\n",
       "    <tr>\n",
       "        <th>name</th>\n",
       "        <th>total_amt</th>\n",
       "    </tr>\n",
       "    <tr>\n",
       "        <td>SHENKER, SCOTT</td>\n",
       "        <td>1334600</td>\n",
       "    </tr>\n",
       "    <tr>\n",
       "        <td>SIMONS, NAT</td>\n",
       "        <td>363400</td>\n",
       "    </tr>\n",
       "    <tr>\n",
       "        <td>SIMONS, NATHANIEL</td>\n",
       "        <td>224700</td>\n",
       "    </tr>\n",
       "    <tr>\n",
       "        <td>WILKINS, MICHAEL IAN</td>\n",
       "        <td>186681</td>\n",
       "    </tr>\n",
       "    <tr>\n",
       "        <td>HEADLEY, MARK</td>\n",
       "        <td>161700</td>\n",
       "    </tr>\n",
       "    <tr>\n",
       "        <td>GUND, LOUISE LAIDLAW</td>\n",
       "        <td>148083</td>\n",
       "    </tr>\n",
       "    <tr>\n",
       "        <td>SLATER, AMY</td>\n",
       "        <td>126340</td>\n",
       "    </tr>\n",
       "    <tr>\n",
       "        <td>HEADLEY, MARK W.</td>\n",
       "        <td>115400</td>\n",
       "    </tr>\n",
       "    <tr>\n",
       "        <td>HEADLEY, MARK W</td>\n",
       "        <td>115200</td>\n",
       "    </tr>\n",
       "    <tr>\n",
       "        <td>BERLEKAMP, ELWYN</td>\n",
       "        <td>114900</td>\n",
       "    </tr>\n",
       "    <tr>\n",
       "        <td>BERNHARDT, ANTHONY</td>\n",
       "        <td>105350</td>\n",
       "    </tr>\n",
       "    <tr>\n",
       "        <td>SHENKER, SCOTT M</td>\n",
       "        <td>105000</td>\n",
       "    </tr>\n",
       "    <tr>\n",
       "        <td>LEVIEN, RAPHAEL LINUS</td>\n",
       "        <td>100000</td>\n",
       "    </tr>\n",
       "    <tr>\n",
       "        <td>SUTTIE, JILL</td>\n",
       "        <td>93565</td>\n",
       "    </tr>\n",
       "    <tr>\n",
       "        <td>DUIGNAN, SHEILA MARIE</td>\n",
       "        <td>85000</td>\n",
       "    </tr>\n",
       "    <tr>\n",
       "        <td>HOLTZMAN, STEVEN</td>\n",
       "        <td>77800</td>\n",
       "    </tr>\n",
       "    <tr>\n",
       "        <td>PARKER, MICHAEL L.</td>\n",
       "        <td>75500</td>\n",
       "    </tr>\n",
       "    <tr>\n",
       "        <td>FERGUSON, THEODOSIA</td>\n",
       "        <td>74055</td>\n",
       "    </tr>\n",
       "    <tr>\n",
       "        <td>PARKER, ANN</td>\n",
       "        <td>73700</td>\n",
       "    </tr>\n",
       "    <tr>\n",
       "        <td>FIDDLER, JERRY</td>\n",
       "        <td>70800</td>\n",
       "    </tr>\n",
       "</table>"
      ],
      "text/plain": [
       "[('SHENKER, SCOTT', 1334600),\n",
       " ('SIMONS, NAT', 363400),\n",
       " ('SIMONS, NATHANIEL', 224700),\n",
       " ('WILKINS, MICHAEL IAN', 186681),\n",
       " ('HEADLEY, MARK', 161700),\n",
       " ('GUND, LOUISE LAIDLAW', 148083),\n",
       " ('SLATER, AMY', 126340),\n",
       " ('HEADLEY, MARK W.', 115400),\n",
       " ('HEADLEY, MARK W', 115200),\n",
       " ('BERLEKAMP, ELWYN', 114900),\n",
       " ('BERNHARDT, ANTHONY', 105350),\n",
       " ('SHENKER, SCOTT M', 105000),\n",
       " ('LEVIEN, RAPHAEL LINUS', 100000),\n",
       " ('SUTTIE, JILL', 93565),\n",
       " ('DUIGNAN, SHEILA MARIE', 85000),\n",
       " ('HOLTZMAN, STEVEN', 77800),\n",
       " ('PARKER, MICHAEL L.', 75500),\n",
       " ('FERGUSON, THEODOSIA', 74055),\n",
       " ('PARKER, ANN', 73700),\n",
       " ('FIDDLER, JERRY', 70800)]"
      ]
     },
     "execution_count": 50,
     "metadata": {},
     "output_type": "execute_result"
    }
   ],
   "source": [
    "%%sql \n",
    "\n",
    "SELECT name, SUM(transaction_amt) AS total_amt\n",
    "FROM individual\n",
    "WHERE city = 'BERKELEY'\n",
    "GROUP BY name\n",
    "ORDER BY total_amt DESC\n",
    "LIMIT 20;"
   ]
  },
  {
   "cell_type": "markdown",
   "metadata": {},
   "source": [
    "# Named Queries: Views and CTEs\n",
    "\n",
    "Up to now we've looked at a single query at a time. SQL also allows us to nest queries in various ways. In this section we look at the cleaner examples of how to do this in SQL: views and Common Table Expressions (CTEs)."
   ]
  },
  {
   "cell_type": "markdown",
   "metadata": {},
   "source": [
    "## Views\n",
    "In earlier examples, we created new tables and populated them from the result of queries over stored tables. There are two main drawbacks of that approach that may concern us in some cases:\n",
    "\n",
    "1. The new table **uses up storage**, even though it is recomputable from other tables.\n",
    "1. **Out of date**. The stored output will not reflect changes in the input. \n",
    "\n",
    "For this reason, SQL provides a notion of logical *views*: these are basically named queries that are re-evaluated upon each reference. \n",
    "\n",
    "\n",
    "The syntax is straightforward:\n",
    "\n",
    "```sql\n",
    "CREATE VIEW <name> AS\n",
    "<SELECT statement>;\n",
    "```\n",
    "\n",
    "The resulting view `<name>` can be used in an `SELECT` query, but **not** in an `INSERT`, `DELETE` or `UPDATE` query!\n",
    "\n",
    "As an example, we might want a view that stores just some summary statistics of `transaction_amt`s for each date:"
   ]
  },
  {
   "cell_type": "code",
   "execution_count": 51,
   "metadata": {},
   "outputs": [
    {
     "name": "stdout",
     "output_type": "stream",
     "text": [
      "Done.\n",
      "Done.\n"
     ]
    },
    {
     "data": {
      "text/plain": [
       "[]"
      ]
     },
     "execution_count": 51,
     "metadata": {},
     "output_type": "execute_result"
    }
   ],
   "source": [
    "%%sql $postgresql_uri\n",
    "\n",
    "\n",
    "DROP VIEW IF EXISTS date_stats;\n",
    "\n",
    "CREATE VIEW date_stats AS\n",
    "SELECT \n",
    "    transaction_dt AS day,\n",
    "    min(transaction_amt), \n",
    "    avg(transaction_amt), \n",
    "    stddev(transaction_amt),\n",
    "    max(transaction_amt)\n",
    "FROM individual\n",
    "GROUP BY transaction_dt\n",
    "ORDER BY day;"
   ]
  },
  {
   "cell_type": "code",
   "execution_count": 52,
   "metadata": {},
   "outputs": [
    {
     "name": "stdout",
     "output_type": "stream",
     "text": [
      "5 rows affected.\n"
     ]
    },
    {
     "data": {
      "text/html": [
       "<table>\n",
       "    <tr>\n",
       "        <th>day</th>\n",
       "        <th>min</th>\n",
       "        <th>avg</th>\n",
       "        <th>stddev</th>\n",
       "        <th>max</th>\n",
       "    </tr>\n",
       "    <tr>\n",
       "        <td>01012014</td>\n",
       "        <td>1385</td>\n",
       "        <td>1942.5000000000000000</td>\n",
       "        <td>788.424061023000</td>\n",
       "        <td>2500</td>\n",
       "    </tr>\n",
       "    <tr>\n",
       "        <td>01012015</td>\n",
       "        <td>-2600</td>\n",
       "        <td>188.4715555555555556</td>\n",
       "        <td>880.059579180729</td>\n",
       "        <td>30000</td>\n",
       "    </tr>\n",
       "    <tr>\n",
       "        <td>01012016</td>\n",
       "        <td>-2700</td>\n",
       "        <td>198.2062088259182384</td>\n",
       "        <td>2545.985242643657</td>\n",
       "        <td>250000</td>\n",
       "    </tr>\n",
       "    <tr>\n",
       "        <td>01012017</td>\n",
       "        <td>100</td>\n",
       "        <td>550.0000000000000000</td>\n",
       "        <td>636.396103067893</td>\n",
       "        <td>1000</td>\n",
       "    </tr>\n",
       "    <tr>\n",
       "        <td>01022015</td>\n",
       "        <td>-2600</td>\n",
       "        <td>1700.9547432550043516</td>\n",
       "        <td>85215.57949865</td>\n",
       "        <td>5000000</td>\n",
       "    </tr>\n",
       "</table>"
      ],
      "text/plain": [
       "[('01012014', 1385, Decimal('1942.5000000000000000'), Decimal('788.424061023000'), 2500),\n",
       " ('01012015', -2600, Decimal('188.4715555555555556'), Decimal('880.059579180729'), 30000),\n",
       " ('01012016', -2700, Decimal('198.2062088259182384'), Decimal('2545.985242643657'), 250000),\n",
       " ('01012017', 100, Decimal('550.0000000000000000'), Decimal('636.396103067893'), 1000),\n",
       " ('01022015', -2600, Decimal('1700.9547432550043516'), Decimal('85215.57949865'), 5000000)]"
      ]
     },
     "execution_count": 52,
     "metadata": {},
     "output_type": "execute_result"
    }
   ],
   "source": [
    "%%sql\n",
    "SELECT * from date_stats limit 5;"
   ]
  },
  {
   "cell_type": "markdown",
   "metadata": {},
   "source": [
    "**Notice that this did not create a table: **"
   ]
  },
  {
   "cell_type": "code",
   "execution_count": 53,
   "metadata": {},
   "outputs": [
    {
     "name": "stdout",
     "output_type": "stream",
     "text": [
      "             List of relations\r\n",
      " Schema |     Name      | Type  |  Owner   \r\n",
      "--------+---------------+-------+----------\r\n",
      " public | boats         | table | jegonzal\r\n",
      " public | ccl           | table | jegonzal\r\n",
      " public | cm            | table | jegonzal\r\n",
      " public | cn            | table | jegonzal\r\n",
      " public | indiv_sample  | table | jegonzal\r\n",
      " public | indiv_sample2 | table | jegonzal\r\n",
      " public | individual    | table | jegonzal\r\n",
      " public | mat_a         | table | jegonzal\r\n",
      " public | my_matrix     | table | jegonzal\r\n",
      " public | oppexp        | table | jegonzal\r\n",
      " public | pas           | table | jegonzal\r\n",
      " public | profs         | table | jegonzal\r\n",
      " public | reserves      | table | jegonzal\r\n",
      " public | sailors       | table | jegonzal\r\n",
      " public | students      | table | jegonzal\r\n",
      " public | tips          | table | jegonzal\r\n",
      "(16 rows)\r\n",
      "\r\n"
     ]
    }
   ],
   "source": [
    "!psql ds100 -c \"\\dt\""
   ]
  },
  {
   "cell_type": "markdown",
   "metadata": {},
   "source": [
    "**Instead it created a view:**"
   ]
  },
  {
   "cell_type": "code",
   "execution_count": 54,
   "metadata": {},
   "outputs": [
    {
     "name": "stdout",
     "output_type": "stream",
     "text": [
      "           List of relations\r\n",
      " Schema |    Name    | Type |  Owner   \r\n",
      "--------+------------+------+----------\r\n",
      " public | date_stats | view | jegonzal\r\n",
      " public | rando      | view | jegonzal\r\n",
      "(2 rows)\r\n",
      "\r\n"
     ]
    }
   ],
   "source": [
    "!psql ds100 -c \"\\dv\""
   ]
  },
  {
   "cell_type": "markdown",
   "metadata": {},
   "source": [
    "We can list more about the view using the `\\d+` option:"
   ]
  },
  {
   "cell_type": "code",
   "execution_count": 55,
   "metadata": {},
   "outputs": [
    {
     "name": "stdout",
     "output_type": "stream",
     "text": [
      "                      View \"public.date_stats\"\r\n",
      " Column |         Type         | Modifiers | Storage  | Description \r\n",
      "--------+----------------------+-----------+----------+-------------\r\n",
      " day    | character varying(9) |           | extended | \r\n",
      " min    | integer              |           | plain    | \r\n",
      " avg    | numeric              |           | main     | \r\n",
      " stddev | numeric              |           | main     | \r\n",
      " max    | integer              |           | plain    | \r\n",
      "View definition:\r\n",
      " SELECT individual.transaction_dt AS day,\r\n",
      "    min(individual.transaction_amt) AS min,\r\n",
      "    avg(individual.transaction_amt) AS avg,\r\n",
      "    stddev(individual.transaction_amt) AS stddev,\r\n",
      "    max(individual.transaction_amt) AS max\r\n",
      "   FROM individual\r\n",
      "  GROUP BY individual.transaction_dt\r\n",
      "  ORDER BY individual.transaction_dt;\r\n",
      "\r\n"
     ]
    }
   ],
   "source": [
    "!psql ds100 -c \"\\d+ date_stats\""
   ]
  },
  {
   "cell_type": "markdown",
   "metadata": {},
   "source": [
    "### Views are not materialized"
   ]
  },
  {
   "cell_type": "markdown",
   "metadata": {},
   "source": [
    "Let's create a random table and we will even seed the random number generator."
   ]
  },
  {
   "cell_type": "code",
   "execution_count": 56,
   "metadata": {},
   "outputs": [
    {
     "name": "stdout",
     "output_type": "stream",
     "text": [
      "1 rows affected.\n",
      "Done.\n",
      "Done.\n"
     ]
    },
    {
     "data": {
      "text/plain": [
       "[]"
      ]
     },
     "execution_count": 56,
     "metadata": {},
     "output_type": "execute_result"
    }
   ],
   "source": [
    "%%sql $postgresql_uri\n",
    "\n",
    "SELECT setseed(0.3);\n",
    "\n",
    "DROP VIEW IF EXISTS rando;\n",
    "\n",
    "CREATE VIEW rando(rownum, rnd) AS\n",
    "SELECT rownum, round(random())::INTEGER\n",
    "FROM generate_series(1,50) AS ind(rownum)"
   ]
  },
  {
   "cell_type": "markdown",
   "metadata": {},
   "source": [
    "What is the sum of the rows in Random:"
   ]
  },
  {
   "cell_type": "code",
   "execution_count": 57,
   "metadata": {},
   "outputs": [
    {
     "name": "stdout",
     "output_type": "stream",
     "text": [
      "1 rows affected.\n"
     ]
    },
    {
     "data": {
      "text/html": [
       "<table>\n",
       "    <tr>\n",
       "        <th>sum</th>\n",
       "    </tr>\n",
       "    <tr>\n",
       "        <td>19</td>\n",
       "    </tr>\n",
       "</table>"
      ],
      "text/plain": [
       "[(19,)]"
      ]
     },
     "execution_count": 57,
     "metadata": {},
     "output_type": "execute_result"
    }
   ],
   "source": [
    "%%sql $postgresql_uri\n",
    "\n",
    "SELECT SUM(rnd) FROM rando;"
   ]
  },
  {
   "cell_type": "markdown",
   "metadata": {},
   "source": [
    "What was that value again?\n"
   ]
  },
  {
   "cell_type": "code",
   "execution_count": 58,
   "metadata": {},
   "outputs": [
    {
     "name": "stdout",
     "output_type": "stream",
     "text": [
      "1 rows affected.\n"
     ]
    },
    {
     "data": {
      "text/html": [
       "<table>\n",
       "    <tr>\n",
       "        <th>sum</th>\n",
       "    </tr>\n",
       "    <tr>\n",
       "        <td>26</td>\n",
       "    </tr>\n",
       "</table>"
      ],
      "text/plain": [
       "[(26,)]"
      ]
     },
     "execution_count": 58,
     "metadata": {},
     "output_type": "execute_result"
    }
   ],
   "source": [
    "%%sql $postgresql_uri\n",
    "\n",
    "SELECT SUM(rnd) FROM rando;"
   ]
  },
  {
   "cell_type": "markdown",
   "metadata": {},
   "source": [
    "--- \n",
    "</br></br></br>\n",
    "\n",
    "The value changes with each invocation."
   ]
  },
  {
   "cell_type": "markdown",
   "metadata": {},
   "source": [
    "## Too Many Views\n",
    "\n",
    "Views can help:\n",
    "* Simplify queries\n",
    "* Make complex queries more readable \n",
    "* Share \"sql programs\" with others \n",
    "\n",
    "Problem:\n",
    "* Creating a new view for each (exploratory) query will result in a lot of views! \n",
    "* views like: `temp1`, `temp1_joey`, `temp1_joey_fixed`, ... \n",
    "\n",
    "** We need a mechanism to decompose query into views for the scope of a single query.**"
   ]
  },
  {
   "cell_type": "markdown",
   "metadata": {},
   "source": [
    "## Common Table Expressions (`WITH`)\n",
    "\n",
    "Think of these as a view that exists only during the query.\n",
    "\n",
    "If we're only going to use a view within a single query, it is a little inelegant to `CREATE` it, and then have to `DROP` it later to recycle the view name.\n",
    "\n",
    "*Common Table Expressions* (CTEs) are like views that we use on-the-fly. (If you know about lambdas in Python, you can think of CTEs as lambda views.) The syntax for CTEs is to use a `WITH` clause in front of the query: \n",
    "\n",
    "`WITH <name> [(renamed columns)] AS \n",
    "  (<SELECT statement>) \n",
    "  [, <name2> AS (<SELECT statement>)...]`\n",
    "\n",
    "If you need multiple CTEs, you separate them with commas.\n",
    "We can rewrite our query above without a view as follows:"
   ]
  },
  {
   "cell_type": "code",
   "execution_count": 59,
   "metadata": {},
   "outputs": [
    {
     "name": "stdout",
     "output_type": "stream",
     "text": [
      "5 rows affected.\n"
     ]
    },
    {
     "data": {
      "text/html": [
       "<table>\n",
       "    <tr>\n",
       "        <th>day</th>\n",
       "        <th>stddev</th>\n",
       "        <th>spread</th>\n",
       "    </tr>\n",
       "    <tr>\n",
       "        <td>2015-01-29</td>\n",
       "        <td>156888.68706687</td>\n",
       "        <td>499975</td>\n",
       "    </tr>\n",
       "    <tr>\n",
       "        <td>2016-03-07</td>\n",
       "        <td>25722.24049839</td>\n",
       "        <td>100003</td>\n",
       "    </tr>\n",
       "    <tr>\n",
       "        <td>2015-02-12</td>\n",
       "        <td>20132.91934867</td>\n",
       "        <td>49998</td>\n",
       "    </tr>\n",
       "    <tr>\n",
       "        <td>2015-04-28</td>\n",
       "        <td>11091.96653113</td>\n",
       "        <td>33390</td>\n",
       "    </tr>\n",
       "    <tr>\n",
       "        <td>2016-07-13</td>\n",
       "        <td>10412.93231550</td>\n",
       "        <td>49995</td>\n",
       "    </tr>\n",
       "</table>"
      ],
      "text/plain": [
       "[(datetime.date(2015, 1, 29), Decimal('156888.68706687'), 499975),\n",
       " (datetime.date(2016, 3, 7), Decimal('25722.24049839'), 100003),\n",
       " (datetime.date(2015, 2, 12), Decimal('20132.91934867'), 49998),\n",
       " (datetime.date(2015, 4, 28), Decimal('11091.96653113'), 33390),\n",
       " (datetime.date(2016, 7, 13), Decimal('10412.93231550'), 49995)]"
      ]
     },
     "execution_count": 59,
     "metadata": {},
     "output_type": "execute_result"
    }
   ],
   "source": [
    "%%sql $postgresql_uri\n",
    "\n",
    "WITH per_day_stats AS (\n",
    "    SELECT \n",
    "        to_date(transaction_dt, 'MMDDYYYY') as day, -- Date Parsing\n",
    "        min(transaction_amt), \n",
    "        avg(transaction_amt), \n",
    "        stddev(transaction_amt),\n",
    "        max(transaction_amt)\n",
    "    FROM indiv_sample\n",
    "    GROUP BY transaction_dt\n",
    ")    \n",
    "SELECT day, stddev, max - min AS spread\n",
    "FROM per_day_stats\n",
    "WHERE stddev IS NOT NULL\n",
    "ORDER by stddev DESC\n",
    "LIMIT 5"
   ]
  },
  {
   "cell_type": "markdown",
   "metadata": {},
   "source": [
    "# Joins\n",
    "\n",
    "Suppose now we want to determine which committees received the most money"
   ]
  },
  {
   "cell_type": "code",
   "execution_count": 60,
   "metadata": {},
   "outputs": [
    {
     "name": "stdout",
     "output_type": "stream",
     "text": [
      "10 rows affected.\n"
     ]
    },
    {
     "data": {
      "text/html": [
       "<table>\n",
       "    <tr>\n",
       "        <th>cmte_id</th>\n",
       "        <th>total_amt</th>\n",
       "    </tr>\n",
       "    <tr>\n",
       "        <td>C00586537</td>\n",
       "        <td>428422747</td>\n",
       "    </tr>\n",
       "    <tr>\n",
       "        <td>C00401224</td>\n",
       "        <td>314682670</td>\n",
       "    </tr>\n",
       "    <tr>\n",
       "        <td>C00575795</td>\n",
       "        <td>293602014</td>\n",
       "    </tr>\n",
       "    <tr>\n",
       "        <td>C00495861</td>\n",
       "        <td>183763164</td>\n",
       "    </tr>\n",
       "    <tr>\n",
       "        <td>C00571372</td>\n",
       "        <td>132142087</td>\n",
       "    </tr>\n",
       "    <tr>\n",
       "        <td>C00003418</td>\n",
       "        <td>123195123</td>\n",
       "    </tr>\n",
       "    <tr>\n",
       "        <td>C00618389</td>\n",
       "        <td>107943772</td>\n",
       "    </tr>\n",
       "    <tr>\n",
       "        <td>C00571703</td>\n",
       "        <td>104275579</td>\n",
       "    </tr>\n",
       "    <tr>\n",
       "        <td>C00547349</td>\n",
       "        <td>92536032</td>\n",
       "    </tr>\n",
       "    <tr>\n",
       "        <td>C00010603</td>\n",
       "        <td>89932788</td>\n",
       "    </tr>\n",
       "</table>"
      ],
      "text/plain": [
       "[('C00586537', 428422747),\n",
       " ('C00401224', 314682670),\n",
       " ('C00575795', 293602014),\n",
       " ('C00495861', 183763164),\n",
       " ('C00571372', 132142087),\n",
       " ('C00003418', 123195123),\n",
       " ('C00618389', 107943772),\n",
       " ('C00571703', 104275579),\n",
       " ('C00547349', 92536032),\n",
       " ('C00010603', 89932788)]"
      ]
     },
     "execution_count": 60,
     "metadata": {},
     "output_type": "execute_result"
    }
   ],
   "source": [
    "%%sql $postgresql_uri\n",
    "\n",
    "SELECT cmte_id, SUM(transaction_amt) AS total_amt\n",
    "FROM individual \n",
    "GROUP BY cmte_id\n",
    "ORDER BY total_amt DESC\n",
    "LIMIT 10"
   ]
  },
  {
   "cell_type": "markdown",
   "metadata": {},
   "source": [
    "## What are the names of these Committees?"
   ]
  },
  {
   "cell_type": "code",
   "execution_count": 61,
   "metadata": {},
   "outputs": [
    {
     "name": "stdout",
     "output_type": "stream",
     "text": [
      "             List of relations\r\n",
      " Schema |     Name      | Type  |  Owner   \r\n",
      "--------+---------------+-------+----------\r\n",
      " public | boats         | table | jegonzal\r\n",
      " public | ccl           | table | jegonzal\r\n",
      " public | cm            | table | jegonzal\r\n",
      " public | cn            | table | jegonzal\r\n",
      " public | date_stats    | view  | jegonzal\r\n",
      " public | indiv_sample  | table | jegonzal\r\n",
      " public | indiv_sample2 | table | jegonzal\r\n",
      " public | individual    | table | jegonzal\r\n",
      " public | mat_a         | table | jegonzal\r\n",
      " public | my_matrix     | table | jegonzal\r\n",
      " public | oppexp        | table | jegonzal\r\n",
      " public | pas           | table | jegonzal\r\n",
      " public | profs         | table | jegonzal\r\n",
      " public | rando         | view  | jegonzal\r\n",
      " public | reserves      | table | jegonzal\r\n",
      " public | sailors       | table | jegonzal\r\n",
      " public | students      | table | jegonzal\r\n",
      " public | tips          | table | jegonzal\r\n",
      "(18 rows)\r\n",
      "\r\n"
     ]
    }
   ],
   "source": [
    "!psql ds100 -c \"\\d\""
   ]
  },
  {
   "cell_type": "code",
   "execution_count": 62,
   "metadata": {},
   "outputs": [
    {
     "name": "stdout",
     "output_type": "stream",
     "text": [
      "                               Table \"public.cm\"\r\n",
      "        Column        |         Type          |            Modifiers            \r\n",
      "----------------------+-----------------------+---------------------------------\r\n",
      " cmte_id              | character varying(9)  | \r\n",
      " cmte_nm              | text                  | \r\n",
      " tres_nm              | text                  | \r\n",
      " cmte_st1             | text                  | \r\n",
      " cmte_st2             | text                  | \r\n",
      " cmte_city            | text                  | \r\n",
      " cmte_st              | character varying(2)  | \r\n",
      " cmte_zip             | character varying(10) | \r\n",
      " cmte_dsgn            | character(1)          | \r\n",
      " cmte_tp              | character(1)          | \r\n",
      " cmte_pty_affiliation | character varying(3)  | \r\n",
      " cmte_filing_freq     | character(1)          | \r\n",
      " org_tp               | character(1)          | \r\n",
      " connected_org_nm     | text                  | \r\n",
      " cand_id              | character varying(9)  | default NULL::character varying\r\n",
      "\r\n"
     ]
    }
   ],
   "source": [
    "!psql ds100 -c \"\\d cm\""
   ]
  },
  {
   "cell_type": "markdown",
   "metadata": {},
   "source": [
    "We can join the committee description to get the names of the committees that received the most funds. "
   ]
  },
  {
   "cell_type": "code",
   "execution_count": 63,
   "metadata": {},
   "outputs": [
    {
     "name": "stdout",
     "output_type": "stream",
     "text": [
      "10 rows affected.\n"
     ]
    },
    {
     "data": {
      "text/html": [
       "<table>\n",
       "    <tr>\n",
       "        <th>cmte_nm</th>\n",
       "        <th>total_amt</th>\n",
       "    </tr>\n",
       "    <tr>\n",
       "        <td>HILLARY VICTORY FUND</td>\n",
       "        <td>428422747</td>\n",
       "    </tr>\n",
       "    <tr>\n",
       "        <td>ACTBLUE</td>\n",
       "        <td>314682670</td>\n",
       "    </tr>\n",
       "    <tr>\n",
       "        <td>HILLARY FOR AMERICA</td>\n",
       "        <td>293602014</td>\n",
       "    </tr>\n",
       "    <tr>\n",
       "        <td>PRIORITIES USA ACTION</td>\n",
       "        <td>183763164</td>\n",
       "    </tr>\n",
       "    <tr>\n",
       "        <td>RIGHT TO RISE USA</td>\n",
       "        <td>132142087</td>\n",
       "    </tr>\n",
       "    <tr>\n",
       "        <td>REPUBLICAN NATIONAL COMMITTEE</td>\n",
       "        <td>123195123</td>\n",
       "    </tr>\n",
       "    <tr>\n",
       "        <td>TRUMP VICTORY</td>\n",
       "        <td>107943772</td>\n",
       "    </tr>\n",
       "    <tr>\n",
       "        <td>SENATE LEADERSHIP FUND</td>\n",
       "        <td>104275579</td>\n",
       "    </tr>\n",
       "    <tr>\n",
       "        <td>NEXTGEN CLIMATE ACTION COMMITTEE</td>\n",
       "        <td>92536032</td>\n",
       "    </tr>\n",
       "    <tr>\n",
       "        <td>DNC SERVICES CORP./DEM. NAT&#x27;L COMMITTEE</td>\n",
       "        <td>89932788</td>\n",
       "    </tr>\n",
       "</table>"
      ],
      "text/plain": [
       "[('HILLARY VICTORY FUND', 428422747),\n",
       " ('ACTBLUE', 314682670),\n",
       " ('HILLARY FOR AMERICA', 293602014),\n",
       " ('PRIORITIES USA ACTION', 183763164),\n",
       " ('RIGHT TO RISE USA', 132142087),\n",
       " ('REPUBLICAN NATIONAL COMMITTEE', 123195123),\n",
       " ('TRUMP VICTORY', 107943772),\n",
       " ('SENATE LEADERSHIP FUND', 104275579),\n",
       " ('NEXTGEN CLIMATE ACTION COMMITTEE', 92536032),\n",
       " (\"DNC SERVICES CORP./DEM. NAT'L COMMITTEE\", 89932788)]"
      ]
     },
     "execution_count": 63,
     "metadata": {},
     "output_type": "execute_result"
    }
   ],
   "source": [
    "%%sql $postgresql_uri\n",
    "\n",
    "WITH indv2cm AS\n",
    "(\n",
    "    SELECT cmte_id, SUM(transaction_amt) AS total_amt\n",
    "    FROM individual\n",
    "    GROUP BY cmte_id\n",
    "    ORDER BY total_amt DESC\n",
    ")\n",
    "SELECT cm.cmte_nm, indv2cm.total_amt \n",
    "FROM cm, indv2cm\n",
    "WHERE cm.cmte_id = indv2cm.cmte_id\n",
    "ORDER BY indv2cm.total_amt DESC\n",
    "LIMIT 10"
   ]
  },
  {
   "cell_type": "markdown",
   "metadata": {},
   "source": [
    "## Which candidate received the most"
   ]
  },
  {
   "cell_type": "code",
   "execution_count": 64,
   "metadata": {},
   "outputs": [
    {
     "name": "stdout",
     "output_type": "stream",
     "text": [
      "             List of relations\r\n",
      " Schema |     Name      | Type  |  Owner   \r\n",
      "--------+---------------+-------+----------\r\n",
      " public | boats         | table | jegonzal\r\n",
      " public | ccl           | table | jegonzal\r\n",
      " public | cm            | table | jegonzal\r\n",
      " public | cn            | table | jegonzal\r\n",
      " public | date_stats    | view  | jegonzal\r\n",
      " public | indiv_sample  | table | jegonzal\r\n",
      " public | indiv_sample2 | table | jegonzal\r\n",
      " public | individual    | table | jegonzal\r\n",
      " public | mat_a         | table | jegonzal\r\n",
      " public | my_matrix     | table | jegonzal\r\n",
      " public | oppexp        | table | jegonzal\r\n",
      " public | pas           | table | jegonzal\r\n",
      " public | profs         | table | jegonzal\r\n",
      " public | rando         | view  | jegonzal\r\n",
      " public | reserves      | table | jegonzal\r\n",
      " public | sailors       | table | jegonzal\r\n",
      " public | students      | table | jegonzal\r\n",
      " public | tips          | table | jegonzal\r\n",
      "(18 rows)\r\n",
      "\r\n"
     ]
    }
   ],
   "source": [
    "!psql ds100 -c \"\\d\""
   ]
  },
  {
   "cell_type": "markdown",
   "metadata": {},
   "source": [
    "### Candidate Name Table"
   ]
  },
  {
   "cell_type": "code",
   "execution_count": 65,
   "metadata": {},
   "outputs": [
    {
     "name": "stdout",
     "output_type": "stream",
     "text": [
      "                    Table \"public.cn\"\r\n",
      "        Column        |         Type          | Modifiers \r\n",
      "----------------------+-----------------------+-----------\r\n",
      " cand_id              | character varying(9)  | \r\n",
      " cand_name            | text                  | \r\n",
      " cand_pty_affiliation | character varying(3)  | \r\n",
      " cand_election_yr     | integer               | \r\n",
      " cand_office_st       | character varying(2)  | \r\n",
      " cand_office          | character(1)          | \r\n",
      " cand_office_district | integer               | \r\n",
      " cand_ici             | character(1)          | \r\n",
      " cand_status          | character(1)          | \r\n",
      " cand_pcc             | character varying(9)  | \r\n",
      " cand_st1             | text                  | \r\n",
      " cand_st2             | text                  | \r\n",
      " cand_city            | text                  | \r\n",
      " cand_st              | character varying(2)  | \r\n",
      " cand_zip             | character varying(10) | \r\n",
      "\r\n"
     ]
    }
   ],
   "source": [
    "!psql ds100 -c \"\\d cn\""
   ]
  },
  {
   "cell_type": "markdown",
   "metadata": {},
   "source": [
    "### Candidate Committee Linkage Table"
   ]
  },
  {
   "cell_type": "code",
   "execution_count": 66,
   "metadata": {},
   "outputs": [
    {
     "name": "stdout",
     "output_type": "stream",
     "text": [
      "                 Table \"public.ccl\"\r\n",
      "      Column      |         Type         | Modifiers \r\n",
      "------------------+----------------------+-----------\r\n",
      " cand_id          | character varying(9) | \r\n",
      " cand_election_yr | integer              | \r\n",
      " fec_election_yr  | integer              | \r\n",
      " cmte_id          | character varying(9) | \r\n",
      " cmte_tp          | character(1)         | \r\n",
      " cmte_dsgn        | character(1)         | \r\n",
      " linkage_id       | integer              | \r\n",
      "\r\n"
     ]
    }
   ],
   "source": [
    "!psql ds100 -c \"\\d ccl\""
   ]
  },
  {
   "cell_type": "markdown",
   "metadata": {},
   "source": [
    "### Joining Aggregated Indiv - CCL - CN"
   ]
  },
  {
   "cell_type": "code",
   "execution_count": 67,
   "metadata": {},
   "outputs": [
    {
     "name": "stdout",
     "output_type": "stream",
     "text": [
      "10 rows affected.\n"
     ]
    },
    {
     "data": {
      "text/html": [
       "<table>\n",
       "    <tr>\n",
       "        <th>cand_name</th>\n",
       "        <th>total_amt</th>\n",
       "    </tr>\n",
       "    <tr>\n",
       "        <td>CLINTON, HILLARY RODHAM / TIMOTHY MICHAEL KAINE</td>\n",
       "        <td>293602014</td>\n",
       "    </tr>\n",
       "    <tr>\n",
       "        <td>SANDERS, BERNARD</td>\n",
       "        <td>84741223</td>\n",
       "    </tr>\n",
       "    <tr>\n",
       "        <td>TRUMP, DONALD J. / MICHAEL R. PENCE </td>\n",
       "        <td>65329708</td>\n",
       "    </tr>\n",
       "    <tr>\n",
       "        <td>RUBIO, MARCO</td>\n",
       "        <td>60770391</td>\n",
       "    </tr>\n",
       "    <tr>\n",
       "        <td>RYAN, PAUL D.</td>\n",
       "        <td>58792561</td>\n",
       "    </tr>\n",
       "    <tr>\n",
       "        <td>CRUZ, RAFAEL EDWARD &quot;TED&quot;</td>\n",
       "        <td>54016803</td>\n",
       "    </tr>\n",
       "    <tr>\n",
       "        <td>BUSH, JEB</td>\n",
       "        <td>33215298</td>\n",
       "    </tr>\n",
       "    <tr>\n",
       "        <td>CARSON, BENJAMIN S SR MD</td>\n",
       "        <td>27720768</td>\n",
       "    </tr>\n",
       "    <tr>\n",
       "        <td>VAN HOLLEN, CHRIS</td>\n",
       "        <td>27254529</td>\n",
       "    </tr>\n",
       "    <tr>\n",
       "        <td>PORTMAN, ROB</td>\n",
       "        <td>21122605</td>\n",
       "    </tr>\n",
       "</table>"
      ],
      "text/plain": [
       "[('CLINTON, HILLARY RODHAM / TIMOTHY MICHAEL KAINE', 293602014),\n",
       " ('SANDERS, BERNARD', 84741223),\n",
       " ('TRUMP, DONALD J. / MICHAEL R. PENCE ', 65329708),\n",
       " ('RUBIO, MARCO', 60770391),\n",
       " ('RYAN, PAUL D.', 58792561),\n",
       " ('CRUZ, RAFAEL EDWARD \"TED\"', 54016803),\n",
       " ('BUSH, JEB', 33215298),\n",
       " ('CARSON, BENJAMIN S SR MD', 27720768),\n",
       " ('VAN HOLLEN, CHRIS', 27254529),\n",
       " ('PORTMAN, ROB', 21122605)]"
      ]
     },
     "execution_count": 67,
     "metadata": {},
     "output_type": "execute_result"
    }
   ],
   "source": [
    "%%sql \n",
    "SELECT cn.cand_name, SUM(indiv.transaction_amt) AS total_amt\n",
    "FROM individual AS indiv, ccl, cn\n",
    "WHERE indiv.cmte_id = ccl.cmte_id AND\n",
    "    ccl.cand_id = cn.cand_id \n",
    "GROUP BY cn.cand_name\n",
    "ORDER BY total_amt DESC\n",
    "LIMIT 10\n",
    "\n"
   ]
  },
  {
   "cell_type": "markdown",
   "metadata": {},
   "source": [
    "### Localized Join for CA"
   ]
  },
  {
   "cell_type": "code",
   "execution_count": 68,
   "metadata": {
    "scrolled": true
   },
   "outputs": [
    {
     "name": "stdout",
     "output_type": "stream",
     "text": [
      "10 rows affected.\n"
     ]
    },
    {
     "data": {
      "text/html": [
       "<table>\n",
       "    <tr>\n",
       "        <th>cand_name</th>\n",
       "        <th>total_amt</th>\n",
       "    </tr>\n",
       "    <tr>\n",
       "        <td>CLINTON, HILLARY RODHAM / TIMOTHY MICHAEL KAINE</td>\n",
       "        <td>64312114</td>\n",
       "    </tr>\n",
       "    <tr>\n",
       "        <td>SANDERS, BERNARD</td>\n",
       "        <td>18755158</td>\n",
       "    </tr>\n",
       "    <tr>\n",
       "        <td>HARRIS, KAMALA D</td>\n",
       "        <td>9217342</td>\n",
       "    </tr>\n",
       "    <tr>\n",
       "        <td>RUBIO, MARCO</td>\n",
       "        <td>8290342</td>\n",
       "    </tr>\n",
       "    <tr>\n",
       "        <td>MCCARTHY, KEVIN</td>\n",
       "        <td>5885992</td>\n",
       "    </tr>\n",
       "    <tr>\n",
       "        <td>CRUZ, RAFAEL EDWARD &quot;TED&quot;</td>\n",
       "        <td>5477703</td>\n",
       "    </tr>\n",
       "    <tr>\n",
       "        <td>RYAN, PAUL D.</td>\n",
       "        <td>5419340</td>\n",
       "    </tr>\n",
       "    <tr>\n",
       "        <td>TRUMP, DONALD J. / MICHAEL R. PENCE </td>\n",
       "        <td>5183688</td>\n",
       "    </tr>\n",
       "    <tr>\n",
       "        <td>MASTO, CATHERINE CORTEZ</td>\n",
       "        <td>3405938</td>\n",
       "    </tr>\n",
       "    <tr>\n",
       "        <td>BUSH, JEB</td>\n",
       "        <td>3356045</td>\n",
       "    </tr>\n",
       "</table>"
      ],
      "text/plain": [
       "[('CLINTON, HILLARY RODHAM / TIMOTHY MICHAEL KAINE', 64312114),\n",
       " ('SANDERS, BERNARD', 18755158),\n",
       " ('HARRIS, KAMALA D', 9217342),\n",
       " ('RUBIO, MARCO', 8290342),\n",
       " ('MCCARTHY, KEVIN', 5885992),\n",
       " ('CRUZ, RAFAEL EDWARD \"TED\"', 5477703),\n",
       " ('RYAN, PAUL D.', 5419340),\n",
       " ('TRUMP, DONALD J. / MICHAEL R. PENCE ', 5183688),\n",
       " ('MASTO, CATHERINE CORTEZ', 3405938),\n",
       " ('BUSH, JEB', 3356045)]"
      ]
     },
     "execution_count": 68,
     "metadata": {},
     "output_type": "execute_result"
    }
   ],
   "source": [
    "%%sql \n",
    "\n",
    "SELECT cn.cand_name, SUM(indiv.transaction_amt) AS total_amt\n",
    "FROM individual AS indiv, ccl, cn\n",
    "WHERE indiv.cmte_id = ccl.cmte_id AND\n",
    "    ccl.cand_id = cn.cand_id AND\n",
    "    indiv.state = 'CA'\n",
    "GROUP BY cn.cand_name\n",
    "ORDER BY total_amt DESC\n",
    "LIMIT 10"
   ]
  },
  {
   "cell_type": "markdown",
   "metadata": {},
   "source": [
    "### Localized Join for FL"
   ]
  },
  {
   "cell_type": "code",
   "execution_count": 69,
   "metadata": {},
   "outputs": [
    {
     "name": "stdout",
     "output_type": "stream",
     "text": [
      "10 rows affected.\n"
     ]
    },
    {
     "data": {
      "text/html": [
       "<table>\n",
       "    <tr>\n",
       "        <th>cand_name</th>\n",
       "        <th>total_amt</th>\n",
       "    </tr>\n",
       "    <tr>\n",
       "        <td>RUBIO, MARCO</td>\n",
       "        <td>17355941</td>\n",
       "    </tr>\n",
       "    <tr>\n",
       "        <td>CLINTON, HILLARY RODHAM / TIMOTHY MICHAEL KAINE</td>\n",
       "        <td>15315796</td>\n",
       "    </tr>\n",
       "    <tr>\n",
       "        <td>PERKINS, RANDY</td>\n",
       "        <td>10315395</td>\n",
       "    </tr>\n",
       "    <tr>\n",
       "        <td>MURPHY, PATRICK E</td>\n",
       "        <td>7926526</td>\n",
       "    </tr>\n",
       "    <tr>\n",
       "        <td>BUSH, JEB</td>\n",
       "        <td>7291164</td>\n",
       "    </tr>\n",
       "    <tr>\n",
       "        <td>RYAN, PAUL D.</td>\n",
       "        <td>6129278</td>\n",
       "    </tr>\n",
       "    <tr>\n",
       "        <td>TRUMP, DONALD J. / MICHAEL R. PENCE </td>\n",
       "        <td>5072826</td>\n",
       "    </tr>\n",
       "    <tr>\n",
       "        <td>ROONEY, FRANCIS</td>\n",
       "        <td>4280801</td>\n",
       "    </tr>\n",
       "    <tr>\n",
       "        <td>SANDERS, BERNARD</td>\n",
       "        <td>3053688</td>\n",
       "    </tr>\n",
       "    <tr>\n",
       "        <td>CRUZ, RAFAEL EDWARD &quot;TED&quot;</td>\n",
       "        <td>2741375</td>\n",
       "    </tr>\n",
       "</table>"
      ],
      "text/plain": [
       "[('RUBIO, MARCO', 17355941),\n",
       " ('CLINTON, HILLARY RODHAM / TIMOTHY MICHAEL KAINE', 15315796),\n",
       " ('PERKINS, RANDY', 10315395),\n",
       " ('MURPHY, PATRICK E', 7926526),\n",
       " ('BUSH, JEB', 7291164),\n",
       " ('RYAN, PAUL D.', 6129278),\n",
       " ('TRUMP, DONALD J. / MICHAEL R. PENCE ', 5072826),\n",
       " ('ROONEY, FRANCIS', 4280801),\n",
       " ('SANDERS, BERNARD', 3053688),\n",
       " ('CRUZ, RAFAEL EDWARD \"TED\"', 2741375)]"
      ]
     },
     "execution_count": 69,
     "metadata": {},
     "output_type": "execute_result"
    }
   ],
   "source": [
    "%%sql \n",
    "SELECT cn.cand_name, SUM(indiv.transaction_amt) AS total_amt\n",
    "FROM individual AS indiv, ccl, cn\n",
    "WHERE indiv.cmte_id = ccl.cmte_id AND\n",
    "    ccl.cand_id = cn.cand_id AND\n",
    "    indiv.state = 'FL'\n",
    "GROUP BY cn.cand_name\n",
    "ORDER BY total_amt DESC\n",
    "LIMIT 10"
   ]
  },
  {
   "cell_type": "markdown",
   "metadata": {},
   "source": [
    "### Localized Join for TX"
   ]
  },
  {
   "cell_type": "code",
   "execution_count": 70,
   "metadata": {},
   "outputs": [
    {
     "name": "stdout",
     "output_type": "stream",
     "text": [
      "10 rows affected.\n"
     ]
    },
    {
     "data": {
      "text/html": [
       "<table>\n",
       "    <tr>\n",
       "        <th>cand_name</th>\n",
       "        <th>total_amt</th>\n",
       "    </tr>\n",
       "    <tr>\n",
       "        <td>CRUZ, RAFAEL EDWARD &quot;TED&quot;</td>\n",
       "        <td>20464749</td>\n",
       "    </tr>\n",
       "    <tr>\n",
       "        <td>CLINTON, HILLARY RODHAM / TIMOTHY MICHAEL KAINE</td>\n",
       "        <td>16124458</td>\n",
       "    </tr>\n",
       "    <tr>\n",
       "        <td>RYAN, PAUL D.</td>\n",
       "        <td>7905676</td>\n",
       "    </tr>\n",
       "    <tr>\n",
       "        <td>TRUMP, DONALD J. / MICHAEL R. PENCE </td>\n",
       "        <td>5763918</td>\n",
       "    </tr>\n",
       "    <tr>\n",
       "        <td>RUBIO, MARCO</td>\n",
       "        <td>4998601</td>\n",
       "    </tr>\n",
       "    <tr>\n",
       "        <td>BUSH, JEB</td>\n",
       "        <td>3904580</td>\n",
       "    </tr>\n",
       "    <tr>\n",
       "        <td>CRUZ, RAFAEL EDWARD TED</td>\n",
       "        <td>3310330</td>\n",
       "    </tr>\n",
       "    <tr>\n",
       "        <td>CARSON, BENJAMIN S SR MD</td>\n",
       "        <td>3291938</td>\n",
       "    </tr>\n",
       "    <tr>\n",
       "        <td>SANDERS, BERNARD</td>\n",
       "        <td>3135692</td>\n",
       "    </tr>\n",
       "    <tr>\n",
       "        <td>DEWHURST, DAVID H</td>\n",
       "        <td>2501335</td>\n",
       "    </tr>\n",
       "</table>"
      ],
      "text/plain": [
       "[('CRUZ, RAFAEL EDWARD \"TED\"', 20464749),\n",
       " ('CLINTON, HILLARY RODHAM / TIMOTHY MICHAEL KAINE', 16124458),\n",
       " ('RYAN, PAUL D.', 7905676),\n",
       " ('TRUMP, DONALD J. / MICHAEL R. PENCE ', 5763918),\n",
       " ('RUBIO, MARCO', 4998601),\n",
       " ('BUSH, JEB', 3904580),\n",
       " ('CRUZ, RAFAEL EDWARD TED', 3310330),\n",
       " ('CARSON, BENJAMIN S SR MD', 3291938),\n",
       " ('SANDERS, BERNARD', 3135692),\n",
       " ('DEWHURST, DAVID H', 2501335)]"
      ]
     },
     "execution_count": 70,
     "metadata": {},
     "output_type": "execute_result"
    }
   ],
   "source": [
    "%%sql \n",
    "SELECT cn.cand_name, SUM(indiv.transaction_amt) AS total_amt\n",
    "FROM individual AS indiv, ccl, cn\n",
    "WHERE indiv.cmte_id = ccl.cmte_id AND\n",
    "    ccl.cand_id = cn.cand_id AND\n",
    "    indiv.state = 'TX'\n",
    "GROUP BY cn.cand_name\n",
    "ORDER BY total_amt DESC\n",
    "LIMIT 10"
   ]
  },
  {
   "cell_type": "markdown",
   "metadata": {},
   "source": [
    "## Tracking Direct Committee Contributions"
   ]
  },
  {
   "cell_type": "code",
   "execution_count": 71,
   "metadata": {},
   "outputs": [
    {
     "name": "stdout",
     "output_type": "stream",
     "text": [
      "5 rows affected.\n"
     ]
    },
    {
     "data": {
      "text/html": [
       "<table>\n",
       "    <tr>\n",
       "        <th>cmte_nm</th>\n",
       "        <th>total_amt</th>\n",
       "    </tr>\n",
       "    <tr>\n",
       "        <td>PRIORITIES USA ACTION</td>\n",
       "        <td>133443133</td>\n",
       "    </tr>\n",
       "    <tr>\n",
       "        <td>DSCC</td>\n",
       "        <td>118795008</td>\n",
       "    </tr>\n",
       "    <tr>\n",
       "        <td>RIGHT TO RISE USA</td>\n",
       "        <td>86817138</td>\n",
       "    </tr>\n",
       "    <tr>\n",
       "        <td>SENATE LEADERSHIP FUND</td>\n",
       "        <td>85994270</td>\n",
       "    </tr>\n",
       "    <tr>\n",
       "        <td>DCCC</td>\n",
       "        <td>84368850</td>\n",
       "    </tr>\n",
       "</table>"
      ],
      "text/plain": [
       "[('PRIORITIES USA ACTION', 133443133),\n",
       " ('DSCC', 118795008),\n",
       " ('RIGHT TO RISE USA', 86817138),\n",
       " ('SENATE LEADERSHIP FUND', 85994270),\n",
       " ('DCCC', 84368850)]"
      ]
     },
     "execution_count": 71,
     "metadata": {},
     "output_type": "execute_result"
    }
   ],
   "source": [
    "%%sql \n",
    "\n",
    "SELECT cm.cmte_nm, SUM(transaction_amt) AS total_amt\n",
    "FROM pas, cm\n",
    "WHERE pas.cmte_id = cm.cmte_id\n",
    "GROUP BY cm.cmte_nm\n",
    "ORDER BY total_amt DESC\n",
    "LIMIT 5"
   ]
  },
  {
   "cell_type": "code",
   "execution_count": 72,
   "metadata": {},
   "outputs": [
    {
     "name": "stdout",
     "output_type": "stream",
     "text": [
      "5 rows affected.\n"
     ]
    },
    {
     "data": {
      "text/html": [
       "<table>\n",
       "    <tr>\n",
       "        <th>cand_name</th>\n",
       "        <th>total_amt</th>\n",
       "    </tr>\n",
       "    <tr>\n",
       "        <td>TRUMP, DONALD J. / MICHAEL R. PENCE </td>\n",
       "        <td>322303387</td>\n",
       "    </tr>\n",
       "    <tr>\n",
       "        <td>CLINTON, HILLARY RODHAM / TIMOTHY MICHAEL KAINE</td>\n",
       "        <td>191839266</td>\n",
       "    </tr>\n",
       "    <tr>\n",
       "        <td>BUSH, JEB</td>\n",
       "        <td>87255752</td>\n",
       "    </tr>\n",
       "    <tr>\n",
       "        <td>TOOMEY, PATRICK JOSEPH</td>\n",
       "        <td>73347997</td>\n",
       "    </tr>\n",
       "    <tr>\n",
       "        <td>AYOTTE, KELLY A</td>\n",
       "        <td>64513126</td>\n",
       "    </tr>\n",
       "</table>"
      ],
      "text/plain": [
       "[('TRUMP, DONALD J. / MICHAEL R. PENCE ', 322303387),\n",
       " ('CLINTON, HILLARY RODHAM / TIMOTHY MICHAEL KAINE', 191839266),\n",
       " ('BUSH, JEB', 87255752),\n",
       " ('TOOMEY, PATRICK JOSEPH', 73347997),\n",
       " ('AYOTTE, KELLY A', 64513126)]"
      ]
     },
     "execution_count": 72,
     "metadata": {},
     "output_type": "execute_result"
    }
   ],
   "source": [
    "%%sql \n",
    "\n",
    "SELECT cn.cand_name, SUM(transaction_amt) AS total_amt\n",
    "FROM pas, cn\n",
    "WHERE pas.cand_id = cn.cand_id\n",
    "GROUP BY cn.cand_name\n",
    "ORDER BY total_amt DESC\n",
    "LIMIT 5"
   ]
  },
  {
   "cell_type": "code",
   "execution_count": null,
   "metadata": {
    "collapsed": true
   },
   "outputs": [],
   "source": []
  }
 ],
 "metadata": {
  "kernelspec": {
   "display_name": "Python 3",
   "language": "python",
   "name": "python3"
  },
  "language_info": {
   "codemirror_mode": {
    "name": "ipython",
    "version": 3
   },
   "file_extension": ".py",
   "mimetype": "text/x-python",
   "name": "python",
   "nbconvert_exporter": "python",
   "pygments_lexer": "ipython3",
   "version": "3.6.1"
  },
  "toc": {
   "colors": {
    "hover_highlight": "#DAA520",
    "navigate_num": "#000000",
    "navigate_text": "#333333",
    "running_highlight": "#FF0000",
    "selected_highlight": "#FFD700",
    "sidebar_border": "#EEEEEE",
    "wrapper_background": "#FFFFFF"
   },
   "moveMenuLeft": true,
   "nav_menu": {
    "height": "498px",
    "width": "252px"
   },
   "navigate_menu": true,
   "number_sections": true,
   "sideBar": true,
   "threshold": 4,
   "toc_cell": false,
   "toc_section_display": "block",
   "toc_window_display": false,
   "widenNotebook": false
  }
 },
 "nbformat": 4,
 "nbformat_minor": 2
}
