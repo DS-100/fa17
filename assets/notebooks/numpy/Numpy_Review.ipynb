{
 "cells": [
  {
   "cell_type": "code",
   "execution_count": 1,
   "metadata": {
    "collapsed": true
   },
   "outputs": [],
   "source": [
    "# Standard imports\n",
    "import matplotlib.pyplot as plt\n",
    "%matplotlib inline\n",
    "import seaborn as sns\n",
    "sns.set_context(\"talk\")"
   ]
  },
  {
   "cell_type": "markdown",
   "metadata": {},
   "source": [
    "# Numpy Review\n",
    "\n",
    "This is a brief overview of numpy for [DS100](http://ds100.org).  The Jupyter Notebook can be obtained here: [Numpy_Review.ipynb](http://ds100.org/fa17/assets/notebooks/numpy/Numpy_Review.ipynb)."
   ]
  },
  {
   "cell_type": "markdown",
   "metadata": {},
   "source": [
    "# Importing Numpy"
   ]
  },
  {
   "cell_type": "markdown",
   "metadata": {},
   "source": [
    "It is customary to import Numpy as `np`:"
   ]
  },
  {
   "cell_type": "code",
   "execution_count": 2,
   "metadata": {
    "collapsed": true
   },
   "outputs": [],
   "source": [
    "import numpy as np"
   ]
  },
  {
   "cell_type": "markdown",
   "metadata": {},
   "source": [
    "As you learned in homework one the `np.array` is the key data structure in numpy for dense arrays of data."
   ]
  },
  {
   "cell_type": "markdown",
   "metadata": {},
   "source": [
    "# Creating Arrays"
   ]
  },
  {
   "cell_type": "markdown",
   "metadata": {},
   "source": [
    "You can build arrays from python lists. \n",
    "**Data 8 Compatibility:** In data8 you used a `datascience` package function called `make_array` which wraps the more standard `np.array` function we will use in this class."
   ]
  },
  {
   "cell_type": "code",
   "execution_count": 3,
   "metadata": {},
   "outputs": [
    {
     "data": {
      "text/plain": [
       "array([[ 1.,  2.],\n",
       "       [ 3.,  4.]])"
      ]
     },
     "execution_count": 3,
     "metadata": {},
     "output_type": "execute_result"
    }
   ],
   "source": [
    "np.array([[1.,2.], [3.,4.]])"
   ]
  },
  {
   "cell_type": "code",
   "execution_count": 4,
   "metadata": {},
   "outputs": [
    {
     "data": {
      "text/plain": [
       "array([0, 1, 2, 3, 4])"
      ]
     },
     "execution_count": 4,
     "metadata": {},
     "output_type": "execute_result"
    }
   ],
   "source": [
    "np.array([x for x in range(5)])"
   ]
  },
  {
   "cell_type": "markdown",
   "metadata": {},
   "source": [
    "Array's don't have to contain numbers:"
   ]
  },
  {
   "cell_type": "code",
   "execution_count": 5,
   "metadata": {},
   "outputs": [
    {
     "data": {
      "text/plain": [
       "array([['A', 'matrix'],\n",
       "       ['of', 'words.']], \n",
       "      dtype='<U6')"
      ]
     },
     "execution_count": 5,
     "metadata": {},
     "output_type": "execute_result"
    }
   ],
   "source": [
    "np.array([[\"A\", \"matrix\"], [\"of\", \"words.\"]])"
   ]
  },
  {
   "cell_type": "markdown",
   "metadata": {},
   "source": [
    "## Making Arrays of Zeros"
   ]
  },
  {
   "cell_type": "code",
   "execution_count": 6,
   "metadata": {},
   "outputs": [
    {
     "data": {
      "text/plain": [
       "array([ 0.,  0.,  0.,  0.,  0.])"
      ]
     },
     "execution_count": 6,
     "metadata": {},
     "output_type": "execute_result"
    }
   ],
   "source": [
    "np.zeros(5)"
   ]
  },
  {
   "cell_type": "markdown",
   "metadata": {},
   "source": [
    "## Making Arrays of Ones"
   ]
  },
  {
   "cell_type": "code",
   "execution_count": 7,
   "metadata": {},
   "outputs": [
    {
     "data": {
      "text/plain": [
       "array([[ 1.,  1.],\n",
       "       [ 1.,  1.],\n",
       "       [ 1.,  1.]])"
      ]
     },
     "execution_count": 7,
     "metadata": {},
     "output_type": "execute_result"
    }
   ],
   "source": [
    "np.ones([3,2])"
   ]
  },
  {
   "cell_type": "code",
   "execution_count": 8,
   "metadata": {},
   "outputs": [
    {
     "data": {
      "text/plain": [
       "array([[ 1.,  0.,  0.,  0.],\n",
       "       [ 0.,  1.,  0.,  0.],\n",
       "       [ 0.,  0.,  1.,  0.],\n",
       "       [ 0.,  0.,  0.,  1.]])"
      ]
     },
     "execution_count": 8,
     "metadata": {},
     "output_type": "execute_result"
    }
   ],
   "source": [
    "np.eye(4)"
   ]
  },
  {
   "cell_type": "markdown",
   "metadata": {},
   "source": [
    "## Making Arrays from ranges:\n",
    "\n",
    "The `np.arange(start, stop, step)` function is like the python `range` function."
   ]
  },
  {
   "cell_type": "code",
   "execution_count": 9,
   "metadata": {},
   "outputs": [
    {
     "data": {
      "text/plain": [
       "array([0, 2, 4, 6, 8])"
      ]
     },
     "execution_count": 9,
     "metadata": {},
     "output_type": "execute_result"
    }
   ],
   "source": [
    "np.arange(0, 10, 2)"
   ]
  },
  {
   "cell_type": "markdown",
   "metadata": {},
   "source": [
    "You can make a range of other types as well:"
   ]
  },
  {
   "cell_type": "code",
   "execution_count": 10,
   "metadata": {},
   "outputs": [
    {
     "data": {
      "text/plain": [
       "array(['2016-12-31', '2017-01-01', '2017-01-02', '2017-01-03',\n",
       "       '2017-01-04', '2017-01-05', '2017-01-06', '2017-01-07',\n",
       "       '2017-01-08', '2017-01-09', '2017-01-10', '2017-01-11',\n",
       "       '2017-01-12', '2017-01-13', '2017-01-14', '2017-01-15',\n",
       "       '2017-01-16', '2017-01-17', '2017-01-18', '2017-01-19',\n",
       "       '2017-01-20', '2017-01-21', '2017-01-22', '2017-01-23',\n",
       "       '2017-01-24', '2017-01-25', '2017-01-26', '2017-01-27',\n",
       "       '2017-01-28', '2017-01-29', '2017-01-30', '2017-01-31'], dtype='datetime64[D]')"
      ]
     },
     "execution_count": 10,
     "metadata": {},
     "output_type": "execute_result"
    }
   ],
   "source": [
    "np.arange(np.datetime64('2016-12-31'), np.datetime64('2017-02-01'))"
   ]
  },
  {
   "cell_type": "markdown",
   "metadata": {},
   "source": [
    "## Interpolating numbers \n",
    "\n",
    "The `linspace(start,end,num)` function generates `num` numbers evenly spaced between the `start` and `end`."
   ]
  },
  {
   "cell_type": "code",
   "execution_count": 11,
   "metadata": {},
   "outputs": [
    {
     "data": {
      "text/plain": [
       "array([ 0.        ,  0.55555556,  1.11111111,  1.66666667,  2.22222222,\n",
       "        2.77777778,  3.33333333,  3.88888889,  4.44444444,  5.        ])"
      ]
     },
     "execution_count": 11,
     "metadata": {},
     "output_type": "execute_result"
    }
   ],
   "source": [
    "np.linspace(0, 5, 10)"
   ]
  },
  {
   "cell_type": "markdown",
   "metadata": {},
   "source": [
    "Learn more about working with [datetime objects](https://docs.scipy.org/doc/numpy/reference/arrays.datetime.html#)."
   ]
  },
  {
   "cell_type": "markdown",
   "metadata": {},
   "source": [
    "## A random array \n",
    "\n",
    "You can also generate arrays of random numbers (we will cover this in greater detail later).\n",
    "\n",
    "- `randn` generates random numbers from a Normal(mean=0, var=1) distribution.\n",
    "- `rand` generates random numbers from a Uniform(low=0, high=1) distribution.\n",
    "- `permutation` generates a random permutation of a sequence of numbers."
   ]
  },
  {
   "cell_type": "code",
   "execution_count": 12,
   "metadata": {},
   "outputs": [
    {
     "data": {
      "text/plain": [
       "array([[ 0.3601399 ,  1.31206686],\n",
       "       [-0.95112397,  0.62475726],\n",
       "       [-1.24179768,  1.63392069]])"
      ]
     },
     "execution_count": 12,
     "metadata": {},
     "output_type": "execute_result"
    }
   ],
   "source": [
    "np.random.randn(3,2)"
   ]
  },
  {
   "cell_type": "code",
   "execution_count": 13,
   "metadata": {},
   "outputs": [
    {
     "data": {
      "text/plain": [
       "array([[ 0.2703233 ,  0.26231929],\n",
       "       [ 0.44311229,  0.06318871],\n",
       "       [ 0.31311525,  0.40825175]])"
      ]
     },
     "execution_count": 13,
     "metadata": {},
     "output_type": "execute_result"
    }
   ],
   "source": [
    "np.random.rand(3,2)"
   ]
  },
  {
   "cell_type": "code",
   "execution_count": 14,
   "metadata": {},
   "outputs": [
    {
     "data": {
      "text/plain": [
       "array([4, 2, 5, 9, 1, 0, 8, 3, 6, 7])"
      ]
     },
     "execution_count": 14,
     "metadata": {},
     "output_type": "execute_result"
    }
   ],
   "source": [
    "np.random.permutation(range(0,10))"
   ]
  },
  {
   "cell_type": "markdown",
   "metadata": {},
   "source": [
    "\n",
    "# Properties of Arrays"
   ]
  },
  {
   "cell_type": "markdown",
   "metadata": {},
   "source": [
    "## Shape\n",
    "\n",
    "Arrays have a shape which corresponds to the number of rows, columns, fibers, ..."
   ]
  },
  {
   "cell_type": "code",
   "execution_count": 15,
   "metadata": {},
   "outputs": [
    {
     "name": "stdout",
     "output_type": "stream",
     "text": [
      "[[ 1.  2.  3.]\n",
      " [ 4.  5.  6.]]\n"
     ]
    },
    {
     "data": {
      "text/plain": [
       "(2, 3)"
      ]
     },
     "execution_count": 15,
     "metadata": {},
     "output_type": "execute_result"
    }
   ],
   "source": [
    "A = np.array([[1., 2., 3.], [4., 5., 6.]])\n",
    "print(A)\n",
    "A.shape"
   ]
  },
  {
   "cell_type": "markdown",
   "metadata": {},
   "source": [
    "## Type\n",
    "\n",
    "Arrays have a type which corresponds to the type of data they contain"
   ]
  },
  {
   "cell_type": "code",
   "execution_count": 16,
   "metadata": {},
   "outputs": [
    {
     "data": {
      "text/plain": [
       "dtype('float64')"
      ]
     },
     "execution_count": 16,
     "metadata": {},
     "output_type": "execute_result"
    }
   ],
   "source": [
    "A.dtype"
   ]
  },
  {
   "cell_type": "code",
   "execution_count": 17,
   "metadata": {},
   "outputs": [
    {
     "data": {
      "text/plain": [
       "dtype('int64')"
      ]
     },
     "execution_count": 17,
     "metadata": {},
     "output_type": "execute_result"
    }
   ],
   "source": [
    "np.arange(1,5).dtype"
   ]
  },
  {
   "cell_type": "code",
   "execution_count": 18,
   "metadata": {},
   "outputs": [
    {
     "data": {
      "text/plain": [
       "dtype('bool')"
      ]
     },
     "execution_count": 18,
     "metadata": {},
     "output_type": "execute_result"
    }
   ],
   "source": [
    "(np.array([True, False])).dtype"
   ]
  },
  {
   "cell_type": "code",
   "execution_count": 19,
   "metadata": {},
   "outputs": [
    {
     "data": {
      "text/plain": [
       "dtype('<U10')"
      ]
     },
     "execution_count": 19,
     "metadata": {},
     "output_type": "execute_result"
    }
   ],
   "source": [
    "np.array([\"Hello\", \"Worlddddd!\"]).dtype"
   ]
  },
  {
   "cell_type": "markdown",
   "metadata": {
    "solution2": "hidden",
    "solution2_first": true
   },
   "source": [
    "What does `<U6` mean?"
   ]
  },
  {
   "cell_type": "markdown",
   "metadata": {
    "solution2": "hidden"
   },
   "source": [
    "- `<` Little Endian\n",
    "- `U` Unicode\n",
    "- `6` length of longest string"
   ]
  },
  {
   "cell_type": "markdown",
   "metadata": {},
   "source": [
    "#### and we can change the type of an array:"
   ]
  },
  {
   "cell_type": "code",
   "execution_count": 20,
   "metadata": {},
   "outputs": [
    {
     "data": {
      "text/plain": [
       "array([ 1.,  2.,  3.])"
      ]
     },
     "execution_count": 20,
     "metadata": {},
     "output_type": "execute_result"
    }
   ],
   "source": [
    "np.array([1,2,3]).astype(float)"
   ]
  },
  {
   "cell_type": "code",
   "execution_count": 21,
   "metadata": {},
   "outputs": [
    {
     "data": {
      "text/plain": [
       "array([1, 2, 3])"
      ]
     },
     "execution_count": 21,
     "metadata": {},
     "output_type": "execute_result"
    }
   ],
   "source": [
    "np.array([\"1\",\"2\",\"3\"]).astype(int)"
   ]
  },
  {
   "cell_type": "markdown",
   "metadata": {},
   "source": [
    "Learn more about numpy [array types](https://docs.scipy.org/doc/numpy/user/basics.types.html)"
   ]
  },
  {
   "cell_type": "markdown",
   "metadata": {},
   "source": [
    "## Polymorphism \n",
    "\n",
    "Can an array have more than one type?"
   ]
  },
  {
   "cell_type": "code",
   "execution_count": 22,
   "metadata": {},
   "outputs": [
    {
     "data": {
      "text/plain": [
       "array(['1', '2', '3', 'cat', 'True'], \n",
       "      dtype='<U21')"
      ]
     },
     "execution_count": 22,
     "metadata": {},
     "output_type": "execute_result"
    }
   ],
   "source": [
    "np.array([1,2,3, \"cat\", True])"
   ]
  },
  {
   "cell_type": "markdown",
   "metadata": {
    "solution2": "hidden",
    "solution2_first": true
   },
   "source": [
    "Does the following command work:\n",
    "```python\n",
    "x = np.array([1,2,3,4])\n",
    "x[3] = \"cat\"\n",
    "```"
   ]
  },
  {
   "cell_type": "code",
   "execution_count": 23,
   "metadata": {
    "collapsed": true,
    "solution2": "hidden"
   },
   "outputs": [],
   "source": [
    "x = np.array([1,2,3,4])\n",
    "# x[3] = \"cat\" # <-- uncomment this line to find out"
   ]
  },
  {
   "cell_type": "markdown",
   "metadata": {},
   "source": [
    "\n",
    "# Jagged Arrays"
   ]
  },
  {
   "cell_type": "markdown",
   "metadata": {
    "solution2": "hidden",
    "solution2_first": true
   },
   "source": [
    "Is the following valid?\n",
    "\n",
    "```python\n",
    "A = np.array([[1, 2, 3], [4, 5], [6]])\n",
    "```"
   ]
  },
  {
   "cell_type": "code",
   "execution_count": 24,
   "metadata": {
    "solution2": "hidden"
   },
   "outputs": [
    {
     "data": {
      "text/plain": [
       "array([[1, 2, 3], [4, 5], [6]], dtype=object)"
      ]
     },
     "execution_count": 24,
     "metadata": {},
     "output_type": "execute_result"
    }
   ],
   "source": [
    "A = np.array([[1, 2, 3], [4, 5], [6]])\n",
    "A"
   ]
  },
  {
   "cell_type": "markdown",
   "metadata": {
    "solution2": "hidden"
   },
   "source": [
    "What happened? "
   ]
  },
  {
   "cell_type": "code",
   "execution_count": 25,
   "metadata": {
    "solution2": "hidden"
   },
   "outputs": [
    {
     "data": {
      "text/plain": [
       "(3,)"
      ]
     },
     "execution_count": 25,
     "metadata": {},
     "output_type": "execute_result"
    }
   ],
   "source": [
    "A.shape"
   ]
  },
  {
   "cell_type": "code",
   "execution_count": 26,
   "metadata": {
    "solution2": "hidden"
   },
   "outputs": [
    {
     "name": "stdout",
     "output_type": "stream",
     "text": [
      "object\n"
     ]
    }
   ],
   "source": [
    "print(A.dtype)"
   ]
  },
  {
   "cell_type": "code",
   "execution_count": 27,
   "metadata": {
    "solution2": "hidden"
   },
   "outputs": [
    {
     "name": "stdout",
     "output_type": "stream",
     "text": [
      "[1, 2, 3]\n",
      "[4, 5]\n",
      "[6]\n"
     ]
    }
   ],
   "source": [
    "print(A[0])\n",
    "print(A[1])\n",
    "print(A[2])"
   ]
  },
  {
   "cell_type": "markdown",
   "metadata": {},
   "source": [
    "### Issues with Jagged Arrays"
   ]
  },
  {
   "cell_type": "markdown",
   "metadata": {},
   "source": [
    " <img src=\"http://csharpcorner.mindcrackerinc.netdna-cdn.com/UploadFile/955025/C-Sharp-interview-question-part2/Images/jagged%20array.png\">\n",
    "\n",
    "### Jagged arrays can be problematic:\n",
    "\n",
    "1. Difficult to index (extract columns).\n",
    "```python\n",
    "A[0,1] \n",
    " > Error\n",
    "A[0][1] \n",
    " > 2\n",
    "```\n",
    "1. Not as efficiently represented in contiguous memory."
   ]
  },
  {
   "cell_type": "markdown",
   "metadata": {},
   "source": [
    "# Reshaping"
   ]
  },
  {
   "cell_type": "markdown",
   "metadata": {},
   "source": [
    "Often you will need to reshape matrices.  Suppose you have the following array:"
   ]
  },
  {
   "cell_type": "code",
   "execution_count": 28,
   "metadata": {},
   "outputs": [
    {
     "data": {
      "text/plain": [
       "array([ 1,  2,  3,  4,  5,  6,  7,  8,  9, 10, 11, 12])"
      ]
     },
     "execution_count": 28,
     "metadata": {},
     "output_type": "execute_result"
    }
   ],
   "source": [
    "np.arange(1,13)"
   ]
  },
  {
   "cell_type": "markdown",
   "metadata": {
    "solution2": "hidden",
    "solution2_first": true
   },
   "source": [
    "**What will the following produce:**\n",
    "\n",
    "```python\n",
    "np.arange(1,13).reshape(4,3)\n",
    "```\n",
    "\n",
    "**Option A:**\n",
    "\n",
    "```python\n",
    "array([[ 1,  2,  3],\n",
    "       [ 4,  5,  6],\n",
    "       [ 7,  8,  9],\n",
    "       [10, 11, 12]])\n",
    "```\n",
    "\n",
    "**Option B:**\n",
    "\n",
    "```python\n",
    "array([[ 1,  5,  9],\n",
    "       [ 2,  6, 10],\n",
    "       [ 3,  7, 11],\n",
    "       [ 4,  8, 12]])\n",
    "```"
   ]
  },
  {
   "cell_type": "markdown",
   "metadata": {
    "solution2": "hidden"
   },
   "source": [
    "**Solution**"
   ]
  },
  {
   "cell_type": "code",
   "execution_count": 29,
   "metadata": {
    "solution2": "hidden"
   },
   "outputs": [
    {
     "data": {
      "text/plain": [
       "array([[ 1,  2,  3],\n",
       "       [ 4,  5,  6],\n",
       "       [ 7,  8,  9],\n",
       "       [10, 11, 12]])"
      ]
     },
     "execution_count": 29,
     "metadata": {},
     "output_type": "execute_result"
    }
   ],
   "source": [
    "A = np.arange(1,13).reshape(4,3)\n",
    "A"
   ]
  },
  {
   "cell_type": "markdown",
   "metadata": {},
   "source": [
    "## Flatting Matrix\n",
    "\n",
    "Flattening a matrix (higher dimensional array) produces a one dimensional array."
   ]
  },
  {
   "cell_type": "code",
   "execution_count": 30,
   "metadata": {},
   "outputs": [
    {
     "data": {
      "text/plain": [
       "array([ 1,  2,  3,  4,  5,  6,  7,  8,  9, 10, 11, 12])"
      ]
     },
     "execution_count": 30,
     "metadata": {},
     "output_type": "execute_result"
    }
   ],
   "source": [
    "A.flatten()"
   ]
  },
  {
   "cell_type": "markdown",
   "metadata": {},
   "source": [
    "# Advanced: Array representation"
   ]
  },
  {
   "cell_type": "markdown",
   "metadata": {},
   "source": [
    "Numpy stores data contiguously in memory"
   ]
  },
  {
   "cell_type": "code",
   "execution_count": 31,
   "metadata": {},
   "outputs": [
    {
     "name": "stdout",
     "output_type": "stream",
     "text": [
      "int64\n"
     ]
    },
    {
     "data": {
      "text/plain": [
       "b'\\x01\\x00\\x00\\x00\\x00\\x00\\x00\\x00\\x02\\x00\\x00\\x00\\x00\\x00\\x00\\x00\\x03\\x00\\x00\\x00\\x00\\x00\\x00\\x00\\x04\\x00\\x00\\x00\\x00\\x00\\x00\\x00\\x05\\x00\\x00\\x00\\x00\\x00\\x00\\x00\\x06\\x00\\x00\\x00\\x00\\x00\\x00\\x00\\x07\\x00\\x00\\x00\\x00\\x00\\x00\\x00\\x08\\x00\\x00\\x00\\x00\\x00\\x00\\x00\\t\\x00\\x00\\x00\\x00\\x00\\x00\\x00\\n\\x00\\x00\\x00\\x00\\x00\\x00\\x00\\x0b\\x00\\x00\\x00\\x00\\x00\\x00\\x00\\x0c\\x00\\x00\\x00\\x00\\x00\\x00\\x00'"
      ]
     },
     "execution_count": 31,
     "metadata": {},
     "output_type": "execute_result"
    }
   ],
   "source": [
    "print(A.dtype)\n",
    "A.data.tobytes()"
   ]
  },
  {
   "cell_type": "markdown",
   "metadata": {},
   "source": [
    "Numpy stores matrices in _row-major_ order (by rows)"
   ]
  },
  {
   "cell_type": "code",
   "execution_count": 32,
   "metadata": {},
   "outputs": [
    {
     "name": "stdout",
     "output_type": "stream",
     "text": [
      "[[ 1  2  3]\n",
      " [ 4  5  6]\n",
      " [ 7  8  9]\n",
      " [10 11 12]]\n",
      "\n",
      "[[ 1  5  9]\n",
      " [ 2  6 10]\n",
      " [ 3  7 11]\n",
      " [ 4  8 12]]\n"
     ]
    }
   ],
   "source": [
    "print(np.arange(1,13).reshape(4,3, order='C'))\n",
    "print()\n",
    "print(np.arange(1,13).reshape(4,3, order='F'))"
   ]
  },
  {
   "cell_type": "markdown",
   "metadata": {
    "solution2": "hidden",
    "solution2_first": true
   },
   "source": [
    "What does the `'F'` mean?"
   ]
  },
  {
   "cell_type": "markdown",
   "metadata": {
    "solution2": "hidden"
   },
   "source": [
    "**F**ortran ordering.  In BLAS libraries are specified for Fortran and C programming languages which differ both in the column (Fortran) or row (C) indexing."
   ]
  },
  {
   "cell_type": "markdown",
   "metadata": {},
   "source": [
    "# Slicing\n",
    "\n",
    "From homework 1 you should already be pretty good at Slicing so let's test your slicing knowledge."
   ]
  },
  {
   "cell_type": "markdown",
   "metadata": {},
   "source": [
    "<img src=\"guessing_game.png\" width=\"600px\">"
   ]
  },
  {
   "cell_type": "markdown",
   "metadata": {},
   "source": [
    "* **Program 1:**\n",
    "```python\n",
    "x[:, 0]\n",
    "```\n",
    "<details>\n",
    "<summary>**Answer**</summary>\n",
    "<p>B</p>\n",
    "</details>\n",
    "\n",
    "<br/>\n",
    "\n",
    "* **Program 2:**\n",
    "```python\n",
    "x[0, :]\n",
    "```\n",
    "<details>\n",
    "<summary>**Answer**</summary>\n",
    "<p>A</p>\n",
    "</details>\n",
    "\n",
    "<br/>\n",
    "\n",
    "* **Program 3:**\n",
    "```python\n",
    "x[:2, 1:]\n",
    "```\n",
    "<details>\n",
    "<summary>**Answer**</summary>\n",
    "<p>H</p>\n",
    "</details>\n",
    "\n",
    "<br/>\n",
    "\n",
    "* **Program 4:**\n",
    "```python\n",
    "x[0::2, :]\n",
    "```\n",
    "<details>\n",
    "<summary>**Answer**</summary>\n",
    "<p>D</p>\n",
    "</details>\n",
    "\n",
    "\n",
    "\n",
    "<img src=\"guessing_game.png\" width=\"600px\">\n"
   ]
  },
  {
   "cell_type": "markdown",
   "metadata": {},
   "source": [
    "Understanding the slice syntax\n",
    "\n",
    "```python\n",
    "begin:end:stride\n",
    "```\n"
   ]
  },
  {
   "cell_type": "markdown",
   "metadata": {},
   "source": [
    "## Modifying a Slice"
   ]
  },
  {
   "cell_type": "markdown",
   "metadata": {},
   "source": [
    "Suppose I wanted to make all entries in my matrix 0 in the top right corner as in (H) above."
   ]
  },
  {
   "cell_type": "code",
   "execution_count": 33,
   "metadata": {},
   "outputs": [
    {
     "name": "stdout",
     "output_type": "stream",
     "text": [
      "Before:\n",
      " [[ 1  2  3]\n",
      " [ 4  5  6]\n",
      " [ 7  8  9]\n",
      " [10 11 12]]\n"
     ]
    }
   ],
   "source": [
    "H = np.arange(1,13).reshape(4,3)\n",
    "print(\"Before:\\n\", H)"
   ]
  },
  {
   "cell_type": "code",
   "execution_count": 34,
   "metadata": {},
   "outputs": [
    {
     "name": "stdout",
     "output_type": "stream",
     "text": [
      "After:\n",
      " [[ 1  0  0]\n",
      " [ 4  0  0]\n",
      " [ 7  8  9]\n",
      " [10 11 12]]\n"
     ]
    }
   ],
   "source": [
    "H[:2, 1:] = 0\n",
    "print(\"After:\\n\", H)"
   ]
  },
  {
   "cell_type": "markdown",
   "metadata": {},
   "source": [
    "# Boolean Indexing"
   ]
  },
  {
   "cell_type": "markdown",
   "metadata": {},
   "source": [
    "We can apply boolean operations to arrays.  This is essential when trying to select and modify individual elements."
   ]
  },
  {
   "cell_type": "markdown",
   "metadata": {
    "solution2": "hidden",
    "solution2_first": true
   },
   "source": [
    "\n",
    "**Question:** *Given the following definition of A:*\n",
    "\n",
    "```python\n",
    "[[   1.    2.    3.]\n",
    " [   4.    5. -999.]\n",
    " [   7.    8.    9.]\n",
    " [  10. -999. -999.]]\n",
    "```\n",
    "\n",
    "*what will the following output:*\n",
    "```python\n",
    "A > 3\n",
    "```\n",
    "\n",
    "\n",
    "- **Option A:**\n",
    "\n",
    "```python\n",
    "False\n",
    "```\n",
    "\n",
    "- **Option B:**\n",
    "\n",
    "```python\n",
    "array([[False, False, False],\n",
    "       [ True,  True, False],\n",
    "       [ True,  True,  True],\n",
    "       [ True, False, False]], dtype=bool)\n",
    "```"
   ]
  },
  {
   "cell_type": "code",
   "execution_count": 35,
   "metadata": {
    "solution2": "hidden"
   },
   "outputs": [
    {
     "data": {
      "text/plain": [
       "array([[False, False, False],\n",
       "       [ True,  True, False],\n",
       "       [ True,  True,  True],\n",
       "       [ True, False, False]], dtype=bool)"
      ]
     },
     "execution_count": 35,
     "metadata": {},
     "output_type": "execute_result"
    }
   ],
   "source": [
    "A = np.array([[  1.,   2.,   3.],\n",
    "       [  4.,   5.,   -999.0],\n",
    "       [  7.,   8.,   9.],\n",
    "       [ 10.,  -999.0,  -999.0]])\n",
    "\n",
    "A > 3."
   ]
  },
  {
   "cell_type": "markdown",
   "metadata": {
    "solution2": "hidden",
    "solution2_first": true
   },
   "source": [
    "**Question:** *What will the following output*\n",
    "```python\n",
    "A = np.array([[   1.,    2.,    3.],\n",
    "       [   4.,    5., -999.],\n",
    "       [   7.,    8.,    9.],\n",
    "       [  10., -999., -999.]])\n",
    "\n",
    "A[A > 3]\n",
    "```\n",
    "\n",
    "\n",
    "- **Option A:**\n",
    "\n",
    "```python\n",
    "array([ 4,  7, 10,  5,  8, 11,  6,  9, 12])\n",
    "```\n",
    "\n",
    "- **Option B:**\n",
    "\n",
    "```python\n",
    "array([  4.,   5.,   7.,   8.,   9.,  10.])\n",
    "```\n",
    "\n",
    "\n",
    "- **Option C:**\n",
    "\n",
    "```python\n",
    "array([[  nan,   nan,  nan],\n",
    "       [  4.,    5.,   nan],\n",
    "       [  7.,    8.,   9.],\n",
    "       [ 10.,    nan,  nan]])\n",
    "```"
   ]
  },
  {
   "cell_type": "code",
   "execution_count": 36,
   "metadata": {
    "solution2": "hidden"
   },
   "outputs": [
    {
     "data": {
      "text/plain": [
       "array([  4.,   5.,   7.,   8.,   9.,  10.])"
      ]
     },
     "execution_count": 36,
     "metadata": {},
     "output_type": "execute_result"
    }
   ],
   "source": [
    "A = np.array([[  1.,   2.,   3.],\n",
    "       [  4.,   5.,   -999.0],\n",
    "       [  7.,   8.,   9.],\n",
    "       [ 10.,  -999.0,  -999.0]])\n",
    "\n",
    "A[A > 3] "
   ]
  },
  {
   "cell_type": "markdown",
   "metadata": {
    "solution2": "hidden",
    "solution2_first": true
   },
   "source": [
    "**Question:** *Replace the -999.0 entries with `np.nan`.*\n",
    "\n",
    "```python\n",
    "array([[   1.,    2.,    3.],\n",
    "       [   4.,    5., -999.],\n",
    "       [   7.,    8.,    9.],\n",
    "       [  10., -999., -999.]])\n",
    "```"
   ]
  },
  {
   "cell_type": "markdown",
   "metadata": {
    "solution2": "hidden"
   },
   "source": [
    "**Solution**"
   ]
  },
  {
   "cell_type": "code",
   "execution_count": 37,
   "metadata": {
    "collapsed": true,
    "solution2": "hidden"
   },
   "outputs": [],
   "source": [
    "A = np.array([[  1.,   2.,   3.],\n",
    "       [  4.,   5.,   -999.0],\n",
    "       [  7.,   8.,   9.],\n",
    "       [ 10.,  -999.0,  -999.0]])"
   ]
  },
  {
   "cell_type": "markdown",
   "metadata": {
    "solution2": "hidden"
   },
   "source": [
    "* Construct a boolean array that indicates where the value is 999.0:"
   ]
  },
  {
   "cell_type": "code",
   "execution_count": 38,
   "metadata": {
    "solution2": "hidden"
   },
   "outputs": [
    {
     "name": "stdout",
     "output_type": "stream",
     "text": [
      "[[False False False]\n",
      " [False False  True]\n",
      " [False False False]\n",
      " [False  True  True]]\n"
     ]
    }
   ],
   "source": [
    "ind = (A == -999.0)\n",
    "print(ind)"
   ]
  },
  {
   "cell_type": "markdown",
   "metadata": {
    "solution2": "hidden"
   },
   "source": [
    "* Assign `np.nan` to all the `True` entires:"
   ]
  },
  {
   "cell_type": "code",
   "execution_count": 39,
   "metadata": {
    "solution2": "hidden"
   },
   "outputs": [
    {
     "data": {
      "text/plain": [
       "array([[  1.,   2.,   3.],\n",
       "       [  4.,   5.,  nan],\n",
       "       [  7.,   8.,   9.],\n",
       "       [ 10.,  nan,  nan]])"
      ]
     },
     "execution_count": 39,
     "metadata": {},
     "output_type": "execute_result"
    }
   ],
   "source": [
    "A[ind] = np.nan\n",
    "A"
   ]
  },
  {
   "cell_type": "markdown",
   "metadata": {
    "solution2": "hidden",
    "solution2_first": true
   },
   "source": [
    "**Question:** *What might -999.0 represent?  Why might I want to replace the -999.0 with a `np.nan`?  *"
   ]
  },
  {
   "cell_type": "markdown",
   "metadata": {
    "solution2": "hidden"
   },
   "source": [
    "**Solution:** It could be safer in calculations.  For example when computing the mean of the transformed A we get:"
   ]
  },
  {
   "cell_type": "code",
   "execution_count": 40,
   "metadata": {
    "solution2": "hidden"
   },
   "outputs": [
    {
     "name": "stdout",
     "output_type": "stream",
     "text": [
      "[[  1.   2.   3.]\n",
      " [  4.   5.  nan]\n",
      " [  7.   8.   9.]\n",
      " [ 10.  nan  nan]]\n"
     ]
    },
    {
     "data": {
      "text/plain": [
       "nan"
      ]
     },
     "execution_count": 40,
     "metadata": {},
     "output_type": "execute_result"
    }
   ],
   "source": [
    "print(A)\n",
    "np.mean(A)"
   ]
  },
  {
   "cell_type": "markdown",
   "metadata": {
    "solution2": "hidden"
   },
   "source": [
    "Perhaps instead we want:"
   ]
  },
  {
   "cell_type": "code",
   "execution_count": 41,
   "metadata": {
    "solution2": "hidden"
   },
   "outputs": [
    {
     "data": {
      "text/plain": [
       "5.4444444444444446"
      ]
     },
     "execution_count": 41,
     "metadata": {},
     "output_type": "execute_result"
    }
   ],
   "source": [
    "np.nanmean(A)"
   ]
  },
  {
   "cell_type": "code",
   "execution_count": 42,
   "metadata": {
    "solution2": "hidden"
   },
   "outputs": [
    {
     "name": "stdout",
     "output_type": "stream",
     "text": [
      "Help on function nanmean in module numpy.lib.nanfunctions:\n",
      "\n",
      "nanmean(a, axis=None, dtype=None, out=None, keepdims=<class 'numpy._globals._NoValue'>)\n",
      "    Compute the arithmetic mean along the specified axis, ignoring NaNs.\n",
      "    \n",
      "    Returns the average of the array elements.  The average is taken over\n",
      "    the flattened array by default, otherwise over the specified axis.\n",
      "    `float64` intermediate and return values are used for integer inputs.\n",
      "    \n",
      "    For all-NaN slices, NaN is returned and a `RuntimeWarning` is raised.\n",
      "    \n",
      "    .. versionadded:: 1.8.0\n",
      "    \n",
      "    Parameters\n",
      "    ----------\n",
      "    a : array_like\n",
      "        Array containing numbers whose mean is desired. If `a` is not an\n",
      "        array, a conversion is attempted.\n",
      "    axis : int, optional\n",
      "        Axis along which the means are computed. The default is to compute\n",
      "        the mean of the flattened array.\n",
      "    dtype : data-type, optional\n",
      "        Type to use in computing the mean.  For integer inputs, the default\n",
      "        is `float64`; for inexact inputs, it is the same as the input\n",
      "        dtype.\n",
      "    out : ndarray, optional\n",
      "        Alternate output array in which to place the result.  The default\n",
      "        is ``None``; if provided, it must have the same shape as the\n",
      "        expected output, but the type will be cast if necessary.  See\n",
      "        `doc.ufuncs` for details.\n",
      "    keepdims : bool, optional\n",
      "        If this is set to True, the axes which are reduced are left\n",
      "        in the result as dimensions with size one. With this option,\n",
      "        the result will broadcast correctly against the original `a`.\n",
      "    \n",
      "        If the value is anything but the default, then\n",
      "        `keepdims` will be passed through to the `mean` or `sum` methods\n",
      "        of sub-classes of `ndarray`.  If the sub-classes methods\n",
      "        does not implement `keepdims` any exceptions will be raised.\n",
      "    \n",
      "    Returns\n",
      "    -------\n",
      "    m : ndarray, see dtype parameter above\n",
      "        If `out=None`, returns a new array containing the mean values,\n",
      "        otherwise a reference to the output array is returned. Nan is\n",
      "        returned for slices that contain only NaNs.\n",
      "    \n",
      "    See Also\n",
      "    --------\n",
      "    average : Weighted average\n",
      "    mean : Arithmetic mean taken while not ignoring NaNs\n",
      "    var, nanvar\n",
      "    \n",
      "    Notes\n",
      "    -----\n",
      "    The arithmetic mean is the sum of the non-NaN elements along the axis\n",
      "    divided by the number of non-NaN elements.\n",
      "    \n",
      "    Note that for floating-point input, the mean is computed using the same\n",
      "    precision the input has.  Depending on the input data, this can cause\n",
      "    the results to be inaccurate, especially for `float32`.  Specifying a\n",
      "    higher-precision accumulator using the `dtype` keyword can alleviate\n",
      "    this issue.\n",
      "    \n",
      "    Examples\n",
      "    --------\n",
      "    >>> a = np.array([[1, np.nan], [3, 4]])\n",
      "    >>> np.nanmean(a)\n",
      "    2.6666666666666665\n",
      "    >>> np.nanmean(a, axis=0)\n",
      "    array([ 2.,  4.])\n",
      "    >>> np.nanmean(a, axis=1)\n",
      "    array([ 1.,  3.5])\n",
      "\n"
     ]
    }
   ],
   "source": [
    "help(np.nanmean)"
   ]
  },
  {
   "cell_type": "markdown",
   "metadata": {},
   "source": [
    "# More Complex Bit Logic\n",
    "\n",
    "Often we will want to work with multiple different arrays at once and select subsets of entries from each array.  Consider the following example:"
   ]
  },
  {
   "cell_type": "code",
   "execution_count": 43,
   "metadata": {
    "collapsed": true
   },
   "outputs": [],
   "source": [
    "names = np.array([\"Joey\", \"Henry\", \"Joseph\", \n",
    "                  \"Jim\", \"Sam\", \"Deb\", \"Mike\", \n",
    "                  \"Bin\", \"Joe\", \"Andrew\", \"Bob\"])\n",
    "\n",
    "favorite_number = np.arange(len(names)) "
   ]
  },
  {
   "cell_type": "markdown",
   "metadata": {},
   "source": [
    "Suppose a subset of these people are staff members:"
   ]
  },
  {
   "cell_type": "code",
   "execution_count": 44,
   "metadata": {
    "collapsed": true
   },
   "outputs": [],
   "source": [
    "staff = [\"Joey\",  \"Deb\", \"Sam\"]"
   ]
  },
  {
   "cell_type": "markdown",
   "metadata": {
    "solution2": "hidden",
    "solution2_first": true
   },
   "source": [
    "### Question:\n",
    "*How could we compute the sum of the staff members favorite numbers?*"
   ]
  },
  {
   "cell_type": "markdown",
   "metadata": {
    "solution2": "hidden"
   },
   "source": [
    "One solution is to use for loops:"
   ]
  },
  {
   "cell_type": "code",
   "execution_count": 45,
   "metadata": {
    "solution2": "hidden"
   },
   "outputs": [
    {
     "name": "stdout",
     "output_type": "stream",
     "text": [
      "total: 9\n"
     ]
    }
   ],
   "source": [
    "total = 0 \n",
    "for i in range(len(names)):\n",
    "    if names[i] in staff:\n",
    "        total += favorite_number[i]\n",
    "\n",
    "print(\"total:\", total)"
   ]
  },
  {
   "cell_type": "markdown",
   "metadata": {
    "solution2": "hidden"
   },
   "source": [
    "Another solution would be to use the [np.in1d](https://docs.scipy.org/doc/numpy/reference/generated/numpy.in1d.html) function to determine which people are staff."
   ]
  },
  {
   "cell_type": "code",
   "execution_count": 46,
   "metadata": {
    "solution2": "hidden"
   },
   "outputs": [
    {
     "data": {
      "text/plain": [
       "array([ True, False, False, False,  True,  True, False, False, False,\n",
       "       False, False], dtype=bool)"
      ]
     },
     "execution_count": 46,
     "metadata": {},
     "output_type": "execute_result"
    }
   ],
   "source": [
    "is_staff = np.in1d(names, staff)\n",
    "is_staff"
   ]
  },
  {
   "cell_type": "markdown",
   "metadata": {
    "solution2": "hidden"
   },
   "source": [
    "Boolean indexing"
   ]
  },
  {
   "cell_type": "code",
   "execution_count": 47,
   "metadata": {
    "solution2": "hidden"
   },
   "outputs": [
    {
     "data": {
      "text/plain": [
       "9"
      ]
     },
     "execution_count": 47,
     "metadata": {},
     "output_type": "execute_result"
    }
   ],
   "source": [
    "favorite_number[is_staff].sum()"
   ]
  },
  {
   "cell_type": "markdown",
   "metadata": {
    "solution2": "hidden",
    "solution2_first": true
   },
   "source": [
    "### Question:\n",
    "*What does the following expression compute:*\n",
    "\n",
    "```python\n",
    "starts_with_j = np.char.startswith(names, \"J\")\n",
    "starts_with_j[is_staff].mean()\n",
    "```"
   ]
  },
  {
   "cell_type": "markdown",
   "metadata": {
    "solution2": "hidden"
   },
   "source": [
    "The fraction of the staff have names that begin with `J`?"
   ]
  },
  {
   "cell_type": "code",
   "execution_count": 48,
   "metadata": {
    "solution2": "hidden"
   },
   "outputs": [
    {
     "data": {
      "text/plain": [
       "0.33333333333333331"
      ]
     },
     "execution_count": 48,
     "metadata": {},
     "output_type": "execute_result"
    }
   ],
   "source": [
    "starts_with_j = np.char.startswith(names, \"J\")\n",
    "starts_with_j[is_staff].mean()"
   ]
  },
  {
   "cell_type": "markdown",
   "metadata": {
    "solution2": "hidden",
    "solution2_first": true
   },
   "source": [
    "### Question:\n",
    "*What does it mean to take the mean of an array of booleans?*"
   ]
  },
  {
   "cell_type": "markdown",
   "metadata": {
    "solution2": "hidden"
   },
   "source": [
    "The values `True` and `False` correspond to the integers `1` and `0` and are treated as such in mathematical expressions (e.g., `mean()`, `sum()`, as well as linear algebraic operations)."
   ]
  },
  {
   "cell_type": "markdown",
   "metadata": {
    "solution2": "hidden",
    "solution2_first": true
   },
   "source": [
    "### Question\n",
    "*What does the following expression compute:*\n",
    "\n",
    "```python\n",
    "favorite_number[starts_with_j & is_staff].sum()\n",
    "```"
   ]
  },
  {
   "cell_type": "markdown",
   "metadata": {
    "solution2": "hidden"
   },
   "source": [
    "The sum of the favorite numbers of staff starting with `J`"
   ]
  },
  {
   "cell_type": "code",
   "execution_count": 49,
   "metadata": {
    "solution2": "hidden"
   },
   "outputs": [
    {
     "data": {
      "text/plain": [
       "0"
      ]
     },
     "execution_count": 49,
     "metadata": {},
     "output_type": "execute_result"
    }
   ],
   "source": [
    "favorite_number[starts_with_j & is_staff].sum()"
   ]
  },
  {
   "cell_type": "markdown",
   "metadata": {},
   "source": [
    "## Other Useful Operations\n",
    "\n",
    "* [`choose()`](https://docs.scipy.org/doc/numpy-1.10.0/reference/generated/numpy.choose.html)\n",
    "* [`where()`](https://docs.scipy.org/doc/numpy/reference/generated/numpy.where.html)\n"
   ]
  },
  {
   "cell_type": "markdown",
   "metadata": {},
   "source": [
    "\n",
    "# A Note on using Array operations"
   ]
  },
  {
   "cell_type": "code",
   "execution_count": 50,
   "metadata": {
    "collapsed": true
   },
   "outputs": [],
   "source": [
    "data = np.random.rand(1000000)"
   ]
  },
  {
   "cell_type": "markdown",
   "metadata": {},
   "source": [
    "Consider the following two programs.  \n",
    "\n",
    "\n",
    "### Program A\n",
    "```python\n",
    "s = 0\n",
    "c = 0\n",
    "for x in data:\n",
    "    if x > 0.5:\n",
    "        s += x\n",
    "        c += 1\n",
    "result = s/c\n",
    "```\n",
    "\n",
    "### Program B\n",
    "```python\n",
    "result = data[data > 0.5].mean()\n",
    "```\n",
    "\n",
    "1. What do they do?\n",
    "1. Which one is faster?\n",
    "1. Which one is clearer?\n",
    "\n",
    "---\n",
    "\n",
    "<br/><br/><br/><br/><br/>\n",
    "\n",
    "### Solution"
   ]
  },
  {
   "cell_type": "code",
   "execution_count": 51,
   "metadata": {},
   "outputs": [
    {
     "name": "stdout",
     "output_type": "stream",
     "text": [
      "10 loops, best of 3: 107 ms per loop\n"
     ]
    }
   ],
   "source": [
    "%%timeit\n",
    "s = 0\n",
    "for x in data:\n",
    "    if x > 0.5:\n",
    "        s += x\n",
    "result = s/len(data)"
   ]
  },
  {
   "cell_type": "code",
   "execution_count": 52,
   "metadata": {},
   "outputs": [
    {
     "name": "stdout",
     "output_type": "stream",
     "text": [
      "100 loops, best of 3: 6.91 ms per loop\n"
     ]
    }
   ],
   "source": [
    "%%timeit\n",
    "result = data[data > 0.5].mean()"
   ]
  },
  {
   "cell_type": "markdown",
   "metadata": {},
   "source": [
    "## Important Points\n",
    "\n",
    "Using the array abstractions instead of looping can often be:\n",
    "\n",
    "1. Clearer\n",
    "2. Faster\n",
    "\n",
    "These are fundamental goals of abstraction. "
   ]
  },
  {
   "cell_type": "markdown",
   "metadata": {},
   "source": [
    "---\n",
    "\n",
    "<br/>\n",
    "<br/>\n",
    "<br/>\n",
    "<br/>\n",
    "<br/>\n",
    "<br/>\n",
    "\n",
    "\n",
    "# Mathematical operations:"
   ]
  },
  {
   "cell_type": "markdown",
   "metadata": {},
   "source": [
    "Numpy arrays support standard mathematical operations"
   ]
  },
  {
   "cell_type": "code",
   "execution_count": 53,
   "metadata": {},
   "outputs": [
    {
     "name": "stdout",
     "output_type": "stream",
     "text": [
      "[[  1.   2.   3.]\n",
      " [  4.   5.   6.]\n",
      " [  7.   8.   9.]\n",
      " [ 10.  11.  12.]]\n"
     ]
    }
   ],
   "source": [
    "A = np.arange(1., 13.).reshape(4,3)\n",
    "print(A)"
   ]
  },
  {
   "cell_type": "code",
   "execution_count": 54,
   "metadata": {},
   "outputs": [
    {
     "data": {
      "text/plain": [
       "array([[ 3.5,  4. ,  4.5],\n",
       "       [ 5. ,  5.5,  6. ],\n",
       "       [ 6.5,  7. ,  7.5],\n",
       "       [ 8. ,  8.5,  9. ]])"
      ]
     },
     "execution_count": 54,
     "metadata": {},
     "output_type": "execute_result"
    }
   ],
   "source": [
    "A * 0.5 + 3"
   ]
  },
  {
   "cell_type": "markdown",
   "metadata": {},
   "source": [
    "notice that operations are element wise."
   ]
  },
  {
   "cell_type": "code",
   "execution_count": 55,
   "metadata": {},
   "outputs": [
    {
     "data": {
      "text/plain": [
       "array([[  1.,   4.,   7.,  10.],\n",
       "       [  2.,   5.,   8.,  11.],\n",
       "       [  3.,   6.,   9.,  12.]])"
      ]
     },
     "execution_count": 55,
     "metadata": {},
     "output_type": "execute_result"
    }
   ],
   "source": [
    "A.T"
   ]
  },
  {
   "cell_type": "code",
   "execution_count": 56,
   "metadata": {},
   "outputs": [
    {
     "data": {
      "text/plain": [
       "78.0"
      ]
     },
     "execution_count": 56,
     "metadata": {},
     "output_type": "execute_result"
    }
   ],
   "source": [
    "A.sum()"
   ]
  },
  {
   "cell_type": "code",
   "execution_count": 57,
   "metadata": {},
   "outputs": [
    {
     "data": {
      "text/plain": [
       "6.5"
      ]
     },
     "execution_count": 57,
     "metadata": {},
     "output_type": "execute_result"
    }
   ],
   "source": [
    "A.mean()"
   ]
  },
  {
   "cell_type": "markdown",
   "metadata": {
    "solution2": "hidden",
    "solution2_first": true
   },
   "source": [
    "<br/>\n",
    "<br/>\n",
    "<br/>\n",
    "\n",
    "\n",
    "\n",
    "\n",
    "## Be Careful with Floating Point Numbers\n",
    "\n",
    "What is the value of the following:\n",
    "$$\n",
    "A - \\exp \\left( \\log \\left( A \\right) \\right)\n",
    "$$\n",
    "\n",
    "<br/>\n",
    "<br/>\n",
    "<br/>\n",
    "\n",
    "**Solution:**\n"
   ]
  },
  {
   "cell_type": "code",
   "execution_count": 58,
   "metadata": {
    "solution2": "hidden"
   },
   "outputs": [
    {
     "name": "stdout",
     "output_type": "stream",
     "text": [
      "[[  1.   2.   3.]\n",
      " [  4.   5.   6.]\n",
      " [  7.   8.   9.]\n",
      " [ 10.  11.  12.]]\n"
     ]
    },
    {
     "data": {
      "text/plain": [
       "array([[  0.00000000e+00,   0.00000000e+00,  -4.44089210e-16],\n",
       "       [  0.00000000e+00,   8.88178420e-16,   0.00000000e+00],\n",
       "       [  8.88178420e-16,   1.77635684e-15,  -1.77635684e-15],\n",
       "       [ -1.77635684e-15,  -1.77635684e-15,   0.00000000e+00]])"
      ]
     },
     "execution_count": 58,
     "metadata": {},
     "output_type": "execute_result"
    }
   ],
   "source": [
    "A = np.arange(1., 13.).reshape(4,3)\n",
    "print(A)\n",
    "\n",
    "(A - np.exp(np.log(A)))"
   ]
  },
  {
   "cell_type": "markdown",
   "metadata": {
    "solution2": "hidden",
    "solution2_first": true
   },
   "source": [
    "**What happened?!**"
   ]
  },
  {
   "cell_type": "markdown",
   "metadata": {
    "solution2": "hidden"
   },
   "source": [
    "Floating point precision is not perfect and we are applying transcendental functions."
   ]
  },
  {
   "cell_type": "markdown",
   "metadata": {
    "solution2": "hidden",
    "solution2_first": true
   },
   "source": [
    "<br/><br/><br/><br/>\n",
    "### A simpler examples\n",
    "\n",
    "What is the value of the following expression:\n",
    "\n",
    "```python\n",
    "0.1 + 0.2 == 0.3\n",
    "```"
   ]
  },
  {
   "cell_type": "code",
   "execution_count": 59,
   "metadata": {
    "solution2": "hidden"
   },
   "outputs": [
    {
     "data": {
      "text/plain": [
       "False"
      ]
     },
     "execution_count": 59,
     "metadata": {},
     "output_type": "execute_result"
    }
   ],
   "source": [
    "0.1 + 0.2 == 0.3"
   ]
  },
  {
   "cell_type": "code",
   "execution_count": 60,
   "metadata": {
    "solution2": "hidden"
   },
   "outputs": [
    {
     "name": "stdout",
     "output_type": "stream",
     "text": [
      "0.30000000000000004\n"
     ]
    }
   ],
   "source": [
    "print(0.1 + 0.2)"
   ]
  },
  {
   "cell_type": "markdown",
   "metadata": {},
   "source": [
    "For these situations consider using `np.isclose`:"
   ]
  },
  {
   "cell_type": "code",
   "execution_count": 61,
   "metadata": {},
   "outputs": [
    {
     "name": "stdout",
     "output_type": "stream",
     "text": [
      "Help on function isclose in module numpy.core.numeric:\n",
      "\n",
      "isclose(a, b, rtol=1e-05, atol=1e-08, equal_nan=False)\n",
      "    Returns a boolean array where two arrays are element-wise equal within a\n",
      "    tolerance.\n",
      "    \n",
      "    The tolerance values are positive, typically very small numbers.  The\n",
      "    relative difference (`rtol` * abs(`b`)) and the absolute difference\n",
      "    `atol` are added together to compare against the absolute difference\n",
      "    between `a` and `b`.\n",
      "    \n",
      "    Parameters\n",
      "    ----------\n",
      "    a, b : array_like\n",
      "        Input arrays to compare.\n",
      "    rtol : float\n",
      "        The relative tolerance parameter (see Notes).\n",
      "    atol : float\n",
      "        The absolute tolerance parameter (see Notes).\n",
      "    equal_nan : bool\n",
      "        Whether to compare NaN's as equal.  If True, NaN's in `a` will be\n",
      "        considered equal to NaN's in `b` in the output array.\n",
      "    \n",
      "    Returns\n",
      "    -------\n",
      "    y : array_like\n",
      "        Returns a boolean array of where `a` and `b` are equal within the\n",
      "        given tolerance. If both `a` and `b` are scalars, returns a single\n",
      "        boolean value.\n",
      "    \n",
      "    See Also\n",
      "    --------\n",
      "    allclose\n",
      "    \n",
      "    Notes\n",
      "    -----\n",
      "    .. versionadded:: 1.7.0\n",
      "    \n",
      "    For finite values, isclose uses the following equation to test whether\n",
      "    two floating point values are equivalent.\n",
      "    \n",
      "     absolute(`a` - `b`) <= (`atol` + `rtol` * absolute(`b`))\n",
      "    \n",
      "    The above equation is not symmetric in `a` and `b`, so that\n",
      "    `isclose(a, b)` might be different from `isclose(b, a)` in\n",
      "    some rare cases.\n",
      "    \n",
      "    Examples\n",
      "    --------\n",
      "    >>> np.isclose([1e10,1e-7], [1.00001e10,1e-8])\n",
      "    array([True, False])\n",
      "    >>> np.isclose([1e10,1e-8], [1.00001e10,1e-9])\n",
      "    array([True, True])\n",
      "    >>> np.isclose([1e10,1e-8], [1.0001e10,1e-9])\n",
      "    array([False, True])\n",
      "    >>> np.isclose([1.0, np.nan], [1.0, np.nan])\n",
      "    array([True, False])\n",
      "    >>> np.isclose([1.0, np.nan], [1.0, np.nan], equal_nan=True)\n",
      "    array([True, True])\n",
      "\n"
     ]
    }
   ],
   "source": [
    "help(np.isclose)"
   ]
  },
  {
   "cell_type": "markdown",
   "metadata": {},
   "source": [
    "<br/>\n",
    "<br/>\n",
    "<br/>\n",
    "<br/>\n",
    "\n",
    "\n",
    "## Aggregating along an axis \n",
    "\n",
    "<img src=\"axis_plot.png\" width=\"300px\">"
   ]
  },
  {
   "cell_type": "markdown",
   "metadata": {},
   "source": [
    "### Grouping by row:"
   ]
  },
  {
   "cell_type": "code",
   "execution_count": 62,
   "metadata": {},
   "outputs": [
    {
     "data": {
      "text/plain": [
       "array([ 22.,  26.,  30.])"
      ]
     },
     "execution_count": 62,
     "metadata": {},
     "output_type": "execute_result"
    }
   ],
   "source": [
    "A.sum(axis=0)"
   ]
  },
  {
   "cell_type": "markdown",
   "metadata": {},
   "source": [
    "This is the same as:\n",
    "```python\n",
    "(nrow, ncols) = A.shape\n",
    "\n",
    "s = np.zeros(ncols)\n",
    "\n",
    "for i in range(nrows):\n",
    "    s += A[i,:]\n",
    "\n",
    "print(s)\n",
    "```"
   ]
  },
  {
   "cell_type": "markdown",
   "metadata": {},
   "source": [
    "### Grouping by col:"
   ]
  },
  {
   "cell_type": "code",
   "execution_count": 63,
   "metadata": {},
   "outputs": [
    {
     "data": {
      "text/plain": [
       "array([  6.,  15.,  24.,  33.])"
      ]
     },
     "execution_count": 63,
     "metadata": {},
     "output_type": "execute_result"
    }
   ],
   "source": [
    "A.sum(axis=1)"
   ]
  },
  {
   "cell_type": "markdown",
   "metadata": {},
   "source": [
    "This is the same as:\n",
    "```python\n",
    "(nrows, ncols) = A.shape\n",
    "\n",
    "s = np.zeros(nrows)\n",
    "\n",
    "for i in range(ncols):\n",
    "    s += A[:,i]\n",
    "\n",
    "print(s)\n",
    "```"
   ]
  },
  {
   "cell_type": "markdown",
   "metadata": {},
   "source": [
    "## Other Functions to Checkout\n",
    "\n",
    "* [`mean`](https://docs.scipy.org/doc/numpy/reference/generated/numpy.mean.html) computes the mean \n",
    "* [`std`](https://docs.scipy.org/doc/numpy/reference/generated/numpy.std.html) standard deviation\n",
    "* [`var`](https://docs.scipy.org/doc/numpy/reference/generated/numpy.var.html) variance\n",
    "\n",
    "and [many more](https://docs.scipy.org/doc/numpy/reference/ufuncs.html#math-operations)"
   ]
  },
  {
   "cell_type": "markdown",
   "metadata": {},
   "source": [
    "---\n",
    "\n",
    "<br/>\n",
    "<br/>\n",
    "<br/>\n",
    "<br/>\n",
    "<br/>\n",
    "<br/>\n",
    "\n",
    "\n",
    "\n",
    "# Linear Algebra\n",
    "\n",
    "Suppose we wanted to use linear algebra to compute the sum along axis 1"
   ]
  },
  {
   "cell_type": "markdown",
   "metadata": {},
   "source": [
    "---\n",
    "\n",
    "$$ \\texttt{A.sum( axis = 1) } = \\sum_j A_{i,j} = \\begin{bmatrix} 1 & 2 & 3 \\\\\n",
    " 4 & 5 & 6\\end{bmatrix} \\cdot \\begin{bmatrix} 1 \\\\ 1 \\\\ 1\\end{bmatrix} $$"
   ]
  },
  {
   "cell_type": "markdown",
   "metadata": {},
   "source": [
    "### Will the following work?\n",
    "\n",
    "```python\n",
    "b = np.ones(3)\n",
    "A * b\n",
    "```\n",
    "\n",
    "---\n",
    "\n",
    "<br/><br/><br/><br/><br/>\n",
    "\n",
    "#### Solution"
   ]
  },
  {
   "cell_type": "code",
   "execution_count": 64,
   "metadata": {},
   "outputs": [
    {
     "data": {
      "text/plain": [
       "array([[ 1.,  2.,  3.],\n",
       "       [ 4.,  5.,  6.]])"
      ]
     },
     "execution_count": 64,
     "metadata": {},
     "output_type": "execute_result"
    }
   ],
   "source": [
    "A = np.array([[1, 2, 3], [4, 5, 6]])\n",
    "b = np.ones(3)\n",
    "A * b"
   ]
  },
  {
   "cell_type": "markdown",
   "metadata": {},
   "source": [
    "\n",
    "\n",
    "<br/>\n",
    "<br/>\n",
    "<br/>\n",
    "<br/>\n",
    "---\n",
    "\n",
    "**Explanation:**\n",
    "\n",
    "We ended up computing an element-wise product.  The vector of ones was replicated once for each row and then used to scale the entire row.\n",
    "\n",
    "<img src=\"broadcast_equation.png\" width=\"300px\"/>"
   ]
  },
  {
   "cell_type": "markdown",
   "metadata": {},
   "source": [
    "---\n",
    "\n",
    "### The correct expression for matrix multiplication"
   ]
  },
  {
   "cell_type": "code",
   "execution_count": 65,
   "metadata": {},
   "outputs": [
    {
     "data": {
      "text/plain": [
       "array([  6.,  15.])"
      ]
     },
     "execution_count": 65,
     "metadata": {},
     "output_type": "execute_result"
    }
   ],
   "source": [
    "A.dot(b)"
   ]
  },
  {
   "cell_type": "markdown",
   "metadata": {},
   "source": [
    "In the later python versions (>3.5) you can use the infix operator `@` which is probably easier to read"
   ]
  },
  {
   "cell_type": "code",
   "execution_count": 66,
   "metadata": {},
   "outputs": [
    {
     "data": {
      "text/plain": [
       "array([  6.,  15.])"
      ]
     },
     "execution_count": 66,
     "metadata": {},
     "output_type": "execute_result"
    }
   ],
   "source": [
    "A @ b"
   ]
  },
  {
   "cell_type": "markdown",
   "metadata": {},
   "source": [
    "---\n",
    "\n",
    "\n",
    "\n",
    "<br/><br/><br/><br/><br/><br/>\n",
    "\n",
    "\n",
    "# Solving Linear Systems"
   ]
  },
  {
   "cell_type": "markdown",
   "metadata": {},
   "source": [
    "Suppose you are asked to solve the following system of linear equations:\n",
    "\n",
    "$$\n",
    "5x - 3y = 2 \\\\\n",
    "-9x + 2y = -7\n",
    "$$\n",
    "\n",
    "this means that we want to solve the following linear systems:\n",
    "\n",
    "$$\n",
    "\\begin{bmatrix}\n",
    "5 & -3 \\\\ -9 & 2\n",
    "\\end{bmatrix} \n",
    "\\begin{bmatrix}\n",
    "x \\\\ y\n",
    "\\end{bmatrix}\n",
    "=\n",
    "\\begin{bmatrix}\n",
    "2 \\\\ -7\n",
    "\\end{bmatrix}\n",
    "$$\n",
    "\n",
    "Solving for $x$ and $y$ we get:\n",
    "\n",
    "$$\n",
    "\\begin{bmatrix}\n",
    "x \\\\ y\n",
    "\\end{bmatrix}\n",
    "=\n",
    "\\begin{bmatrix}\n",
    "5 & -3 \\\\ -9 & 2\n",
    "\\end{bmatrix}^{-1}\n",
    "\\begin{bmatrix}\n",
    "2 \\\\ -7\n",
    "\\end{bmatrix}\n",
    "$$\n",
    "\n"
   ]
  },
  {
   "cell_type": "markdown",
   "metadata": {},
   "source": [
    "This can be solved numerically using NumPy:"
   ]
  },
  {
   "cell_type": "code",
   "execution_count": 67,
   "metadata": {
    "collapsed": true
   },
   "outputs": [],
   "source": [
    "A = np.array([[5, -3], [-9, 2]])\n",
    "b = np.array([2,-7])"
   ]
  },
  {
   "cell_type": "code",
   "execution_count": 68,
   "metadata": {},
   "outputs": [
    {
     "data": {
      "text/plain": [
       "array([ 1.,  1.])"
      ]
     },
     "execution_count": 68,
     "metadata": {},
     "output_type": "execute_result"
    }
   ],
   "source": [
    "from numpy.linalg import inv\n",
    "inv(A) @ b"
   ]
  },
  {
   "cell_type": "markdown",
   "metadata": {},
   "source": [
    "Preferred way to solve (more numerically stable)"
   ]
  },
  {
   "cell_type": "code",
   "execution_count": 69,
   "metadata": {},
   "outputs": [
    {
     "data": {
      "text/plain": [
       "array([ 1.,  1.])"
      ]
     },
     "execution_count": 69,
     "metadata": {},
     "output_type": "execute_result"
    }
   ],
   "source": [
    "from numpy.linalg import solve\n",
    "solve(A, b)"
   ]
  },
  {
   "cell_type": "markdown",
   "metadata": {},
   "source": [
    "Two points:\n",
    "\n",
    "1. Issue with performance\n",
    "1. Issue with numerical stability \n",
    "\n",
    "When the matrix is not full rank it may be necessary to use [lstsq](https://docs.scipy.org/doc/numpy/reference/generated/numpy.linalg.lstsq.html#numpy.linalg.lstsq)."
   ]
  }
 ],
 "metadata": {
  "kernelspec": {
   "display_name": "Python 3",
   "language": "python",
   "name": "python3"
  },
  "language_info": {
   "codemirror_mode": {
    "name": "ipython",
    "version": 3
   },
   "file_extension": ".py",
   "mimetype": "text/x-python",
   "name": "python",
   "nbconvert_exporter": "python",
   "pygments_lexer": "ipython3",
   "version": "3.6.1"
  }
 },
 "nbformat": 4,
 "nbformat_minor": 2
}
