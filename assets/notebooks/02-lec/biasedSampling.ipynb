{
 "cells": [
  {
   "cell_type": "code",
   "execution_count": 1,
   "metadata": {
    "collapsed": true
   },
   "outputs": [],
   "source": [
    "import numpy as np\n",
    "import pandas as pd\n",
    "from random import sample\n",
    "import matplotlib.pyplot as plt\n",
    "%matplotlib inline"
   ]
  },
  {
   "cell_type": "code",
   "execution_count": 2,
   "metadata": {},
   "outputs": [
    {
     "name": "stdout",
     "output_type": "stream",
     "text": [
      "2.28\n"
     ]
    }
   ],
   "source": [
    "#Women in the US aged 40-44, number of children born to\n",
    "popWper = np.array([.21, .43, .23, .13])\n",
    "popWct  = np.round(popWper * 8700000).astype(int)\n",
    "popWnum = np.repeat([1,2,3,4], popWct)\n",
    "\n",
    "trueAvg = sum(popWct[i]*(i+1) for i in range(4)) / sum(popWct)\n",
    "print(trueAvg)"
   ]
  },
  {
   "cell_type": "code",
   "execution_count": 3,
   "metadata": {},
   "outputs": [
    {
     "data": {
      "image/png": "[encoded data removed]",
      "text/plain": [
       "<matplotlib.figure.Figure at 0x103aed748>"
      ]
     },
     "metadata": {},
     "output_type": "display_data"
    }
   ],
   "source": [
    "WwKidsCt  = popWct\n",
    "WwKidsPop = list(np.repeat([1,2,3,4], WwKidsCt))\n",
    "\n",
    "oneSamp = np.random.choice(WwKidsPop, size=400, replace=False) \n",
    "\n",
    "trueProps = popWper * 100\n",
    "\n",
    "cts = pd.value_counts(oneSamp) / 4\n",
    "plt.bar(cts.keys(),cts.values,width=.08, color='k')\n",
    "plt.bar([1.1,2.1,3.1,4.1],trueProps, width=.08, color='gray')\n",
    "plt.xlabel('number of children')\n",
    "plt.ylabel('Proportion')\n",
    "plt.axis([0.5,4.5,0,50])\n",
    "plt.legend([\"sample\", \"population\"])\n",
    "plt.show()"
   ]
  },
  {
   "cell_type": "code",
   "execution_count": 4,
   "metadata": {},
   "outputs": [
    {
     "data": {
      "image/png": "[encoded data removed]",
      "text/plain": [
       "<matplotlib.figure.Figure at 0x1033c9390>"
      ]
     },
     "metadata": {},
     "output_type": "display_data"
    }
   ],
   "source": [
    "avg400W = [np.mean(sample(WwKidsPop,400)) for _ in range(5000)]\n",
    "plt.plot([trueAvg,trueAvg],[0,9],'b-',linewidth=3)\n",
    "plt.hist(avg400W,bins=30,color='w',edgecolor='k', linewidth=1.2,normed=True)\n",
    "plt.xlabel(\"sample average number of children born to women aged 40-44\")\n",
    "plt.ylabel(\"Density\")\n",
    "plt.title(\"5,000 simple random samples of size 400\")\n",
    "plt.axis([2.1,2.45,0,10])\n",
    "plt.show()"
   ]
  }
 ],
 "metadata": {
  "kernelspec": {
   "display_name": "Python 3",
   "language": "python",
   "name": "python3"
  },
  "language_info": {
   "codemirror_mode": {
    "name": "ipython",
    "version": 3
   },
   "file_extension": ".py",
   "mimetype": "text/x-python",
   "name": "python",
   "nbconvert_exporter": "python",
   "pygments_lexer": "ipython3",
   "version": "3.6.1"
  },
  "toc": {
   "colors": {
    "hover_highlight": "#DAA520",
    "navigate_num": "#000000",
    "navigate_text": "#333333",
    "running_highlight": "#FF0000",
    "selected_highlight": "#FFD700",
    "sidebar_border": "#EEEEEE",
    "wrapper_background": "#FFFFFF"
   },
   "moveMenuLeft": true,
   "nav_menu": {
    "height": "12px",
    "width": "252px"
   },
   "navigate_menu": true,
   "number_sections": true,
   "sideBar": true,
   "threshold": 4,
   "toc_cell": false,
   "toc_section_display": "block",
   "toc_window_display": false,
   "widenNotebook": false
  }
 },
 "nbformat": 4,
 "nbformat_minor": 2
}
