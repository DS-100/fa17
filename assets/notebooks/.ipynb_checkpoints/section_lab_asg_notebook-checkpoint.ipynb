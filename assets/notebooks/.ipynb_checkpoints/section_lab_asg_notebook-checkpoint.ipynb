{
 "cells": [
  {
   "cell_type": "code",
   "execution_count": null,
   "metadata": {
    "collapsed": true
   },
   "outputs": [],
   "source": [
    "import pandas as pd\n",
    "import numpy as np\n",
    "import scipy.optimize as opt"
   ]
  },
  {
   "cell_type": "code",
   "execution_count": null,
   "metadata": {
    "collapsed": true
   },
   "outputs": [],
   "source": [
    "def best_assignment(pref, sec_sizes):\n",
    "    (n,d) = pref.shape\n",
    "    w = -pref.flatten()\n",
    "    \n",
    "    # Single assignment constraints\n",
    "    Aeq = np.zeros((n, n*d))\n",
    "    for i in range(n):\n",
    "        Aeq[i,(i*d):((i+1)*d)] = 1\n",
    "\n",
    "    # Classroom size constraints\n",
    "    Aub = np.zeros((d, n*d))\n",
    "    for i in range(d):\n",
    "        tmp = np.zeros((n,d))\n",
    "        tmp[:,i] = 1\n",
    "        Aub[i,:] = tmp.flatten()\n",
    "    \n",
    "    res = opt.linprog(w, Aub, sec_sizes, Aeq, np.ones(n), bounds = (0,1),options=dict(maxiter=100000,disp=True))\n",
    "    return res\n",
    "#     asgs = n * list(range(1,d+1))\n",
    "#     # Call linprogram optimizer\n",
    "#     return (asgs[res.x], res)\n",
    "\n",
    "def compute_assignments(prefs, cap, opt):\n",
    "    (n,d) = disc_pref.shape\n",
    "    print(np.unique(opt.x))\n",
    "    w = prefs.flatten()\n",
    "    unhappy_students = np.sum(w[opt.x == 1.] == 1.0)\n",
    "    print(\"Unhappy:\",unhappy_students)\n",
    "    rooms = n * list(range(1,d+1))\n",
    "    asgs = np.array(rooms)[opt.x == 1.]\n",
    "    return asgs\n",
    "    "
   ]
  },
  {
   "cell_type": "code",
   "execution_count": null,
   "metadata": {
    "collapsed": true
   },
   "outputs": [],
   "source": [
    "roster = pd.read_csv(\"course_compsci-c100-2017-D_rosters.csv\")\n",
    "emails = roster[roster['Role'] == \"Student\"]['Email Address']"
   ]
  },
  {
   "cell_type": "code",
   "execution_count": null,
   "metadata": {
    "collapsed": true
   },
   "outputs": [],
   "source": [
    "raw = pd.read_csv(\"sec_pref.csv\", \n",
    "                  names=[\"Time\", \"Email\", \"Name\", \"Email2\", \n",
    "                         \"Lab 1\", \"Lab 2\", \"Lab 3\", \"Lab 4\", \"Lab 5\",\n",
    "                         \"Disc 1\", \"Disc 2\", \"Disc 3\", \"Disc 4\", \"Disc 5\"],\n",
    "                  skiprows=1).groupby('Email').last()"
   ]
  },
  {
   "cell_type": "code",
   "execution_count": null,
   "metadata": {
    "collapsed": true
   },
   "outputs": [],
   "source": [
    "labs = [\"Lab 1\", \"Lab 2\", \"Lab 3\", \"Lab 4\", \"Lab 5\"]\n",
    "disc = [\"Disc 1\", \"Disc 2\", \"Disc 3\", \"Disc 4\", \"Disc 5\"]\n",
    "\n",
    "def make_prefs(df):\n",
    "    return (df.apply(lambda x: x.str.replace(\"Worst\", \"0\"))\n",
    "            .apply(lambda x: x.str.replace(\"Best\", \"4\"))\n",
    "            .apply(lambda x: x.astype(\"int\")))\n",
    "labs_pref = make_prefs(raw[labs]).values + 1\n",
    "disc_pref = make_prefs(raw[disc]).values + 1"
   ]
  },
  {
   "cell_type": "code",
   "execution_count": null,
   "metadata": {
    "collapsed": true
   },
   "outputs": [],
   "source": [
    "capacity = pd.read_csv(\"capacity2.csv\")\n",
    "disc_cap = capacity[capacity['Type'] == \"DIS\"].groupby(\"Time\")['Size'].sum().values\n",
    "labs_cap = capacity[capacity['Type'] == \"LAB\"].groupby(\"Time\")['Size'].sum().values"
   ]
  },
  {
   "cell_type": "code",
   "execution_count": null,
   "metadata": {
    "collapsed": true
   },
   "outputs": [],
   "source": [
    "disc_opt = best_assignment(disc_pref, disc_cap)\n",
    "disc_asg = compute_assignments(disc_pref, disc_cap, disc_opt)"
   ]
  },
  {
   "cell_type": "code",
   "execution_count": null,
   "metadata": {
    "collapsed": true
   },
   "outputs": [],
   "source": [
    "labs_opt = best_assignment(labs_pref, labs_cap)\n",
    "labs_asg = compute_assignments(labs_pref, labs_cap, labs_opt)"
   ]
  },
  {
   "cell_type": "markdown",
   "metadata": {},
   "source": [
    "---"
   ]
  },
  {
   "cell_type": "code",
   "execution_count": null,
   "metadata": {
    "collapsed": true
   },
   "outputs": [],
   "source": [
    "labs_grps = capacity[capacity['Type'] == \"LAB\"].groupby(\"Time\").apply(lambda x: x['Size'])\n",
    "# a = disc_grps[2]\n",
    "# a.argmax()\n",
    "raw['Lab Asg'] = -1\n",
    "colid = raw.columns.get_loc(\"Lab Asg\")\n",
    "for i in range(len(raw)):\n",
    "    asg = labs_asg[i]\n",
    "    grp = labs_grps[asg]\n",
    "    largest_room = grp.argmax()\n",
    "    grp[largest_room] = grp[largest_room] - 1\n",
    "    raw.iloc[i, colid] = capacity.loc[largest_room, \"Num\"]"
   ]
  },
  {
   "cell_type": "code",
   "execution_count": null,
   "metadata": {
    "collapsed": true
   },
   "outputs": [],
   "source": [
    "disc_grps = capacity[capacity['Type'] == \"DIS\"].groupby(\"Time\").apply(lambda x: x['Size'])\n",
    "# a = disc_grps[2]\n",
    "# a.argmax()\n",
    "raw['Disc Asg'] = -1\n",
    "colid = raw.columns.get_loc(\"Disc Asg\")\n",
    "for i in range(len(raw)):\n",
    "    asg = disc_asg[i]\n",
    "    grp = disc_grps[asg]\n",
    "    largest_room = grp.argmax()\n",
    "    grp[largest_room] = grp[largest_room] - 1\n",
    "    raw.iloc[i, colid] = capacity.loc[largest_room, \"Num\"]"
   ]
  },
  {
   "cell_type": "code",
   "execution_count": null,
   "metadata": {
    "collapsed": true
   },
   "outputs": [],
   "source": [
    "raw.head()"
   ]
  },
  {
   "cell_type": "code",
   "execution_count": null,
   "metadata": {
    "collapsed": true
   },
   "outputs": [],
   "source": [
    "disc_grps"
   ]
  },
  {
   "cell_type": "code",
   "execution_count": null,
   "metadata": {
    "collapsed": true
   },
   "outputs": [],
   "source": [
    "raw"
   ]
  },
  {
   "cell_type": "code",
   "execution_count": null,
   "metadata": {
    "collapsed": true
   },
   "outputs": [],
   "source": [
    "raw.to_csv(\"sec_lab_assigments.csv\")"
   ]
  },
  {
   "cell_type": "code",
   "execution_count": null,
   "metadata": {
    "collapsed": true
   },
   "outputs": [],
   "source": []
  }
 ],
 "metadata": {
  "kernelspec": {
   "display_name": "Python 3",
   "language": "python",
   "name": "python3"
  },
  "language_info": {
   "codemirror_mode": {
    "name": "ipython",
    "version": 3
   },
   "file_extension": ".py",
   "mimetype": "text/x-python",
   "name": "python",
   "nbconvert_exporter": "python",
   "pygments_lexer": "ipython3",
   "version": "3.6.2"
  },
  "toc": {
   "colors": {
    "hover_highlight": "#DAA520",
    "navigate_num": "#000000",
    "navigate_text": "#333333",
    "running_highlight": "#FF0000",
    "selected_highlight": "#FFD700",
    "sidebar_border": "#EEEEEE",
    "wrapper_background": "#FFFFFF"
   },
   "moveMenuLeft": true,
   "nav_menu": {
    "height": "12px",
    "width": "252px"
   },
   "navigate_menu": true,
   "number_sections": true,
   "sideBar": true,
   "threshold": 4,
   "toc_cell": false,
   "toc_section_display": "block",
   "toc_window_display": false,
   "widenNotebook": false
  }
 },
 "nbformat": 4,
 "nbformat_minor": 2
}
